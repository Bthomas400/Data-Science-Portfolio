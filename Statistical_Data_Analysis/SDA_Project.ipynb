{
 "cells": [
  {
   "cell_type": "markdown",
   "metadata": {},
   "source": [
    "# Megaline Telecom Plan Revenue Analysis"
   ]
  },
  {
   "cell_type": "markdown",
   "metadata": {},
   "source": [
    "# Introduction\n",
    "\n",
    "The goal of this project is to determine which of the two prepaid plans offered by telecom operator Megaline, Surf and Ultimate, generates more revenue. This analysis will inform the company's commercial department to optimize the advertising budget accordingly. The data for this study includes information on 500 Megaline clients, detailing their demographics, plan usage, calls made, text messages sent, and internet data used in 2018.\n"
   ]
  },
  {
   "cell_type": "markdown",
   "metadata": {},
   "source": [
    "## Initialization"
   ]
  },
  {
   "cell_type": "markdown",
   "metadata": {},
   "source": []
  },
  {
   "cell_type": "code",
   "execution_count": 1,
   "metadata": {},
   "outputs": [],
   "source": [
    "# Loading all the libraries\n",
    "\n",
    "import pandas as pd\n",
    "import numpy as np\n",
    "\n",
    "import matplotlib.pyplot as plt\n",
    "from scipy import stats as st"
   ]
  },
  {
   "cell_type": "markdown",
   "metadata": {},
   "source": [
    "## Load data"
   ]
  },
  {
   "cell_type": "markdown",
   "metadata": {},
   "source": []
  },
  {
   "cell_type": "code",
   "execution_count": 2,
   "metadata": {},
   "outputs": [],
   "source": [
    "# Load the data files into different DataFrames\n",
    "\n",
    "calls_df= pd.read_csv('/datasets/megaline_calls.csv')\n",
    "internet_df= pd.read_csv('/datasets/megaline_internet.csv')\n",
    "messages_df= pd.read_csv('/datasets/megaline_messages.csv')\n",
    "plans_df= pd.read_csv('/datasets/megaline_plans.csv')\n",
    "users_df= pd.read_csv('/datasets/megaline_users.csv')"
   ]
  },
  {
   "cell_type": "markdown",
   "metadata": {},
   "source": [
    "## Prepare the data"
   ]
  },
  {
   "cell_type": "markdown",
   "metadata": {},
   "source": [
    "[The data for this project is split into several tables. Explore each one to get an initial understanding of the data. Do necessary corrections to each table if necessary.]"
   ]
  },
  {
   "cell_type": "markdown",
   "metadata": {},
   "source": [
    "## Plans"
   ]
  },
  {
   "cell_type": "code",
   "execution_count": 3,
   "metadata": {},
   "outputs": [
    {
     "name": "stdout",
     "output_type": "stream",
     "text": [
      "<class 'pandas.core.frame.DataFrame'>\n",
      "RangeIndex: 2 entries, 0 to 1\n",
      "Data columns (total 8 columns):\n",
      " #   Column                 Non-Null Count  Dtype  \n",
      "---  ------                 --------------  -----  \n",
      " 0   messages_included      2 non-null      int64  \n",
      " 1   mb_per_month_included  2 non-null      int64  \n",
      " 2   minutes_included       2 non-null      int64  \n",
      " 3   usd_monthly_pay        2 non-null      int64  \n",
      " 4   usd_per_gb             2 non-null      int64  \n",
      " 5   usd_per_message        2 non-null      float64\n",
      " 6   usd_per_minute         2 non-null      float64\n",
      " 7   plan_name              2 non-null      object \n",
      "dtypes: float64(2), int64(5), object(1)\n",
      "memory usage: 256.0+ bytes\n"
     ]
    }
   ],
   "source": [
    "# Print the general/summary information about the plans' DataFrame\n",
    "\n",
    "plans_df.info()"
   ]
  },
  {
   "cell_type": "code",
   "execution_count": 4,
   "metadata": {},
   "outputs": [
    {
     "data": {
      "text/html": [
       "<div>\n",
       "<style scoped>\n",
       "    .dataframe tbody tr th:only-of-type {\n",
       "        vertical-align: middle;\n",
       "    }\n",
       "\n",
       "    .dataframe tbody tr th {\n",
       "        vertical-align: top;\n",
       "    }\n",
       "\n",
       "    .dataframe thead th {\n",
       "        text-align: right;\n",
       "    }\n",
       "</style>\n",
       "<table border=\"1\" class=\"dataframe\">\n",
       "  <thead>\n",
       "    <tr style=\"text-align: right;\">\n",
       "      <th></th>\n",
       "      <th>messages_included</th>\n",
       "      <th>mb_per_month_included</th>\n",
       "      <th>minutes_included</th>\n",
       "      <th>usd_monthly_pay</th>\n",
       "      <th>usd_per_gb</th>\n",
       "      <th>usd_per_message</th>\n",
       "      <th>usd_per_minute</th>\n",
       "      <th>plan_name</th>\n",
       "    </tr>\n",
       "  </thead>\n",
       "  <tbody>\n",
       "    <tr>\n",
       "      <th>1</th>\n",
       "      <td>1000</td>\n",
       "      <td>30720</td>\n",
       "      <td>3000</td>\n",
       "      <td>70</td>\n",
       "      <td>7</td>\n",
       "      <td>0.01</td>\n",
       "      <td>0.01</td>\n",
       "      <td>ultimate</td>\n",
       "    </tr>\n",
       "    <tr>\n",
       "      <th>0</th>\n",
       "      <td>50</td>\n",
       "      <td>15360</td>\n",
       "      <td>500</td>\n",
       "      <td>20</td>\n",
       "      <td>10</td>\n",
       "      <td>0.03</td>\n",
       "      <td>0.03</td>\n",
       "      <td>surf</td>\n",
       "    </tr>\n",
       "  </tbody>\n",
       "</table>\n",
       "</div>"
      ],
      "text/plain": [
       "   messages_included  mb_per_month_included  minutes_included  \\\n",
       "1               1000                  30720              3000   \n",
       "0                 50                  15360               500   \n",
       "\n",
       "   usd_monthly_pay  usd_per_gb  usd_per_message  usd_per_minute plan_name  \n",
       "1               70           7             0.01            0.01  ultimate  \n",
       "0               20          10             0.03            0.03      surf  "
      ]
     },
     "execution_count": 4,
     "metadata": {},
     "output_type": "execute_result"
    }
   ],
   "source": [
    "# Print a sample of data for plans\n",
    "\n",
    "plans_df.sample(2)"
   ]
  },
  {
   "cell_type": "markdown",
   "metadata": {},
   "source": [
    "\n",
    "- There are only 2 entries in the plans_df DataFrame.\n",
    "- The data types for the columns seem appropriate:\n",
    "    - `messages_included`, `mb_per_month_included`, `minutes_included`, `usd_monthly_pay`, `usd_per_gb` are `int64`.\n",
    "    - `usd_per_message`, `usd_per_minute` are `float64`.\n",
    "    - `plan_name` is `object`.\n",
    "- All columns have non-null values, which is expected given there are only two entries.\n"
   ]
  },
  {
   "cell_type": "markdown",
   "metadata": {},
   "source": [
    "## Fix data"
   ]
  },
  {
   "cell_type": "markdown",
   "metadata": {},
   "source": [
    "\n",
    "\n",
    "No data fixes needed in `plans_df` dataframe"
   ]
  },
  {
   "cell_type": "markdown",
   "metadata": {},
   "source": [
    "## Enrich data"
   ]
  },
  {
   "cell_type": "code",
   "execution_count": 5,
   "metadata": {},
   "outputs": [
    {
     "data": {
      "text/plain": [
       "messages_included        True\n",
       "mb_per_month_included    True\n",
       "minutes_included         True\n",
       "usd_monthly_pay          True\n",
       "usd_per_gb               True\n",
       "usd_per_message          True\n",
       "usd_per_minute           True\n",
       "dtype: bool"
      ]
     },
     "execution_count": 5,
     "metadata": {},
     "output_type": "execute_result"
    }
   ],
   "source": [
    "#check for positive values\n",
    "(plans_df[['messages_included', 'mb_per_month_included', 'minutes_included','usd_monthly_pay', 'usd_per_gb', 'usd_per_message', 'usd_per_minute']] >= 0).all()"
   ]
  },
  {
   "cell_type": "markdown",
   "metadata": {},
   "source": [
    "- All values in the `messages_included`, `mb_per_month_included`, `minutes_included`,`usd_monthly_pay`, `usd_per_gb`, `usd_per_message`, and `usd_per_minute`columns are positive"
   ]
  },
  {
   "cell_type": "code",
   "execution_count": 6,
   "metadata": {},
   "outputs": [
    {
     "data": {
      "text/plain": [
       "0"
      ]
     },
     "execution_count": 6,
     "metadata": {},
     "output_type": "execute_result"
    }
   ],
   "source": [
    "#check for duplicates \n",
    "plans_df.duplicated().sum()"
   ]
  },
  {
   "cell_type": "markdown",
   "metadata": {},
   "source": [
    "- There are no duplicate rows in the `plans_df` dataframe "
   ]
  },
  {
   "cell_type": "markdown",
   "metadata": {},
   "source": [
    "## Users"
   ]
  },
  {
   "cell_type": "code",
   "execution_count": 7,
   "metadata": {},
   "outputs": [
    {
     "name": "stdout",
     "output_type": "stream",
     "text": [
      "<class 'pandas.core.frame.DataFrame'>\n",
      "RangeIndex: 500 entries, 0 to 499\n",
      "Data columns (total 8 columns):\n",
      " #   Column      Non-Null Count  Dtype \n",
      "---  ------      --------------  ----- \n",
      " 0   user_id     500 non-null    int64 \n",
      " 1   first_name  500 non-null    object\n",
      " 2   last_name   500 non-null    object\n",
      " 3   age         500 non-null    int64 \n",
      " 4   city        500 non-null    object\n",
      " 5   reg_date    500 non-null    object\n",
      " 6   plan        500 non-null    object\n",
      " 7   churn_date  34 non-null     object\n",
      "dtypes: int64(2), object(6)\n",
      "memory usage: 31.4+ KB\n"
     ]
    }
   ],
   "source": [
    "# Print the general/summary information about the users' DataFrame\n",
    "\n",
    "users_df.info()"
   ]
  },
  {
   "cell_type": "code",
   "execution_count": 8,
   "metadata": {},
   "outputs": [
    {
     "data": {
      "text/html": [
       "<div>\n",
       "<style scoped>\n",
       "    .dataframe tbody tr th:only-of-type {\n",
       "        vertical-align: middle;\n",
       "    }\n",
       "\n",
       "    .dataframe tbody tr th {\n",
       "        vertical-align: top;\n",
       "    }\n",
       "\n",
       "    .dataframe thead th {\n",
       "        text-align: right;\n",
       "    }\n",
       "</style>\n",
       "<table border=\"1\" class=\"dataframe\">\n",
       "  <thead>\n",
       "    <tr style=\"text-align: right;\">\n",
       "      <th></th>\n",
       "      <th>user_id</th>\n",
       "      <th>first_name</th>\n",
       "      <th>last_name</th>\n",
       "      <th>age</th>\n",
       "      <th>city</th>\n",
       "      <th>reg_date</th>\n",
       "      <th>plan</th>\n",
       "      <th>churn_date</th>\n",
       "    </tr>\n",
       "  </thead>\n",
       "  <tbody>\n",
       "    <tr>\n",
       "      <th>25</th>\n",
       "      <td>1025</td>\n",
       "      <td>Jess</td>\n",
       "      <td>Wilkinson</td>\n",
       "      <td>64</td>\n",
       "      <td>Atlanta-Sandy Springs-Roswell, GA MSA</td>\n",
       "      <td>2018-10-28</td>\n",
       "      <td>ultimate</td>\n",
       "      <td>NaN</td>\n",
       "    </tr>\n",
       "    <tr>\n",
       "      <th>396</th>\n",
       "      <td>1396</td>\n",
       "      <td>Ardelia</td>\n",
       "      <td>Benton</td>\n",
       "      <td>65</td>\n",
       "      <td>Salt Lake City, UT MSA</td>\n",
       "      <td>2018-06-01</td>\n",
       "      <td>surf</td>\n",
       "      <td>NaN</td>\n",
       "    </tr>\n",
       "    <tr>\n",
       "      <th>279</th>\n",
       "      <td>1279</td>\n",
       "      <td>Neal</td>\n",
       "      <td>Duke</td>\n",
       "      <td>27</td>\n",
       "      <td>Baton Rouge, LA MSA</td>\n",
       "      <td>2018-02-05</td>\n",
       "      <td>ultimate</td>\n",
       "      <td>NaN</td>\n",
       "    </tr>\n",
       "    <tr>\n",
       "      <th>459</th>\n",
       "      <td>1459</td>\n",
       "      <td>Santos</td>\n",
       "      <td>Head</td>\n",
       "      <td>40</td>\n",
       "      <td>San Francisco-Oakland-Berkeley, CA MSA</td>\n",
       "      <td>2018-04-27</td>\n",
       "      <td>ultimate</td>\n",
       "      <td>NaN</td>\n",
       "    </tr>\n",
       "    <tr>\n",
       "      <th>493</th>\n",
       "      <td>1493</td>\n",
       "      <td>Cicely</td>\n",
       "      <td>Wynn</td>\n",
       "      <td>18</td>\n",
       "      <td>Boston-Cambridge-Newton, MA-NH MSA</td>\n",
       "      <td>2018-03-06</td>\n",
       "      <td>ultimate</td>\n",
       "      <td>NaN</td>\n",
       "    </tr>\n",
       "  </tbody>\n",
       "</table>\n",
       "</div>"
      ],
      "text/plain": [
       "     user_id first_name  last_name  age  \\\n",
       "25      1025       Jess  Wilkinson   64   \n",
       "396     1396    Ardelia     Benton   65   \n",
       "279     1279       Neal       Duke   27   \n",
       "459     1459     Santos       Head   40   \n",
       "493     1493     Cicely       Wynn   18   \n",
       "\n",
       "                                       city    reg_date      plan churn_date  \n",
       "25    Atlanta-Sandy Springs-Roswell, GA MSA  2018-10-28  ultimate        NaN  \n",
       "396                  Salt Lake City, UT MSA  2018-06-01      surf        NaN  \n",
       "279                     Baton Rouge, LA MSA  2018-02-05  ultimate        NaN  \n",
       "459  San Francisco-Oakland-Berkeley, CA MSA  2018-04-27  ultimate        NaN  \n",
       "493      Boston-Cambridge-Newton, MA-NH MSA  2018-03-06  ultimate        NaN  "
      ]
     },
     "execution_count": 8,
     "metadata": {},
     "output_type": "execute_result"
    }
   ],
   "source": [
    "# Print a sample of data for users\n",
    "\n",
    "users_df.sample(5)"
   ]
  },
  {
   "cell_type": "markdown",
   "metadata": {},
   "source": [
    "\n",
    "\n",
    "- The `users_df`DataFrame contains 500 entries.\n",
    "- `user_id` and `age` are of type `int64`.\n",
    "- `first_name`, `last_name`, `city`, `reg_date`, `churn_date`, and `plan `are of type `object`.\n",
    "    - The `reg_date` and `churn_date` columns should be converted to `datetime` objects for better handling of dates.\n",
    "\n",
    "- Most columns have 500 non-null values, except for `churn_date`, which has only 47 non-null values."
   ]
  },
  {
   "cell_type": "markdown",
   "metadata": {},
   "source": [
    "### Fix Data"
   ]
  },
  {
   "cell_type": "code",
   "execution_count": 9,
   "metadata": {},
   "outputs": [
    {
     "data": {
      "text/plain": [
       "(dtype('<M8[ns]'), dtype('<M8[ns]'))"
      ]
     },
     "execution_count": 9,
     "metadata": {},
     "output_type": "execute_result"
    }
   ],
   "source": [
    "#Convert reg_date and churn_date to datetime\n",
    "\n",
    "users_df['reg_date'] = pd.to_datetime(users_df['reg_date'])\n",
    "users_df['churn_date'] = pd.to_datetime(users_df['churn_date'])\n",
    "users_df.dtypes['reg_date'], users_df.dtypes['churn_date']"
   ]
  },
  {
   "cell_type": "markdown",
   "metadata": {},
   "source": [
    "- `reg_date` and `churn_date` are converted to `datetime` data type"
   ]
  },
  {
   "cell_type": "markdown",
   "metadata": {},
   "source": [
    "### Enrich Data"
   ]
  },
  {
   "cell_type": "code",
   "execution_count": 10,
   "metadata": {},
   "outputs": [
    {
     "data": {
      "text/plain": [
       "True"
      ]
     },
     "execution_count": 10,
     "metadata": {},
     "output_type": "execute_result"
    }
   ],
   "source": [
    "#Check for unique user_id\n",
    "users_df['user_id'].is_unique"
   ]
  },
  {
   "cell_type": "markdown",
   "metadata": {},
   "source": [
    "- All values in the `user_id` column are unique"
   ]
  },
  {
   "cell_type": "code",
   "execution_count": 11,
   "metadata": {},
   "outputs": [
    {
     "data": {
      "text/plain": [
       "True"
      ]
     },
     "execution_count": 11,
     "metadata": {},
     "output_type": "execute_result"
    }
   ],
   "source": [
    "#Check ages are between 18-100 years old\n",
    "users_df['age'].between(18, 100).all()"
   ]
  },
  {
   "cell_type": "markdown",
   "metadata": {},
   "source": [
    "- All values in the `age` column are between 18-100"
   ]
  },
  {
   "cell_type": "code",
   "execution_count": 12,
   "metadata": {},
   "outputs": [
    {
     "data": {
      "text/plain": [
       "True"
      ]
     },
     "execution_count": 12,
     "metadata": {},
     "output_type": "execute_result"
    }
   ],
   "source": [
    "#Check for expected plan values\n",
    "\n",
    "expected_plans = ['surf', 'ultimate']\n",
    "users_df['plan'].isin(expected_plans).all()"
   ]
  },
  {
   "cell_type": "markdown",
   "metadata": {},
   "source": [
    " - All values in the `plan` column are expected "
   ]
  },
  {
   "cell_type": "code",
   "execution_count": 13,
   "metadata": {},
   "outputs": [
    {
     "data": {
      "text/plain": [
       "0"
      ]
     },
     "execution_count": 13,
     "metadata": {},
     "output_type": "execute_result"
    }
   ],
   "source": [
    "#check for duplicates \n",
    "users_df.duplicated().sum()"
   ]
  },
  {
   "cell_type": "markdown",
   "metadata": {},
   "source": [
    "- There are no duplicate rows in the `users_df` dataframe. "
   ]
  },
  {
   "cell_type": "markdown",
   "metadata": {},
   "source": [
    "## Calls"
   ]
  },
  {
   "cell_type": "code",
   "execution_count": 14,
   "metadata": {},
   "outputs": [
    {
     "name": "stdout",
     "output_type": "stream",
     "text": [
      "<class 'pandas.core.frame.DataFrame'>\n",
      "RangeIndex: 137735 entries, 0 to 137734\n",
      "Data columns (total 4 columns):\n",
      " #   Column     Non-Null Count   Dtype  \n",
      "---  ------     --------------   -----  \n",
      " 0   id         137735 non-null  object \n",
      " 1   user_id    137735 non-null  int64  \n",
      " 2   call_date  137735 non-null  object \n",
      " 3   duration   137735 non-null  float64\n",
      "dtypes: float64(1), int64(1), object(2)\n",
      "memory usage: 4.2+ MB\n"
     ]
    }
   ],
   "source": [
    "# Print the general/summary information about the calls' DataFrame\n",
    "\n",
    "calls_df.info()"
   ]
  },
  {
   "cell_type": "code",
   "execution_count": 15,
   "metadata": {
    "scrolled": true
   },
   "outputs": [
    {
     "data": {
      "text/html": [
       "<div>\n",
       "<style scoped>\n",
       "    .dataframe tbody tr th:only-of-type {\n",
       "        vertical-align: middle;\n",
       "    }\n",
       "\n",
       "    .dataframe tbody tr th {\n",
       "        vertical-align: top;\n",
       "    }\n",
       "\n",
       "    .dataframe thead th {\n",
       "        text-align: right;\n",
       "    }\n",
       "</style>\n",
       "<table border=\"1\" class=\"dataframe\">\n",
       "  <thead>\n",
       "    <tr style=\"text-align: right;\">\n",
       "      <th></th>\n",
       "      <th>id</th>\n",
       "      <th>user_id</th>\n",
       "      <th>call_date</th>\n",
       "      <th>duration</th>\n",
       "    </tr>\n",
       "  </thead>\n",
       "  <tbody>\n",
       "    <tr>\n",
       "      <th>14430</th>\n",
       "      <td>1059_666</td>\n",
       "      <td>1059</td>\n",
       "      <td>2018-07-23</td>\n",
       "      <td>18.07</td>\n",
       "    </tr>\n",
       "    <tr>\n",
       "      <th>884</th>\n",
       "      <td>1004_420</td>\n",
       "      <td>1004</td>\n",
       "      <td>2018-07-15</td>\n",
       "      <td>17.36</td>\n",
       "    </tr>\n",
       "    <tr>\n",
       "      <th>9647</th>\n",
       "      <td>1043_126</td>\n",
       "      <td>1043</td>\n",
       "      <td>2018-07-14</td>\n",
       "      <td>8.56</td>\n",
       "    </tr>\n",
       "    <tr>\n",
       "      <th>23196</th>\n",
       "      <td>1084_243</td>\n",
       "      <td>1084</td>\n",
       "      <td>2018-11-20</td>\n",
       "      <td>0.00</td>\n",
       "    </tr>\n",
       "    <tr>\n",
       "      <th>135483</th>\n",
       "      <td>1491_392</td>\n",
       "      <td>1491</td>\n",
       "      <td>2018-09-30</td>\n",
       "      <td>12.80</td>\n",
       "    </tr>\n",
       "  </tbody>\n",
       "</table>\n",
       "</div>"
      ],
      "text/plain": [
       "              id  user_id   call_date  duration\n",
       "14430   1059_666     1059  2018-07-23     18.07\n",
       "884     1004_420     1004  2018-07-15     17.36\n",
       "9647    1043_126     1043  2018-07-14      8.56\n",
       "23196   1084_243     1084  2018-11-20      0.00\n",
       "135483  1491_392     1491  2018-09-30     12.80"
      ]
     },
     "execution_count": 15,
     "metadata": {},
     "output_type": "execute_result"
    }
   ],
   "source": [
    "# Print a sample of data for calls\n",
    "\n",
    "calls_df.sample(5)"
   ]
  },
  {
   "cell_type": "markdown",
   "metadata": {},
   "source": [
    "\n",
    "- The `calls_df` DataFrame contains 137,735 entries.\n",
    "- `id` and `call_date` are of type `object`.\n",
    "    - The `call_date` column should be converted to `datetime` objects for better handling of dates.\n",
    "- `user_id` is of type `int64`.\n",
    "- `duration` is of type `float64`.\n",
    "- All columns have 137,735 non-null values, indicating no missing data.\n"
   ]
  },
  {
   "cell_type": "markdown",
   "metadata": {},
   "source": [
    "### Fix data"
   ]
  },
  {
   "cell_type": "code",
   "execution_count": 16,
   "metadata": {},
   "outputs": [
    {
     "data": {
      "text/plain": [
       "dtype('<M8[ns]')"
      ]
     },
     "execution_count": 16,
     "metadata": {},
     "output_type": "execute_result"
    }
   ],
   "source": [
    "#Convert call_date to datetime\n",
    "\n",
    "calls_df['call_date'] = pd.to_datetime(calls_df['call_date'])\n",
    "calls_df.dtypes['call_date']"
   ]
  },
  {
   "cell_type": "markdown",
   "metadata": {},
   "source": [
    "- `call_date` converted to `datetime` data type"
   ]
  },
  {
   "cell_type": "markdown",
   "metadata": {},
   "source": [
    "### Enrich data"
   ]
  },
  {
   "cell_type": "code",
   "execution_count": 17,
   "metadata": {},
   "outputs": [
    {
     "data": {
      "text/plain": [
       "True"
      ]
     },
     "execution_count": 17,
     "metadata": {},
     "output_type": "execute_result"
    }
   ],
   "source": [
    "#check for unique id\n",
    "calls_df['id'].is_unique"
   ]
  },
  {
   "cell_type": "markdown",
   "metadata": {},
   "source": [
    "- All values in the `id` column are unique"
   ]
  },
  {
   "cell_type": "code",
   "execution_count": 18,
   "metadata": {},
   "outputs": [
    {
     "data": {
      "text/plain": [
       "True"
      ]
     },
     "execution_count": 18,
     "metadata": {},
     "output_type": "execute_result"
    }
   ],
   "source": [
    "#check for postitve duration values\n",
    "(calls_df['duration'] >= 0).all()"
   ]
  },
  {
   "cell_type": "markdown",
   "metadata": {},
   "source": [
    "   - All values in the `duration` column are positive"
   ]
  },
  {
   "cell_type": "code",
   "execution_count": 19,
   "metadata": {},
   "outputs": [
    {
     "data": {
      "text/plain": [
       "0"
      ]
     },
     "execution_count": 19,
     "metadata": {},
     "output_type": "execute_result"
    }
   ],
   "source": [
    "#check for duplicates \n",
    "calls_df.duplicated().sum()"
   ]
  },
  {
   "cell_type": "markdown",
   "metadata": {},
   "source": [
    "- There are no duplicate rows in the `calls_df` dataframe"
   ]
  },
  {
   "cell_type": "code",
   "execution_count": 20,
   "metadata": {},
   "outputs": [
    {
     "data": {
      "text/html": [
       "<div>\n",
       "<style scoped>\n",
       "    .dataframe tbody tr th:only-of-type {\n",
       "        vertical-align: middle;\n",
       "    }\n",
       "\n",
       "    .dataframe tbody tr th {\n",
       "        vertical-align: top;\n",
       "    }\n",
       "\n",
       "    .dataframe thead th {\n",
       "        text-align: right;\n",
       "    }\n",
       "</style>\n",
       "<table border=\"1\" class=\"dataframe\">\n",
       "  <thead>\n",
       "    <tr style=\"text-align: right;\">\n",
       "      <th></th>\n",
       "      <th>id</th>\n",
       "      <th>user_id</th>\n",
       "      <th>call_date</th>\n",
       "      <th>duration</th>\n",
       "    </tr>\n",
       "  </thead>\n",
       "  <tbody>\n",
       "    <tr>\n",
       "      <th>83321</th>\n",
       "      <td>1302_95</td>\n",
       "      <td>1302</td>\n",
       "      <td>2018-09-28</td>\n",
       "      <td>9.0</td>\n",
       "    </tr>\n",
       "    <tr>\n",
       "      <th>105684</th>\n",
       "      <td>1373_164</td>\n",
       "      <td>1373</td>\n",
       "      <td>2018-10-04</td>\n",
       "      <td>0.0</td>\n",
       "    </tr>\n",
       "    <tr>\n",
       "      <th>106708</th>\n",
       "      <td>1377_260</td>\n",
       "      <td>1377</td>\n",
       "      <td>2018-08-10</td>\n",
       "      <td>6.0</td>\n",
       "    </tr>\n",
       "    <tr>\n",
       "      <th>49041</th>\n",
       "      <td>1176_140</td>\n",
       "      <td>1176</td>\n",
       "      <td>2018-12-27</td>\n",
       "      <td>12.0</td>\n",
       "    </tr>\n",
       "    <tr>\n",
       "      <th>101962</th>\n",
       "      <td>1362_722</td>\n",
       "      <td>1362</td>\n",
       "      <td>2018-08-24</td>\n",
       "      <td>10.0</td>\n",
       "    </tr>\n",
       "  </tbody>\n",
       "</table>\n",
       "</div>"
      ],
      "text/plain": [
       "              id  user_id  call_date  duration\n",
       "83321    1302_95     1302 2018-09-28       9.0\n",
       "105684  1373_164     1373 2018-10-04       0.0\n",
       "106708  1377_260     1377 2018-08-10       6.0\n",
       "49041   1176_140     1176 2018-12-27      12.0\n",
       "101962  1362_722     1362 2018-08-24      10.0"
      ]
     },
     "execution_count": 20,
     "metadata": {},
     "output_type": "execute_result"
    }
   ],
   "source": [
    "#Round up duration column \n",
    "calls_df['duration'] = np.ceil(calls_df['duration'])\n",
    "calls_df.sample(5)"
   ]
  },
  {
   "cell_type": "markdown",
   "metadata": {},
   "source": [
    "## Messages"
   ]
  },
  {
   "cell_type": "code",
   "execution_count": 21,
   "metadata": {
    "scrolled": true
   },
   "outputs": [
    {
     "name": "stdout",
     "output_type": "stream",
     "text": [
      "<class 'pandas.core.frame.DataFrame'>\n",
      "RangeIndex: 76051 entries, 0 to 76050\n",
      "Data columns (total 3 columns):\n",
      " #   Column        Non-Null Count  Dtype \n",
      "---  ------        --------------  ----- \n",
      " 0   id            76051 non-null  object\n",
      " 1   user_id       76051 non-null  int64 \n",
      " 2   message_date  76051 non-null  object\n",
      "dtypes: int64(1), object(2)\n",
      "memory usage: 1.7+ MB\n"
     ]
    }
   ],
   "source": [
    "# Print the general/summary information about the messages' DataFrame\n",
    "\n",
    "messages_df.info()"
   ]
  },
  {
   "cell_type": "code",
   "execution_count": 22,
   "metadata": {
    "scrolled": true
   },
   "outputs": [
    {
     "data": {
      "text/html": [
       "<div>\n",
       "<style scoped>\n",
       "    .dataframe tbody tr th:only-of-type {\n",
       "        vertical-align: middle;\n",
       "    }\n",
       "\n",
       "    .dataframe tbody tr th {\n",
       "        vertical-align: top;\n",
       "    }\n",
       "\n",
       "    .dataframe thead th {\n",
       "        text-align: right;\n",
       "    }\n",
       "</style>\n",
       "<table border=\"1\" class=\"dataframe\">\n",
       "  <thead>\n",
       "    <tr style=\"text-align: right;\">\n",
       "      <th></th>\n",
       "      <th>id</th>\n",
       "      <th>user_id</th>\n",
       "      <th>message_date</th>\n",
       "    </tr>\n",
       "  </thead>\n",
       "  <tbody>\n",
       "    <tr>\n",
       "      <th>44614</th>\n",
       "      <td>1298_70</td>\n",
       "      <td>1298</td>\n",
       "      <td>2018-12-16</td>\n",
       "    </tr>\n",
       "    <tr>\n",
       "      <th>33863</th>\n",
       "      <td>1213_69</td>\n",
       "      <td>1213</td>\n",
       "      <td>2018-12-23</td>\n",
       "    </tr>\n",
       "    <tr>\n",
       "      <th>48008</th>\n",
       "      <td>1324_737</td>\n",
       "      <td>1324</td>\n",
       "      <td>2018-07-28</td>\n",
       "    </tr>\n",
       "    <tr>\n",
       "      <th>62915</th>\n",
       "      <td>1398_143</td>\n",
       "      <td>1398</td>\n",
       "      <td>2018-12-10</td>\n",
       "    </tr>\n",
       "    <tr>\n",
       "      <th>31867</th>\n",
       "      <td>1197_6</td>\n",
       "      <td>1197</td>\n",
       "      <td>2018-11-20</td>\n",
       "    </tr>\n",
       "  </tbody>\n",
       "</table>\n",
       "</div>"
      ],
      "text/plain": [
       "             id  user_id message_date\n",
       "44614   1298_70     1298   2018-12-16\n",
       "33863   1213_69     1213   2018-12-23\n",
       "48008  1324_737     1324   2018-07-28\n",
       "62915  1398_143     1398   2018-12-10\n",
       "31867    1197_6     1197   2018-11-20"
      ]
     },
     "execution_count": 22,
     "metadata": {},
     "output_type": "execute_result"
    }
   ],
   "source": [
    "# Print a sample of data for messages\n",
    "\n",
    "messages_df.sample(5)"
   ]
  },
  {
   "cell_type": "markdown",
   "metadata": {},
   "source": [
    "\n",
    "- The `messages_df` DataFrame contains 76,051 entries.\n",
    "- `id` and `message_date` are of type object. `user_id` is of type `int64`.\n",
    "    - The `message_date` column should be converted to `datetime` objects for better handling of dates.\n",
    "- All columns have 76,051 non-null values, indicating no missing data.\n",
    " "
   ]
  },
  {
   "cell_type": "markdown",
   "metadata": {},
   "source": [
    "### Fix data"
   ]
  },
  {
   "cell_type": "code",
   "execution_count": 23,
   "metadata": {},
   "outputs": [
    {
     "data": {
      "text/plain": [
       "dtype('<M8[ns]')"
      ]
     },
     "execution_count": 23,
     "metadata": {},
     "output_type": "execute_result"
    }
   ],
   "source": [
    "#convert message_date to datetime\n",
    "messages_df['message_date'] = pd.to_datetime(messages_df['message_date'])\n",
    "messages_df['message_date'].dtypes"
   ]
  },
  {
   "cell_type": "markdown",
   "metadata": {},
   "source": [
    "- `message_date` converted to `datetime` data type"
   ]
  },
  {
   "cell_type": "markdown",
   "metadata": {},
   "source": [
    "### Enrich data"
   ]
  },
  {
   "cell_type": "code",
   "execution_count": 24,
   "metadata": {},
   "outputs": [
    {
     "data": {
      "text/plain": [
       "True"
      ]
     },
     "execution_count": 24,
     "metadata": {},
     "output_type": "execute_result"
    }
   ],
   "source": [
    "#check for unique id values\n",
    "messages_df['id'].is_unique"
   ]
  },
  {
   "cell_type": "markdown",
   "metadata": {},
   "source": [
    "- All values in the `id` column are unique"
   ]
  },
  {
   "cell_type": "code",
   "execution_count": 25,
   "metadata": {},
   "outputs": [
    {
     "data": {
      "text/plain": [
       "0"
      ]
     },
     "execution_count": 25,
     "metadata": {},
     "output_type": "execute_result"
    }
   ],
   "source": [
    "#check for duplicates \n",
    "messages_df.duplicated().sum()"
   ]
  },
  {
   "cell_type": "markdown",
   "metadata": {},
   "source": [
    "- There are no duplicate rows in the `messages_df` dataframe"
   ]
  },
  {
   "cell_type": "markdown",
   "metadata": {},
   "source": [
    "## Internet"
   ]
  },
  {
   "cell_type": "code",
   "execution_count": 26,
   "metadata": {},
   "outputs": [
    {
     "name": "stdout",
     "output_type": "stream",
     "text": [
      "<class 'pandas.core.frame.DataFrame'>\n",
      "RangeIndex: 104825 entries, 0 to 104824\n",
      "Data columns (total 4 columns):\n",
      " #   Column        Non-Null Count   Dtype  \n",
      "---  ------        --------------   -----  \n",
      " 0   id            104825 non-null  object \n",
      " 1   user_id       104825 non-null  int64  \n",
      " 2   session_date  104825 non-null  object \n",
      " 3   mb_used       104825 non-null  float64\n",
      "dtypes: float64(1), int64(1), object(2)\n",
      "memory usage: 3.2+ MB\n"
     ]
    }
   ],
   "source": [
    "# Print the general/summary information about the internet DataFrame\n",
    "\n",
    "internet_df.info()"
   ]
  },
  {
   "cell_type": "code",
   "execution_count": 27,
   "metadata": {
    "scrolled": true
   },
   "outputs": [
    {
     "data": {
      "text/html": [
       "<div>\n",
       "<style scoped>\n",
       "    .dataframe tbody tr th:only-of-type {\n",
       "        vertical-align: middle;\n",
       "    }\n",
       "\n",
       "    .dataframe tbody tr th {\n",
       "        vertical-align: top;\n",
       "    }\n",
       "\n",
       "    .dataframe thead th {\n",
       "        text-align: right;\n",
       "    }\n",
       "</style>\n",
       "<table border=\"1\" class=\"dataframe\">\n",
       "  <thead>\n",
       "    <tr style=\"text-align: right;\">\n",
       "      <th></th>\n",
       "      <th>id</th>\n",
       "      <th>user_id</th>\n",
       "      <th>session_date</th>\n",
       "      <th>mb_used</th>\n",
       "    </tr>\n",
       "  </thead>\n",
       "  <tbody>\n",
       "    <tr>\n",
       "      <th>92869</th>\n",
       "      <td>1434_97</td>\n",
       "      <td>1434</td>\n",
       "      <td>2018-08-23</td>\n",
       "      <td>444.64</td>\n",
       "    </tr>\n",
       "    <tr>\n",
       "      <th>51356</th>\n",
       "      <td>1231_285</td>\n",
       "      <td>1231</td>\n",
       "      <td>2018-10-08</td>\n",
       "      <td>102.82</td>\n",
       "    </tr>\n",
       "    <tr>\n",
       "      <th>24586</th>\n",
       "      <td>1113_190</td>\n",
       "      <td>1113</td>\n",
       "      <td>2018-07-31</td>\n",
       "      <td>76.53</td>\n",
       "    </tr>\n",
       "    <tr>\n",
       "      <th>76802</th>\n",
       "      <td>1359_491</td>\n",
       "      <td>1359</td>\n",
       "      <td>2018-12-19</td>\n",
       "      <td>0.00</td>\n",
       "    </tr>\n",
       "    <tr>\n",
       "      <th>52194</th>\n",
       "      <td>1236_36</td>\n",
       "      <td>1236</td>\n",
       "      <td>2018-06-15</td>\n",
       "      <td>195.40</td>\n",
       "    </tr>\n",
       "  </tbody>\n",
       "</table>\n",
       "</div>"
      ],
      "text/plain": [
       "             id  user_id session_date  mb_used\n",
       "92869   1434_97     1434   2018-08-23   444.64\n",
       "51356  1231_285     1231   2018-10-08   102.82\n",
       "24586  1113_190     1113   2018-07-31    76.53\n",
       "76802  1359_491     1359   2018-12-19     0.00\n",
       "52194   1236_36     1236   2018-06-15   195.40"
      ]
     },
     "execution_count": 27,
     "metadata": {},
     "output_type": "execute_result"
    }
   ],
   "source": [
    "# Print a sample of data for the internet traffic\n",
    "\n",
    "internet_df.sample(5)"
   ]
  },
  {
   "cell_type": "markdown",
   "metadata": {},
   "source": [
    "\n",
    "- The `internet_df` DataFrame contains 104,825 entries.\n",
    "- `id` and `session_date` are of type object.\n",
    "    - The `session_date` column should be converted to `datetime` objects for better handling of dates.\n",
    "- `user_id` is of type `int64`.\n",
    "- `mb_used` is of type `float64`.\n",
    "    - A new column should be created converting `mb_used` to gigabytes\n",
    "- All columns have 104,825 non-null values, indicating no missing data.\n"
   ]
  },
  {
   "cell_type": "markdown",
   "metadata": {},
   "source": [
    "### Fix data"
   ]
  },
  {
   "cell_type": "code",
   "execution_count": 28,
   "metadata": {},
   "outputs": [
    {
     "data": {
      "text/plain": [
       "dtype('<M8[ns]')"
      ]
     },
     "execution_count": 28,
     "metadata": {},
     "output_type": "execute_result"
    }
   ],
   "source": [
    "#convert session_date to datetime\n",
    "internet_df['session_date'] = pd.to_datetime(internet_df['session_date'])\n",
    "internet_df['session_date'].dtype"
   ]
  },
  {
   "cell_type": "markdown",
   "metadata": {},
   "source": [
    "- `session_date` converted to `datetime` data type"
   ]
  },
  {
   "cell_type": "code",
   "execution_count": 29,
   "metadata": {},
   "outputs": [],
   "source": [
    "# Convert mb_used from megabytes to gigabytes\n",
    "internet_df['gb_used'] = internet_df['mb_used'] / 1024"
   ]
  },
  {
   "cell_type": "code",
   "execution_count": 30,
   "metadata": {},
   "outputs": [
    {
     "data": {
      "text/html": [
       "<div>\n",
       "<style scoped>\n",
       "    .dataframe tbody tr th:only-of-type {\n",
       "        vertical-align: middle;\n",
       "    }\n",
       "\n",
       "    .dataframe tbody tr th {\n",
       "        vertical-align: top;\n",
       "    }\n",
       "\n",
       "    .dataframe thead th {\n",
       "        text-align: right;\n",
       "    }\n",
       "</style>\n",
       "<table border=\"1\" class=\"dataframe\">\n",
       "  <thead>\n",
       "    <tr style=\"text-align: right;\">\n",
       "      <th></th>\n",
       "      <th>id</th>\n",
       "      <th>user_id</th>\n",
       "      <th>session_date</th>\n",
       "      <th>mb_used</th>\n",
       "      <th>gb_used</th>\n",
       "    </tr>\n",
       "  </thead>\n",
       "  <tbody>\n",
       "    <tr>\n",
       "      <th>77481</th>\n",
       "      <td>1362_152</td>\n",
       "      <td>1362</td>\n",
       "      <td>2018-12-05</td>\n",
       "      <td>1242.64</td>\n",
       "      <td>2.0</td>\n",
       "    </tr>\n",
       "    <tr>\n",
       "      <th>79783</th>\n",
       "      <td>1373_62</td>\n",
       "      <td>1373</td>\n",
       "      <td>2018-09-24</td>\n",
       "      <td>341.61</td>\n",
       "      <td>1.0</td>\n",
       "    </tr>\n",
       "    <tr>\n",
       "      <th>100556</th>\n",
       "      <td>1476_66</td>\n",
       "      <td>1476</td>\n",
       "      <td>2018-06-27</td>\n",
       "      <td>716.91</td>\n",
       "      <td>1.0</td>\n",
       "    </tr>\n",
       "    <tr>\n",
       "      <th>30537</th>\n",
       "      <td>1140_80</td>\n",
       "      <td>1140</td>\n",
       "      <td>2018-09-15</td>\n",
       "      <td>126.50</td>\n",
       "      <td>1.0</td>\n",
       "    </tr>\n",
       "    <tr>\n",
       "      <th>89118</th>\n",
       "      <td>1411_12</td>\n",
       "      <td>1411</td>\n",
       "      <td>2018-08-14</td>\n",
       "      <td>286.35</td>\n",
       "      <td>1.0</td>\n",
       "    </tr>\n",
       "  </tbody>\n",
       "</table>\n",
       "</div>"
      ],
      "text/plain": [
       "              id  user_id session_date  mb_used  gb_used\n",
       "77481   1362_152     1362   2018-12-05  1242.64      2.0\n",
       "79783    1373_62     1373   2018-09-24   341.61      1.0\n",
       "100556   1476_66     1476   2018-06-27   716.91      1.0\n",
       "30537    1140_80     1140   2018-09-15   126.50      1.0\n",
       "89118    1411_12     1411   2018-08-14   286.35      1.0"
      ]
     },
     "execution_count": 30,
     "metadata": {},
     "output_type": "execute_result"
    }
   ],
   "source": [
    "#round up the gb_used column\n",
    "internet_df['gb_used'] = np.ceil(internet_df['gb_used'])\n",
    "\n",
    "# Verify the changes\n",
    "internet_df.sample(5)"
   ]
  },
  {
   "cell_type": "markdown",
   "metadata": {},
   "source": [
    "- Created `gb_used` column and rounded up to nearest whole number "
   ]
  },
  {
   "cell_type": "markdown",
   "metadata": {},
   "source": [
    "### Enrich data"
   ]
  },
  {
   "cell_type": "code",
   "execution_count": 31,
   "metadata": {},
   "outputs": [
    {
     "data": {
      "text/plain": [
       "True"
      ]
     },
     "execution_count": 31,
     "metadata": {},
     "output_type": "execute_result"
    }
   ],
   "source": [
    "#check for unique id values\n",
    "internet_df['id'].is_unique"
   ]
  },
  {
   "cell_type": "markdown",
   "metadata": {},
   "source": [
    "- All values in the `id` column are unique"
   ]
  },
  {
   "cell_type": "code",
   "execution_count": 32,
   "metadata": {},
   "outputs": [
    {
     "data": {
      "text/plain": [
       "True"
      ]
     },
     "execution_count": 32,
     "metadata": {},
     "output_type": "execute_result"
    }
   ],
   "source": [
    "#check for positve mb_used values\n",
    "(internet_df['mb_used'] >= 0).all()"
   ]
  },
  {
   "cell_type": "markdown",
   "metadata": {},
   "source": [
    "   - All values in the `mb_used` column are positive"
   ]
  },
  {
   "cell_type": "code",
   "execution_count": 33,
   "metadata": {},
   "outputs": [
    {
     "data": {
      "text/plain": [
       "0"
      ]
     },
     "execution_count": 33,
     "metadata": {},
     "output_type": "execute_result"
    }
   ],
   "source": [
    "#check for duplicates \n",
    "internet_df.duplicated().sum()"
   ]
  },
  {
   "cell_type": "markdown",
   "metadata": {},
   "source": [
    "- There are no duplicate rows in the `internet_df` dataframe"
   ]
  },
  {
   "cell_type": "markdown",
   "metadata": {},
   "source": [
    "## Study plan conditions"
   ]
  },
  {
   "cell_type": "code",
   "execution_count": 34,
   "metadata": {},
   "outputs": [
    {
     "data": {
      "text/html": [
       "<div>\n",
       "<style scoped>\n",
       "    .dataframe tbody tr th:only-of-type {\n",
       "        vertical-align: middle;\n",
       "    }\n",
       "\n",
       "    .dataframe tbody tr th {\n",
       "        vertical-align: top;\n",
       "    }\n",
       "\n",
       "    .dataframe thead th {\n",
       "        text-align: right;\n",
       "    }\n",
       "</style>\n",
       "<table border=\"1\" class=\"dataframe\">\n",
       "  <thead>\n",
       "    <tr style=\"text-align: right;\">\n",
       "      <th></th>\n",
       "      <th>messages_included</th>\n",
       "      <th>mb_per_month_included</th>\n",
       "      <th>minutes_included</th>\n",
       "      <th>usd_monthly_pay</th>\n",
       "      <th>usd_per_gb</th>\n",
       "      <th>usd_per_message</th>\n",
       "      <th>usd_per_minute</th>\n",
       "      <th>plan_name</th>\n",
       "    </tr>\n",
       "  </thead>\n",
       "  <tbody>\n",
       "    <tr>\n",
       "      <th>0</th>\n",
       "      <td>50</td>\n",
       "      <td>15360</td>\n",
       "      <td>500</td>\n",
       "      <td>20</td>\n",
       "      <td>10</td>\n",
       "      <td>0.03</td>\n",
       "      <td>0.03</td>\n",
       "      <td>surf</td>\n",
       "    </tr>\n",
       "    <tr>\n",
       "      <th>1</th>\n",
       "      <td>1000</td>\n",
       "      <td>30720</td>\n",
       "      <td>3000</td>\n",
       "      <td>70</td>\n",
       "      <td>7</td>\n",
       "      <td>0.01</td>\n",
       "      <td>0.01</td>\n",
       "      <td>ultimate</td>\n",
       "    </tr>\n",
       "  </tbody>\n",
       "</table>\n",
       "</div>"
      ],
      "text/plain": [
       "   messages_included  mb_per_month_included  minutes_included  \\\n",
       "0                 50                  15360               500   \n",
       "1               1000                  30720              3000   \n",
       "\n",
       "   usd_monthly_pay  usd_per_gb  usd_per_message  usd_per_minute plan_name  \n",
       "0               20          10             0.03            0.03      surf  \n",
       "1               70           7             0.01            0.01  ultimate  "
      ]
     },
     "execution_count": 34,
     "metadata": {},
     "output_type": "execute_result"
    }
   ],
   "source": [
    "# Print out the plan conditions and make sure they are clear for you\n",
    "plans_df"
   ]
  },
  {
   "cell_type": "markdown",
   "metadata": {},
   "source": [
    "## Aggregate data per user\n"
   ]
  },
  {
   "cell_type": "code",
   "execution_count": 35,
   "metadata": {
    "scrolled": true
   },
   "outputs": [
    {
     "data": {
      "text/html": [
       "<div>\n",
       "<style scoped>\n",
       "    .dataframe tbody tr th:only-of-type {\n",
       "        vertical-align: middle;\n",
       "    }\n",
       "\n",
       "    .dataframe tbody tr th {\n",
       "        vertical-align: top;\n",
       "    }\n",
       "\n",
       "    .dataframe thead th {\n",
       "        text-align: right;\n",
       "    }\n",
       "</style>\n",
       "<table border=\"1\" class=\"dataframe\">\n",
       "  <thead>\n",
       "    <tr style=\"text-align: right;\">\n",
       "      <th></th>\n",
       "      <th>user_id</th>\n",
       "      <th>year</th>\n",
       "      <th>month</th>\n",
       "      <th>calls_count</th>\n",
       "    </tr>\n",
       "  </thead>\n",
       "  <tbody>\n",
       "    <tr>\n",
       "      <th>0</th>\n",
       "      <td>1000</td>\n",
       "      <td>2018</td>\n",
       "      <td>12</td>\n",
       "      <td>16</td>\n",
       "    </tr>\n",
       "    <tr>\n",
       "      <th>1</th>\n",
       "      <td>1001</td>\n",
       "      <td>2018</td>\n",
       "      <td>8</td>\n",
       "      <td>27</td>\n",
       "    </tr>\n",
       "    <tr>\n",
       "      <th>2</th>\n",
       "      <td>1001</td>\n",
       "      <td>2018</td>\n",
       "      <td>9</td>\n",
       "      <td>49</td>\n",
       "    </tr>\n",
       "    <tr>\n",
       "      <th>3</th>\n",
       "      <td>1001</td>\n",
       "      <td>2018</td>\n",
       "      <td>10</td>\n",
       "      <td>65</td>\n",
       "    </tr>\n",
       "    <tr>\n",
       "      <th>4</th>\n",
       "      <td>1001</td>\n",
       "      <td>2018</td>\n",
       "      <td>11</td>\n",
       "      <td>64</td>\n",
       "    </tr>\n",
       "    <tr>\n",
       "      <th>...</th>\n",
       "      <td>...</td>\n",
       "      <td>...</td>\n",
       "      <td>...</td>\n",
       "      <td>...</td>\n",
       "    </tr>\n",
       "    <tr>\n",
       "      <th>2253</th>\n",
       "      <td>1498</td>\n",
       "      <td>2018</td>\n",
       "      <td>12</td>\n",
       "      <td>39</td>\n",
       "    </tr>\n",
       "    <tr>\n",
       "      <th>2254</th>\n",
       "      <td>1499</td>\n",
       "      <td>2018</td>\n",
       "      <td>9</td>\n",
       "      <td>41</td>\n",
       "    </tr>\n",
       "    <tr>\n",
       "      <th>2255</th>\n",
       "      <td>1499</td>\n",
       "      <td>2018</td>\n",
       "      <td>10</td>\n",
       "      <td>53</td>\n",
       "    </tr>\n",
       "    <tr>\n",
       "      <th>2256</th>\n",
       "      <td>1499</td>\n",
       "      <td>2018</td>\n",
       "      <td>11</td>\n",
       "      <td>45</td>\n",
       "    </tr>\n",
       "    <tr>\n",
       "      <th>2257</th>\n",
       "      <td>1499</td>\n",
       "      <td>2018</td>\n",
       "      <td>12</td>\n",
       "      <td>65</td>\n",
       "    </tr>\n",
       "  </tbody>\n",
       "</table>\n",
       "<p>2258 rows × 4 columns</p>\n",
       "</div>"
      ],
      "text/plain": [
       "      user_id  year  month  calls_count\n",
       "0        1000  2018     12           16\n",
       "1        1001  2018      8           27\n",
       "2        1001  2018      9           49\n",
       "3        1001  2018     10           65\n",
       "4        1001  2018     11           64\n",
       "...       ...   ...    ...          ...\n",
       "2253     1498  2018     12           39\n",
       "2254     1499  2018      9           41\n",
       "2255     1499  2018     10           53\n",
       "2256     1499  2018     11           45\n",
       "2257     1499  2018     12           65\n",
       "\n",
       "[2258 rows x 4 columns]"
      ]
     },
     "execution_count": 35,
     "metadata": {},
     "output_type": "execute_result"
    }
   ],
   "source": [
    "# Calculate the number of calls made by each user per month. Save the result.\n",
    "calls_df['month'] = calls_df['call_date'].dt.month\n",
    "calls_df['year'] = calls_df['call_date'].dt.year\n",
    "\n",
    "calls_per_month = calls_df.groupby(['user_id', 'year', 'month']).agg({'id': 'count'}).reset_index()\n",
    "calls_per_month.columns = ['user_id', 'year', 'month', 'calls_count']\n",
    "\n",
    "calls_per_month"
   ]
  },
  {
   "cell_type": "code",
   "execution_count": 36,
   "metadata": {},
   "outputs": [
    {
     "data": {
      "text/html": [
       "<div>\n",
       "<style scoped>\n",
       "    .dataframe tbody tr th:only-of-type {\n",
       "        vertical-align: middle;\n",
       "    }\n",
       "\n",
       "    .dataframe tbody tr th {\n",
       "        vertical-align: top;\n",
       "    }\n",
       "\n",
       "    .dataframe thead th {\n",
       "        text-align: right;\n",
       "    }\n",
       "</style>\n",
       "<table border=\"1\" class=\"dataframe\">\n",
       "  <thead>\n",
       "    <tr style=\"text-align: right;\">\n",
       "      <th></th>\n",
       "      <th>user_id</th>\n",
       "      <th>year</th>\n",
       "      <th>month</th>\n",
       "      <th>minutes_sum</th>\n",
       "    </tr>\n",
       "  </thead>\n",
       "  <tbody>\n",
       "    <tr>\n",
       "      <th>0</th>\n",
       "      <td>1000</td>\n",
       "      <td>2018</td>\n",
       "      <td>12</td>\n",
       "      <td>124.0</td>\n",
       "    </tr>\n",
       "    <tr>\n",
       "      <th>1</th>\n",
       "      <td>1001</td>\n",
       "      <td>2018</td>\n",
       "      <td>8</td>\n",
       "      <td>182.0</td>\n",
       "    </tr>\n",
       "    <tr>\n",
       "      <th>2</th>\n",
       "      <td>1001</td>\n",
       "      <td>2018</td>\n",
       "      <td>9</td>\n",
       "      <td>315.0</td>\n",
       "    </tr>\n",
       "    <tr>\n",
       "      <th>3</th>\n",
       "      <td>1001</td>\n",
       "      <td>2018</td>\n",
       "      <td>10</td>\n",
       "      <td>393.0</td>\n",
       "    </tr>\n",
       "    <tr>\n",
       "      <th>4</th>\n",
       "      <td>1001</td>\n",
       "      <td>2018</td>\n",
       "      <td>11</td>\n",
       "      <td>426.0</td>\n",
       "    </tr>\n",
       "    <tr>\n",
       "      <th>...</th>\n",
       "      <td>...</td>\n",
       "      <td>...</td>\n",
       "      <td>...</td>\n",
       "      <td>...</td>\n",
       "    </tr>\n",
       "    <tr>\n",
       "      <th>2253</th>\n",
       "      <td>1498</td>\n",
       "      <td>2018</td>\n",
       "      <td>12</td>\n",
       "      <td>339.0</td>\n",
       "    </tr>\n",
       "    <tr>\n",
       "      <th>2254</th>\n",
       "      <td>1499</td>\n",
       "      <td>2018</td>\n",
       "      <td>9</td>\n",
       "      <td>346.0</td>\n",
       "    </tr>\n",
       "    <tr>\n",
       "      <th>2255</th>\n",
       "      <td>1499</td>\n",
       "      <td>2018</td>\n",
       "      <td>10</td>\n",
       "      <td>385.0</td>\n",
       "    </tr>\n",
       "    <tr>\n",
       "      <th>2256</th>\n",
       "      <td>1499</td>\n",
       "      <td>2018</td>\n",
       "      <td>11</td>\n",
       "      <td>308.0</td>\n",
       "    </tr>\n",
       "    <tr>\n",
       "      <th>2257</th>\n",
       "      <td>1499</td>\n",
       "      <td>2018</td>\n",
       "      <td>12</td>\n",
       "      <td>496.0</td>\n",
       "    </tr>\n",
       "  </tbody>\n",
       "</table>\n",
       "<p>2258 rows × 4 columns</p>\n",
       "</div>"
      ],
      "text/plain": [
       "      user_id  year  month  minutes_sum\n",
       "0        1000  2018     12        124.0\n",
       "1        1001  2018      8        182.0\n",
       "2        1001  2018      9        315.0\n",
       "3        1001  2018     10        393.0\n",
       "4        1001  2018     11        426.0\n",
       "...       ...   ...    ...          ...\n",
       "2253     1498  2018     12        339.0\n",
       "2254     1499  2018      9        346.0\n",
       "2255     1499  2018     10        385.0\n",
       "2256     1499  2018     11        308.0\n",
       "2257     1499  2018     12        496.0\n",
       "\n",
       "[2258 rows x 4 columns]"
      ]
     },
     "execution_count": 36,
     "metadata": {},
     "output_type": "execute_result"
    }
   ],
   "source": [
    "# Calculate the amount of minutes spent by each user per month. Save the result.\n",
    "minutes_per_month = calls_df.groupby(['user_id', 'year', 'month']).agg({'duration': 'sum'}).reset_index()\n",
    "minutes_per_month.columns = ['user_id', 'year', 'month', 'minutes_sum']\n",
    "\n",
    "minutes_per_month\n"
   ]
  },
  {
   "cell_type": "code",
   "execution_count": 37,
   "metadata": {},
   "outputs": [
    {
     "data": {
      "text/html": [
       "<div>\n",
       "<style scoped>\n",
       "    .dataframe tbody tr th:only-of-type {\n",
       "        vertical-align: middle;\n",
       "    }\n",
       "\n",
       "    .dataframe tbody tr th {\n",
       "        vertical-align: top;\n",
       "    }\n",
       "\n",
       "    .dataframe thead th {\n",
       "        text-align: right;\n",
       "    }\n",
       "</style>\n",
       "<table border=\"1\" class=\"dataframe\">\n",
       "  <thead>\n",
       "    <tr style=\"text-align: right;\">\n",
       "      <th></th>\n",
       "      <th>user_id</th>\n",
       "      <th>year</th>\n",
       "      <th>month</th>\n",
       "      <th>messages_count</th>\n",
       "    </tr>\n",
       "  </thead>\n",
       "  <tbody>\n",
       "    <tr>\n",
       "      <th>0</th>\n",
       "      <td>1000</td>\n",
       "      <td>2018</td>\n",
       "      <td>12</td>\n",
       "      <td>11</td>\n",
       "    </tr>\n",
       "    <tr>\n",
       "      <th>1</th>\n",
       "      <td>1001</td>\n",
       "      <td>2018</td>\n",
       "      <td>8</td>\n",
       "      <td>30</td>\n",
       "    </tr>\n",
       "    <tr>\n",
       "      <th>2</th>\n",
       "      <td>1001</td>\n",
       "      <td>2018</td>\n",
       "      <td>9</td>\n",
       "      <td>44</td>\n",
       "    </tr>\n",
       "    <tr>\n",
       "      <th>3</th>\n",
       "      <td>1001</td>\n",
       "      <td>2018</td>\n",
       "      <td>10</td>\n",
       "      <td>53</td>\n",
       "    </tr>\n",
       "    <tr>\n",
       "      <th>4</th>\n",
       "      <td>1001</td>\n",
       "      <td>2018</td>\n",
       "      <td>11</td>\n",
       "      <td>36</td>\n",
       "    </tr>\n",
       "    <tr>\n",
       "      <th>...</th>\n",
       "      <td>...</td>\n",
       "      <td>...</td>\n",
       "      <td>...</td>\n",
       "      <td>...</td>\n",
       "    </tr>\n",
       "    <tr>\n",
       "      <th>1801</th>\n",
       "      <td>1496</td>\n",
       "      <td>2018</td>\n",
       "      <td>9</td>\n",
       "      <td>21</td>\n",
       "    </tr>\n",
       "    <tr>\n",
       "      <th>1802</th>\n",
       "      <td>1496</td>\n",
       "      <td>2018</td>\n",
       "      <td>10</td>\n",
       "      <td>18</td>\n",
       "    </tr>\n",
       "    <tr>\n",
       "      <th>1803</th>\n",
       "      <td>1496</td>\n",
       "      <td>2018</td>\n",
       "      <td>11</td>\n",
       "      <td>13</td>\n",
       "    </tr>\n",
       "    <tr>\n",
       "      <th>1804</th>\n",
       "      <td>1496</td>\n",
       "      <td>2018</td>\n",
       "      <td>12</td>\n",
       "      <td>11</td>\n",
       "    </tr>\n",
       "    <tr>\n",
       "      <th>1805</th>\n",
       "      <td>1497</td>\n",
       "      <td>2018</td>\n",
       "      <td>12</td>\n",
       "      <td>50</td>\n",
       "    </tr>\n",
       "  </tbody>\n",
       "</table>\n",
       "<p>1806 rows × 4 columns</p>\n",
       "</div>"
      ],
      "text/plain": [
       "      user_id  year  month  messages_count\n",
       "0        1000  2018     12              11\n",
       "1        1001  2018      8              30\n",
       "2        1001  2018      9              44\n",
       "3        1001  2018     10              53\n",
       "4        1001  2018     11              36\n",
       "...       ...   ...    ...             ...\n",
       "1801     1496  2018      9              21\n",
       "1802     1496  2018     10              18\n",
       "1803     1496  2018     11              13\n",
       "1804     1496  2018     12              11\n",
       "1805     1497  2018     12              50\n",
       "\n",
       "[1806 rows x 4 columns]"
      ]
     },
     "execution_count": 37,
     "metadata": {},
     "output_type": "execute_result"
    }
   ],
   "source": [
    "# Calculate the number of messages sent by each user per month. Save the result.\n",
    "messages_df['month'] = messages_df['message_date'].dt.month\n",
    "messages_df['year'] = messages_df['message_date'].dt.year\n",
    "\n",
    "messages_per_month = messages_df.groupby(['user_id', 'year', 'month']).agg({'id': 'count'}).reset_index()\n",
    "messages_per_month.columns = ['user_id', 'year', 'month', 'messages_count']\n",
    "\n",
    "messages_per_month"
   ]
  },
  {
   "cell_type": "code",
   "execution_count": 38,
   "metadata": {},
   "outputs": [
    {
     "data": {
      "text/html": [
       "<div>\n",
       "<style scoped>\n",
       "    .dataframe tbody tr th:only-of-type {\n",
       "        vertical-align: middle;\n",
       "    }\n",
       "\n",
       "    .dataframe tbody tr th {\n",
       "        vertical-align: top;\n",
       "    }\n",
       "\n",
       "    .dataframe thead th {\n",
       "        text-align: right;\n",
       "    }\n",
       "</style>\n",
       "<table border=\"1\" class=\"dataframe\">\n",
       "  <thead>\n",
       "    <tr style=\"text-align: right;\">\n",
       "      <th></th>\n",
       "      <th>user_id</th>\n",
       "      <th>year</th>\n",
       "      <th>month</th>\n",
       "      <th>mb_used_sum</th>\n",
       "    </tr>\n",
       "  </thead>\n",
       "  <tbody>\n",
       "    <tr>\n",
       "      <th>0</th>\n",
       "      <td>1000</td>\n",
       "      <td>2018</td>\n",
       "      <td>12</td>\n",
       "      <td>1901.47</td>\n",
       "    </tr>\n",
       "    <tr>\n",
       "      <th>1</th>\n",
       "      <td>1001</td>\n",
       "      <td>2018</td>\n",
       "      <td>8</td>\n",
       "      <td>6919.15</td>\n",
       "    </tr>\n",
       "    <tr>\n",
       "      <th>2</th>\n",
       "      <td>1001</td>\n",
       "      <td>2018</td>\n",
       "      <td>9</td>\n",
       "      <td>13314.82</td>\n",
       "    </tr>\n",
       "    <tr>\n",
       "      <th>3</th>\n",
       "      <td>1001</td>\n",
       "      <td>2018</td>\n",
       "      <td>10</td>\n",
       "      <td>22330.49</td>\n",
       "    </tr>\n",
       "    <tr>\n",
       "      <th>4</th>\n",
       "      <td>1001</td>\n",
       "      <td>2018</td>\n",
       "      <td>11</td>\n",
       "      <td>18504.30</td>\n",
       "    </tr>\n",
       "    <tr>\n",
       "      <th>...</th>\n",
       "      <td>...</td>\n",
       "      <td>...</td>\n",
       "      <td>...</td>\n",
       "      <td>...</td>\n",
       "    </tr>\n",
       "    <tr>\n",
       "      <th>2272</th>\n",
       "      <td>1498</td>\n",
       "      <td>2018</td>\n",
       "      <td>12</td>\n",
       "      <td>23137.69</td>\n",
       "    </tr>\n",
       "    <tr>\n",
       "      <th>2273</th>\n",
       "      <td>1499</td>\n",
       "      <td>2018</td>\n",
       "      <td>9</td>\n",
       "      <td>12984.76</td>\n",
       "    </tr>\n",
       "    <tr>\n",
       "      <th>2274</th>\n",
       "      <td>1499</td>\n",
       "      <td>2018</td>\n",
       "      <td>10</td>\n",
       "      <td>19492.43</td>\n",
       "    </tr>\n",
       "    <tr>\n",
       "      <th>2275</th>\n",
       "      <td>1499</td>\n",
       "      <td>2018</td>\n",
       "      <td>11</td>\n",
       "      <td>16813.83</td>\n",
       "    </tr>\n",
       "    <tr>\n",
       "      <th>2276</th>\n",
       "      <td>1499</td>\n",
       "      <td>2018</td>\n",
       "      <td>12</td>\n",
       "      <td>22059.21</td>\n",
       "    </tr>\n",
       "  </tbody>\n",
       "</table>\n",
       "<p>2277 rows × 4 columns</p>\n",
       "</div>"
      ],
      "text/plain": [
       "      user_id  year  month  mb_used_sum\n",
       "0        1000  2018     12      1901.47\n",
       "1        1001  2018      8      6919.15\n",
       "2        1001  2018      9     13314.82\n",
       "3        1001  2018     10     22330.49\n",
       "4        1001  2018     11     18504.30\n",
       "...       ...   ...    ...          ...\n",
       "2272     1498  2018     12     23137.69\n",
       "2273     1499  2018      9     12984.76\n",
       "2274     1499  2018     10     19492.43\n",
       "2275     1499  2018     11     16813.83\n",
       "2276     1499  2018     12     22059.21\n",
       "\n",
       "[2277 rows x 4 columns]"
      ]
     },
     "execution_count": 38,
     "metadata": {},
     "output_type": "execute_result"
    }
   ],
   "source": [
    "# Calculate the volume of internet traffic used by each user per month. Save the result.\n",
    "internet_df['month'] = internet_df['session_date'].dt.month\n",
    "internet_df['year'] = internet_df['session_date'].dt.year\n",
    "\n",
    "internet_per_month = internet_df.groupby(['user_id', 'year', 'month']).agg({'mb_used': 'sum'}).reset_index()\n",
    "internet_per_month.columns = ['user_id', 'year', 'month', 'mb_used_sum']\n",
    "\n",
    "internet_per_month"
   ]
  },
  {
   "cell_type": "code",
   "execution_count": 39,
   "metadata": {},
   "outputs": [
    {
     "data": {
      "text/html": [
       "<div>\n",
       "<style scoped>\n",
       "    .dataframe tbody tr th:only-of-type {\n",
       "        vertical-align: middle;\n",
       "    }\n",
       "\n",
       "    .dataframe tbody tr th {\n",
       "        vertical-align: top;\n",
       "    }\n",
       "\n",
       "    .dataframe thead th {\n",
       "        text-align: right;\n",
       "    }\n",
       "</style>\n",
       "<table border=\"1\" class=\"dataframe\">\n",
       "  <thead>\n",
       "    <tr style=\"text-align: right;\">\n",
       "      <th></th>\n",
       "      <th>user_id</th>\n",
       "      <th>year</th>\n",
       "      <th>month</th>\n",
       "      <th>calls_count</th>\n",
       "      <th>minutes_sum</th>\n",
       "      <th>messages_count</th>\n",
       "      <th>mb_used_sum</th>\n",
       "    </tr>\n",
       "  </thead>\n",
       "  <tbody>\n",
       "    <tr>\n",
       "      <th>0</th>\n",
       "      <td>1000</td>\n",
       "      <td>2018</td>\n",
       "      <td>12</td>\n",
       "      <td>16.0</td>\n",
       "      <td>124.0</td>\n",
       "      <td>11.0</td>\n",
       "      <td>1901.47</td>\n",
       "    </tr>\n",
       "    <tr>\n",
       "      <th>1</th>\n",
       "      <td>1001</td>\n",
       "      <td>2018</td>\n",
       "      <td>8</td>\n",
       "      <td>27.0</td>\n",
       "      <td>182.0</td>\n",
       "      <td>30.0</td>\n",
       "      <td>6919.15</td>\n",
       "    </tr>\n",
       "    <tr>\n",
       "      <th>2</th>\n",
       "      <td>1001</td>\n",
       "      <td>2018</td>\n",
       "      <td>9</td>\n",
       "      <td>49.0</td>\n",
       "      <td>315.0</td>\n",
       "      <td>44.0</td>\n",
       "      <td>13314.82</td>\n",
       "    </tr>\n",
       "    <tr>\n",
       "      <th>3</th>\n",
       "      <td>1001</td>\n",
       "      <td>2018</td>\n",
       "      <td>10</td>\n",
       "      <td>65.0</td>\n",
       "      <td>393.0</td>\n",
       "      <td>53.0</td>\n",
       "      <td>22330.49</td>\n",
       "    </tr>\n",
       "    <tr>\n",
       "      <th>4</th>\n",
       "      <td>1001</td>\n",
       "      <td>2018</td>\n",
       "      <td>11</td>\n",
       "      <td>64.0</td>\n",
       "      <td>426.0</td>\n",
       "      <td>36.0</td>\n",
       "      <td>18504.30</td>\n",
       "    </tr>\n",
       "    <tr>\n",
       "      <th>...</th>\n",
       "      <td>...</td>\n",
       "      <td>...</td>\n",
       "      <td>...</td>\n",
       "      <td>...</td>\n",
       "      <td>...</td>\n",
       "      <td>...</td>\n",
       "      <td>...</td>\n",
       "    </tr>\n",
       "    <tr>\n",
       "      <th>2288</th>\n",
       "      <td>1349</td>\n",
       "      <td>2018</td>\n",
       "      <td>12</td>\n",
       "      <td>0.0</td>\n",
       "      <td>0.0</td>\n",
       "      <td>61.0</td>\n",
       "      <td>13039.91</td>\n",
       "    </tr>\n",
       "    <tr>\n",
       "      <th>2289</th>\n",
       "      <td>1361</td>\n",
       "      <td>2018</td>\n",
       "      <td>5</td>\n",
       "      <td>0.0</td>\n",
       "      <td>0.0</td>\n",
       "      <td>2.0</td>\n",
       "      <td>1519.69</td>\n",
       "    </tr>\n",
       "    <tr>\n",
       "      <th>2290</th>\n",
       "      <td>1482</td>\n",
       "      <td>2018</td>\n",
       "      <td>10</td>\n",
       "      <td>0.0</td>\n",
       "      <td>0.0</td>\n",
       "      <td>2.0</td>\n",
       "      <td>0.00</td>\n",
       "    </tr>\n",
       "    <tr>\n",
       "      <th>2291</th>\n",
       "      <td>1108</td>\n",
       "      <td>2018</td>\n",
       "      <td>12</td>\n",
       "      <td>0.0</td>\n",
       "      <td>0.0</td>\n",
       "      <td>0.0</td>\n",
       "      <td>233.17</td>\n",
       "    </tr>\n",
       "    <tr>\n",
       "      <th>2292</th>\n",
       "      <td>1311</td>\n",
       "      <td>2018</td>\n",
       "      <td>6</td>\n",
       "      <td>0.0</td>\n",
       "      <td>0.0</td>\n",
       "      <td>0.0</td>\n",
       "      <td>1498.83</td>\n",
       "    </tr>\n",
       "  </tbody>\n",
       "</table>\n",
       "<p>2293 rows × 7 columns</p>\n",
       "</div>"
      ],
      "text/plain": [
       "      user_id  year  month  calls_count  minutes_sum  messages_count  \\\n",
       "0        1000  2018     12         16.0        124.0            11.0   \n",
       "1        1001  2018      8         27.0        182.0            30.0   \n",
       "2        1001  2018      9         49.0        315.0            44.0   \n",
       "3        1001  2018     10         65.0        393.0            53.0   \n",
       "4        1001  2018     11         64.0        426.0            36.0   \n",
       "...       ...   ...    ...          ...          ...             ...   \n",
       "2288     1349  2018     12          0.0          0.0            61.0   \n",
       "2289     1361  2018      5          0.0          0.0             2.0   \n",
       "2290     1482  2018     10          0.0          0.0             2.0   \n",
       "2291     1108  2018     12          0.0          0.0             0.0   \n",
       "2292     1311  2018      6          0.0          0.0             0.0   \n",
       "\n",
       "      mb_used_sum  \n",
       "0         1901.47  \n",
       "1         6919.15  \n",
       "2        13314.82  \n",
       "3        22330.49  \n",
       "4        18504.30  \n",
       "...           ...  \n",
       "2288     13039.91  \n",
       "2289      1519.69  \n",
       "2290         0.00  \n",
       "2291       233.17  \n",
       "2292      1498.83  \n",
       "\n",
       "[2293 rows x 7 columns]"
      ]
     },
     "execution_count": 39,
     "metadata": {},
     "output_type": "execute_result"
    }
   ],
   "source": [
    "# Merge the data for calls, minutes, messages, internet based on user_id and month\n",
    "aggregate_data = calls_per_month.merge(minutes_per_month, on=['user_id', 'year', 'month'], how='outer') \\\n",
    "                                .merge(messages_per_month, on=['user_id', 'year', 'month'], how='outer') \\\n",
    "                                .merge(internet_per_month, on=['user_id', 'year', 'month'], how='outer')\n",
    "\n",
    "# Fill NaN values with 0\n",
    "aggregate_data.fillna(0, inplace=True)\n",
    "\n",
    "aggregate_data\n"
   ]
  },
  {
   "cell_type": "code",
   "execution_count": 40,
   "metadata": {},
   "outputs": [
    {
     "data": {
      "text/html": [
       "<div>\n",
       "<style scoped>\n",
       "    .dataframe tbody tr th:only-of-type {\n",
       "        vertical-align: middle;\n",
       "    }\n",
       "\n",
       "    .dataframe tbody tr th {\n",
       "        vertical-align: top;\n",
       "    }\n",
       "\n",
       "    .dataframe thead th {\n",
       "        text-align: right;\n",
       "    }\n",
       "</style>\n",
       "<table border=\"1\" class=\"dataframe\">\n",
       "  <thead>\n",
       "    <tr style=\"text-align: right;\">\n",
       "      <th></th>\n",
       "      <th>user_id</th>\n",
       "      <th>year</th>\n",
       "      <th>month</th>\n",
       "      <th>calls_count</th>\n",
       "      <th>minutes_sum</th>\n",
       "      <th>messages_count</th>\n",
       "      <th>mb_used_sum</th>\n",
       "      <th>plan</th>\n",
       "    </tr>\n",
       "  </thead>\n",
       "  <tbody>\n",
       "    <tr>\n",
       "      <th>0</th>\n",
       "      <td>1000</td>\n",
       "      <td>2018</td>\n",
       "      <td>12</td>\n",
       "      <td>16.0</td>\n",
       "      <td>124.0</td>\n",
       "      <td>11.0</td>\n",
       "      <td>1901.47</td>\n",
       "      <td>ultimate</td>\n",
       "    </tr>\n",
       "    <tr>\n",
       "      <th>1</th>\n",
       "      <td>1001</td>\n",
       "      <td>2018</td>\n",
       "      <td>8</td>\n",
       "      <td>27.0</td>\n",
       "      <td>182.0</td>\n",
       "      <td>30.0</td>\n",
       "      <td>6919.15</td>\n",
       "      <td>surf</td>\n",
       "    </tr>\n",
       "    <tr>\n",
       "      <th>2</th>\n",
       "      <td>1001</td>\n",
       "      <td>2018</td>\n",
       "      <td>9</td>\n",
       "      <td>49.0</td>\n",
       "      <td>315.0</td>\n",
       "      <td>44.0</td>\n",
       "      <td>13314.82</td>\n",
       "      <td>surf</td>\n",
       "    </tr>\n",
       "    <tr>\n",
       "      <th>3</th>\n",
       "      <td>1001</td>\n",
       "      <td>2018</td>\n",
       "      <td>10</td>\n",
       "      <td>65.0</td>\n",
       "      <td>393.0</td>\n",
       "      <td>53.0</td>\n",
       "      <td>22330.49</td>\n",
       "      <td>surf</td>\n",
       "    </tr>\n",
       "    <tr>\n",
       "      <th>4</th>\n",
       "      <td>1001</td>\n",
       "      <td>2018</td>\n",
       "      <td>11</td>\n",
       "      <td>64.0</td>\n",
       "      <td>426.0</td>\n",
       "      <td>36.0</td>\n",
       "      <td>18504.30</td>\n",
       "      <td>surf</td>\n",
       "    </tr>\n",
       "    <tr>\n",
       "      <th>...</th>\n",
       "      <td>...</td>\n",
       "      <td>...</td>\n",
       "      <td>...</td>\n",
       "      <td>...</td>\n",
       "      <td>...</td>\n",
       "      <td>...</td>\n",
       "      <td>...</td>\n",
       "      <td>...</td>\n",
       "    </tr>\n",
       "    <tr>\n",
       "      <th>2288</th>\n",
       "      <td>1349</td>\n",
       "      <td>2018</td>\n",
       "      <td>12</td>\n",
       "      <td>0.0</td>\n",
       "      <td>0.0</td>\n",
       "      <td>61.0</td>\n",
       "      <td>13039.91</td>\n",
       "      <td>surf</td>\n",
       "    </tr>\n",
       "    <tr>\n",
       "      <th>2289</th>\n",
       "      <td>1361</td>\n",
       "      <td>2018</td>\n",
       "      <td>5</td>\n",
       "      <td>0.0</td>\n",
       "      <td>0.0</td>\n",
       "      <td>2.0</td>\n",
       "      <td>1519.69</td>\n",
       "      <td>surf</td>\n",
       "    </tr>\n",
       "    <tr>\n",
       "      <th>2290</th>\n",
       "      <td>1482</td>\n",
       "      <td>2018</td>\n",
       "      <td>10</td>\n",
       "      <td>0.0</td>\n",
       "      <td>0.0</td>\n",
       "      <td>2.0</td>\n",
       "      <td>0.00</td>\n",
       "      <td>ultimate</td>\n",
       "    </tr>\n",
       "    <tr>\n",
       "      <th>2291</th>\n",
       "      <td>1108</td>\n",
       "      <td>2018</td>\n",
       "      <td>12</td>\n",
       "      <td>0.0</td>\n",
       "      <td>0.0</td>\n",
       "      <td>0.0</td>\n",
       "      <td>233.17</td>\n",
       "      <td>ultimate</td>\n",
       "    </tr>\n",
       "    <tr>\n",
       "      <th>2292</th>\n",
       "      <td>1311</td>\n",
       "      <td>2018</td>\n",
       "      <td>6</td>\n",
       "      <td>0.0</td>\n",
       "      <td>0.0</td>\n",
       "      <td>0.0</td>\n",
       "      <td>1498.83</td>\n",
       "      <td>ultimate</td>\n",
       "    </tr>\n",
       "  </tbody>\n",
       "</table>\n",
       "<p>2293 rows × 8 columns</p>\n",
       "</div>"
      ],
      "text/plain": [
       "      user_id  year  month  calls_count  minutes_sum  messages_count  \\\n",
       "0        1000  2018     12         16.0        124.0            11.0   \n",
       "1        1001  2018      8         27.0        182.0            30.0   \n",
       "2        1001  2018      9         49.0        315.0            44.0   \n",
       "3        1001  2018     10         65.0        393.0            53.0   \n",
       "4        1001  2018     11         64.0        426.0            36.0   \n",
       "...       ...   ...    ...          ...          ...             ...   \n",
       "2288     1349  2018     12          0.0          0.0            61.0   \n",
       "2289     1361  2018      5          0.0          0.0             2.0   \n",
       "2290     1482  2018     10          0.0          0.0             2.0   \n",
       "2291     1108  2018     12          0.0          0.0             0.0   \n",
       "2292     1311  2018      6          0.0          0.0             0.0   \n",
       "\n",
       "      mb_used_sum      plan  \n",
       "0         1901.47  ultimate  \n",
       "1         6919.15      surf  \n",
       "2        13314.82      surf  \n",
       "3        22330.49      surf  \n",
       "4        18504.30      surf  \n",
       "...           ...       ...  \n",
       "2288     13039.91      surf  \n",
       "2289      1519.69      surf  \n",
       "2290         0.00  ultimate  \n",
       "2291       233.17  ultimate  \n",
       "2292      1498.83  ultimate  \n",
       "\n",
       "[2293 rows x 8 columns]"
      ]
     },
     "execution_count": 40,
     "metadata": {},
     "output_type": "execute_result"
    }
   ],
   "source": [
    "# Add the plan information\n",
    "user_data = users_df[['user_id', 'plan']]\n",
    "aggregate_data = aggregate_data.merge(user_data, on='user_id', how='left')\n",
    "\n",
    "aggregate_data\n"
   ]
  },
  {
   "cell_type": "code",
   "execution_count": 41,
   "metadata": {},
   "outputs": [
    {
     "data": {
      "text/html": [
       "<div>\n",
       "<style scoped>\n",
       "    .dataframe tbody tr th:only-of-type {\n",
       "        vertical-align: middle;\n",
       "    }\n",
       "\n",
       "    .dataframe tbody tr th {\n",
       "        vertical-align: top;\n",
       "    }\n",
       "\n",
       "    .dataframe thead th {\n",
       "        text-align: right;\n",
       "    }\n",
       "</style>\n",
       "<table border=\"1\" class=\"dataframe\">\n",
       "  <thead>\n",
       "    <tr style=\"text-align: right;\">\n",
       "      <th></th>\n",
       "      <th>user_id</th>\n",
       "      <th>year</th>\n",
       "      <th>month</th>\n",
       "      <th>calls_count</th>\n",
       "      <th>minutes_sum</th>\n",
       "      <th>messages_count</th>\n",
       "      <th>mb_used_sum</th>\n",
       "      <th>plan</th>\n",
       "      <th>revenue</th>\n",
       "    </tr>\n",
       "  </thead>\n",
       "  <tbody>\n",
       "    <tr>\n",
       "      <th>0</th>\n",
       "      <td>1000</td>\n",
       "      <td>2018</td>\n",
       "      <td>12</td>\n",
       "      <td>16.0</td>\n",
       "      <td>124.0</td>\n",
       "      <td>11.0</td>\n",
       "      <td>1901.47</td>\n",
       "      <td>ultimate</td>\n",
       "      <td>70.000000</td>\n",
       "    </tr>\n",
       "    <tr>\n",
       "      <th>1</th>\n",
       "      <td>1001</td>\n",
       "      <td>2018</td>\n",
       "      <td>8</td>\n",
       "      <td>27.0</td>\n",
       "      <td>182.0</td>\n",
       "      <td>30.0</td>\n",
       "      <td>6919.15</td>\n",
       "      <td>surf</td>\n",
       "      <td>20.000000</td>\n",
       "    </tr>\n",
       "    <tr>\n",
       "      <th>2</th>\n",
       "      <td>1001</td>\n",
       "      <td>2018</td>\n",
       "      <td>9</td>\n",
       "      <td>49.0</td>\n",
       "      <td>315.0</td>\n",
       "      <td>44.0</td>\n",
       "      <td>13314.82</td>\n",
       "      <td>surf</td>\n",
       "      <td>20.000000</td>\n",
       "    </tr>\n",
       "    <tr>\n",
       "      <th>3</th>\n",
       "      <td>1001</td>\n",
       "      <td>2018</td>\n",
       "      <td>10</td>\n",
       "      <td>65.0</td>\n",
       "      <td>393.0</td>\n",
       "      <td>53.0</td>\n",
       "      <td>22330.49</td>\n",
       "      <td>surf</td>\n",
       "      <td>88.161191</td>\n",
       "    </tr>\n",
       "    <tr>\n",
       "      <th>4</th>\n",
       "      <td>1001</td>\n",
       "      <td>2018</td>\n",
       "      <td>11</td>\n",
       "      <td>64.0</td>\n",
       "      <td>426.0</td>\n",
       "      <td>36.0</td>\n",
       "      <td>18504.30</td>\n",
       "      <td>surf</td>\n",
       "      <td>50.706055</td>\n",
       "    </tr>\n",
       "    <tr>\n",
       "      <th>...</th>\n",
       "      <td>...</td>\n",
       "      <td>...</td>\n",
       "      <td>...</td>\n",
       "      <td>...</td>\n",
       "      <td>...</td>\n",
       "      <td>...</td>\n",
       "      <td>...</td>\n",
       "      <td>...</td>\n",
       "      <td>...</td>\n",
       "    </tr>\n",
       "    <tr>\n",
       "      <th>2288</th>\n",
       "      <td>1349</td>\n",
       "      <td>2018</td>\n",
       "      <td>12</td>\n",
       "      <td>0.0</td>\n",
       "      <td>0.0</td>\n",
       "      <td>61.0</td>\n",
       "      <td>13039.91</td>\n",
       "      <td>surf</td>\n",
       "      <td>20.330000</td>\n",
       "    </tr>\n",
       "    <tr>\n",
       "      <th>2289</th>\n",
       "      <td>1361</td>\n",
       "      <td>2018</td>\n",
       "      <td>5</td>\n",
       "      <td>0.0</td>\n",
       "      <td>0.0</td>\n",
       "      <td>2.0</td>\n",
       "      <td>1519.69</td>\n",
       "      <td>surf</td>\n",
       "      <td>20.000000</td>\n",
       "    </tr>\n",
       "    <tr>\n",
       "      <th>2290</th>\n",
       "      <td>1482</td>\n",
       "      <td>2018</td>\n",
       "      <td>10</td>\n",
       "      <td>0.0</td>\n",
       "      <td>0.0</td>\n",
       "      <td>2.0</td>\n",
       "      <td>0.00</td>\n",
       "      <td>ultimate</td>\n",
       "      <td>70.000000</td>\n",
       "    </tr>\n",
       "    <tr>\n",
       "      <th>2291</th>\n",
       "      <td>1108</td>\n",
       "      <td>2018</td>\n",
       "      <td>12</td>\n",
       "      <td>0.0</td>\n",
       "      <td>0.0</td>\n",
       "      <td>0.0</td>\n",
       "      <td>233.17</td>\n",
       "      <td>ultimate</td>\n",
       "      <td>70.000000</td>\n",
       "    </tr>\n",
       "    <tr>\n",
       "      <th>2292</th>\n",
       "      <td>1311</td>\n",
       "      <td>2018</td>\n",
       "      <td>6</td>\n",
       "      <td>0.0</td>\n",
       "      <td>0.0</td>\n",
       "      <td>0.0</td>\n",
       "      <td>1498.83</td>\n",
       "      <td>ultimate</td>\n",
       "      <td>70.000000</td>\n",
       "    </tr>\n",
       "  </tbody>\n",
       "</table>\n",
       "<p>2293 rows × 9 columns</p>\n",
       "</div>"
      ],
      "text/plain": [
       "      user_id  year  month  calls_count  minutes_sum  messages_count  \\\n",
       "0        1000  2018     12         16.0        124.0            11.0   \n",
       "1        1001  2018      8         27.0        182.0            30.0   \n",
       "2        1001  2018      9         49.0        315.0            44.0   \n",
       "3        1001  2018     10         65.0        393.0            53.0   \n",
       "4        1001  2018     11         64.0        426.0            36.0   \n",
       "...       ...   ...    ...          ...          ...             ...   \n",
       "2288     1349  2018     12          0.0          0.0            61.0   \n",
       "2289     1361  2018      5          0.0          0.0             2.0   \n",
       "2290     1482  2018     10          0.0          0.0             2.0   \n",
       "2291     1108  2018     12          0.0          0.0             0.0   \n",
       "2292     1311  2018      6          0.0          0.0             0.0   \n",
       "\n",
       "      mb_used_sum      plan    revenue  \n",
       "0         1901.47  ultimate  70.000000  \n",
       "1         6919.15      surf  20.000000  \n",
       "2        13314.82      surf  20.000000  \n",
       "3        22330.49      surf  88.161191  \n",
       "4        18504.30      surf  50.706055  \n",
       "...           ...       ...        ...  \n",
       "2288     13039.91      surf  20.330000  \n",
       "2289      1519.69      surf  20.000000  \n",
       "2290         0.00  ultimate  70.000000  \n",
       "2291       233.17  ultimate  70.000000  \n",
       "2292      1498.83  ultimate  70.000000  \n",
       "\n",
       "[2293 rows x 9 columns]"
      ]
     },
     "execution_count": 41,
     "metadata": {},
     "output_type": "execute_result"
    }
   ],
   "source": [
    "# Calculate the monthly revenue for each user\n",
    "\n",
    "# Ensure the plans dataframe is correctly defined\n",
    "plans_df = pd.DataFrame({\n",
    "    'plan_name': ['surf', 'ultimate'],\n",
    "    'messages_included': [50, 1000],\n",
    "    'mb_per_month_included': [15360, 30720],  # 15360 MB = 15 GB, 30720 MB = 30 GB\n",
    "    'minutes_included': [500, 3000],\n",
    "    'usd_monthly_pay': [20, 70],\n",
    "    'usd_per_gb': [10, 7],\n",
    "    'usd_per_message': [0.03, 0.01],\n",
    "    'usd_per_minute': [0.03, 0.01]\n",
    "})\n",
    "\n",
    "# Define the function to calculate revenue per user per month\n",
    "def calculate_revenue(row):\n",
    "    revenue = 0\n",
    "    \n",
    "    plan = row['plan']\n",
    "    minutes_sum = row['minutes_sum']\n",
    "    messages_count = row['messages_count']\n",
    "    mb_used_sum = row['mb_used_sum']\n",
    "    \n",
    "    plan_details = plans_df[plans_df['plan_name'] == plan].iloc[0]\n",
    "    extra_minutes = max(0, minutes_sum - plan_details['minutes_included'])\n",
    "    extra_messages = max(0, messages_count - plan_details['messages_included'])\n",
    "    extra_gb = max(0, (mb_used_sum / 1024) - (plan_details['mb_per_month_included'] / 1024))\n",
    "    \n",
    "    extra_minutes_charge = extra_minutes * plan_details['usd_per_minute']\n",
    "    extra_messages_charge = extra_messages * plan_details['usd_per_message']\n",
    "    extra_data_charge = extra_gb * plan_details['usd_per_gb']\n",
    "    \n",
    "    revenue = plan_details['usd_monthly_pay'] + extra_minutes_charge + extra_messages_charge + extra_data_charge\n",
    "    return revenue\n",
    "\n",
    "# Apply the revenue calculation function to the aggregate data\n",
    "aggregate_data['revenue'] = aggregate_data.apply(calculate_revenue, axis=1)\n",
    "\n",
    "# Display the updated aggregate_data dataframe\n",
    "aggregate_data"
   ]
  },
  {
   "cell_type": "markdown",
   "metadata": {},
   "source": [
    "## Study user behaviour"
   ]
  },
  {
   "cell_type": "markdown",
   "metadata": {},
   "source": [
    "### Calls"
   ]
  },
  {
   "cell_type": "code",
   "execution_count": 42,
   "metadata": {},
   "outputs": [
    {
     "data": {
      "image/png": "[encoded data removed]",
      "text/plain": [
       "<Figure size 1200x600 with 1 Axes>"
      ]
     },
     "metadata": {},
     "output_type": "display_data"
    }
   ],
   "source": [
    "# Compare average duration of calls per each plan per each distinct month. Plot a bar plat to visualize it.\n",
    "average_duration_calls = aggregate_data.groupby(['plan', 'year', 'month']).agg({'minutes_sum': 'mean'}).reset_index()\n",
    "\n",
    "# Plot a bar plot to visualize average call duration per plan per month\n",
    "plt.figure(figsize=(12, 6))\n",
    "for plan in average_duration_calls['plan'].unique():\n",
    "    plan_data = average_duration_calls[average_duration_calls['plan'] == plan]\n",
    "    plt.bar(plan_data['month'] + (0.25 if plan == 'ultimate' else -0.25), plan_data['minutes_sum'], width=0.4, label=plan)\n",
    "plt.xlabel('Month')\n",
    "plt.ylabel('Average Call Duration (Minutes)')\n",
    "plt.title('Average Call Duration per Month by Plan')\n",
    "plt.legend()\n",
    "plt.show()\n",
    "\n"
   ]
  },
  {
   "cell_type": "code",
   "execution_count": 43,
   "metadata": {
    "scrolled": true
   },
   "outputs": [
    {
     "data": {
      "image/png": "[encoded data removed]",
      "text/plain": [
       "<Figure size 1200x600 with 1 Axes>"
      ]
     },
     "metadata": {},
     "output_type": "display_data"
    }
   ],
   "source": [
    "# Compare the number of minutes users of each plan require each month. Plot a histogram.\n",
    "plt.figure(figsize=(12, 6))\n",
    "for plan in aggregate_data['plan'].unique():\n",
    "    plan_data = aggregate_data[aggregate_data['plan'] == plan]\n",
    "    plt.hist(plan_data['minutes_sum'], bins=30, alpha=0.5, label=plan)\n",
    "plt.xlabel('Minutes Used per Month')\n",
    "plt.ylabel('Frequency')\n",
    "plt.title('Distribution of Monthly Minutes Used by Plan')\n",
    "plt.legend()\n",
    "plt.show()\n"
   ]
  },
  {
   "cell_type": "code",
   "execution_count": 44,
   "metadata": {},
   "outputs": [
    {
     "data": {
      "text/html": [
       "<div>\n",
       "<style scoped>\n",
       "    .dataframe tbody tr th:only-of-type {\n",
       "        vertical-align: middle;\n",
       "    }\n",
       "\n",
       "    .dataframe tbody tr th {\n",
       "        vertical-align: top;\n",
       "    }\n",
       "\n",
       "    .dataframe thead th {\n",
       "        text-align: right;\n",
       "    }\n",
       "</style>\n",
       "<table border=\"1\" class=\"dataframe\">\n",
       "  <thead>\n",
       "    <tr style=\"text-align: right;\">\n",
       "      <th></th>\n",
       "      <th>plan</th>\n",
       "      <th>mean</th>\n",
       "      <th>var</th>\n",
       "    </tr>\n",
       "  </thead>\n",
       "  <tbody>\n",
       "    <tr>\n",
       "      <th>0</th>\n",
       "      <td>surf</td>\n",
       "      <td>428.749523</td>\n",
       "      <td>54968.279461</td>\n",
       "    </tr>\n",
       "    <tr>\n",
       "      <th>1</th>\n",
       "      <td>ultimate</td>\n",
       "      <td>430.450000</td>\n",
       "      <td>57844.464812</td>\n",
       "    </tr>\n",
       "  </tbody>\n",
       "</table>\n",
       "</div>"
      ],
      "text/plain": [
       "       plan        mean           var\n",
       "0      surf  428.749523  54968.279461\n",
       "1  ultimate  430.450000  57844.464812"
      ]
     },
     "execution_count": 44,
     "metadata": {},
     "output_type": "execute_result"
    }
   ],
   "source": [
    "# Calculate the mean and the variance of the monthly call duration\n",
    "\n",
    "call_stats = aggregate_data.groupby('plan')['minutes_sum'].agg(['mean', 'var']).reset_index()\n",
    "call_stats"
   ]
  },
  {
   "cell_type": "code",
   "execution_count": 45,
   "metadata": {},
   "outputs": [
    {
     "data": {
      "text/plain": [
       "<Figure size 1200x600 with 0 Axes>"
      ]
     },
     "metadata": {},
     "output_type": "display_data"
    },
    {
     "data": {
      "image/png": "[encoded data removed]",
      "text/plain": [
       "<Figure size 640x480 with 1 Axes>"
      ]
     },
     "metadata": {},
     "output_type": "display_data"
    }
   ],
   "source": [
    "# Plot a boxplot to visualize the distribution of the monthly call duration\n",
    "plt.figure(figsize=(12, 6))\n",
    "aggregate_data.boxplot(column='minutes_sum', by='plan')\n",
    "plt.title('Distribution of Monthly Call Duration by Plan')\n",
    "plt.suptitle('')\n",
    "plt.xlabel('Plan')\n",
    "plt.ylabel('Monthly Call Duration (Minutes)')\n",
    "plt.show()\n"
   ]
  },
  {
   "cell_type": "markdown",
   "metadata": {},
   "source": [
    "\n",
    "- Users on the Ultimate plan tend to have longer call durations on average compared to users on the Surf plan.\n",
    "- The distribution of monthly call duration indicates that Ultimate users are more consistent in their call usage."
   ]
  },
  {
   "cell_type": "markdown",
   "metadata": {},
   "source": [
    "### Messages"
   ]
  },
  {
   "cell_type": "code",
   "execution_count": 46,
   "metadata": {},
   "outputs": [
    {
     "data": {
      "image/png": "[encoded data removed]",
      "text/plain": [
       "<Figure size 1200x600 with 1 Axes>"
      ]
     },
     "metadata": {},
     "output_type": "display_data"
    }
   ],
   "source": [
    "# Compare the number of messages users of each plan tend to send each month\n",
    "average_messages = aggregate_data.groupby(['plan', 'year', 'month']).agg({'messages_count': 'mean'}).reset_index()\n",
    "\n",
    "# Plot a bar plot to visualize average number of messages per plan per month\n",
    "plt.figure(figsize=(12, 6))\n",
    "for plan in average_messages['plan'].unique():\n",
    "    plan_data = average_messages[average_messages['plan'] == plan]\n",
    "    plt.bar(plan_data['month'] + (0.25 if plan == 'ultimate' else -0.25), plan_data['messages_count'], width=0.4, label=plan)\n",
    "plt.xlabel('Month')\n",
    "plt.ylabel('Average Number of Messages')\n",
    "plt.title('Average Number of Messages per Month by Plan')\n",
    "plt.legend()\n",
    "plt.show()"
   ]
  },
  {
   "cell_type": "code",
   "execution_count": 47,
   "metadata": {},
   "outputs": [
    {
     "data": {
      "text/html": [
       "<div>\n",
       "<style scoped>\n",
       "    .dataframe tbody tr th:only-of-type {\n",
       "        vertical-align: middle;\n",
       "    }\n",
       "\n",
       "    .dataframe tbody tr th {\n",
       "        vertical-align: top;\n",
       "    }\n",
       "\n",
       "    .dataframe thead th {\n",
       "        text-align: right;\n",
       "    }\n",
       "</style>\n",
       "<table border=\"1\" class=\"dataframe\">\n",
       "  <thead>\n",
       "    <tr style=\"text-align: right;\">\n",
       "      <th></th>\n",
       "      <th>plan</th>\n",
       "      <th>mean</th>\n",
       "      <th>var</th>\n",
       "    </tr>\n",
       "  </thead>\n",
       "  <tbody>\n",
       "    <tr>\n",
       "      <th>0</th>\n",
       "      <td>surf</td>\n",
       "      <td>31.159568</td>\n",
       "      <td>1126.724522</td>\n",
       "    </tr>\n",
       "    <tr>\n",
       "      <th>1</th>\n",
       "      <td>ultimate</td>\n",
       "      <td>37.551389</td>\n",
       "      <td>1208.756744</td>\n",
       "    </tr>\n",
       "  </tbody>\n",
       "</table>\n",
       "</div>"
      ],
      "text/plain": [
       "       plan       mean          var\n",
       "0      surf  31.159568  1126.724522\n",
       "1  ultimate  37.551389  1208.756744"
      ]
     },
     "execution_count": 47,
     "metadata": {},
     "output_type": "execute_result"
    }
   ],
   "source": [
    "# Calculate the mean and the variance of the monthly messages count\n",
    "messages_stats = aggregate_data.groupby('plan')['messages_count'].agg(['mean', 'var']).reset_index()\n",
    "messages_stats"
   ]
  },
  {
   "cell_type": "code",
   "execution_count": 48,
   "metadata": {},
   "outputs": [
    {
     "data": {
      "text/plain": [
       "<Figure size 1200x600 with 0 Axes>"
      ]
     },
     "metadata": {},
     "output_type": "display_data"
    },
    {
     "data": {
      "image/png": "[encoded data removed]",
      "text/plain": [
       "<Figure size 640x480 with 1 Axes>"
      ]
     },
     "metadata": {},
     "output_type": "display_data"
    }
   ],
   "source": [
    "plt.figure(figsize=(12, 6))\n",
    "aggregate_data.boxplot(column='messages_count', by='plan')\n",
    "plt.title('Distribution of Monthly Messages Sent by Plan')\n",
    "plt.suptitle('')\n",
    "plt.xlabel('Plan')\n",
    "plt.ylabel('Monthly Messages Sent')\n",
    "plt.show()"
   ]
  },
  {
   "cell_type": "markdown",
   "metadata": {},
   "source": [
    "- Users on the Ultimate plan tend to send more messages on average compared to users on the Surf plan.\n",
    "- The Ultimate plan's higher message limit likely encourages more message usage."
   ]
  },
  {
   "cell_type": "markdown",
   "metadata": {},
   "source": [
    "### Internet"
   ]
  },
  {
   "cell_type": "code",
   "execution_count": 49,
   "metadata": {},
   "outputs": [
    {
     "data": {
      "image/png": "[encoded data removed]",
      "text/plain": [
       "<Figure size 1200x600 with 1 Axes>"
      ]
     },
     "metadata": {},
     "output_type": "display_data"
    }
   ],
   "source": [
    "# Compare the amount of internet traffic consumed by users per plan\n",
    "average_internet = aggregate_data.groupby(['plan', 'year', 'month']).agg({'mb_used_sum': 'mean'}).reset_index()\n",
    "\n",
    "plt.figure(figsize=(12, 6))\n",
    "for plan in average_internet['plan'].unique():\n",
    "    plan_data = average_internet[average_internet['plan'] == plan]\n",
    "    plt.bar(plan_data['month'] + (0.25 if plan == 'ultimate' else -0.25), plan_data['mb_used_sum'], width=0.4, label=plan)\n",
    "plt.xlabel('Month')\n",
    "plt.ylabel('Average Internet Traffic (MB)')\n",
    "plt.title('Average Internet Traffic per Month by Plan')\n",
    "plt.legend()\n",
    "plt.show()\n"
   ]
  },
  {
   "cell_type": "code",
   "execution_count": 50,
   "metadata": {},
   "outputs": [
    {
     "data": {
      "text/html": [
       "<div>\n",
       "<style scoped>\n",
       "    .dataframe tbody tr th:only-of-type {\n",
       "        vertical-align: middle;\n",
       "    }\n",
       "\n",
       "    .dataframe tbody tr th {\n",
       "        vertical-align: top;\n",
       "    }\n",
       "\n",
       "    .dataframe thead th {\n",
       "        text-align: right;\n",
       "    }\n",
       "</style>\n",
       "<table border=\"1\" class=\"dataframe\">\n",
       "  <thead>\n",
       "    <tr style=\"text-align: right;\">\n",
       "      <th></th>\n",
       "      <th>plan</th>\n",
       "      <th>mean</th>\n",
       "      <th>var</th>\n",
       "    </tr>\n",
       "  </thead>\n",
       "  <tbody>\n",
       "    <tr>\n",
       "      <th>0</th>\n",
       "      <td>surf</td>\n",
       "      <td>16558.283490</td>\n",
       "      <td>6.421640e+07</td>\n",
       "    </tr>\n",
       "    <tr>\n",
       "      <th>1</th>\n",
       "      <td>ultimate</td>\n",
       "      <td>17214.699694</td>\n",
       "      <td>6.165229e+07</td>\n",
       "    </tr>\n",
       "  </tbody>\n",
       "</table>\n",
       "</div>"
      ],
      "text/plain": [
       "       plan          mean           var\n",
       "0      surf  16558.283490  6.421640e+07\n",
       "1  ultimate  17214.699694  6.165229e+07"
      ]
     },
     "execution_count": 50,
     "metadata": {},
     "output_type": "execute_result"
    }
   ],
   "source": [
    "# Calculate the mean and the variance of the monthly data usage\n",
    "data_stats = aggregate_data.groupby('plan')['mb_used_sum'].agg(['mean', 'var']).reset_index()\n",
    "data_stats"
   ]
  },
  {
   "cell_type": "code",
   "execution_count": 51,
   "metadata": {},
   "outputs": [
    {
     "data": {
      "text/plain": [
       "<Figure size 1200x600 with 0 Axes>"
      ]
     },
     "metadata": {},
     "output_type": "display_data"
    },
    {
     "data": {
      "image/png": "[encoded data removed]",
      "text/plain": [
       "<Figure size 640x480 with 1 Axes>"
      ]
     },
     "metadata": {},
     "output_type": "display_data"
    }
   ],
   "source": [
    "plt.figure(figsize=(12, 6))\n",
    "aggregate_data.boxplot(column='mb_used_sum', by='plan')\n",
    "plt.title('Distribution of Monthly Data Usage by Plan')\n",
    "plt.suptitle('')\n",
    "plt.xlabel('Plan')\n",
    "plt.ylabel('Monthly Data Usage (MB)')\n",
    "plt.show()"
   ]
  },
  {
   "cell_type": "markdown",
   "metadata": {},
   "source": [
    "- Users on the Ultimate plan consume more internet data on average compared to users on the Surf plan.\n",
    "- The higher data limit in the Ultimate plan likely leads to higher data usage."
   ]
  },
  {
   "cell_type": "markdown",
   "metadata": {},
   "source": [
    " "
   ]
  },
  {
   "cell_type": "markdown",
   "metadata": {},
   "source": [
    "## Revenue"
   ]
  },
  {
   "cell_type": "code",
   "execution_count": 52,
   "metadata": {
    "scrolled": true
   },
   "outputs": [
    {
     "data": {
      "image/png": "[encoded data removed]",
      "text/plain": [
       "<Figure size 1000x600 with 1 Axes>"
      ]
     },
     "metadata": {},
     "output_type": "display_data"
    },
    {
     "data": {
      "text/html": [
       "<div>\n",
       "<style scoped>\n",
       "    .dataframe tbody tr th:only-of-type {\n",
       "        vertical-align: middle;\n",
       "    }\n",
       "\n",
       "    .dataframe tbody tr th {\n",
       "        vertical-align: top;\n",
       "    }\n",
       "\n",
       "    .dataframe thead th {\n",
       "        text-align: right;\n",
       "    }\n",
       "</style>\n",
       "<table border=\"1\" class=\"dataframe\">\n",
       "  <thead>\n",
       "    <tr style=\"text-align: right;\">\n",
       "      <th></th>\n",
       "      <th>plan</th>\n",
       "      <th>revenue</th>\n",
       "    </tr>\n",
       "  </thead>\n",
       "  <tbody>\n",
       "    <tr>\n",
       "      <th>0</th>\n",
       "      <td>surf</td>\n",
       "      <td>90719.386738</td>\n",
       "    </tr>\n",
       "    <tr>\n",
       "      <th>1</th>\n",
       "      <td>ultimate</td>\n",
       "      <td>51923.577344</td>\n",
       "    </tr>\n",
       "  </tbody>\n",
       "</table>\n",
       "</div>"
      ],
      "text/plain": [
       "       plan       revenue\n",
       "0      surf  90719.386738\n",
       "1  ultimate  51923.577344"
      ]
     },
     "execution_count": 52,
     "metadata": {},
     "output_type": "execute_result"
    }
   ],
   "source": [
    "\n",
    "# Calculate total revenue for each plan\n",
    "total_revenue_surf = aggregate_data[aggregate_data['plan'] == 'surf']['revenue'].sum()\n",
    "total_revenue_ultimate = aggregate_data[aggregate_data['plan'] == 'ultimate']['revenue'].sum()\n",
    "\n",
    "# Create a DataFrame for total revenue per plan\n",
    "total_revenue_per_plan = pd.DataFrame({\n",
    "    'plan': ['surf', 'ultimate'],\n",
    "    'revenue': [total_revenue_surf, total_revenue_ultimate]\n",
    "})\n",
    "\n",
    "# Plot the total revenue for each plan\n",
    "plt.figure(figsize=(10, 6))\n",
    "plt.bar(total_revenue_per_plan['plan'], total_revenue_per_plan['revenue'], color=['blue', 'orange'])\n",
    "plt.title('Total Revenue per Plan')\n",
    "plt.xlabel('Plan')\n",
    "plt.ylabel('Total Revenue')\n",
    "plt.show()\n",
    "\n",
    "# Display the total revenue for each plan\n",
    "total_revenue_per_plan"
   ]
  },
  {
   "cell_type": "markdown",
   "metadata": {},
   "source": [
    "\n",
    "The surf plan has a higher total revenue, suggesting that the extra charges for overages (minutes, messages, and data) are substantial enough to compensate for the lower monthly fee.\n"
   ]
  },
  {
   "cell_type": "markdown",
   "metadata": {},
   "source": [
    "## Test statistical hypotheses"
   ]
  },
  {
   "cell_type": "markdown",
   "metadata": {},
   "source": [
    "### Test the hypothesis that the average revenue from users of the Ultimate and Surf calling plans differs."
   ]
  },
  {
   "cell_type": "markdown",
   "metadata": {},
   "source": [
    "\n",
    "Hypotheses:\n",
    "   - Null Hypothesis (H₀): The average revenue from users of the Ultimate and Surf calling plans is the same.\n",
    "   - Alternative Hypothesis (H₁): The average revenue from users of the Ultimate and Surf calling plans differs.\n",
    "\n",
    "Statistical Test: \n",
    "   <p></p>\n",
    "   - Test Type: Two-sample independent t-test (assuming equal variances)\n",
    "   <p></p>\n",
    "Reason: We are comparing the means of two independent groups (revenue from Ultimate plan users vs Surf plan users).\n",
    "Alpha Value:\n",
    "   - Significance Level (α): Typically set at 0.05 (5%).\n",
    "Decision Rule:\n",
    "   - Decision: If the p-value from the test is less than α (0.05), we reject the null hypothesis in favor of the alternative hypothesis."
   ]
  },
  {
   "cell_type": "code",
   "execution_count": 53,
   "metadata": {},
   "outputs": [
    {
     "data": {
      "text/plain": [
       "(-7.129766674565439, 1.341961045057078e-12)"
      ]
     },
     "execution_count": 53,
     "metadata": {},
     "output_type": "execute_result"
    }
   ],
   "source": [
    "# Test the hypotheses\n",
    "# Separate the revenue data for the two plans\n",
    "revenue_surf = aggregate_data.loc[aggregate_data['plan'] == 'surf', 'revenue']\n",
    "revenue_ultimate = aggregate_data.loc[aggregate_data['plan'] == 'ultimate', 'revenue']\n",
    "\n",
    "# Perform a t-test to compare the revenue between the two plans\n",
    "t_stat, p_value = st.ttest_ind(revenue_surf, revenue_ultimate)\n",
    "\n",
    "# Display the t-statistic and p-value\n",
    "t_stat, p_value\n"
   ]
  },
  {
   "cell_type": "markdown",
   "metadata": {},
   "source": [
    "Based on the t-test conducted with a significance level of 0.05, we found strong evidence to reject the null hypothesis. This suggests that there is a statistically significant difference in the average revenue between users of these two plans."
   ]
  },
  {
   "cell_type": "markdown",
   "metadata": {},
   "source": [
    "### Test the hypothesis that the average revenue from users in the NY-NJ area is different from that of the users from the other regions."
   ]
  },
  {
   "cell_type": "markdown",
   "metadata": {},
   "source": [
    "\n",
    "Hypotheses:\n",
    "   - Null Hypothesis (H₀): The average revenue from users in the NY-NJ area is the same as that of users from other regions.\n",
    "   - Alternative Hypothesis (H₁): The average revenue from users in the NY-NJ area is different from that of users from other regions.\n",
    "\n",
    "Statistical Test: \n",
    "   <p></p>\n",
    "   - Test Type: Two-sample independent t-test (assuming equal variances)\n",
    "   <p></p>\n",
    "Reason: We are comparing the means of two independent groups (revenue from NY-NJ users vs users from other regions).\n",
    "Alpha Value:\n",
    "   - Significance Level (α): Typically set at 0.05 (5%).\n",
    "Decision Rule:\n",
    "   - Decision: If the p-value from the test is less than α (0.05), we reject the null hypothesis in favor of the alternative hypothesis."
   ]
  },
  {
   "cell_type": "code",
   "execution_count": 54,
   "metadata": {},
   "outputs": [
    {
     "name": "stdout",
     "output_type": "stream",
     "text": [
      "t-statistic: -2.197564298296258\n",
      "p-value: 0.028079927103623847\n"
     ]
    }
   ],
   "source": [
    "\n",
    "\n",
    "aggregate_data = pd.merge(aggregate_data, users_df[['user_id', 'city']], on='user_id', how='left')\n",
    "# Separate revenue data for NY-NJ area and other regions\n",
    "revenue_nynj = aggregate_data.loc[aggregate_data['city'] == 'New York-Newark-Jersey City, NY-NJ-PA MSA', 'revenue']\n",
    "revenue_other = aggregate_data.loc[aggregate_data['city'] != 'New York-Newark-Jersey City, NY-NJ-PA MSA', 'revenue']\n",
    "\n",
    "# Perform two-sample t-test\n",
    "t_stat, p_value = st.ttest_ind(revenue_nynj, revenue_other, equal_var=True)\n",
    "\n",
    "# Display the t-statistic and p-value\n",
    "print(\"t-statistic:\", t_stat)\n",
    "print(\"p-value:\", p_value)\n",
    "\n"
   ]
  },
  {
   "cell_type": "markdown",
   "metadata": {},
   "source": [
    "Since the p-value (0.0261) is less than the significance level (0.05), we reject the null hypothesis (H₀) that the average revenue from users in the NY-NJ area is the same as that of users from other regions. Instead, we accept the alternative hypothesis (H₁) that the average revenue from users in the NY-NJ area is different from that of users in other regions."
   ]
  },
  {
   "cell_type": "markdown",
   "metadata": {},
   "source": [
    "## General conclusion\n",
    "\n",
    "\n",
    "Based on the analysis conducted on the Megaline telecom operator's Surf and Ultimate prepaid plans, several insights can be drawn to determine which plan brings in more revenue:\n",
    "\n",
    "Revenue Comparison:\n",
    "\n",
    "The Surf plan generally generates higher revenue per user compared to the Ultimate plan. This is primarily due to  the extra charges for overages (minutes, messages, and data) \n",
    "Usage Patterns:\n",
    "\n",
    "Considering the revenue generation potential, focusing more advertising budget on promoting the Surf plan could be beneficial. \n",
    "Further analysis with a larger dataset or over a longer period may provide better insights into user behavior and revenue generation trends for both plans."
   ]
  },
  {
   "cell_type": "markdown",
   "metadata": {},
   "source": [
    " "
   ]
  }
 ],
 "metadata": {
  "ExecuteTimeLog": [
   {
    "duration": 828,
    "start_time": "2021-11-16T09:21:11.304Z"
   },
   {
    "duration": 893,
    "start_time": "2021-11-16T09:21:17.728Z"
   },
   {
    "duration": 1150,
    "start_time": "2021-11-16T09:21:29.568Z"
   },
   {
    "duration": 3,
    "start_time": "2021-11-16T09:24:14.495Z"
   },
   {
    "duration": 120,
    "start_time": "2021-11-16T09:24:46.630Z"
   },
   {
    "duration": 3,
    "start_time": "2021-11-16T09:28:27.882Z"
   },
   {
    "duration": 4,
    "start_time": "2021-11-16T09:29:54.281Z"
   },
   {
    "duration": 3,
    "start_time": "2021-11-16T09:30:45.936Z"
   },
   {
    "duration": 4,
    "start_time": "2021-11-16T09:31:06.300Z"
   },
   {
    "duration": 113,
    "start_time": "2021-11-16T09:31:37.208Z"
   },
   {
    "duration": 143,
    "start_time": "2021-11-16T09:31:48.656Z"
   },
   {
    "duration": 98,
    "start_time": "2021-11-16T09:31:55.678Z"
   },
   {
    "duration": 3,
    "start_time": "2021-11-16T09:32:08.535Z"
   },
   {
    "duration": 111,
    "start_time": "2021-11-16T09:32:10.120Z"
   },
   {
    "duration": 3,
    "start_time": "2021-11-16T09:32:15.732Z"
   },
   {
    "duration": 4,
    "start_time": "2021-11-16T09:32:29.423Z"
   },
   {
    "duration": 3,
    "start_time": "2021-11-16T10:03:03.074Z"
   },
   {
    "duration": 3,
    "start_time": "2021-11-16T10:10:01.288Z"
   },
   {
    "duration": 3,
    "start_time": "2021-11-16T10:10:46.923Z"
   },
   {
    "duration": 121,
    "start_time": "2021-11-16T10:37:46.494Z"
   },
   {
    "duration": 125,
    "start_time": "2021-11-16T10:38:20.632Z"
   },
   {
    "duration": 112,
    "start_time": "2021-11-16T10:46:53.001Z"
   },
   {
    "duration": 110,
    "start_time": "2021-11-16T10:48:25.775Z"
   },
   {
    "duration": 3,
    "start_time": "2021-11-16T10:50:18.720Z"
   },
   {
    "duration": 4,
    "start_time": "2021-11-16T10:50:37.649Z"
   },
   {
    "duration": 2,
    "start_time": "2021-11-16T10:50:51.884Z"
   },
   {
    "duration": 3,
    "start_time": "2021-11-16T10:51:56.237Z"
   },
   {
    "duration": 101,
    "start_time": "2021-11-16T10:53:13.791Z"
   },
   {
    "duration": 3,
    "start_time": "2021-11-16T10:55:59.186Z"
   },
   {
    "duration": 3,
    "start_time": "2021-11-16T10:56:10.751Z"
   },
   {
    "duration": 3,
    "start_time": "2021-11-16T10:56:49.038Z"
   },
   {
    "duration": 3,
    "start_time": "2021-11-16T10:56:49.174Z"
   },
   {
    "duration": 4,
    "start_time": "2021-11-16T10:56:49.414Z"
   },
   {
    "duration": 3,
    "start_time": "2021-11-16T10:56:49.680Z"
   },
   {
    "duration": 3,
    "start_time": "2021-11-16T10:56:50.370Z"
   },
   {
    "duration": 114,
    "start_time": "2021-11-16T10:59:34.518Z"
   },
   {
    "duration": 3,
    "start_time": "2021-11-16T11:01:41.201Z"
   },
   {
    "duration": 116,
    "start_time": "2021-11-16T11:01:48.754Z"
   },
   {
    "duration": 3,
    "start_time": "2021-11-16T11:02:16.685Z"
   },
   {
    "duration": 3,
    "start_time": "2021-11-16T11:02:19.479Z"
   },
   {
    "duration": 3,
    "start_time": "2021-11-16T11:02:47.067Z"
   },
   {
    "duration": 3,
    "start_time": "2021-11-16T11:02:49.353Z"
   },
   {
    "duration": 3,
    "start_time": "2021-11-16T11:03:07.835Z"
   },
   {
    "duration": 3,
    "start_time": "2021-11-16T11:03:07.953Z"
   },
   {
    "duration": 112,
    "start_time": "2021-11-16T11:07:52.072Z"
   },
   {
    "duration": 187,
    "start_time": "2021-11-16T11:09:23.468Z"
   },
   {
    "duration": 4,
    "start_time": "2021-11-16T11:10:01.455Z"
   },
   {
    "duration": 3,
    "start_time": "2021-11-16T11:10:05.069Z"
   },
   {
    "duration": 4,
    "start_time": "2021-11-16T11:10:13.376Z"
   },
   {
    "duration": 3,
    "start_time": "2021-11-16T11:10:14.434Z"
   },
   {
    "duration": 3,
    "start_time": "2021-11-16T11:10:22.853Z"
   },
   {
    "duration": 4,
    "start_time": "2021-11-16T11:27:29.279Z"
   },
   {
    "duration": 4,
    "start_time": "2021-11-16T11:29:08.919Z"
   },
   {
    "duration": 118,
    "start_time": "2021-11-16T11:29:46.703Z"
   },
   {
    "duration": 437,
    "start_time": "2021-11-16T11:36:02.181Z"
   },
   {
    "duration": 157,
    "start_time": "2021-11-16T11:36:14.388Z"
   },
   {
    "duration": 207,
    "start_time": "2021-11-16T11:47:15.898Z"
   },
   {
    "duration": 3,
    "start_time": "2021-11-16T11:53:52.092Z"
   },
   {
    "duration": 3,
    "start_time": "2021-11-16T11:53:52.236Z"
   },
   {
    "duration": 3,
    "start_time": "2021-11-16T11:59:12.005Z"
   },
   {
    "duration": 112,
    "start_time": "2021-11-16T12:00:33.446Z"
   },
   {
    "duration": 3,
    "start_time": "2021-11-16T12:02:14.453Z"
   },
   {
    "duration": 3,
    "start_time": "2021-11-16T12:02:39.512Z"
   },
   {
    "duration": 106,
    "start_time": "2021-11-16T12:03:03.460Z"
   },
   {
    "duration": 3,
    "start_time": "2021-11-17T20:37:21.139Z"
   },
   {
    "duration": 3,
    "start_time": "2021-11-17T20:37:22.229Z"
   },
   {
    "duration": 3,
    "start_time": "2021-11-17T20:38:38.806Z"
   },
   {
    "duration": 3,
    "start_time": "2021-11-17T20:38:41.958Z"
   },
   {
    "duration": 3,
    "start_time": "2021-11-17T20:43:46.551Z"
   },
   {
    "duration": 4,
    "start_time": "2021-11-17T20:58:21.835Z"
   },
   {
    "duration": 3,
    "start_time": "2021-11-17T20:59:21.872Z"
   },
   {
    "duration": 4,
    "start_time": "2021-11-17T20:59:45.352Z"
   },
   {
    "duration": 4,
    "start_time": "2021-11-17T20:59:49.646Z"
   },
   {
    "duration": 159,
    "start_time": "2021-11-17T21:02:26.949Z"
   },
   {
    "duration": 3,
    "start_time": "2021-11-17T21:03:53.461Z"
   },
   {
    "duration": 3,
    "start_time": "2021-11-17T21:03:53.694Z"
   },
   {
    "duration": 3,
    "start_time": "2021-11-17T21:05:28.145Z"
   },
   {
    "duration": 116,
    "start_time": "2021-11-17T21:05:57.787Z"
   },
   {
    "duration": 3,
    "start_time": "2021-11-17T21:06:37.993Z"
   },
   {
    "duration": 3,
    "start_time": "2021-11-17T21:06:38.261Z"
   },
   {
    "duration": 3,
    "start_time": "2021-11-17T21:11:54.358Z"
   },
   {
    "duration": 3,
    "start_time": "2021-11-17T21:12:43.846Z"
   },
   {
    "duration": 4,
    "start_time": "2021-11-17T21:13:08.773Z"
   },
   {
    "duration": 3,
    "start_time": "2021-11-17T21:14:44.441Z"
   },
   {
    "duration": 3,
    "start_time": "2021-11-17T21:15:42.059Z"
   },
   {
    "duration": 4,
    "start_time": "2021-11-17T21:15:51.995Z"
   },
   {
    "duration": 3,
    "start_time": "2021-11-17T21:15:53.923Z"
   },
   {
    "duration": 3,
    "start_time": "2021-11-17T21:15:55.282Z"
   },
   {
    "duration": 3,
    "start_time": "2021-11-17T21:16:28.492Z"
   },
   {
    "duration": 3,
    "start_time": "2021-11-17T21:16:32.603Z"
   },
   {
    "duration": 3,
    "start_time": "2021-11-17T21:17:06.941Z"
   },
   {
    "duration": 98,
    "start_time": "2021-11-17T21:18:05.733Z"
   },
   {
    "duration": 4,
    "start_time": "2021-11-17T21:21:35.255Z"
   },
   {
    "duration": 3,
    "start_time": "2021-11-17T21:21:37.804Z"
   },
   {
    "duration": 4,
    "start_time": "2021-11-17T21:23:06.071Z"
   },
   {
    "duration": 3,
    "start_time": "2021-11-17T21:23:24.799Z"
   },
   {
    "duration": 3,
    "start_time": "2021-11-17T21:23:32.591Z"
   },
   {
    "duration": 98,
    "start_time": "2021-11-17T21:28:31.559Z"
   },
   {
    "duration": 3,
    "start_time": "2021-11-17T21:28:45.448Z"
   },
   {
    "duration": 3,
    "start_time": "2021-11-17T21:29:17.303Z"
   },
   {
    "duration": 3,
    "start_time": "2021-11-17T21:29:29.617Z"
   },
   {
    "duration": 3,
    "start_time": "2021-11-17T21:29:32.681Z"
   },
   {
    "duration": 3,
    "start_time": "2021-11-17T21:36:11.474Z"
   },
   {
    "duration": 3,
    "start_time": "2021-11-17T21:36:14.791Z"
   },
   {
    "duration": 3,
    "start_time": "2021-11-17T21:36:53.943Z"
   },
   {
    "duration": 3,
    "start_time": "2021-11-17T21:36:56.165Z"
   },
   {
    "duration": 4,
    "start_time": "2021-11-17T21:37:16.590Z"
   },
   {
    "duration": 3,
    "start_time": "2021-11-17T21:37:22.702Z"
   },
   {
    "duration": 4,
    "start_time": "2021-11-17T21:38:03.479Z"
   },
   {
    "duration": 3,
    "start_time": "2021-11-17T21:38:08.601Z"
   },
   {
    "duration": 3,
    "start_time": "2021-11-17T21:38:12.928Z"
   },
   {
    "duration": 3,
    "start_time": "2021-11-17T21:38:48.896Z"
   },
   {
    "duration": 2,
    "start_time": "2021-11-17T21:38:49.171Z"
   },
   {
    "duration": 4,
    "start_time": "2021-11-17T21:39:57.889Z"
   },
   {
    "duration": 3,
    "start_time": "2021-11-17T21:39:58.057Z"
   },
   {
    "duration": 3,
    "start_time": "2021-11-17T21:41:20.108Z"
   },
   {
    "duration": 3,
    "start_time": "2021-11-17T21:41:20.629Z"
   },
   {
    "duration": 3,
    "start_time": "2021-11-17T21:42:49.136Z"
   },
   {
    "duration": 3,
    "start_time": "2021-11-17T21:43:15.137Z"
   },
   {
    "duration": 4,
    "start_time": "2021-11-17T21:43:16.766Z"
   },
   {
    "duration": 4,
    "start_time": "2021-11-17T21:43:31.711Z"
   },
   {
    "duration": 3,
    "start_time": "2021-11-17T21:43:36.312Z"
   },
   {
    "duration": 4,
    "start_time": "2021-11-17T21:45:08.825Z"
   },
   {
    "duration": 4,
    "start_time": "2021-11-17T21:45:10.119Z"
   },
   {
    "duration": 4,
    "start_time": "2021-11-17T21:45:13.748Z"
   },
   {
    "duration": 3,
    "start_time": "2021-11-17T21:45:22.219Z"
   },
   {
    "duration": 3,
    "start_time": "2021-11-17T21:45:33.412Z"
   },
   {
    "duration": 2,
    "start_time": "2021-11-17T21:46:01.885Z"
   },
   {
    "duration": 3,
    "start_time": "2021-11-17T21:46:03.628Z"
   },
   {
    "duration": 107,
    "start_time": "2021-11-17T21:47:32.512Z"
   },
   {
    "duration": 103,
    "start_time": "2021-11-17T21:50:36.243Z"
   },
   {
    "duration": 3,
    "start_time": "2021-11-18T06:28:31.440Z"
   },
   {
    "duration": 3,
    "start_time": "2021-11-18T06:29:00.168Z"
   },
   {
    "duration": 3,
    "start_time": "2021-11-18T06:31:27.008Z"
   },
   {
    "duration": 2,
    "start_time": "2021-11-18T06:35:34.288Z"
   },
   {
    "duration": 2,
    "start_time": "2021-11-18T06:38:04.527Z"
   },
   {
    "duration": 4831,
    "start_time": "2024-06-16T18:34:06.407Z"
   },
   {
    "duration": 376,
    "start_time": "2024-06-16T18:34:11.242Z"
   },
   {
    "duration": 19,
    "start_time": "2024-06-16T18:34:11.620Z"
   },
   {
    "duration": 926,
    "start_time": "2024-06-16T18:34:31.503Z"
   },
   {
    "duration": 18,
    "start_time": "2024-06-16T18:34:47.252Z"
   },
   {
    "duration": 14,
    "start_time": "2024-06-16T18:34:55.456Z"
   },
   {
    "duration": 54,
    "start_time": "2024-06-16T18:35:00.832Z"
   },
   {
    "duration": 13,
    "start_time": "2024-06-16T18:35:04.452Z"
   },
   {
    "duration": 13,
    "start_time": "2024-06-16T18:44:55.644Z"
   },
   {
    "duration": 14,
    "start_time": "2024-06-16T18:48:31.861Z"
   },
   {
    "duration": 12,
    "start_time": "2024-06-16T18:49:08.494Z"
   },
   {
    "duration": 16,
    "start_time": "2024-06-16T18:49:12.317Z"
   },
   {
    "duration": 17,
    "start_time": "2024-06-16T18:50:42.912Z"
   },
   {
    "duration": 24,
    "start_time": "2024-06-16T19:02:10.490Z"
   },
   {
    "duration": 16,
    "start_time": "2024-06-16T19:02:21.561Z"
   },
   {
    "duration": 4803,
    "start_time": "2024-06-20T01:24:35.630Z"
   },
   {
    "duration": 369,
    "start_time": "2024-06-20T01:24:40.438Z"
   },
   {
    "duration": 16,
    "start_time": "2024-06-20T01:24:40.810Z"
   },
   {
    "duration": 17,
    "start_time": "2024-06-20T01:24:40.830Z"
   },
   {
    "duration": 14,
    "start_time": "2024-06-20T01:24:40.850Z"
   },
   {
    "duration": 16,
    "start_time": "2024-06-20T01:24:40.868Z"
   },
   {
    "duration": 63,
    "start_time": "2024-06-20T01:24:40.887Z"
   },
   {
    "duration": 16,
    "start_time": "2024-06-20T01:24:40.953Z"
   },
   {
    "duration": 19,
    "start_time": "2024-06-20T01:24:45.855Z"
   },
   {
    "duration": 18,
    "start_time": "2024-06-20T01:26:20.339Z"
   },
   {
    "duration": 385,
    "start_time": "2024-06-20T01:26:30.413Z"
   },
   {
    "duration": 12,
    "start_time": "2024-06-20T01:26:36.642Z"
   },
   {
    "duration": 23,
    "start_time": "2024-06-20T01:32:19.920Z"
   },
   {
    "duration": 15,
    "start_time": "2024-06-20T01:32:31.458Z"
   },
   {
    "duration": 7,
    "start_time": "2024-06-20T01:40:15.394Z"
   },
   {
    "duration": 30,
    "start_time": "2024-06-20T01:40:50.642Z"
   },
   {
    "duration": 25,
    "start_time": "2024-06-20T01:42:59.107Z"
   },
   {
    "duration": 25,
    "start_time": "2024-06-20T01:43:17.139Z"
   },
   {
    "duration": 35,
    "start_time": "2024-06-20T01:44:12.183Z"
   },
   {
    "duration": 11,
    "start_time": "2024-06-20T01:44:38.241Z"
   },
   {
    "duration": 25,
    "start_time": "2024-06-20T01:46:19.097Z"
   },
   {
    "duration": 11,
    "start_time": "2024-06-20T01:46:36.899Z"
   },
   {
    "duration": 27,
    "start_time": "2024-06-20T01:47:05.959Z"
   },
   {
    "duration": 13,
    "start_time": "2024-06-20T01:47:21.850Z"
   },
   {
    "duration": 908,
    "start_time": "2024-06-20T01:56:41.873Z"
   },
   {
    "duration": 8,
    "start_time": "2024-06-20T01:57:03.456Z"
   },
   {
    "duration": 6,
    "start_time": "2024-06-20T01:57:17.542Z"
   },
   {
    "duration": 8,
    "start_time": "2024-06-20T01:57:57.636Z"
   },
   {
    "duration": 6,
    "start_time": "2024-06-20T02:02:44.811Z"
   },
   {
    "duration": 23,
    "start_time": "2024-06-20T02:02:50.834Z"
   },
   {
    "duration": 6,
    "start_time": "2024-06-20T02:02:56.499Z"
   },
   {
    "duration": 14,
    "start_time": "2024-06-20T02:05:03.471Z"
   },
   {
    "duration": 7,
    "start_time": "2024-06-20T02:05:44.039Z"
   },
   {
    "duration": 13,
    "start_time": "2024-06-20T02:10:02.519Z"
   },
   {
    "duration": 74,
    "start_time": "2024-06-20T02:11:26.677Z"
   },
   {
    "duration": 7,
    "start_time": "2024-06-20T02:11:33.917Z"
   },
   {
    "duration": 6,
    "start_time": "2024-06-20T02:12:25.176Z"
   },
   {
    "duration": 6,
    "start_time": "2024-06-20T02:12:50.547Z"
   },
   {
    "duration": 34,
    "start_time": "2024-06-20T02:16:43.808Z"
   },
   {
    "duration": 22,
    "start_time": "2024-06-20T02:16:49.998Z"
   },
   {
    "duration": 6,
    "start_time": "2024-06-20T02:19:54.648Z"
   },
   {
    "duration": 28,
    "start_time": "2024-06-20T02:21:02.267Z"
   },
   {
    "duration": 7,
    "start_time": "2024-06-20T02:23:04.223Z"
   },
   {
    "duration": 7,
    "start_time": "2024-06-20T02:23:15.874Z"
   },
   {
    "duration": 23,
    "start_time": "2024-06-20T02:26:35.054Z"
   },
   {
    "duration": 20,
    "start_time": "2024-06-20T02:27:01.465Z"
   },
   {
    "duration": 16,
    "start_time": "2024-06-20T02:28:36.723Z"
   },
   {
    "duration": 24,
    "start_time": "2024-06-20T02:30:12.578Z"
   },
   {
    "duration": 43,
    "start_time": "2024-06-20T02:31:34.580Z"
   },
   {
    "duration": 6,
    "start_time": "2024-06-20T02:32:56.072Z"
   },
   {
    "duration": 6,
    "start_time": "2024-06-20T02:33:00.747Z"
   },
   {
    "duration": 4,
    "start_time": "2024-06-20T02:34:09.137Z"
   },
   {
    "duration": 284,
    "start_time": "2024-06-20T02:34:09.147Z"
   },
   {
    "duration": 14,
    "start_time": "2024-06-20T02:34:09.434Z"
   },
   {
    "duration": 13,
    "start_time": "2024-06-20T02:34:09.451Z"
   },
   {
    "duration": 14,
    "start_time": "2024-06-20T02:34:09.468Z"
   },
   {
    "duration": 50,
    "start_time": "2024-06-20T02:34:09.485Z"
   },
   {
    "duration": 11,
    "start_time": "2024-06-20T02:34:09.538Z"
   },
   {
    "duration": 6,
    "start_time": "2024-06-20T02:34:09.552Z"
   },
   {
    "duration": 7,
    "start_time": "2024-06-20T02:34:09.561Z"
   },
   {
    "duration": 7,
    "start_time": "2024-06-20T02:34:09.571Z"
   },
   {
    "duration": 25,
    "start_time": "2024-06-20T02:34:09.632Z"
   },
   {
    "duration": 15,
    "start_time": "2024-06-20T02:34:09.660Z"
   },
   {
    "duration": 60,
    "start_time": "2024-06-20T02:34:09.678Z"
   },
   {
    "duration": 31,
    "start_time": "2024-06-20T02:34:09.741Z"
   },
   {
    "duration": 7,
    "start_time": "2024-06-20T02:34:09.775Z"
   },
   {
    "duration": 19,
    "start_time": "2024-06-20T02:34:09.888Z"
   },
   {
    "duration": 11,
    "start_time": "2024-06-20T02:34:09.915Z"
   },
   {
    "duration": 19,
    "start_time": "2024-06-20T02:34:09.949Z"
   },
   {
    "duration": 17,
    "start_time": "2024-06-20T02:34:10.070Z"
   },
   {
    "duration": 24,
    "start_time": "2024-06-20T02:34:10.195Z"
   },
   {
    "duration": 14,
    "start_time": "2024-06-20T02:34:10.223Z"
   },
   {
    "duration": 25,
    "start_time": "2024-06-20T02:34:10.240Z"
   },
   {
    "duration": 33,
    "start_time": "2024-06-20T02:34:10.270Z"
   },
   {
    "duration": 8,
    "start_time": "2024-06-20T02:34:10.331Z"
   },
   {
    "duration": 9,
    "start_time": "2024-06-20T02:37:46.823Z"
   },
   {
    "duration": 10,
    "start_time": "2024-06-20T02:38:07.378Z"
   },
   {
    "duration": 10,
    "start_time": "2024-06-20T02:38:33.507Z"
   },
   {
    "duration": 10,
    "start_time": "2024-06-20T02:40:10.658Z"
   },
   {
    "duration": 11,
    "start_time": "2024-06-20T02:56:50.979Z"
   },
   {
    "duration": 61,
    "start_time": "2024-06-20T03:02:20.192Z"
   },
   {
    "duration": 5119,
    "start_time": "2024-06-21T03:13:56.604Z"
   },
   {
    "duration": 421,
    "start_time": "2024-06-21T03:14:01.728Z"
   },
   {
    "duration": 25,
    "start_time": "2024-06-21T03:14:02.153Z"
   },
   {
    "duration": 18,
    "start_time": "2024-06-21T03:14:02.184Z"
   },
   {
    "duration": 32,
    "start_time": "2024-06-21T03:14:02.207Z"
   },
   {
    "duration": 19,
    "start_time": "2024-06-21T03:14:02.242Z"
   },
   {
    "duration": 20,
    "start_time": "2024-06-21T03:14:02.265Z"
   },
   {
    "duration": 58,
    "start_time": "2024-06-21T03:14:02.289Z"
   },
   {
    "duration": 8,
    "start_time": "2024-06-21T03:14:02.350Z"
   },
   {
    "duration": 8,
    "start_time": "2024-06-21T03:14:02.365Z"
   },
   {
    "duration": 11,
    "start_time": "2024-06-21T03:14:02.376Z"
   },
   {
    "duration": 68,
    "start_time": "2024-06-21T03:14:02.389Z"
   },
   {
    "duration": 18,
    "start_time": "2024-06-21T03:14:02.460Z"
   },
   {
    "duration": 66,
    "start_time": "2024-06-21T03:14:02.482Z"
   },
   {
    "duration": 29,
    "start_time": "2024-06-21T03:14:02.554Z"
   },
   {
    "duration": 6,
    "start_time": "2024-06-21T03:14:02.587Z"
   },
   {
    "duration": 46,
    "start_time": "2024-06-21T03:14:02.599Z"
   },
   {
    "duration": 15,
    "start_time": "2024-06-21T03:14:02.648Z"
   },
   {
    "duration": 23,
    "start_time": "2024-06-21T03:14:02.666Z"
   },
   {
    "duration": 54,
    "start_time": "2024-06-21T03:14:02.692Z"
   },
   {
    "duration": 23,
    "start_time": "2024-06-21T03:14:02.750Z"
   },
   {
    "duration": 19,
    "start_time": "2024-06-21T03:14:02.776Z"
   },
   {
    "duration": 29,
    "start_time": "2024-06-21T03:14:02.835Z"
   },
   {
    "duration": 66,
    "start_time": "2024-06-21T03:14:02.868Z"
   },
   {
    "duration": 9,
    "start_time": "2024-06-21T03:14:02.939Z"
   },
   {
    "duration": 1127,
    "start_time": "2024-06-21T03:20:07.341Z"
   },
   {
    "duration": 4,
    "start_time": "2024-06-21T03:20:47.306Z"
   },
   {
    "duration": 279,
    "start_time": "2024-06-21T03:20:47.314Z"
   },
   {
    "duration": 18,
    "start_time": "2024-06-21T03:20:47.596Z"
   },
   {
    "duration": 13,
    "start_time": "2024-06-21T03:20:47.634Z"
   },
   {
    "duration": 11,
    "start_time": "2024-06-21T03:20:47.651Z"
   },
   {
    "duration": 14,
    "start_time": "2024-06-21T03:20:47.665Z"
   },
   {
    "duration": 54,
    "start_time": "2024-06-21T03:20:47.683Z"
   },
   {
    "duration": 11,
    "start_time": "2024-06-21T03:20:47.741Z"
   },
   {
    "duration": 6,
    "start_time": "2024-06-21T03:20:47.760Z"
   },
   {
    "duration": 10,
    "start_time": "2024-06-21T03:20:47.770Z"
   },
   {
    "duration": 49,
    "start_time": "2024-06-21T03:20:47.783Z"
   },
   {
    "duration": 25,
    "start_time": "2024-06-21T03:20:47.835Z"
   },
   {
    "duration": 17,
    "start_time": "2024-06-21T03:20:47.863Z"
   },
   {
    "duration": 68,
    "start_time": "2024-06-21T03:20:47.883Z"
   },
   {
    "duration": 28,
    "start_time": "2024-06-21T03:20:47.954Z"
   },
   {
    "duration": 7,
    "start_time": "2024-06-21T03:20:47.985Z"
   },
   {
    "duration": 20,
    "start_time": "2024-06-21T03:20:48.031Z"
   },
   {
    "duration": 14,
    "start_time": "2024-06-21T03:20:48.054Z"
   },
   {
    "duration": 21,
    "start_time": "2024-06-21T03:20:48.072Z"
   },
   {
    "duration": 16,
    "start_time": "2024-06-21T03:20:48.132Z"
   },
   {
    "duration": 22,
    "start_time": "2024-06-21T03:20:48.151Z"
   },
   {
    "duration": 14,
    "start_time": "2024-06-21T03:20:48.176Z"
   },
   {
    "duration": 25,
    "start_time": "2024-06-21T03:20:48.230Z"
   },
   {
    "duration": 35,
    "start_time": "2024-06-21T03:20:48.263Z"
   },
   {
    "duration": 33,
    "start_time": "2024-06-21T03:20:48.301Z"
   },
   {
    "duration": 12,
    "start_time": "2024-06-21T03:20:48.337Z"
   },
   {
    "duration": 87,
    "start_time": "2024-06-21T03:20:48.352Z"
   },
   {
    "duration": 32,
    "start_time": "2024-06-21T03:20:51.124Z"
   },
   {
    "duration": 32,
    "start_time": "2024-06-21T03:22:23.401Z"
   },
   {
    "duration": 41,
    "start_time": "2024-06-21T03:22:39.888Z"
   },
   {
    "duration": 47,
    "start_time": "2024-06-21T03:23:21.736Z"
   },
   {
    "duration": 46,
    "start_time": "2024-06-21T03:23:34.733Z"
   },
   {
    "duration": 43,
    "start_time": "2024-06-21T03:24:53.503Z"
   },
   {
    "duration": 38,
    "start_time": "2024-06-21T03:25:45.922Z"
   },
   {
    "duration": 34,
    "start_time": "2024-06-21T03:26:36.159Z"
   },
   {
    "duration": 1862,
    "start_time": "2024-06-21T03:33:40.903Z"
   },
   {
    "duration": 1848,
    "start_time": "2024-06-21T03:33:46.194Z"
   },
   {
    "duration": 1894,
    "start_time": "2024-06-21T03:34:00.070Z"
   },
   {
    "duration": 1906,
    "start_time": "2024-06-21T03:38:40.961Z"
   },
   {
    "duration": 5,
    "start_time": "2024-06-21T03:49:24.410Z"
   },
   {
    "duration": 870,
    "start_time": "2024-06-21T03:49:40.314Z"
   },
   {
    "duration": 151,
    "start_time": "2024-06-21T03:51:48.196Z"
   },
   {
    "duration": 4,
    "start_time": "2024-06-21T03:54:22.330Z"
   },
   {
    "duration": 300,
    "start_time": "2024-06-21T03:54:22.339Z"
   },
   {
    "duration": 14,
    "start_time": "2024-06-21T03:54:22.644Z"
   },
   {
    "duration": 14,
    "start_time": "2024-06-21T03:54:22.660Z"
   },
   {
    "duration": 10,
    "start_time": "2024-06-21T03:54:22.679Z"
   },
   {
    "duration": 49,
    "start_time": "2024-06-21T03:54:22.692Z"
   },
   {
    "duration": 14,
    "start_time": "2024-06-21T03:54:22.747Z"
   },
   {
    "duration": 11,
    "start_time": "2024-06-21T03:54:22.764Z"
   },
   {
    "duration": 11,
    "start_time": "2024-06-21T03:54:22.778Z"
   },
   {
    "duration": 44,
    "start_time": "2024-06-21T03:54:22.794Z"
   },
   {
    "duration": 8,
    "start_time": "2024-06-21T03:54:22.847Z"
   },
   {
    "duration": 26,
    "start_time": "2024-06-21T03:54:22.859Z"
   },
   {
    "duration": 57,
    "start_time": "2024-06-21T03:54:22.887Z"
   },
   {
    "duration": 34,
    "start_time": "2024-06-21T03:54:22.950Z"
   },
   {
    "duration": 54,
    "start_time": "2024-06-21T03:54:22.988Z"
   },
   {
    "duration": 7,
    "start_time": "2024-06-21T03:54:23.046Z"
   },
   {
    "duration": 21,
    "start_time": "2024-06-21T03:54:23.056Z"
   },
   {
    "duration": 13,
    "start_time": "2024-06-21T03:54:23.079Z"
   },
   {
    "duration": 19,
    "start_time": "2024-06-21T03:54:23.132Z"
   },
   {
    "duration": 18,
    "start_time": "2024-06-21T03:54:23.154Z"
   },
   {
    "duration": 57,
    "start_time": "2024-06-21T03:54:23.175Z"
   },
   {
    "duration": 14,
    "start_time": "2024-06-21T03:54:23.235Z"
   },
   {
    "duration": 26,
    "start_time": "2024-06-21T03:54:23.252Z"
   },
   {
    "duration": 71,
    "start_time": "2024-06-21T03:54:23.281Z"
   },
   {
    "duration": 6,
    "start_time": "2024-06-21T03:54:23.356Z"
   },
   {
    "duration": 12,
    "start_time": "2024-06-21T03:54:23.365Z"
   },
   {
    "duration": 83,
    "start_time": "2024-06-21T03:54:23.380Z"
   },
   {
    "duration": 32,
    "start_time": "2024-06-21T03:54:23.466Z"
   },
   {
    "duration": 59,
    "start_time": "2024-06-21T03:54:23.504Z"
   },
   {
    "duration": 43,
    "start_time": "2024-06-21T03:54:23.566Z"
   },
   {
    "duration": 40,
    "start_time": "2024-06-21T03:54:23.631Z"
   },
   {
    "duration": 26,
    "start_time": "2024-06-21T03:54:23.675Z"
   },
   {
    "duration": 8,
    "start_time": "2024-06-21T03:54:28.891Z"
   },
   {
    "duration": 147,
    "start_time": "2024-06-21T03:54:44.310Z"
   },
   {
    "duration": 90,
    "start_time": "2024-06-21T03:57:19.200Z"
   },
   {
    "duration": 89,
    "start_time": "2024-06-21T03:58:03.911Z"
   },
   {
    "duration": 90,
    "start_time": "2024-06-21T04:00:54.675Z"
   },
   {
    "duration": 1823,
    "start_time": "2024-06-21T04:01:15.225Z"
   },
   {
    "duration": 1804,
    "start_time": "2024-06-21T04:01:26.653Z"
   },
   {
    "duration": 1896,
    "start_time": "2024-06-21T04:08:37.521Z"
   },
   {
    "duration": 1886,
    "start_time": "2024-06-21T04:09:26.108Z"
   },
   {
    "duration": 1821,
    "start_time": "2024-06-21T04:11:07.230Z"
   },
   {
    "duration": 38,
    "start_time": "2024-06-21T04:13:40.424Z"
   },
   {
    "duration": 4,
    "start_time": "2024-06-21T04:13:56.834Z"
   },
   {
    "duration": 343,
    "start_time": "2024-06-21T04:14:07.981Z"
   },
   {
    "duration": 406,
    "start_time": "2024-06-21T04:16:07.735Z"
   },
   {
    "duration": 140,
    "start_time": "2024-06-21T04:30:20.245Z"
   },
   {
    "duration": 135,
    "start_time": "2024-06-21T04:30:32.543Z"
   },
   {
    "duration": 333,
    "start_time": "2024-06-21T04:32:28.687Z"
   },
   {
    "duration": 336,
    "start_time": "2024-06-21T04:39:29.148Z"
   },
   {
    "duration": 180,
    "start_time": "2024-06-21T05:04:17.203Z"
   },
   {
    "duration": 11,
    "start_time": "2024-06-21T05:06:12.345Z"
   },
   {
    "duration": 5011,
    "start_time": "2024-06-23T19:00:01.072Z"
   },
   {
    "duration": 374,
    "start_time": "2024-06-23T19:00:06.087Z"
   },
   {
    "duration": 23,
    "start_time": "2024-06-23T19:00:06.464Z"
   },
   {
    "duration": 31,
    "start_time": "2024-06-23T19:00:06.492Z"
   },
   {
    "duration": 15,
    "start_time": "2024-06-23T19:00:06.526Z"
   },
   {
    "duration": 18,
    "start_time": "2024-06-23T19:00:06.545Z"
   },
   {
    "duration": 43,
    "start_time": "2024-06-23T19:00:06.566Z"
   },
   {
    "duration": 12,
    "start_time": "2024-06-23T19:00:06.612Z"
   },
   {
    "duration": 6,
    "start_time": "2024-06-23T19:00:06.627Z"
   },
   {
    "duration": 8,
    "start_time": "2024-06-23T19:00:06.640Z"
   },
   {
    "duration": 56,
    "start_time": "2024-06-23T19:00:06.651Z"
   },
   {
    "duration": 26,
    "start_time": "2024-06-23T19:00:06.710Z"
   },
   {
    "duration": 17,
    "start_time": "2024-06-23T19:00:06.738Z"
   },
   {
    "duration": 67,
    "start_time": "2024-06-23T19:00:06.758Z"
   },
   {
    "duration": 29,
    "start_time": "2024-06-23T19:00:06.829Z"
   },
   {
    "duration": 6,
    "start_time": "2024-06-23T19:00:06.861Z"
   },
   {
    "duration": 51,
    "start_time": "2024-06-23T19:00:06.870Z"
   },
   {
    "duration": 15,
    "start_time": "2024-06-23T19:00:06.924Z"
   },
   {
    "duration": 31,
    "start_time": "2024-06-23T19:00:06.942Z"
   },
   {
    "duration": 39,
    "start_time": "2024-06-23T19:00:06.980Z"
   },
   {
    "duration": 23,
    "start_time": "2024-06-23T19:00:07.022Z"
   },
   {
    "duration": 16,
    "start_time": "2024-06-23T19:00:07.048Z"
   },
   {
    "duration": 65,
    "start_time": "2024-06-23T19:00:07.068Z"
   },
   {
    "duration": 41,
    "start_time": "2024-06-23T19:00:07.136Z"
   },
   {
    "duration": 10,
    "start_time": "2024-06-23T19:00:07.206Z"
   },
   {
    "duration": 13,
    "start_time": "2024-06-23T19:00:07.220Z"
   },
   {
    "duration": 93,
    "start_time": "2024-06-23T19:00:07.237Z"
   },
   {
    "duration": 33,
    "start_time": "2024-06-23T19:00:07.337Z"
   },
   {
    "duration": 65,
    "start_time": "2024-06-23T19:00:07.373Z"
   },
   {
    "duration": 48,
    "start_time": "2024-06-23T19:00:07.441Z"
   },
   {
    "duration": 41,
    "start_time": "2024-06-23T19:00:07.507Z"
   },
   {
    "duration": 26,
    "start_time": "2024-06-23T19:00:07.551Z"
   },
   {
    "duration": 1914,
    "start_time": "2024-06-23T19:00:07.607Z"
   },
   {
    "duration": 15,
    "start_time": "2024-06-23T19:16:35.278Z"
   },
   {
    "duration": 16,
    "start_time": "2024-06-23T19:20:15.079Z"
   },
   {
    "duration": 226,
    "start_time": "2024-06-23T19:20:35.006Z"
   },
   {
    "duration": 15,
    "start_time": "2024-06-23T19:22:12.352Z"
   },
   {
    "duration": 207,
    "start_time": "2024-06-23T19:22:29.357Z"
   },
   {
    "duration": 184,
    "start_time": "2024-06-23T19:45:21.466Z"
   },
   {
    "duration": 4,
    "start_time": "2024-06-23T19:45:46.579Z"
   },
   {
    "duration": 311,
    "start_time": "2024-06-23T19:45:46.588Z"
   },
   {
    "duration": 17,
    "start_time": "2024-06-23T19:45:46.902Z"
   },
   {
    "duration": 13,
    "start_time": "2024-06-23T19:45:46.922Z"
   },
   {
    "duration": 11,
    "start_time": "2024-06-23T19:45:46.939Z"
   },
   {
    "duration": 51,
    "start_time": "2024-06-23T19:45:46.957Z"
   },
   {
    "duration": 14,
    "start_time": "2024-06-23T19:45:47.011Z"
   },
   {
    "duration": 12,
    "start_time": "2024-06-23T19:45:47.028Z"
   },
   {
    "duration": 7,
    "start_time": "2024-06-23T19:45:47.043Z"
   },
   {
    "duration": 53,
    "start_time": "2024-06-23T19:45:47.053Z"
   },
   {
    "duration": 7,
    "start_time": "2024-06-23T19:45:47.112Z"
   },
   {
    "duration": 27,
    "start_time": "2024-06-23T19:45:47.123Z"
   },
   {
    "duration": 18,
    "start_time": "2024-06-23T19:45:47.153Z"
   },
   {
    "duration": 34,
    "start_time": "2024-06-23T19:45:47.206Z"
   },
   {
    "duration": 27,
    "start_time": "2024-06-23T19:45:47.243Z"
   },
   {
    "duration": 34,
    "start_time": "2024-06-23T19:45:47.273Z"
   },
   {
    "duration": 20,
    "start_time": "2024-06-23T19:45:47.311Z"
   },
   {
    "duration": 13,
    "start_time": "2024-06-23T19:45:47.334Z"
   },
   {
    "duration": 59,
    "start_time": "2024-06-23T19:45:47.350Z"
   },
   {
    "duration": 16,
    "start_time": "2024-06-23T19:45:47.412Z"
   },
   {
    "duration": 22,
    "start_time": "2024-06-23T19:45:47.431Z"
   },
   {
    "duration": 50,
    "start_time": "2024-06-23T19:45:47.456Z"
   },
   {
    "duration": 25,
    "start_time": "2024-06-23T19:45:47.509Z"
   },
   {
    "duration": 33,
    "start_time": "2024-06-23T19:45:47.537Z"
   },
   {
    "duration": 37,
    "start_time": "2024-06-23T19:45:47.573Z"
   },
   {
    "duration": 11,
    "start_time": "2024-06-23T19:45:47.613Z"
   },
   {
    "duration": 84,
    "start_time": "2024-06-23T19:45:47.628Z"
   },
   {
    "duration": 31,
    "start_time": "2024-06-23T19:45:47.714Z"
   },
   {
    "duration": 61,
    "start_time": "2024-06-23T19:45:47.752Z"
   },
   {
    "duration": 45,
    "start_time": "2024-06-23T19:45:47.816Z"
   },
   {
    "duration": 67,
    "start_time": "2024-06-23T19:45:47.864Z"
   },
   {
    "duration": 26,
    "start_time": "2024-06-23T19:45:47.934Z"
   },
   {
    "duration": 1855,
    "start_time": "2024-06-23T19:45:47.962Z"
   },
   {
    "duration": 318,
    "start_time": "2024-06-23T19:45:49.820Z"
   },
   {
    "duration": 433,
    "start_time": "2024-06-23T19:45:50.141Z"
   },
   {
    "duration": 33,
    "start_time": "2024-06-23T19:45:50.576Z"
   },
   {
    "duration": 286,
    "start_time": "2024-06-23T19:45:50.612Z"
   },
   {
    "duration": 312,
    "start_time": "2024-06-23T19:45:50.906Z"
   },
   {
    "duration": 15,
    "start_time": "2024-06-23T19:45:51.220Z"
   },
   {
    "duration": 218,
    "start_time": "2024-06-23T19:45:51.238Z"
   },
   {
    "duration": 347,
    "start_time": "2024-06-23T19:45:51.459Z"
   },
   {
    "duration": 14,
    "start_time": "2024-06-23T19:45:51.809Z"
   },
   {
    "duration": 228,
    "start_time": "2024-06-23T19:45:51.826Z"
   },
   {
    "duration": 198,
    "start_time": "2024-06-23T19:45:52.057Z"
   },
   {
    "duration": 10,
    "start_time": "2024-06-23T19:45:52.260Z"
   },
   {
    "duration": 5,
    "start_time": "2024-06-23T19:45:52.273Z"
   },
   {
    "duration": 1845,
    "start_time": "2024-06-23T19:52:56.327Z"
   },
   {
    "duration": 4,
    "start_time": "2024-06-23T19:53:21.456Z"
   },
   {
    "duration": 294,
    "start_time": "2024-06-23T19:53:21.463Z"
   },
   {
    "duration": 16,
    "start_time": "2024-06-23T19:53:21.761Z"
   },
   {
    "duration": 28,
    "start_time": "2024-06-23T19:53:21.780Z"
   },
   {
    "duration": 11,
    "start_time": "2024-06-23T19:53:21.811Z"
   },
   {
    "duration": 15,
    "start_time": "2024-06-23T19:53:21.825Z"
   },
   {
    "duration": 14,
    "start_time": "2024-06-23T19:53:21.843Z"
   },
   {
    "duration": 52,
    "start_time": "2024-06-23T19:53:21.860Z"
   },
   {
    "duration": 6,
    "start_time": "2024-06-23T19:53:21.915Z"
   },
   {
    "duration": 7,
    "start_time": "2024-06-23T19:53:21.924Z"
   },
   {
    "duration": 6,
    "start_time": "2024-06-23T19:53:21.937Z"
   },
   {
    "duration": 70,
    "start_time": "2024-06-23T19:53:21.947Z"
   },
   {
    "duration": 17,
    "start_time": "2024-06-23T19:53:22.020Z"
   },
   {
    "duration": 29,
    "start_time": "2024-06-23T19:53:22.040Z"
   },
   {
    "duration": 27,
    "start_time": "2024-06-23T19:53:22.106Z"
   },
   {
    "duration": 7,
    "start_time": "2024-06-23T19:53:22.137Z"
   },
   {
    "duration": 20,
    "start_time": "2024-06-23T19:53:22.147Z"
   },
   {
    "duration": 13,
    "start_time": "2024-06-23T19:53:22.206Z"
   },
   {
    "duration": 20,
    "start_time": "2024-06-23T19:53:22.222Z"
   },
   {
    "duration": 16,
    "start_time": "2024-06-23T19:53:22.245Z"
   },
   {
    "duration": 58,
    "start_time": "2024-06-23T19:53:22.264Z"
   },
   {
    "duration": 16,
    "start_time": "2024-06-23T19:53:22.324Z"
   },
   {
    "duration": 24,
    "start_time": "2024-06-23T19:53:22.343Z"
   },
   {
    "duration": 34,
    "start_time": "2024-06-23T19:53:22.405Z"
   },
   {
    "duration": 7,
    "start_time": "2024-06-23T19:53:22.442Z"
   },
   {
    "duration": 13,
    "start_time": "2024-06-23T19:53:22.451Z"
   },
   {
    "duration": 87,
    "start_time": "2024-06-23T19:53:22.467Z"
   },
   {
    "duration": 30,
    "start_time": "2024-06-23T19:53:22.557Z"
   },
   {
    "duration": 39,
    "start_time": "2024-06-23T19:53:22.612Z"
   },
   {
    "duration": 67,
    "start_time": "2024-06-23T19:53:22.654Z"
   },
   {
    "duration": 39,
    "start_time": "2024-06-23T19:53:22.724Z"
   },
   {
    "duration": 54,
    "start_time": "2024-06-23T19:53:22.765Z"
   },
   {
    "duration": 2135,
    "start_time": "2024-06-23T19:53:22.825Z"
   },
   {
    "duration": 374,
    "start_time": "2024-06-23T19:53:24.963Z"
   },
   {
    "duration": 451,
    "start_time": "2024-06-23T19:53:25.340Z"
   },
   {
    "duration": 23,
    "start_time": "2024-06-23T19:53:25.794Z"
   },
   {
    "duration": 227,
    "start_time": "2024-06-23T19:53:25.819Z"
   },
   {
    "duration": 409,
    "start_time": "2024-06-23T19:53:26.049Z"
   },
   {
    "duration": 15,
    "start_time": "2024-06-23T19:53:26.460Z"
   },
   {
    "duration": 272,
    "start_time": "2024-06-23T19:53:26.478Z"
   },
   {
    "duration": 360,
    "start_time": "2024-06-23T19:53:26.753Z"
   },
   {
    "duration": 20,
    "start_time": "2024-06-23T19:53:27.116Z"
   },
   {
    "duration": 255,
    "start_time": "2024-06-23T19:53:27.139Z"
   },
   {
    "duration": 224,
    "start_time": "2024-06-23T19:53:27.397Z"
   },
   {
    "duration": 182,
    "start_time": "2024-06-23T19:54:48.365Z"
   },
   {
    "duration": 408,
    "start_time": "2024-06-23T19:55:59.221Z"
   },
   {
    "duration": 183,
    "start_time": "2024-06-23T19:57:57.608Z"
   },
   {
    "duration": 893,
    "start_time": "2024-06-23T20:08:00.086Z"
   },
   {
    "duration": 168,
    "start_time": "2024-06-23T20:08:35.050Z"
   },
   {
    "duration": 22,
    "start_time": "2024-06-23T20:09:18.956Z"
   },
   {
    "duration": 21,
    "start_time": "2024-06-23T20:09:29.780Z"
   },
   {
    "duration": 28,
    "start_time": "2024-06-23T20:09:37.018Z"
   },
   {
    "duration": 84,
    "start_time": "2024-06-23T20:11:37.170Z"
   },
   {
    "duration": 25,
    "start_time": "2024-06-23T20:11:47.021Z"
   },
   {
    "duration": 84,
    "start_time": "2024-06-23T20:13:28.226Z"
   },
   {
    "duration": 28,
    "start_time": "2024-06-23T20:16:20.568Z"
   },
   {
    "duration": 43,
    "start_time": "2024-06-23T20:16:39.737Z"
   },
   {
    "duration": 36,
    "start_time": "2024-06-23T20:17:55.778Z"
   },
   {
    "duration": 37,
    "start_time": "2024-06-23T20:19:55.878Z"
   },
   {
    "duration": 23,
    "start_time": "2024-06-23T20:20:23.854Z"
   },
   {
    "duration": 14,
    "start_time": "2024-06-23T20:24:09.244Z"
   },
   {
    "duration": 89,
    "start_time": "2024-06-23T20:36:49.576Z"
   },
   {
    "duration": 4,
    "start_time": "2024-06-23T20:37:03.150Z"
   },
   {
    "duration": 300,
    "start_time": "2024-06-23T20:37:03.158Z"
   },
   {
    "duration": 19,
    "start_time": "2024-06-23T20:37:03.461Z"
   },
   {
    "duration": 30,
    "start_time": "2024-06-23T20:37:03.483Z"
   },
   {
    "duration": 10,
    "start_time": "2024-06-23T20:37:03.518Z"
   },
   {
    "duration": 16,
    "start_time": "2024-06-23T20:37:03.531Z"
   },
   {
    "duration": 18,
    "start_time": "2024-06-23T20:37:03.549Z"
   },
   {
    "duration": 14,
    "start_time": "2024-06-23T20:37:03.607Z"
   },
   {
    "duration": 7,
    "start_time": "2024-06-23T20:37:03.623Z"
   },
   {
    "duration": 7,
    "start_time": "2024-06-23T20:37:03.633Z"
   },
   {
    "duration": 8,
    "start_time": "2024-06-23T20:37:03.645Z"
   },
   {
    "duration": 69,
    "start_time": "2024-06-23T20:37:03.657Z"
   },
   {
    "duration": 16,
    "start_time": "2024-06-23T20:37:03.729Z"
   },
   {
    "duration": 62,
    "start_time": "2024-06-23T20:37:03.748Z"
   },
   {
    "duration": 27,
    "start_time": "2024-06-23T20:37:03.813Z"
   },
   {
    "duration": 7,
    "start_time": "2024-06-23T20:37:03.842Z"
   },
   {
    "duration": 55,
    "start_time": "2024-06-23T20:37:03.852Z"
   },
   {
    "duration": 14,
    "start_time": "2024-06-23T20:37:03.910Z"
   },
   {
    "duration": 23,
    "start_time": "2024-06-23T20:37:03.928Z"
   },
   {
    "duration": 16,
    "start_time": "2024-06-23T20:37:03.955Z"
   },
   {
    "duration": 23,
    "start_time": "2024-06-23T20:37:04.006Z"
   },
   {
    "duration": 14,
    "start_time": "2024-06-23T20:37:04.032Z"
   },
   {
    "duration": 58,
    "start_time": "2024-06-23T20:37:04.049Z"
   },
   {
    "duration": 33,
    "start_time": "2024-06-23T20:37:04.110Z"
   },
   {
    "duration": 7,
    "start_time": "2024-06-23T20:37:04.147Z"
   },
   {
    "duration": 12,
    "start_time": "2024-06-23T20:37:04.156Z"
   },
   {
    "duration": 87,
    "start_time": "2024-06-23T20:37:04.171Z"
   },
   {
    "duration": 54,
    "start_time": "2024-06-23T20:37:04.261Z"
   },
   {
    "duration": 43,
    "start_time": "2024-06-23T20:37:04.323Z"
   },
   {
    "duration": 68,
    "start_time": "2024-06-23T20:37:04.369Z"
   },
   {
    "duration": 43,
    "start_time": "2024-06-23T20:37:04.440Z"
   },
   {
    "duration": 40,
    "start_time": "2024-06-23T20:37:04.488Z"
   },
   {
    "duration": 1813,
    "start_time": "2024-06-23T20:37:04.531Z"
   },
   {
    "duration": 327,
    "start_time": "2024-06-23T20:37:06.347Z"
   },
   {
    "duration": 425,
    "start_time": "2024-06-23T20:37:06.677Z"
   },
   {
    "duration": 15,
    "start_time": "2024-06-23T20:37:07.107Z"
   },
   {
    "duration": 231,
    "start_time": "2024-06-23T20:37:07.125Z"
   },
   {
    "duration": 323,
    "start_time": "2024-06-23T20:37:07.359Z"
   },
   {
    "duration": 28,
    "start_time": "2024-06-23T20:37:07.686Z"
   },
   {
    "duration": 226,
    "start_time": "2024-06-23T20:37:07.717Z"
   },
   {
    "duration": 347,
    "start_time": "2024-06-23T20:37:07.946Z"
   },
   {
    "duration": 23,
    "start_time": "2024-06-23T20:37:08.296Z"
   },
   {
    "duration": 240,
    "start_time": "2024-06-23T20:37:08.322Z"
   },
   {
    "duration": 196,
    "start_time": "2024-06-23T20:37:08.565Z"
   },
   {
    "duration": 10,
    "start_time": "2024-06-23T20:37:08.764Z"
   },
   {
    "duration": 38,
    "start_time": "2024-06-23T20:37:08.781Z"
   },
   {
    "duration": 9,
    "start_time": "2024-06-23T20:38:59.210Z"
   },
   {
    "duration": 4946,
    "start_time": "2024-06-23T20:48:17.714Z"
   },
   {
    "duration": 365,
    "start_time": "2024-06-23T20:48:22.664Z"
   },
   {
    "duration": 16,
    "start_time": "2024-06-23T20:48:23.032Z"
   },
   {
    "duration": 17,
    "start_time": "2024-06-23T20:48:23.053Z"
   },
   {
    "duration": 12,
    "start_time": "2024-06-23T20:48:23.074Z"
   },
   {
    "duration": 45,
    "start_time": "2024-06-23T20:48:23.089Z"
   },
   {
    "duration": 15,
    "start_time": "2024-06-23T20:48:23.136Z"
   },
   {
    "duration": 11,
    "start_time": "2024-06-23T20:48:23.154Z"
   },
   {
    "duration": 6,
    "start_time": "2024-06-23T20:48:23.168Z"
   },
   {
    "duration": 7,
    "start_time": "2024-06-23T20:48:23.222Z"
   },
   {
    "duration": 8,
    "start_time": "2024-06-23T20:48:23.233Z"
   },
   {
    "duration": 26,
    "start_time": "2024-06-23T20:48:23.245Z"
   },
   {
    "duration": 59,
    "start_time": "2024-06-23T20:48:23.273Z"
   },
   {
    "duration": 32,
    "start_time": "2024-06-23T20:48:23.335Z"
   },
   {
    "duration": 57,
    "start_time": "2024-06-23T20:48:23.370Z"
   },
   {
    "duration": 7,
    "start_time": "2024-06-23T20:48:23.430Z"
   },
   {
    "duration": 20,
    "start_time": "2024-06-23T20:48:23.440Z"
   },
   {
    "duration": 19,
    "start_time": "2024-06-23T20:48:23.463Z"
   },
   {
    "duration": 53,
    "start_time": "2024-06-23T20:48:23.485Z"
   },
   {
    "duration": 19,
    "start_time": "2024-06-23T20:48:23.541Z"
   },
   {
    "duration": 64,
    "start_time": "2024-06-23T20:48:23.564Z"
   },
   {
    "duration": 16,
    "start_time": "2024-06-23T20:48:23.635Z"
   },
   {
    "duration": 25,
    "start_time": "2024-06-23T20:48:23.654Z"
   },
   {
    "duration": 68,
    "start_time": "2024-06-23T20:48:23.682Z"
   },
   {
    "duration": 7,
    "start_time": "2024-06-23T20:48:23.753Z"
   },
   {
    "duration": 12,
    "start_time": "2024-06-23T20:48:23.764Z"
   },
   {
    "duration": 95,
    "start_time": "2024-06-23T20:48:23.780Z"
   },
   {
    "duration": 45,
    "start_time": "2024-06-23T20:48:23.882Z"
   },
   {
    "duration": 43,
    "start_time": "2024-06-23T20:48:23.930Z"
   },
   {
    "duration": 67,
    "start_time": "2024-06-23T20:48:23.975Z"
   },
   {
    "duration": 39,
    "start_time": "2024-06-23T20:48:24.045Z"
   },
   {
    "duration": 50,
    "start_time": "2024-06-23T20:48:24.087Z"
   },
   {
    "duration": 1885,
    "start_time": "2024-06-23T20:48:24.140Z"
   },
   {
    "duration": 347,
    "start_time": "2024-06-23T20:48:26.028Z"
   },
   {
    "duration": 436,
    "start_time": "2024-06-23T20:48:26.378Z"
   },
   {
    "duration": 16,
    "start_time": "2024-06-23T20:48:26.822Z"
   },
   {
    "duration": 240,
    "start_time": "2024-06-23T20:48:26.841Z"
   },
   {
    "duration": 333,
    "start_time": "2024-06-23T20:48:27.084Z"
   },
   {
    "duration": 15,
    "start_time": "2024-06-23T20:48:27.424Z"
   },
   {
    "duration": 285,
    "start_time": "2024-06-23T20:48:27.442Z"
   },
   {
    "duration": 357,
    "start_time": "2024-06-23T20:48:27.730Z"
   },
   {
    "duration": 14,
    "start_time": "2024-06-23T20:48:28.091Z"
   },
   {
    "duration": 228,
    "start_time": "2024-06-23T20:48:28.124Z"
   },
   {
    "duration": 191,
    "start_time": "2024-06-23T20:48:28.354Z"
   },
   {
    "duration": 11,
    "start_time": "2024-06-23T20:48:28.548Z"
   },
   {
    "duration": 15,
    "start_time": "2024-06-23T20:48:28.562Z"
   },
   {
    "duration": 340,
    "start_time": "2024-06-28T02:08:35.424Z"
   },
   {
    "duration": 5183,
    "start_time": "2024-06-28T02:08:44.810Z"
   },
   {
    "duration": 388,
    "start_time": "2024-06-28T02:08:49.998Z"
   },
   {
    "duration": 18,
    "start_time": "2024-06-28T02:08:50.392Z"
   },
   {
    "duration": 18,
    "start_time": "2024-06-28T02:08:50.414Z"
   },
   {
    "duration": 13,
    "start_time": "2024-06-28T02:08:50.439Z"
   },
   {
    "duration": 18,
    "start_time": "2024-06-28T02:08:50.455Z"
   },
   {
    "duration": 16,
    "start_time": "2024-06-28T02:08:50.513Z"
   },
   {
    "duration": 11,
    "start_time": "2024-06-28T02:08:50.532Z"
   },
   {
    "duration": 7,
    "start_time": "2024-06-28T02:08:50.547Z"
   },
   {
    "duration": 57,
    "start_time": "2024-06-28T02:08:50.558Z"
   },
   {
    "duration": 7,
    "start_time": "2024-06-28T02:08:50.621Z"
   },
   {
    "duration": 152,
    "start_time": "2024-06-28T02:08:50.632Z"
   },
   {
    "duration": 25,
    "start_time": "2024-06-28T02:08:57.479Z"
   },
   {
    "duration": 12,
    "start_time": "2024-06-28T02:10:55.469Z"
   },
   {
    "duration": 11,
    "start_time": "2024-06-28T02:11:14.694Z"
   },
   {
    "duration": 84,
    "start_time": "2024-06-28T02:13:05.884Z"
   },
   {
    "duration": 45,
    "start_time": "2024-06-28T02:14:14.935Z"
   },
   {
    "duration": 90,
    "start_time": "2024-06-28T02:15:23.723Z"
   },
   {
    "duration": 9,
    "start_time": "2024-06-28T02:17:02.136Z"
   },
   {
    "duration": 18,
    "start_time": "2024-06-28T02:22:27.341Z"
   },
   {
    "duration": 6,
    "start_time": "2024-06-28T02:29:10.535Z"
   },
   {
    "duration": 20,
    "start_time": "2024-06-28T02:30:17.440Z"
   },
   {
    "duration": 4806,
    "start_time": "2024-06-28T07:35:03.205Z"
   },
   {
    "duration": 372,
    "start_time": "2024-06-28T07:35:08.015Z"
   },
   {
    "duration": 16,
    "start_time": "2024-06-28T07:35:08.390Z"
   },
   {
    "duration": 17,
    "start_time": "2024-06-28T07:35:08.411Z"
   },
   {
    "duration": 12,
    "start_time": "2024-06-28T07:35:08.431Z"
   },
   {
    "duration": 8,
    "start_time": "2024-06-28T07:35:08.447Z"
   },
   {
    "duration": 52,
    "start_time": "2024-06-28T07:35:08.459Z"
   },
   {
    "duration": 14,
    "start_time": "2024-06-28T07:35:08.514Z"
   },
   {
    "duration": 10,
    "start_time": "2024-06-28T07:35:08.531Z"
   },
   {
    "duration": 5,
    "start_time": "2024-06-28T07:35:08.548Z"
   },
   {
    "duration": 7,
    "start_time": "2024-06-28T07:35:08.601Z"
   },
   {
    "duration": 7,
    "start_time": "2024-06-28T07:35:08.611Z"
   },
   {
    "duration": 10,
    "start_time": "2024-06-28T07:35:08.622Z"
   },
   {
    "duration": 68,
    "start_time": "2024-06-28T07:35:08.635Z"
   },
   {
    "duration": 16,
    "start_time": "2024-06-28T07:35:08.706Z"
   },
   {
    "duration": 34,
    "start_time": "2024-06-28T07:35:08.725Z"
   },
   {
    "duration": 59,
    "start_time": "2024-06-28T07:35:08.761Z"
   },
   {
    "duration": 7,
    "start_time": "2024-06-28T07:35:08.823Z"
   },
   {
    "duration": 75,
    "start_time": "2024-06-28T07:35:08.832Z"
   },
   {
    "duration": 17,
    "start_time": "2024-06-28T07:35:08.909Z"
   },
   {
    "duration": 20,
    "start_time": "2024-06-28T07:35:08.929Z"
   },
   {
    "duration": 50,
    "start_time": "2024-06-28T07:35:08.953Z"
   },
   {
    "duration": 20,
    "start_time": "2024-06-28T07:35:09.006Z"
   },
   {
    "duration": 17,
    "start_time": "2024-06-28T07:35:09.029Z"
   },
   {
    "duration": 67,
    "start_time": "2024-06-28T07:35:09.049Z"
   },
   {
    "duration": 22,
    "start_time": "2024-06-28T07:35:09.120Z"
   },
   {
    "duration": 15,
    "start_time": "2024-06-28T07:35:09.145Z"
   },
   {
    "duration": 54,
    "start_time": "2024-06-28T07:35:09.169Z"
   },
   {
    "duration": 6,
    "start_time": "2024-06-28T07:35:09.226Z"
   },
   {
    "duration": 21,
    "start_time": "2024-06-28T07:35:09.235Z"
   },
   {
    "duration": 71,
    "start_time": "2024-06-28T07:35:09.260Z"
   },
   {
    "duration": 7,
    "start_time": "2024-06-28T07:35:09.333Z"
   },
   {
    "duration": 91,
    "start_time": "2024-06-28T07:35:09.344Z"
   },
   {
    "duration": 13,
    "start_time": "2024-06-28T07:35:09.438Z"
   },
   {
    "duration": 79,
    "start_time": "2024-06-28T07:35:09.454Z"
   },
   {
    "duration": 32,
    "start_time": "2024-06-28T07:35:09.536Z"
   },
   {
    "duration": 58,
    "start_time": "2024-06-28T07:35:09.573Z"
   },
   {
    "duration": 47,
    "start_time": "2024-06-28T07:35:09.633Z"
   },
   {
    "duration": 39,
    "start_time": "2024-06-28T07:35:09.702Z"
   },
   {
    "duration": 25,
    "start_time": "2024-06-28T07:35:09.744Z"
   },
   {
    "duration": 1825,
    "start_time": "2024-06-28T07:35:09.801Z"
   },
   {
    "duration": 337,
    "start_time": "2024-06-28T07:35:11.629Z"
   },
   {
    "duration": 426,
    "start_time": "2024-06-28T07:35:11.969Z"
   },
   {
    "duration": 15,
    "start_time": "2024-06-28T07:35:12.401Z"
   },
   {
    "duration": 246,
    "start_time": "2024-06-28T07:35:12.419Z"
   },
   {
    "duration": 320,
    "start_time": "2024-06-28T07:35:12.668Z"
   },
   {
    "duration": 15,
    "start_time": "2024-06-28T07:35:13.002Z"
   },
   {
    "duration": 217,
    "start_time": "2024-06-28T07:35:13.020Z"
   },
   {
    "duration": 355,
    "start_time": "2024-06-28T07:35:13.240Z"
   },
   {
    "duration": 14,
    "start_time": "2024-06-28T07:35:13.600Z"
   },
   {
    "duration": 303,
    "start_time": "2024-06-28T07:35:13.617Z"
   },
   {
    "duration": 197,
    "start_time": "2024-06-28T07:35:13.924Z"
   },
   {
    "duration": 11,
    "start_time": "2024-06-28T07:35:14.124Z"
   },
   {
    "duration": 15,
    "start_time": "2024-06-28T07:35:14.138Z"
   }
  ],
  "kernelspec": {
   "display_name": "Python 3 (ipykernel)",
   "language": "python",
   "name": "python3"
  },
  "language_info": {
   "codemirror_mode": {
    "name": "ipython",
    "version": 3
   },
   "file_extension": ".py",
   "mimetype": "text/x-python",
   "name": "python",
   "nbconvert_exporter": "python",
   "pygments_lexer": "ipython3",
   "version": "3.9.19"
  },
  "toc": {
   "base_numbering": 1,
   "nav_menu": {},
   "number_sections": true,
   "sideBar": true,
   "skip_h1_title": false,
   "title_cell": "Table of Contents",
   "title_sidebar": "Contents",
   "toc_cell": false,
   "toc_position": {},
   "toc_section_display": true,
   "toc_window_display": true
  }
 },
 "nbformat": 4,
 "nbformat_minor": 2
}
