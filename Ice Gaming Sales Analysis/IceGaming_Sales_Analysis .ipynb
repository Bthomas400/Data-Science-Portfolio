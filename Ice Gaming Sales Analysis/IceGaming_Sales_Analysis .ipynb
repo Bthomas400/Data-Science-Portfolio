{
 "cells": [
  {
   "cell_type": "markdown",
   "metadata": {},
   "source": [
    "## Ice Gaming Sales Analysis"
   ]
  },
  {
   "cell_type": "markdown",
   "metadata": {},
   "source": [
    "## Introduction\n",
    "\n",
    "The goal of this project is understanding the factors that contribute to a game's success in order to apply strategic planning and marketing initiatives. This project focuses on analyzing comprehensive data from the online store Ice, which sells video games globally. The dataset spans from 1980 to 2016, providing insights into game releases, platform popularity, genre preferences, and the impact of user and critic reviews on sales.\n",
    "\n",
    "The primary goal of this analysis is to uncover patterns that distinguish successful games from others, thereby enabling Ice to identify potential blockbuster titles and optimize advertising campaigns for the upcoming year, 2017. By using historical sales data and demographic information such as ESRB ratings, this project aims to provide actionable recommendations for maximizing market penetration and revenue growth."
   ]
  },
  {
   "cell_type": "markdown",
   "metadata": {},
   "source": [
    "## Initialization"
   ]
  },
  {
   "cell_type": "code",
   "execution_count": 1,
   "metadata": {},
   "outputs": [],
   "source": [
    "import pandas as pd \n",
    "import matplotlib.pyplot as plt\n",
    "from scipy import stats"
   ]
  },
  {
   "cell_type": "markdown",
   "metadata": {},
   "source": [
    "## Load data"
   ]
  },
  {
   "cell_type": "code",
   "execution_count": 2,
   "metadata": {},
   "outputs": [
    {
     "data": {
      "text/html": [
       "<div>\n",
       "<style scoped>\n",
       "    .dataframe tbody tr th:only-of-type {\n",
       "        vertical-align: middle;\n",
       "    }\n",
       "\n",
       "    .dataframe tbody tr th {\n",
       "        vertical-align: top;\n",
       "    }\n",
       "\n",
       "    .dataframe thead th {\n",
       "        text-align: right;\n",
       "    }\n",
       "</style>\n",
       "<table border=\"1\" class=\"dataframe\">\n",
       "  <thead>\n",
       "    <tr style=\"text-align: right;\">\n",
       "      <th></th>\n",
       "      <th>Name</th>\n",
       "      <th>Platform</th>\n",
       "      <th>Year_of_Release</th>\n",
       "      <th>Genre</th>\n",
       "      <th>NA_sales</th>\n",
       "      <th>EU_sales</th>\n",
       "      <th>JP_sales</th>\n",
       "      <th>Other_sales</th>\n",
       "      <th>Critic_Score</th>\n",
       "      <th>User_Score</th>\n",
       "      <th>Rating</th>\n",
       "    </tr>\n",
       "  </thead>\n",
       "  <tbody>\n",
       "    <tr>\n",
       "      <th>0</th>\n",
       "      <td>Wii Sports</td>\n",
       "      <td>Wii</td>\n",
       "      <td>2006.0</td>\n",
       "      <td>Sports</td>\n",
       "      <td>41.36</td>\n",
       "      <td>28.96</td>\n",
       "      <td>3.77</td>\n",
       "      <td>8.45</td>\n",
       "      <td>76.0</td>\n",
       "      <td>8</td>\n",
       "      <td>E</td>\n",
       "    </tr>\n",
       "    <tr>\n",
       "      <th>1</th>\n",
       "      <td>Super Mario Bros.</td>\n",
       "      <td>NES</td>\n",
       "      <td>1985.0</td>\n",
       "      <td>Platform</td>\n",
       "      <td>29.08</td>\n",
       "      <td>3.58</td>\n",
       "      <td>6.81</td>\n",
       "      <td>0.77</td>\n",
       "      <td>NaN</td>\n",
       "      <td>NaN</td>\n",
       "      <td>NaN</td>\n",
       "    </tr>\n",
       "    <tr>\n",
       "      <th>2</th>\n",
       "      <td>Mario Kart Wii</td>\n",
       "      <td>Wii</td>\n",
       "      <td>2008.0</td>\n",
       "      <td>Racing</td>\n",
       "      <td>15.68</td>\n",
       "      <td>12.76</td>\n",
       "      <td>3.79</td>\n",
       "      <td>3.29</td>\n",
       "      <td>82.0</td>\n",
       "      <td>8.3</td>\n",
       "      <td>E</td>\n",
       "    </tr>\n",
       "    <tr>\n",
       "      <th>3</th>\n",
       "      <td>Wii Sports Resort</td>\n",
       "      <td>Wii</td>\n",
       "      <td>2009.0</td>\n",
       "      <td>Sports</td>\n",
       "      <td>15.61</td>\n",
       "      <td>10.93</td>\n",
       "      <td>3.28</td>\n",
       "      <td>2.95</td>\n",
       "      <td>80.0</td>\n",
       "      <td>8</td>\n",
       "      <td>E</td>\n",
       "    </tr>\n",
       "    <tr>\n",
       "      <th>4</th>\n",
       "      <td>Pokemon Red/Pokemon Blue</td>\n",
       "      <td>GB</td>\n",
       "      <td>1996.0</td>\n",
       "      <td>Role-Playing</td>\n",
       "      <td>11.27</td>\n",
       "      <td>8.89</td>\n",
       "      <td>10.22</td>\n",
       "      <td>1.00</td>\n",
       "      <td>NaN</td>\n",
       "      <td>NaN</td>\n",
       "      <td>NaN</td>\n",
       "    </tr>\n",
       "  </tbody>\n",
       "</table>\n",
       "</div>"
      ],
      "text/plain": [
       "                       Name Platform  Year_of_Release         Genre  NA_sales  \\\n",
       "0                Wii Sports      Wii           2006.0        Sports     41.36   \n",
       "1         Super Mario Bros.      NES           1985.0      Platform     29.08   \n",
       "2            Mario Kart Wii      Wii           2008.0        Racing     15.68   \n",
       "3         Wii Sports Resort      Wii           2009.0        Sports     15.61   \n",
       "4  Pokemon Red/Pokemon Blue       GB           1996.0  Role-Playing     11.27   \n",
       "\n",
       "   EU_sales  JP_sales  Other_sales  Critic_Score User_Score Rating  \n",
       "0     28.96      3.77         8.45          76.0          8      E  \n",
       "1      3.58      6.81         0.77           NaN        NaN    NaN  \n",
       "2     12.76      3.79         3.29          82.0        8.3      E  \n",
       "3     10.93      3.28         2.95          80.0          8      E  \n",
       "4      8.89     10.22         1.00           NaN        NaN    NaN  "
      ]
     },
     "execution_count": 2,
     "metadata": {},
     "output_type": "execute_result"
    }
   ],
   "source": [
    "#Loading data set \n",
    "games_df= pd.read_csv('/datasets/games.csv')\n",
    "\n",
    "# Display the first few rows of the dataset\n",
    "games_df.head()\n"
   ]
  },
  {
   "cell_type": "code",
   "execution_count": 3,
   "metadata": {},
   "outputs": [
    {
     "name": "stdout",
     "output_type": "stream",
     "text": [
      "<class 'pandas.core.frame.DataFrame'>\n",
      "RangeIndex: 16715 entries, 0 to 16714\n",
      "Data columns (total 11 columns):\n",
      " #   Column           Non-Null Count  Dtype  \n",
      "---  ------           --------------  -----  \n",
      " 0   Name             16713 non-null  object \n",
      " 1   Platform         16715 non-null  object \n",
      " 2   Year_of_Release  16446 non-null  float64\n",
      " 3   Genre            16713 non-null  object \n",
      " 4   NA_sales         16715 non-null  float64\n",
      " 5   EU_sales         16715 non-null  float64\n",
      " 6   JP_sales         16715 non-null  float64\n",
      " 7   Other_sales      16715 non-null  float64\n",
      " 8   Critic_Score     8137 non-null   float64\n",
      " 9   User_Score       10014 non-null  object \n",
      " 10  Rating           9949 non-null   object \n",
      "dtypes: float64(6), object(5)\n",
      "memory usage: 1.4+ MB\n"
     ]
    }
   ],
   "source": [
    "# Display general information about the dataset\n",
    "games_df.info()"
   ]
  },
  {
   "cell_type": "markdown",
   "metadata": {},
   "source": [
    "This table contains 11 columns containing the data types of `object` and `float64` \n",
    "- `Name`: Name of the game \n",
    "- `Year_of_Release`: Year the game was released \n",
    "- `Genre`: Category the game belongs to \n",
    "- `NA_sales`:North American sales in USD million\n",
    "- `EU_sales`: Sales in Europe in USD million\n",
    "- `JP_sales`: Sales in Japan in USD million\n",
    "- `Other_sales`: Sales in otther countries in USD million \n",
    "- `Critic_Score`: Max 100\n",
    "- `User_Score`: Max 10\n",
    "- `Rating`: ESRB  Entertainment Software Rating Board\n",
    "\n",
    "Columns `Name`, `Year_of_Release`, `Genre`, `Critic_Score`, `Critic_Score`, and `Rating` contain missing values "
   ]
  },
  {
   "cell_type": "markdown",
   "metadata": {},
   "source": [
    "### Conclusions\n",
    "\n",
    "- We successfully loaded the dataset and observed its structure, consisting of 11 columns and various data types.\n",
    "- We identified missing values in critical columns such as `name`, `year_of_release`, `genre`, `critic_score`, `user_score`, and `rating`."
   ]
  },
  {
   "cell_type": "markdown",
   "metadata": {},
   "source": [
    "## Prepare Data"
   ]
  },
  {
   "cell_type": "code",
   "execution_count": 4,
   "metadata": {
    "scrolled": true
   },
   "outputs": [
    {
     "data": {
      "text/html": [
       "<div>\n",
       "<style scoped>\n",
       "    .dataframe tbody tr th:only-of-type {\n",
       "        vertical-align: middle;\n",
       "    }\n",
       "\n",
       "    .dataframe tbody tr th {\n",
       "        vertical-align: top;\n",
       "    }\n",
       "\n",
       "    .dataframe thead th {\n",
       "        text-align: right;\n",
       "    }\n",
       "</style>\n",
       "<table border=\"1\" class=\"dataframe\">\n",
       "  <thead>\n",
       "    <tr style=\"text-align: right;\">\n",
       "      <th></th>\n",
       "      <th>name</th>\n",
       "      <th>platform</th>\n",
       "      <th>year_of_release</th>\n",
       "      <th>genre</th>\n",
       "      <th>na_sales</th>\n",
       "      <th>eu_sales</th>\n",
       "      <th>jp_sales</th>\n",
       "      <th>other_sales</th>\n",
       "      <th>critic_score</th>\n",
       "      <th>user_score</th>\n",
       "      <th>rating</th>\n",
       "    </tr>\n",
       "  </thead>\n",
       "  <tbody>\n",
       "    <tr>\n",
       "      <th>0</th>\n",
       "      <td>Wii Sports</td>\n",
       "      <td>Wii</td>\n",
       "      <td>2006.0</td>\n",
       "      <td>Sports</td>\n",
       "      <td>41.36</td>\n",
       "      <td>28.96</td>\n",
       "      <td>3.77</td>\n",
       "      <td>8.45</td>\n",
       "      <td>76.0</td>\n",
       "      <td>8</td>\n",
       "      <td>E</td>\n",
       "    </tr>\n",
       "    <tr>\n",
       "      <th>1</th>\n",
       "      <td>Super Mario Bros.</td>\n",
       "      <td>NES</td>\n",
       "      <td>1985.0</td>\n",
       "      <td>Platform</td>\n",
       "      <td>29.08</td>\n",
       "      <td>3.58</td>\n",
       "      <td>6.81</td>\n",
       "      <td>0.77</td>\n",
       "      <td>NaN</td>\n",
       "      <td>NaN</td>\n",
       "      <td>NaN</td>\n",
       "    </tr>\n",
       "    <tr>\n",
       "      <th>2</th>\n",
       "      <td>Mario Kart Wii</td>\n",
       "      <td>Wii</td>\n",
       "      <td>2008.0</td>\n",
       "      <td>Racing</td>\n",
       "      <td>15.68</td>\n",
       "      <td>12.76</td>\n",
       "      <td>3.79</td>\n",
       "      <td>3.29</td>\n",
       "      <td>82.0</td>\n",
       "      <td>8.3</td>\n",
       "      <td>E</td>\n",
       "    </tr>\n",
       "    <tr>\n",
       "      <th>3</th>\n",
       "      <td>Wii Sports Resort</td>\n",
       "      <td>Wii</td>\n",
       "      <td>2009.0</td>\n",
       "      <td>Sports</td>\n",
       "      <td>15.61</td>\n",
       "      <td>10.93</td>\n",
       "      <td>3.28</td>\n",
       "      <td>2.95</td>\n",
       "      <td>80.0</td>\n",
       "      <td>8</td>\n",
       "      <td>E</td>\n",
       "    </tr>\n",
       "    <tr>\n",
       "      <th>4</th>\n",
       "      <td>Pokemon Red/Pokemon Blue</td>\n",
       "      <td>GB</td>\n",
       "      <td>1996.0</td>\n",
       "      <td>Role-Playing</td>\n",
       "      <td>11.27</td>\n",
       "      <td>8.89</td>\n",
       "      <td>10.22</td>\n",
       "      <td>1.00</td>\n",
       "      <td>NaN</td>\n",
       "      <td>NaN</td>\n",
       "      <td>NaN</td>\n",
       "    </tr>\n",
       "  </tbody>\n",
       "</table>\n",
       "</div>"
      ],
      "text/plain": [
       "                       name platform  year_of_release         genre  na_sales  \\\n",
       "0                Wii Sports      Wii           2006.0        Sports     41.36   \n",
       "1         Super Mario Bros.      NES           1985.0      Platform     29.08   \n",
       "2            Mario Kart Wii      Wii           2008.0        Racing     15.68   \n",
       "3         Wii Sports Resort      Wii           2009.0        Sports     15.61   \n",
       "4  Pokemon Red/Pokemon Blue       GB           1996.0  Role-Playing     11.27   \n",
       "\n",
       "   eu_sales  jp_sales  other_sales  critic_score user_score rating  \n",
       "0     28.96      3.77         8.45          76.0          8      E  \n",
       "1      3.58      6.81         0.77           NaN        NaN    NaN  \n",
       "2     12.76      3.79         3.29          82.0        8.3      E  \n",
       "3     10.93      3.28         2.95          80.0          8      E  \n",
       "4      8.89     10.22         1.00           NaN        NaN    NaN  "
      ]
     },
     "execution_count": 4,
     "metadata": {},
     "output_type": "execute_result"
    }
   ],
   "source": [
    "#Convert column names to lower case\n",
    "games_df.columns= games_df.columns.str.lower()\n",
    "games_df.head()"
   ]
  },
  {
   "cell_type": "code",
   "execution_count": 5,
   "metadata": {},
   "outputs": [
    {
     "name": "stdout",
     "output_type": "stream",
     "text": [
      "<class 'pandas.core.frame.DataFrame'>\n",
      "RangeIndex: 16715 entries, 0 to 16714\n",
      "Data columns (total 11 columns):\n",
      " #   Column           Non-Null Count  Dtype  \n",
      "---  ------           --------------  -----  \n",
      " 0   name             16713 non-null  object \n",
      " 1   platform         16715 non-null  object \n",
      " 2   year_of_release  16446 non-null  float64\n",
      " 3   genre            16713 non-null  object \n",
      " 4   na_sales         16715 non-null  float64\n",
      " 5   eu_sales         16715 non-null  float64\n",
      " 6   jp_sales         16715 non-null  float64\n",
      " 7   other_sales      16715 non-null  float64\n",
      " 8   critic_score     8137 non-null   float64\n",
      " 9   user_score       7590 non-null   float64\n",
      " 10  rating           9949 non-null   object \n",
      "dtypes: float64(7), object(4)\n",
      "memory usage: 1.4+ MB\n"
     ]
    }
   ],
   "source": [
    "# Convert necessary columns to the appropriate data types\n",
    "games_df['user_score'] = pd.to_numeric(games_df['user_score'], errors='coerce')\n",
    "games_df['critic_score'] = pd.to_numeric(games_df['critic_score'], errors='coerce')\n",
    "\n",
    "games_df.info()"
   ]
  },
  {
   "cell_type": "markdown",
   "metadata": {},
   "source": [
    "### Filling missing values in `year_of_release` column "
   ]
  },
  {
   "cell_type": "code",
   "execution_count": 6,
   "metadata": {},
   "outputs": [
    {
     "data": {
      "text/html": [
       "<div>\n",
       "<style scoped>\n",
       "    .dataframe tbody tr th:only-of-type {\n",
       "        vertical-align: middle;\n",
       "    }\n",
       "\n",
       "    .dataframe tbody tr th {\n",
       "        vertical-align: top;\n",
       "    }\n",
       "\n",
       "    .dataframe thead th {\n",
       "        text-align: right;\n",
       "    }\n",
       "</style>\n",
       "<table border=\"1\" class=\"dataframe\">\n",
       "  <thead>\n",
       "    <tr style=\"text-align: right;\">\n",
       "      <th></th>\n",
       "      <th>name</th>\n",
       "      <th>platform</th>\n",
       "      <th>year_of_release</th>\n",
       "      <th>genre</th>\n",
       "      <th>na_sales</th>\n",
       "      <th>eu_sales</th>\n",
       "      <th>jp_sales</th>\n",
       "      <th>other_sales</th>\n",
       "      <th>critic_score</th>\n",
       "      <th>user_score</th>\n",
       "      <th>rating</th>\n",
       "    </tr>\n",
       "  </thead>\n",
       "  <tbody>\n",
       "    <tr>\n",
       "      <th>183</th>\n",
       "      <td>Madden NFL 2004</td>\n",
       "      <td>PS2</td>\n",
       "      <td>2003.0</td>\n",
       "      <td>Sports</td>\n",
       "      <td>4.26</td>\n",
       "      <td>0.26</td>\n",
       "      <td>0.01</td>\n",
       "      <td>0.71</td>\n",
       "      <td>94.0</td>\n",
       "      <td>8.5</td>\n",
       "      <td>E</td>\n",
       "    </tr>\n",
       "    <tr>\n",
       "      <th>1881</th>\n",
       "      <td>Madden NFL 2004</td>\n",
       "      <td>XB</td>\n",
       "      <td>2003.0</td>\n",
       "      <td>Sports</td>\n",
       "      <td>1.02</td>\n",
       "      <td>0.02</td>\n",
       "      <td>0.00</td>\n",
       "      <td>0.05</td>\n",
       "      <td>92.0</td>\n",
       "      <td>8.3</td>\n",
       "      <td>E</td>\n",
       "    </tr>\n",
       "    <tr>\n",
       "      <th>3889</th>\n",
       "      <td>Madden NFL 2004</td>\n",
       "      <td>GC</td>\n",
       "      <td>2003.0</td>\n",
       "      <td>Sports</td>\n",
       "      <td>0.40</td>\n",
       "      <td>0.10</td>\n",
       "      <td>0.00</td>\n",
       "      <td>0.01</td>\n",
       "      <td>94.0</td>\n",
       "      <td>7.7</td>\n",
       "      <td>E</td>\n",
       "    </tr>\n",
       "    <tr>\n",
       "      <th>5708</th>\n",
       "      <td>Madden NFL 2004</td>\n",
       "      <td>GBA</td>\n",
       "      <td>2003.0</td>\n",
       "      <td>Sports</td>\n",
       "      <td>0.22</td>\n",
       "      <td>0.08</td>\n",
       "      <td>0.00</td>\n",
       "      <td>0.01</td>\n",
       "      <td>70.0</td>\n",
       "      <td>6.6</td>\n",
       "      <td>E</td>\n",
       "    </tr>\n",
       "  </tbody>\n",
       "</table>\n",
       "</div>"
      ],
      "text/plain": [
       "                 name platform  year_of_release   genre  na_sales  eu_sales  \\\n",
       "183   Madden NFL 2004      PS2           2003.0  Sports      4.26      0.26   \n",
       "1881  Madden NFL 2004       XB           2003.0  Sports      1.02      0.02   \n",
       "3889  Madden NFL 2004       GC           2003.0  Sports      0.40      0.10   \n",
       "5708  Madden NFL 2004      GBA           2003.0  Sports      0.22      0.08   \n",
       "\n",
       "      jp_sales  other_sales  critic_score  user_score rating  \n",
       "183       0.01         0.71          94.0         8.5      E  \n",
       "1881      0.00         0.05          92.0         8.3      E  \n",
       "3889      0.00         0.01          94.0         7.7      E  \n",
       "5708      0.00         0.01          70.0         6.6      E  "
      ]
     },
     "metadata": {},
     "output_type": "display_data"
    }
   ],
   "source": [
    "# Step 1: Identify rows with missing year_of_release\n",
    "missing_years = games_df[games_df['year_of_release'].isna()]\n",
    "\n",
    "# Step 2: Group by 'name' to identify platforms with missing years\n",
    "grouped_missing_years = missing_years.groupby('name')\n",
    "\n",
    "for name, group in grouped_missing_years:\n",
    "    # Get all unique release years for a game name, excluding NaN values\n",
    "    all_years = games_df[games_df['name'] == name]['year_of_release'].dropna().unique()\n",
    "    \n",
    "    # Check if we have exactly one unique release year for the given game name\n",
    "    if len(all_years) == 1:\n",
    "        common_year = all_years[0]\n",
    "        # Fill NaN values in the original DataFrame with the common year\n",
    "        games_df.loc[(games_df['name'] == name) & (games_df['year_of_release'].isna()), 'year_of_release'] = common_year\n",
    "\n",
    "# Verify the changes\n",
    "\n",
    "display(games_df[games_df['name'] == 'Madden NFL 2004'])"
   ]
  },
  {
   "cell_type": "code",
   "execution_count": 7,
   "metadata": {},
   "outputs": [
    {
     "data": {
      "text/plain": [
       "158"
      ]
     },
     "execution_count": 7,
     "metadata": {},
     "output_type": "execute_result"
    }
   ],
   "source": [
    "games_df['year_of_release'].isna().sum()"
   ]
  },
  {
   "cell_type": "markdown",
   "metadata": {
    "scrolled": true
   },
   "source": [
    "After filling in `year_of_release` column with known values there are still 158 missing values. \n",
    "   - since 158 makes ups about .95% of the data we will drop the remaining missing values and convert data type to integers"
   ]
  },
  {
   "cell_type": "code",
   "execution_count": 8,
   "metadata": {
    "scrolled": true
   },
   "outputs": [
    {
     "data": {
      "text/plain": [
       "dtype('int64')"
      ]
     },
     "execution_count": 8,
     "metadata": {},
     "output_type": "execute_result"
    }
   ],
   "source": [
    "#Drop na and convert to integer\n",
    "games_df = games_df.dropna(subset=['year_of_release'])\n",
    "games_df['year_of_release'] = games_df['year_of_release'].astype('int64')\n",
    "\n",
    "games_df['year_of_release'].dtype"
   ]
  },
  {
   "cell_type": "markdown",
   "metadata": {},
   "source": [
    "Converting `year_of_release`, `user_score`, and `critic_score` to numeric data types to allow for mathmatical operations and prevent potential errors when analysing data. \n",
    "\n",
    "Also ensuring that any values that cannot be converted to a numeric type will be set to `NaN`"
   ]
  },
  {
   "cell_type": "markdown",
   "metadata": {},
   "source": [
    "### Missing Values"
   ]
  },
  {
   "cell_type": "code",
   "execution_count": 9,
   "metadata": {
    "scrolled": true
   },
   "outputs": [
    {
     "data": {
      "text/plain": [
       "name                  2\n",
       "platform              0\n",
       "year_of_release       0\n",
       "genre                 2\n",
       "na_sales              0\n",
       "eu_sales              0\n",
       "jp_sales              0\n",
       "other_sales           0\n",
       "critic_score       8489\n",
       "user_score         9022\n",
       "rating             6697\n",
       "dtype: int64"
      ]
     },
     "execution_count": 9,
     "metadata": {},
     "output_type": "execute_result"
    }
   ],
   "source": [
    "#Check for missing values\n",
    "games_df.isna().sum()"
   ]
  },
  {
   "cell_type": "markdown",
   "metadata": {},
   "source": [
    "For columns with missing values, we'll decide whether to fill them or leave them as is.\n",
    "\n",
    "- `year_of_release`: Missing values could be due to lack of data. We can leave these as NaN.\n",
    "- `user_score` and `critic_score` : We'll leave these as NaN as well because filling them with arbitrary values could skew the analysis.\n",
    "- TBD in `user_score`: We'll treat 'TBD' as missing data and replace it with NaN."
   ]
  },
  {
   "cell_type": "code",
   "execution_count": 10,
   "metadata": {},
   "outputs": [
    {
     "data": {
      "text/html": [
       "<div>\n",
       "<style scoped>\n",
       "    .dataframe tbody tr th:only-of-type {\n",
       "        vertical-align: middle;\n",
       "    }\n",
       "\n",
       "    .dataframe tbody tr th {\n",
       "        vertical-align: top;\n",
       "    }\n",
       "\n",
       "    .dataframe thead th {\n",
       "        text-align: right;\n",
       "    }\n",
       "</style>\n",
       "<table border=\"1\" class=\"dataframe\">\n",
       "  <thead>\n",
       "    <tr style=\"text-align: right;\">\n",
       "      <th></th>\n",
       "      <th>name</th>\n",
       "      <th>platform</th>\n",
       "      <th>year_of_release</th>\n",
       "      <th>genre</th>\n",
       "      <th>na_sales</th>\n",
       "      <th>eu_sales</th>\n",
       "      <th>jp_sales</th>\n",
       "      <th>other_sales</th>\n",
       "      <th>critic_score</th>\n",
       "      <th>user_score</th>\n",
       "      <th>rating</th>\n",
       "    </tr>\n",
       "  </thead>\n",
       "  <tbody>\n",
       "    <tr>\n",
       "      <th>659</th>\n",
       "      <td>NaN</td>\n",
       "      <td>GEN</td>\n",
       "      <td>1993</td>\n",
       "      <td>NaN</td>\n",
       "      <td>1.78</td>\n",
       "      <td>0.53</td>\n",
       "      <td>0.00</td>\n",
       "      <td>0.08</td>\n",
       "      <td>NaN</td>\n",
       "      <td>NaN</td>\n",
       "      <td>NaN</td>\n",
       "    </tr>\n",
       "    <tr>\n",
       "      <th>14244</th>\n",
       "      <td>NaN</td>\n",
       "      <td>GEN</td>\n",
       "      <td>1993</td>\n",
       "      <td>NaN</td>\n",
       "      <td>0.00</td>\n",
       "      <td>0.00</td>\n",
       "      <td>0.03</td>\n",
       "      <td>0.00</td>\n",
       "      <td>NaN</td>\n",
       "      <td>NaN</td>\n",
       "      <td>NaN</td>\n",
       "    </tr>\n",
       "  </tbody>\n",
       "</table>\n",
       "</div>"
      ],
      "text/plain": [
       "      name platform  year_of_release genre  na_sales  eu_sales  jp_sales  \\\n",
       "659    NaN      GEN             1993   NaN      1.78      0.53      0.00   \n",
       "14244  NaN      GEN             1993   NaN      0.00      0.00      0.03   \n",
       "\n",
       "       other_sales  critic_score  user_score rating  \n",
       "659           0.08           NaN         NaN    NaN  \n",
       "14244         0.00           NaN         NaN    NaN  "
      ]
     },
     "execution_count": 10,
     "metadata": {},
     "output_type": "execute_result"
    }
   ],
   "source": [
    "#Display missing values in 'name' column \n",
    "\n",
    "missing_name = games_df[games_df['name'].isna()]\n",
    "missing_name\n"
   ]
  },
  {
   "cell_type": "markdown",
   "metadata": {},
   "source": [
    "The missing values in the `name` and `genre` columns are found in the same row \n",
    "\n",
    "We will drop these rows from the data set because they do not seem to contain significant information.\n"
   ]
  },
  {
   "cell_type": "code",
   "execution_count": 11,
   "metadata": {},
   "outputs": [
    {
     "data": {
      "text/plain": [
       "0"
      ]
     },
     "execution_count": 11,
     "metadata": {},
     "output_type": "execute_result"
    }
   ],
   "source": [
    "#Drop rows with missing values in 'name' column \n",
    "\n",
    "games_df = games_df.dropna(subset=['name'])\n",
    "games_df['name'].isna().sum()"
   ]
  },
  {
   "cell_type": "code",
   "execution_count": 12,
   "metadata": {},
   "outputs": [
    {
     "data": {
      "text/plain": [
       "0    8.0\n",
       "1    NaN\n",
       "2    8.3\n",
       "3    8.0\n",
       "4    NaN\n",
       "Name: user_score, dtype: float64"
      ]
     },
     "execution_count": 12,
     "metadata": {},
     "output_type": "execute_result"
    }
   ],
   "source": [
    "# Replace 'TBD' with NaN in user_score\n",
    "games_df['user_score'] = games_df['user_score'].replace('tbd', pd.NA)\n",
    "games_df['user_score'].head()"
   ]
  },
  {
   "cell_type": "markdown",
   "metadata": {},
   "source": [
    "### Sales"
   ]
  },
  {
   "cell_type": "code",
   "execution_count": 13,
   "metadata": {},
   "outputs": [
    {
     "data": {
      "text/html": [
       "<div>\n",
       "<style scoped>\n",
       "    .dataframe tbody tr th:only-of-type {\n",
       "        vertical-align: middle;\n",
       "    }\n",
       "\n",
       "    .dataframe tbody tr th {\n",
       "        vertical-align: top;\n",
       "    }\n",
       "\n",
       "    .dataframe thead th {\n",
       "        text-align: right;\n",
       "    }\n",
       "</style>\n",
       "<table border=\"1\" class=\"dataframe\">\n",
       "  <thead>\n",
       "    <tr style=\"text-align: right;\">\n",
       "      <th></th>\n",
       "      <th>name</th>\n",
       "      <th>platform</th>\n",
       "      <th>year_of_release</th>\n",
       "      <th>genre</th>\n",
       "      <th>na_sales</th>\n",
       "      <th>eu_sales</th>\n",
       "      <th>jp_sales</th>\n",
       "      <th>other_sales</th>\n",
       "      <th>critic_score</th>\n",
       "      <th>user_score</th>\n",
       "      <th>rating</th>\n",
       "      <th>total_sales</th>\n",
       "    </tr>\n",
       "  </thead>\n",
       "  <tbody>\n",
       "    <tr>\n",
       "      <th>0</th>\n",
       "      <td>Wii Sports</td>\n",
       "      <td>Wii</td>\n",
       "      <td>2006</td>\n",
       "      <td>Sports</td>\n",
       "      <td>41.36</td>\n",
       "      <td>28.96</td>\n",
       "      <td>3.77</td>\n",
       "      <td>8.45</td>\n",
       "      <td>76.0</td>\n",
       "      <td>8.0</td>\n",
       "      <td>E</td>\n",
       "      <td>82.54</td>\n",
       "    </tr>\n",
       "    <tr>\n",
       "      <th>1</th>\n",
       "      <td>Super Mario Bros.</td>\n",
       "      <td>NES</td>\n",
       "      <td>1985</td>\n",
       "      <td>Platform</td>\n",
       "      <td>29.08</td>\n",
       "      <td>3.58</td>\n",
       "      <td>6.81</td>\n",
       "      <td>0.77</td>\n",
       "      <td>NaN</td>\n",
       "      <td>NaN</td>\n",
       "      <td>NaN</td>\n",
       "      <td>40.24</td>\n",
       "    </tr>\n",
       "    <tr>\n",
       "      <th>2</th>\n",
       "      <td>Mario Kart Wii</td>\n",
       "      <td>Wii</td>\n",
       "      <td>2008</td>\n",
       "      <td>Racing</td>\n",
       "      <td>15.68</td>\n",
       "      <td>12.76</td>\n",
       "      <td>3.79</td>\n",
       "      <td>3.29</td>\n",
       "      <td>82.0</td>\n",
       "      <td>8.3</td>\n",
       "      <td>E</td>\n",
       "      <td>35.52</td>\n",
       "    </tr>\n",
       "    <tr>\n",
       "      <th>3</th>\n",
       "      <td>Wii Sports Resort</td>\n",
       "      <td>Wii</td>\n",
       "      <td>2009</td>\n",
       "      <td>Sports</td>\n",
       "      <td>15.61</td>\n",
       "      <td>10.93</td>\n",
       "      <td>3.28</td>\n",
       "      <td>2.95</td>\n",
       "      <td>80.0</td>\n",
       "      <td>8.0</td>\n",
       "      <td>E</td>\n",
       "      <td>32.77</td>\n",
       "    </tr>\n",
       "    <tr>\n",
       "      <th>4</th>\n",
       "      <td>Pokemon Red/Pokemon Blue</td>\n",
       "      <td>GB</td>\n",
       "      <td>1996</td>\n",
       "      <td>Role-Playing</td>\n",
       "      <td>11.27</td>\n",
       "      <td>8.89</td>\n",
       "      <td>10.22</td>\n",
       "      <td>1.00</td>\n",
       "      <td>NaN</td>\n",
       "      <td>NaN</td>\n",
       "      <td>NaN</td>\n",
       "      <td>31.38</td>\n",
       "    </tr>\n",
       "  </tbody>\n",
       "</table>\n",
       "</div>"
      ],
      "text/plain": [
       "                       name platform  year_of_release         genre  na_sales  \\\n",
       "0                Wii Sports      Wii             2006        Sports     41.36   \n",
       "1         Super Mario Bros.      NES             1985      Platform     29.08   \n",
       "2            Mario Kart Wii      Wii             2008        Racing     15.68   \n",
       "3         Wii Sports Resort      Wii             2009        Sports     15.61   \n",
       "4  Pokemon Red/Pokemon Blue       GB             1996  Role-Playing     11.27   \n",
       "\n",
       "   eu_sales  jp_sales  other_sales  critic_score  user_score rating  \\\n",
       "0     28.96      3.77         8.45          76.0         8.0      E   \n",
       "1      3.58      6.81         0.77           NaN         NaN    NaN   \n",
       "2     12.76      3.79         3.29          82.0         8.3      E   \n",
       "3     10.93      3.28         2.95          80.0         8.0      E   \n",
       "4      8.89     10.22         1.00           NaN         NaN    NaN   \n",
       "\n",
       "   total_sales  \n",
       "0        82.54  \n",
       "1        40.24  \n",
       "2        35.52  \n",
       "3        32.77  \n",
       "4        31.38  "
      ]
     },
     "execution_count": 13,
     "metadata": {},
     "output_type": "execute_result"
    }
   ],
   "source": [
    "# Calculate total sales\n",
    "games_df['total_sales'] = games_df[['na_sales', 'eu_sales', 'jp_sales', 'other_sales']].sum(axis=1)\n",
    "games_df.head()"
   ]
  },
  {
   "cell_type": "markdown",
   "metadata": {},
   "source": [
    "Created a new column containing total sales of each game in all regions combined."
   ]
  },
  {
   "cell_type": "markdown",
   "metadata": {},
   "source": [
    "### Duplicates "
   ]
  },
  {
   "cell_type": "code",
   "execution_count": 14,
   "metadata": {},
   "outputs": [
    {
     "name": "stdout",
     "output_type": "stream",
     "text": [
      "Number of duplicate rows in the entire dataset: 0\n",
      "Number of duplicates based on name, year_of_release, and platform: 1\n"
     ]
    }
   ],
   "source": [
    "# Check for duplicates in the entire dataset\n",
    "duplicates = games_df.duplicated()\n",
    "print(\"Number of duplicate rows in the entire dataset:\", duplicates.sum())\n",
    "\n",
    "# Check for duplicates based on name, year_of_release, and platform\n",
    "name_year_platform_duplicates = games_df.duplicated(subset=['name', 'year_of_release', 'platform'])\n",
    "print(\"Number of duplicates based on name, year_of_release, and platform:\", name_year_platform_duplicates.sum())\n",
    "\n"
   ]
  },
  {
   "cell_type": "markdown",
   "metadata": {},
   "source": [
    "### Conclsions \n",
    "\n",
    "- Converted all column names to lowercase for consistency.\n",
    "- Converted `year_of_release`, `user_score`, and `critic_score` to numeric types, handling errors by setting non-convertible values to `NaN`.\n",
    "- Filled missing `year_of_release` values where possible by using existing data within the same game name.\n",
    "- Dropped rows with missing values in `name` and `genre` columns as they contained insufficient information.\n",
    "- Replaced 'TBD' in the `user_score` column with `NaN` to handle it as missing data.\n",
    "- Calculated total sales for each game across all regions by summing the regional sales columns.\n",
    "- Checked for duplicate rows in the entire dataset as well as duplicates based on `name`, `year_of_release` and `platform` specifically"
   ]
  },
  {
   "cell_type": "markdown",
   "metadata": {},
   "source": [
    "## Data Analysis"
   ]
  },
  {
   "cell_type": "markdown",
   "metadata": {},
   "source": [
    "### Games Released per Year"
   ]
  },
  {
   "cell_type": "code",
   "execution_count": 15,
   "metadata": {},
   "outputs": [
    {
     "data": {
      "image/png": "[encoded data removed]",
      "text/plain": [
       "<Figure size 1000x600 with 1 Axes>"
      ]
     },
     "metadata": {},
     "output_type": "display_data"
    }
   ],
   "source": [
    "# Number of games released each year\n",
    "games_per_year = games_df['year_of_release'].value_counts().sort_index()\n",
    "\n",
    "# Plot the data\n",
    "plt.figure(figsize=(10, 6))\n",
    "games_per_year.plot(kind='bar')\n",
    "plt.title('Number of Games Released Per Year')\n",
    "plt.xlabel('Year of Release')\n",
    "plt.ylabel('Number of Games')\n",
    "plt.show()\n"
   ]
  },
  {
   "cell_type": "markdown",
   "metadata": {},
   "source": [
    "<b>Key Observations:<b>\n",
    "\n",
    "<b>Early Years (1980-1995):<b>\n",
    "\n",
    "- There are relatively few games released per year during this period.\n",
    "- This could be due to limited technology and fewer platforms.\n",
    "\n",
    "<b>Mid-1990s to Early 2000s (1995-2005):<b>\n",
    "\n",
    "- There is a noticeable increase in the number of games released each year.\n",
    "- This period likely corresponds to the growth of the gaming industry, with advancements in technology, the popularity of home consoles, and the rise of PC gaming.\n",
    "\n",
    "<b>Peak Years (2006-2011):<b>\n",
    "\n",
    "- The number of games released per year peaks during these years, with 2008 and 2009 showing the highest numbers.\n",
    "- This period corresponds with the rise of major gaming consoles like the PlayStation 3, Xbox 360, and Nintendo Wii, as well as the expansion of the internet.\n",
    "\n",
    "<b>Decline and Plateau (2012-2016):<b>\n",
    "\n",
    "- After 2011, there is a noticeable decline in the number of games released per year.\n",
    "- This decline could be due to various factors, including market saturation, the high cost of game development, and the industry's shift towards fewer but higher-quality releases.\n",
    "- The data for 2016 might be incomplete, leading to an underrepresentation of releases for that year."
   ]
  },
  {
   "cell_type": "code",
   "execution_count": 16,
   "metadata": {},
   "outputs": [
    {
     "data": {
      "image/png": "[encoded data removed]",
      "text/plain": [
       "<Figure size 1000x600 with 1 Axes>"
      ]
     },
     "metadata": {},
     "output_type": "display_data"
    }
   ],
   "source": [
    "# Filter out years before 1995\n",
    "filtered_games_df = games_df[games_df['year_of_release'] >= 1995]\n",
    "\n",
    "# Number of games released each year\n",
    "filtered_games_per_year = filtered_games_df['year_of_release'].value_counts().sort_index()\n",
    "\n",
    "# Plot the data\n",
    "plt.figure(figsize=(10, 6))\n",
    "filtered_games_per_year.plot(kind='bar')\n",
    "plt.title('Number of Games Released Per Year (1995 and onwards)')\n",
    "plt.xlabel('Year of Release')\n",
    "plt.ylabel('Number of Games')\n",
    "plt.show()"
   ]
  },
  {
   "cell_type": "markdown",
   "metadata": {},
   "source": [
    "Due to a limited number of games being released before 1995 we filterd out the data to show the graph from 1995 and onwards"
   ]
  },
  {
   "cell_type": "markdown",
   "metadata": {},
   "source": [
    "### Sales by Platform"
   ]
  },
  {
   "cell_type": "code",
   "execution_count": 17,
   "metadata": {},
   "outputs": [
    {
     "data": {
      "text/plain": [
       "platform\n",
       "PS2     1245.96\n",
       "X360     966.61\n",
       "PS3      934.71\n",
       "Wii      903.31\n",
       "DS       804.26\n",
       "PS       721.55\n",
       "PS4      314.14\n",
       "GBA      313.73\n",
       "PSP      292.77\n",
       "3DS      258.51\n",
       "Name: total_sales, dtype: float64"
      ]
     },
     "execution_count": 17,
     "metadata": {},
     "output_type": "execute_result"
    }
   ],
   "source": [
    "# Total sales by platform\n",
    "platform_sales = filtered_games_df.groupby('platform')['total_sales'].sum().sort_values(ascending=False)\n",
    "\n",
    "# Top platforms by sales\n",
    "top_platforms = platform_sales.head(10)\n",
    "top_platforms\n"
   ]
  },
  {
   "cell_type": "code",
   "execution_count": 18,
   "metadata": {},
   "outputs": [
    {
     "data": {
      "text/plain": [
       "<Figure size 1400x800 with 0 Axes>"
      ]
     },
     "metadata": {},
     "output_type": "display_data"
    },
    {
     "data": {
      "image/png": "[encoded data removed]",
      "text/plain": [
       "<Figure size 640x480 with 1 Axes>"
      ]
     },
     "metadata": {},
     "output_type": "display_data"
    }
   ],
   "source": [
    "# Sales trends for top platforms over the years\n",
    "platform_year_sales = filtered_games_df.pivot_table(index='year_of_release', columns='platform', values='total_sales', aggfunc='sum')\n",
    "\n",
    "# Plot the data \n",
    "plt.figure(figsize=(14, 8))\n",
    "platform_year_sales[top_platforms.index].plot()\n",
    "plt.title('Sales Trends for Top Platforms')\n",
    "plt.xlabel('Year of Release')\n",
    "plt.ylabel('Total Sales')\n",
    "plt.legend(title='Platform')\n",
    "plt.legend(bbox_to_anchor=(1.3, 1))\n",
    "plt.show()\n"
   ]
  },
  {
   "cell_type": "code",
   "execution_count": 19,
   "metadata": {},
   "outputs": [
    {
     "data": {
      "text/html": [
       "<div>\n",
       "<style scoped>\n",
       "    .dataframe tbody tr th:only-of-type {\n",
       "        vertical-align: middle;\n",
       "    }\n",
       "\n",
       "    .dataframe tbody tr th {\n",
       "        vertical-align: top;\n",
       "    }\n",
       "\n",
       "    .dataframe thead th {\n",
       "        text-align: right;\n",
       "    }\n",
       "</style>\n",
       "<table border=\"1\" class=\"dataframe\">\n",
       "  <thead>\n",
       "    <tr style=\"text-align: right;\">\n",
       "      <th></th>\n",
       "      <th>name</th>\n",
       "      <th>platform</th>\n",
       "      <th>year_of_release</th>\n",
       "      <th>genre</th>\n",
       "      <th>na_sales</th>\n",
       "      <th>eu_sales</th>\n",
       "      <th>jp_sales</th>\n",
       "      <th>other_sales</th>\n",
       "      <th>critic_score</th>\n",
       "      <th>user_score</th>\n",
       "      <th>rating</th>\n",
       "      <th>total_sales</th>\n",
       "    </tr>\n",
       "  </thead>\n",
       "  <tbody>\n",
       "    <tr>\n",
       "      <th>0</th>\n",
       "      <td>Wii Sports</td>\n",
       "      <td>Wii</td>\n",
       "      <td>2006</td>\n",
       "      <td>Sports</td>\n",
       "      <td>41.36</td>\n",
       "      <td>28.96</td>\n",
       "      <td>3.77</td>\n",
       "      <td>8.45</td>\n",
       "      <td>76.0</td>\n",
       "      <td>8.0</td>\n",
       "      <td>E</td>\n",
       "      <td>82.54</td>\n",
       "    </tr>\n",
       "    <tr>\n",
       "      <th>2</th>\n",
       "      <td>Mario Kart Wii</td>\n",
       "      <td>Wii</td>\n",
       "      <td>2008</td>\n",
       "      <td>Racing</td>\n",
       "      <td>15.68</td>\n",
       "      <td>12.76</td>\n",
       "      <td>3.79</td>\n",
       "      <td>3.29</td>\n",
       "      <td>82.0</td>\n",
       "      <td>8.3</td>\n",
       "      <td>E</td>\n",
       "      <td>35.52</td>\n",
       "    </tr>\n",
       "    <tr>\n",
       "      <th>3</th>\n",
       "      <td>Wii Sports Resort</td>\n",
       "      <td>Wii</td>\n",
       "      <td>2009</td>\n",
       "      <td>Sports</td>\n",
       "      <td>15.61</td>\n",
       "      <td>10.93</td>\n",
       "      <td>3.28</td>\n",
       "      <td>2.95</td>\n",
       "      <td>80.0</td>\n",
       "      <td>8.0</td>\n",
       "      <td>E</td>\n",
       "      <td>32.77</td>\n",
       "    </tr>\n",
       "    <tr>\n",
       "      <th>6</th>\n",
       "      <td>New Super Mario Bros.</td>\n",
       "      <td>DS</td>\n",
       "      <td>2006</td>\n",
       "      <td>Platform</td>\n",
       "      <td>11.28</td>\n",
       "      <td>9.14</td>\n",
       "      <td>6.50</td>\n",
       "      <td>2.88</td>\n",
       "      <td>89.0</td>\n",
       "      <td>8.5</td>\n",
       "      <td>E</td>\n",
       "      <td>29.80</td>\n",
       "    </tr>\n",
       "    <tr>\n",
       "      <th>7</th>\n",
       "      <td>Wii Play</td>\n",
       "      <td>Wii</td>\n",
       "      <td>2006</td>\n",
       "      <td>Misc</td>\n",
       "      <td>13.96</td>\n",
       "      <td>9.18</td>\n",
       "      <td>2.93</td>\n",
       "      <td>2.84</td>\n",
       "      <td>58.0</td>\n",
       "      <td>6.6</td>\n",
       "      <td>E</td>\n",
       "      <td>28.91</td>\n",
       "    </tr>\n",
       "    <tr>\n",
       "      <th>...</th>\n",
       "      <td>...</td>\n",
       "      <td>...</td>\n",
       "      <td>...</td>\n",
       "      <td>...</td>\n",
       "      <td>...</td>\n",
       "      <td>...</td>\n",
       "      <td>...</td>\n",
       "      <td>...</td>\n",
       "      <td>...</td>\n",
       "      <td>...</td>\n",
       "      <td>...</td>\n",
       "      <td>...</td>\n",
       "    </tr>\n",
       "    <tr>\n",
       "      <th>16708</th>\n",
       "      <td>Woody Woodpecker in Crazy Castle 5</td>\n",
       "      <td>GBA</td>\n",
       "      <td>2002</td>\n",
       "      <td>Platform</td>\n",
       "      <td>0.01</td>\n",
       "      <td>0.00</td>\n",
       "      <td>0.00</td>\n",
       "      <td>0.00</td>\n",
       "      <td>NaN</td>\n",
       "      <td>NaN</td>\n",
       "      <td>NaN</td>\n",
       "      <td>0.01</td>\n",
       "    </tr>\n",
       "    <tr>\n",
       "      <th>16709</th>\n",
       "      <td>SCORE International Baja 1000: The Official Game</td>\n",
       "      <td>PS2</td>\n",
       "      <td>2008</td>\n",
       "      <td>Racing</td>\n",
       "      <td>0.00</td>\n",
       "      <td>0.00</td>\n",
       "      <td>0.00</td>\n",
       "      <td>0.00</td>\n",
       "      <td>NaN</td>\n",
       "      <td>NaN</td>\n",
       "      <td>NaN</td>\n",
       "      <td>0.00</td>\n",
       "    </tr>\n",
       "    <tr>\n",
       "      <th>16710</th>\n",
       "      <td>Samurai Warriors: Sanada Maru</td>\n",
       "      <td>PS3</td>\n",
       "      <td>2016</td>\n",
       "      <td>Action</td>\n",
       "      <td>0.00</td>\n",
       "      <td>0.00</td>\n",
       "      <td>0.01</td>\n",
       "      <td>0.00</td>\n",
       "      <td>NaN</td>\n",
       "      <td>NaN</td>\n",
       "      <td>NaN</td>\n",
       "      <td>0.01</td>\n",
       "    </tr>\n",
       "    <tr>\n",
       "      <th>16711</th>\n",
       "      <td>LMA Manager 2007</td>\n",
       "      <td>X360</td>\n",
       "      <td>2006</td>\n",
       "      <td>Sports</td>\n",
       "      <td>0.00</td>\n",
       "      <td>0.01</td>\n",
       "      <td>0.00</td>\n",
       "      <td>0.00</td>\n",
       "      <td>NaN</td>\n",
       "      <td>NaN</td>\n",
       "      <td>NaN</td>\n",
       "      <td>0.01</td>\n",
       "    </tr>\n",
       "    <tr>\n",
       "      <th>16713</th>\n",
       "      <td>Spirits &amp; Spells</td>\n",
       "      <td>GBA</td>\n",
       "      <td>2003</td>\n",
       "      <td>Platform</td>\n",
       "      <td>0.01</td>\n",
       "      <td>0.00</td>\n",
       "      <td>0.00</td>\n",
       "      <td>0.00</td>\n",
       "      <td>NaN</td>\n",
       "      <td>NaN</td>\n",
       "      <td>NaN</td>\n",
       "      <td>0.01</td>\n",
       "    </tr>\n",
       "  </tbody>\n",
       "</table>\n",
       "<p>12248 rows × 12 columns</p>\n",
       "</div>"
      ],
      "text/plain": [
       "                                                   name platform  \\\n",
       "0                                            Wii Sports      Wii   \n",
       "2                                        Mario Kart Wii      Wii   \n",
       "3                                     Wii Sports Resort      Wii   \n",
       "6                                 New Super Mario Bros.       DS   \n",
       "7                                              Wii Play      Wii   \n",
       "...                                                 ...      ...   \n",
       "16708                Woody Woodpecker in Crazy Castle 5      GBA   \n",
       "16709  SCORE International Baja 1000: The Official Game      PS2   \n",
       "16710                     Samurai Warriors: Sanada Maru      PS3   \n",
       "16711                                  LMA Manager 2007     X360   \n",
       "16713                                  Spirits & Spells      GBA   \n",
       "\n",
       "       year_of_release     genre  na_sales  eu_sales  jp_sales  other_sales  \\\n",
       "0                 2006    Sports     41.36     28.96      3.77         8.45   \n",
       "2                 2008    Racing     15.68     12.76      3.79         3.29   \n",
       "3                 2009    Sports     15.61     10.93      3.28         2.95   \n",
       "6                 2006  Platform     11.28      9.14      6.50         2.88   \n",
       "7                 2006      Misc     13.96      9.18      2.93         2.84   \n",
       "...                ...       ...       ...       ...       ...          ...   \n",
       "16708             2002  Platform      0.01      0.00      0.00         0.00   \n",
       "16709             2008    Racing      0.00      0.00      0.00         0.00   \n",
       "16710             2016    Action      0.00      0.00      0.01         0.00   \n",
       "16711             2006    Sports      0.00      0.01      0.00         0.00   \n",
       "16713             2003  Platform      0.01      0.00      0.00         0.00   \n",
       "\n",
       "       critic_score  user_score rating  total_sales  \n",
       "0              76.0         8.0      E        82.54  \n",
       "2              82.0         8.3      E        35.52  \n",
       "3              80.0         8.0      E        32.77  \n",
       "6              89.0         8.5      E        29.80  \n",
       "7              58.0         6.6      E        28.91  \n",
       "...             ...         ...    ...          ...  \n",
       "16708           NaN         NaN    NaN         0.01  \n",
       "16709           NaN         NaN    NaN         0.00  \n",
       "16710           NaN         NaN    NaN         0.01  \n",
       "16711           NaN         NaN    NaN         0.01  \n",
       "16713           NaN         NaN    NaN         0.01  \n",
       "\n",
       "[12248 rows x 12 columns]"
      ]
     },
     "execution_count": 19,
     "metadata": {},
     "output_type": "execute_result"
    }
   ],
   "source": [
    "# Filter data for the top platforms\n",
    "top_platforms_df = games_df[games_df['platform'].isin(top_platforms.index)]\n",
    "top_platforms_df"
   ]
  },
  {
   "cell_type": "code",
   "execution_count": 20,
   "metadata": {},
   "outputs": [
    {
     "data": {
      "text/html": [
       "<div>\n",
       "<style scoped>\n",
       "    .dataframe tbody tr th:only-of-type {\n",
       "        vertical-align: middle;\n",
       "    }\n",
       "\n",
       "    .dataframe tbody tr th {\n",
       "        vertical-align: top;\n",
       "    }\n",
       "\n",
       "    .dataframe thead th {\n",
       "        text-align: right;\n",
       "    }\n",
       "</style>\n",
       "<table border=\"1\" class=\"dataframe\">\n",
       "  <thead>\n",
       "    <tr style=\"text-align: right;\">\n",
       "      <th>year_of_release</th>\n",
       "      <th>1985</th>\n",
       "      <th>1994</th>\n",
       "      <th>1995</th>\n",
       "      <th>1996</th>\n",
       "      <th>1997</th>\n",
       "      <th>1998</th>\n",
       "      <th>1999</th>\n",
       "      <th>2000</th>\n",
       "      <th>2001</th>\n",
       "      <th>2002</th>\n",
       "      <th>...</th>\n",
       "      <th>2007</th>\n",
       "      <th>2008</th>\n",
       "      <th>2009</th>\n",
       "      <th>2010</th>\n",
       "      <th>2011</th>\n",
       "      <th>2012</th>\n",
       "      <th>2013</th>\n",
       "      <th>2014</th>\n",
       "      <th>2015</th>\n",
       "      <th>2016</th>\n",
       "    </tr>\n",
       "    <tr>\n",
       "      <th>platform</th>\n",
       "      <th></th>\n",
       "      <th></th>\n",
       "      <th></th>\n",
       "      <th></th>\n",
       "      <th></th>\n",
       "      <th></th>\n",
       "      <th></th>\n",
       "      <th></th>\n",
       "      <th></th>\n",
       "      <th></th>\n",
       "      <th></th>\n",
       "      <th></th>\n",
       "      <th></th>\n",
       "      <th></th>\n",
       "      <th></th>\n",
       "      <th></th>\n",
       "      <th></th>\n",
       "      <th></th>\n",
       "      <th></th>\n",
       "      <th></th>\n",
       "      <th></th>\n",
       "    </tr>\n",
       "  </thead>\n",
       "  <tbody>\n",
       "    <tr>\n",
       "      <th>3DS</th>\n",
       "      <td>0.00</td>\n",
       "      <td>0.00</td>\n",
       "      <td>0.00</td>\n",
       "      <td>0.0</td>\n",
       "      <td>0.00</td>\n",
       "      <td>0.00</td>\n",
       "      <td>0.00</td>\n",
       "      <td>0.00</td>\n",
       "      <td>0.00</td>\n",
       "      <td>0.00</td>\n",
       "      <td>...</td>\n",
       "      <td>0.00</td>\n",
       "      <td>0.00</td>\n",
       "      <td>0.00</td>\n",
       "      <td>0.30</td>\n",
       "      <td>63.20</td>\n",
       "      <td>51.76</td>\n",
       "      <td>56.57</td>\n",
       "      <td>43.76</td>\n",
       "      <td>27.78</td>\n",
       "      <td>15.14</td>\n",
       "    </tr>\n",
       "    <tr>\n",
       "      <th>DS</th>\n",
       "      <td>0.02</td>\n",
       "      <td>0.00</td>\n",
       "      <td>0.00</td>\n",
       "      <td>0.0</td>\n",
       "      <td>0.00</td>\n",
       "      <td>0.00</td>\n",
       "      <td>0.00</td>\n",
       "      <td>0.00</td>\n",
       "      <td>0.00</td>\n",
       "      <td>0.00</td>\n",
       "      <td>...</td>\n",
       "      <td>147.23</td>\n",
       "      <td>145.36</td>\n",
       "      <td>119.56</td>\n",
       "      <td>85.35</td>\n",
       "      <td>26.33</td>\n",
       "      <td>11.67</td>\n",
       "      <td>1.54</td>\n",
       "      <td>0.00</td>\n",
       "      <td>0.00</td>\n",
       "      <td>0.00</td>\n",
       "    </tr>\n",
       "    <tr>\n",
       "      <th>GBA</th>\n",
       "      <td>0.00</td>\n",
       "      <td>0.00</td>\n",
       "      <td>0.00</td>\n",
       "      <td>0.0</td>\n",
       "      <td>0.00</td>\n",
       "      <td>0.00</td>\n",
       "      <td>0.00</td>\n",
       "      <td>0.07</td>\n",
       "      <td>61.53</td>\n",
       "      <td>74.16</td>\n",
       "      <td>...</td>\n",
       "      <td>3.40</td>\n",
       "      <td>0.00</td>\n",
       "      <td>0.00</td>\n",
       "      <td>0.00</td>\n",
       "      <td>0.00</td>\n",
       "      <td>0.00</td>\n",
       "      <td>0.00</td>\n",
       "      <td>0.00</td>\n",
       "      <td>0.00</td>\n",
       "      <td>0.00</td>\n",
       "    </tr>\n",
       "    <tr>\n",
       "      <th>PS</th>\n",
       "      <td>0.00</td>\n",
       "      <td>6.03</td>\n",
       "      <td>35.96</td>\n",
       "      <td>94.7</td>\n",
       "      <td>136.17</td>\n",
       "      <td>169.49</td>\n",
       "      <td>144.53</td>\n",
       "      <td>96.37</td>\n",
       "      <td>35.59</td>\n",
       "      <td>6.67</td>\n",
       "      <td>...</td>\n",
       "      <td>0.00</td>\n",
       "      <td>0.00</td>\n",
       "      <td>0.00</td>\n",
       "      <td>0.00</td>\n",
       "      <td>0.00</td>\n",
       "      <td>0.00</td>\n",
       "      <td>0.00</td>\n",
       "      <td>0.00</td>\n",
       "      <td>0.00</td>\n",
       "      <td>0.00</td>\n",
       "    </tr>\n",
       "    <tr>\n",
       "      <th>PS2</th>\n",
       "      <td>0.00</td>\n",
       "      <td>0.00</td>\n",
       "      <td>0.00</td>\n",
       "      <td>0.0</td>\n",
       "      <td>0.00</td>\n",
       "      <td>0.00</td>\n",
       "      <td>0.00</td>\n",
       "      <td>39.17</td>\n",
       "      <td>166.43</td>\n",
       "      <td>208.36</td>\n",
       "      <td>...</td>\n",
       "      <td>76.10</td>\n",
       "      <td>53.90</td>\n",
       "      <td>26.40</td>\n",
       "      <td>5.64</td>\n",
       "      <td>0.45</td>\n",
       "      <td>0.00</td>\n",
       "      <td>0.00</td>\n",
       "      <td>0.00</td>\n",
       "      <td>0.00</td>\n",
       "      <td>0.00</td>\n",
       "    </tr>\n",
       "    <tr>\n",
       "      <th>PS3</th>\n",
       "      <td>0.00</td>\n",
       "      <td>0.00</td>\n",
       "      <td>0.00</td>\n",
       "      <td>0.0</td>\n",
       "      <td>0.00</td>\n",
       "      <td>0.00</td>\n",
       "      <td>0.00</td>\n",
       "      <td>0.00</td>\n",
       "      <td>0.00</td>\n",
       "      <td>0.00</td>\n",
       "      <td>...</td>\n",
       "      <td>73.19</td>\n",
       "      <td>118.79</td>\n",
       "      <td>130.93</td>\n",
       "      <td>142.96</td>\n",
       "      <td>157.98</td>\n",
       "      <td>108.28</td>\n",
       "      <td>113.25</td>\n",
       "      <td>47.76</td>\n",
       "      <td>16.82</td>\n",
       "      <td>3.60</td>\n",
       "    </tr>\n",
       "    <tr>\n",
       "      <th>PS4</th>\n",
       "      <td>0.00</td>\n",
       "      <td>0.00</td>\n",
       "      <td>0.00</td>\n",
       "      <td>0.0</td>\n",
       "      <td>0.00</td>\n",
       "      <td>0.00</td>\n",
       "      <td>0.00</td>\n",
       "      <td>0.00</td>\n",
       "      <td>0.00</td>\n",
       "      <td>0.00</td>\n",
       "      <td>...</td>\n",
       "      <td>0.00</td>\n",
       "      <td>0.00</td>\n",
       "      <td>0.00</td>\n",
       "      <td>0.00</td>\n",
       "      <td>0.00</td>\n",
       "      <td>0.00</td>\n",
       "      <td>25.99</td>\n",
       "      <td>100.00</td>\n",
       "      <td>118.90</td>\n",
       "      <td>69.25</td>\n",
       "    </tr>\n",
       "    <tr>\n",
       "      <th>PSP</th>\n",
       "      <td>0.00</td>\n",
       "      <td>0.00</td>\n",
       "      <td>0.00</td>\n",
       "      <td>0.0</td>\n",
       "      <td>0.00</td>\n",
       "      <td>0.00</td>\n",
       "      <td>0.00</td>\n",
       "      <td>0.00</td>\n",
       "      <td>0.00</td>\n",
       "      <td>0.00</td>\n",
       "      <td>...</td>\n",
       "      <td>47.30</td>\n",
       "      <td>35.96</td>\n",
       "      <td>37.78</td>\n",
       "      <td>35.04</td>\n",
       "      <td>17.82</td>\n",
       "      <td>7.95</td>\n",
       "      <td>3.38</td>\n",
       "      <td>0.24</td>\n",
       "      <td>0.12</td>\n",
       "      <td>0.00</td>\n",
       "    </tr>\n",
       "    <tr>\n",
       "      <th>Wii</th>\n",
       "      <td>0.00</td>\n",
       "      <td>0.00</td>\n",
       "      <td>0.00</td>\n",
       "      <td>0.0</td>\n",
       "      <td>0.00</td>\n",
       "      <td>0.00</td>\n",
       "      <td>0.00</td>\n",
       "      <td>0.00</td>\n",
       "      <td>0.00</td>\n",
       "      <td>0.00</td>\n",
       "      <td>...</td>\n",
       "      <td>153.41</td>\n",
       "      <td>177.68</td>\n",
       "      <td>206.97</td>\n",
       "      <td>128.67</td>\n",
       "      <td>59.79</td>\n",
       "      <td>22.94</td>\n",
       "      <td>8.59</td>\n",
       "      <td>3.75</td>\n",
       "      <td>1.14</td>\n",
       "      <td>0.18</td>\n",
       "    </tr>\n",
       "    <tr>\n",
       "      <th>X360</th>\n",
       "      <td>0.00</td>\n",
       "      <td>0.00</td>\n",
       "      <td>0.00</td>\n",
       "      <td>0.0</td>\n",
       "      <td>0.00</td>\n",
       "      <td>0.00</td>\n",
       "      <td>0.00</td>\n",
       "      <td>0.00</td>\n",
       "      <td>0.00</td>\n",
       "      <td>0.00</td>\n",
       "      <td>...</td>\n",
       "      <td>95.41</td>\n",
       "      <td>136.07</td>\n",
       "      <td>120.82</td>\n",
       "      <td>170.55</td>\n",
       "      <td>145.23</td>\n",
       "      <td>100.72</td>\n",
       "      <td>88.58</td>\n",
       "      <td>34.74</td>\n",
       "      <td>11.96</td>\n",
       "      <td>1.52</td>\n",
       "    </tr>\n",
       "  </tbody>\n",
       "</table>\n",
       "<p>10 rows × 24 columns</p>\n",
       "</div>"
      ],
      "text/plain": [
       "year_of_release  1985  1994   1995  1996    1997    1998    1999   2000  \\\n",
       "platform                                                                  \n",
       "3DS              0.00  0.00   0.00   0.0    0.00    0.00    0.00   0.00   \n",
       "DS               0.02  0.00   0.00   0.0    0.00    0.00    0.00   0.00   \n",
       "GBA              0.00  0.00   0.00   0.0    0.00    0.00    0.00   0.07   \n",
       "PS               0.00  6.03  35.96  94.7  136.17  169.49  144.53  96.37   \n",
       "PS2              0.00  0.00   0.00   0.0    0.00    0.00    0.00  39.17   \n",
       "PS3              0.00  0.00   0.00   0.0    0.00    0.00    0.00   0.00   \n",
       "PS4              0.00  0.00   0.00   0.0    0.00    0.00    0.00   0.00   \n",
       "PSP              0.00  0.00   0.00   0.0    0.00    0.00    0.00   0.00   \n",
       "Wii              0.00  0.00   0.00   0.0    0.00    0.00    0.00   0.00   \n",
       "X360             0.00  0.00   0.00   0.0    0.00    0.00    0.00   0.00   \n",
       "\n",
       "year_of_release    2001    2002  ...    2007    2008    2009    2010    2011  \\\n",
       "platform                         ...                                           \n",
       "3DS                0.00    0.00  ...    0.00    0.00    0.00    0.30   63.20   \n",
       "DS                 0.00    0.00  ...  147.23  145.36  119.56   85.35   26.33   \n",
       "GBA               61.53   74.16  ...    3.40    0.00    0.00    0.00    0.00   \n",
       "PS                35.59    6.67  ...    0.00    0.00    0.00    0.00    0.00   \n",
       "PS2              166.43  208.36  ...   76.10   53.90   26.40    5.64    0.45   \n",
       "PS3                0.00    0.00  ...   73.19  118.79  130.93  142.96  157.98   \n",
       "PS4                0.00    0.00  ...    0.00    0.00    0.00    0.00    0.00   \n",
       "PSP                0.00    0.00  ...   47.30   35.96   37.78   35.04   17.82   \n",
       "Wii                0.00    0.00  ...  153.41  177.68  206.97  128.67   59.79   \n",
       "X360               0.00    0.00  ...   95.41  136.07  120.82  170.55  145.23   \n",
       "\n",
       "year_of_release    2012    2013    2014    2015   2016  \n",
       "platform                                                \n",
       "3DS               51.76   56.57   43.76   27.78  15.14  \n",
       "DS                11.67    1.54    0.00    0.00   0.00  \n",
       "GBA                0.00    0.00    0.00    0.00   0.00  \n",
       "PS                 0.00    0.00    0.00    0.00   0.00  \n",
       "PS2                0.00    0.00    0.00    0.00   0.00  \n",
       "PS3              108.28  113.25   47.76   16.82   3.60  \n",
       "PS4                0.00   25.99  100.00  118.90  69.25  \n",
       "PSP                7.95    3.38    0.24    0.12   0.00  \n",
       "Wii               22.94    8.59    3.75    1.14   0.18  \n",
       "X360             100.72   88.58   34.74   11.96   1.52  \n",
       "\n",
       "[10 rows x 24 columns]"
      ]
     },
     "execution_count": 20,
     "metadata": {},
     "output_type": "execute_result"
    }
   ],
   "source": [
    "# Group by platform and year, summing up sales\n",
    "platform_year_sales = top_platforms_df.groupby(['platform', 'year_of_release'])['total_sales'].sum().unstack(fill_value=0)\n",
    "platform_year_sales"
   ]
  },
  {
   "cell_type": "code",
   "execution_count": 21,
   "metadata": {},
   "outputs": [
    {
     "data": {
      "image/png": "[encoded data removed]",
      "text/plain": [
       "<Figure size 1400x800 with 1 Axes>"
      ]
     },
     "metadata": {},
     "output_type": "display_data"
    }
   ],
   "source": [
    "# Plot the data using a stacked bar chart\n",
    "platform_year_sales.T.plot(kind='bar', stacked=True, figsize=(14, 8))\n",
    "plt.title('Total Sales Per Year by Platform')\n",
    "plt.xlabel('Year of Release')\n",
    "plt.ylabel('Total Sales')\n",
    "plt.legend(title='Platform')\n",
    "plt.show()"
   ]
  },
  {
   "cell_type": "markdown",
   "metadata": {},
   "source": [
    "From the graphs, we can identify platforms that were popular in the past but now have zero sales. Here are some key observations:\n",
    "\n",
    "- PS2 (PlayStation 2): Was highly popular from around 2000 to 2010 but has no sales in recent years.\n",
    "- X360 (Xbox 360): Showed significant sales from around 2005 to 2015 but no sales in the latest years.\n",
    "- PS3 (PlayStation 3): Popular from around 2006 to 2016 but shows a decline in the later years.\n",
    "- Wii: Had high sales between 2006 and 2012 but no sales in recent years.\n",
    "- DS: Popular from 2004 to around 2012 and has since declined.\n",
    "- PSP: Active from 2005 to around 2011.\n",
    "\n",
    "Based on the trends, it generally takes around 10-15 years for a platform to appear, peak, and then fade:\n",
    "\n",
    "- Introduction and Growth: Platforms typically take about 2-5 years to grow from their introduction to their peak popularity.\n",
    "- Peak Period: Platforms generally enjoy peak sales for around 3-5 years.\n",
    "- Decline: The decline phase can last around 5-10 years as newer platforms replace older ones."
   ]
  },
  {
   "cell_type": "markdown",
   "metadata": {},
   "source": [
    "### Relevant Data Period for Pattern Analysis"
   ]
  },
  {
   "cell_type": "markdown",
   "metadata": {},
   "source": [
    "To build a model for predicting game success in 2017, we want to use the most recent information due to the dynamic evolution of the gaming industry. Based on the observations, data from 2012 to 2016 would be most relevant, as it covers the time frame in which the market stablizes and most likley includes recent trends that could impact 2017."
   ]
  },
  {
   "cell_type": "code",
   "execution_count": 22,
   "metadata": {
    "scrolled": true
   },
   "outputs": [
    {
     "data": {
      "text/html": [
       "<div>\n",
       "<style scoped>\n",
       "    .dataframe tbody tr th:only-of-type {\n",
       "        vertical-align: middle;\n",
       "    }\n",
       "\n",
       "    .dataframe tbody tr th {\n",
       "        vertical-align: top;\n",
       "    }\n",
       "\n",
       "    .dataframe thead th {\n",
       "        text-align: right;\n",
       "    }\n",
       "</style>\n",
       "<table border=\"1\" class=\"dataframe\">\n",
       "  <thead>\n",
       "    <tr style=\"text-align: right;\">\n",
       "      <th></th>\n",
       "      <th>name</th>\n",
       "      <th>platform</th>\n",
       "      <th>year_of_release</th>\n",
       "      <th>genre</th>\n",
       "      <th>na_sales</th>\n",
       "      <th>eu_sales</th>\n",
       "      <th>jp_sales</th>\n",
       "      <th>other_sales</th>\n",
       "      <th>critic_score</th>\n",
       "      <th>user_score</th>\n",
       "      <th>rating</th>\n",
       "      <th>total_sales</th>\n",
       "    </tr>\n",
       "  </thead>\n",
       "  <tbody>\n",
       "    <tr>\n",
       "      <th>16</th>\n",
       "      <td>Grand Theft Auto V</td>\n",
       "      <td>PS3</td>\n",
       "      <td>2013</td>\n",
       "      <td>Action</td>\n",
       "      <td>7.02</td>\n",
       "      <td>9.09</td>\n",
       "      <td>0.98</td>\n",
       "      <td>3.96</td>\n",
       "      <td>97.0</td>\n",
       "      <td>8.2</td>\n",
       "      <td>M</td>\n",
       "      <td>21.05</td>\n",
       "    </tr>\n",
       "    <tr>\n",
       "      <th>23</th>\n",
       "      <td>Grand Theft Auto V</td>\n",
       "      <td>X360</td>\n",
       "      <td>2013</td>\n",
       "      <td>Action</td>\n",
       "      <td>9.66</td>\n",
       "      <td>5.14</td>\n",
       "      <td>0.06</td>\n",
       "      <td>1.41</td>\n",
       "      <td>97.0</td>\n",
       "      <td>8.1</td>\n",
       "      <td>M</td>\n",
       "      <td>16.27</td>\n",
       "    </tr>\n",
       "    <tr>\n",
       "      <th>31</th>\n",
       "      <td>Call of Duty: Black Ops 3</td>\n",
       "      <td>PS4</td>\n",
       "      <td>2015</td>\n",
       "      <td>Shooter</td>\n",
       "      <td>6.03</td>\n",
       "      <td>5.86</td>\n",
       "      <td>0.36</td>\n",
       "      <td>2.38</td>\n",
       "      <td>NaN</td>\n",
       "      <td>NaN</td>\n",
       "      <td>NaN</td>\n",
       "      <td>14.63</td>\n",
       "    </tr>\n",
       "    <tr>\n",
       "      <th>33</th>\n",
       "      <td>Pokemon X/Pokemon Y</td>\n",
       "      <td>3DS</td>\n",
       "      <td>2013</td>\n",
       "      <td>Role-Playing</td>\n",
       "      <td>5.28</td>\n",
       "      <td>4.19</td>\n",
       "      <td>4.35</td>\n",
       "      <td>0.78</td>\n",
       "      <td>NaN</td>\n",
       "      <td>NaN</td>\n",
       "      <td>NaN</td>\n",
       "      <td>14.60</td>\n",
       "    </tr>\n",
       "    <tr>\n",
       "      <th>34</th>\n",
       "      <td>Call of Duty: Black Ops II</td>\n",
       "      <td>PS3</td>\n",
       "      <td>2012</td>\n",
       "      <td>Shooter</td>\n",
       "      <td>4.99</td>\n",
       "      <td>5.73</td>\n",
       "      <td>0.65</td>\n",
       "      <td>2.42</td>\n",
       "      <td>83.0</td>\n",
       "      <td>5.3</td>\n",
       "      <td>M</td>\n",
       "      <td>13.79</td>\n",
       "    </tr>\n",
       "  </tbody>\n",
       "</table>\n",
       "</div>"
      ],
      "text/plain": [
       "                          name platform  year_of_release         genre  \\\n",
       "16          Grand Theft Auto V      PS3             2013        Action   \n",
       "23          Grand Theft Auto V     X360             2013        Action   \n",
       "31   Call of Duty: Black Ops 3      PS4             2015       Shooter   \n",
       "33         Pokemon X/Pokemon Y      3DS             2013  Role-Playing   \n",
       "34  Call of Duty: Black Ops II      PS3             2012       Shooter   \n",
       "\n",
       "    na_sales  eu_sales  jp_sales  other_sales  critic_score  user_score  \\\n",
       "16      7.02      9.09      0.98         3.96          97.0         8.2   \n",
       "23      9.66      5.14      0.06         1.41          97.0         8.1   \n",
       "31      6.03      5.86      0.36         2.38           NaN         NaN   \n",
       "33      5.28      4.19      4.35         0.78           NaN         NaN   \n",
       "34      4.99      5.73      0.65         2.42          83.0         5.3   \n",
       "\n",
       "   rating  total_sales  \n",
       "16      M        21.05  \n",
       "23      M        16.27  \n",
       "31    NaN        14.63  \n",
       "33    NaN        14.60  \n",
       "34      M        13.79  "
      ]
     },
     "execution_count": 22,
     "metadata": {},
     "output_type": "execute_result"
    }
   ],
   "source": [
    "# Focus on data from the most relevant years\n",
    "relevant_years = games_df[(games_df['year_of_release'] >= 2012) & (games_df['year_of_release'] <= 2016)]\n",
    "relevant_years.head()"
   ]
  },
  {
   "cell_type": "code",
   "execution_count": 23,
   "metadata": {},
   "outputs": [
    {
     "data": {
      "text/plain": [
       "<Figure size 1400x800 with 0 Axes>"
      ]
     },
     "metadata": {},
     "output_type": "display_data"
    },
    {
     "data": {
      "image/png": "[encoded data removed]",
      "text/plain": [
       "<Figure size 640x480 with 1 Axes>"
      ]
     },
     "metadata": {},
     "output_type": "display_data"
    }
   ],
   "source": [
    "# Calculate total sales for each platform in relevant years\n",
    "relevant_platform_sales = relevant_years.groupby('platform')['total_sales'].sum().sort_values(ascending=False)\n",
    "\n",
    "# Select the top platforms\n",
    "relevant_top_platforms = relevant_platform_sales.head(10).index\n",
    "\n",
    "# Filter data for the top platforms\n",
    "relevant_top_platforms_df = relevant_years[relevant_years['platform'].isin(relevant_top_platforms)]\n",
    "\n",
    "# Group by platform and year, summing up sales\n",
    "relevant_platform_year_sales = relevant_top_platforms_df.groupby(['platform', 'year_of_release'])['total_sales'].sum().unstack(fill_value=0)\n",
    "\n",
    "# Plot the data using a stacked bar chart\n",
    "plt.figure(figsize=(14, 8))\n",
    "relevant_platform_year_sales.T.plot(kind='bar', stacked=True)\n",
    "plt.title('Total Sales Per Year by Platform (2000-2016)')\n",
    "plt.xlabel('Year of Release')\n",
    "plt.ylabel('Total Sales')\n",
    "plt.legend(title='Platform')\n",
    "plt.legend(bbox_to_anchor=(1.3, 1))\n",
    "plt.show()\n"
   ]
  },
  {
   "cell_type": "markdown",
   "metadata": {},
   "source": [
    "<b>Next-Gen Consoles: \n",
    "- PS4 and Xbox One showed strong sales growth after their release, indicating a shift in consumer preference towards next-gen consoles.\n",
    "\n",
    "<b> Obsolescence of Older Platforms:\n",
    "- Platforms like DS, PSP, and Wii experienced a steep decline, suggesting they were becoming obsolete.\n",
    "\n",
    "<b>PC Gaming Stability: \n",
    "- PC gaming sales remained relatively stable, indicating a consistent demand for PC games despite fluctuations in other platforms.\n",
    "\n",
    "    Overall, all platforms are showing a gradual decline throughout out the time of 2012 to 2016. Possibly due to the gaming industry coming to  stabalizing after intial exponential growth. As well as games putting more focus on in game purchases rather than direct sale revenue. \n",
    "    \n",
    "    This analysis suggests that strategic planning and marketing initiatives should focus on next-gen consoles like PS4 and Xbox One while considering the consistent demand for PC games."
   ]
  },
  {
   "cell_type": "code",
   "execution_count": 24,
   "metadata": {},
   "outputs": [
    {
     "data": {
      "text/html": [
       "<div>\n",
       "<style scoped>\n",
       "    .dataframe tbody tr th:only-of-type {\n",
       "        vertical-align: middle;\n",
       "    }\n",
       "\n",
       "    .dataframe tbody tr th {\n",
       "        vertical-align: top;\n",
       "    }\n",
       "\n",
       "    .dataframe thead th {\n",
       "        text-align: right;\n",
       "    }\n",
       "</style>\n",
       "<table border=\"1\" class=\"dataframe\">\n",
       "  <thead>\n",
       "    <tr style=\"text-align: right;\">\n",
       "      <th>platform</th>\n",
       "      <th>3DS</th>\n",
       "      <th>DS</th>\n",
       "      <th>PC</th>\n",
       "      <th>PS3</th>\n",
       "      <th>PS4</th>\n",
       "      <th>PSP</th>\n",
       "      <th>PSV</th>\n",
       "      <th>Wii</th>\n",
       "      <th>WiiU</th>\n",
       "      <th>X360</th>\n",
       "      <th>XOne</th>\n",
       "    </tr>\n",
       "    <tr>\n",
       "      <th>year_of_release</th>\n",
       "      <th></th>\n",
       "      <th></th>\n",
       "      <th></th>\n",
       "      <th></th>\n",
       "      <th></th>\n",
       "      <th></th>\n",
       "      <th></th>\n",
       "      <th></th>\n",
       "      <th></th>\n",
       "      <th></th>\n",
       "      <th></th>\n",
       "    </tr>\n",
       "  </thead>\n",
       "  <tbody>\n",
       "    <tr>\n",
       "      <th>2012</th>\n",
       "      <td>51.76</td>\n",
       "      <td>11.67</td>\n",
       "      <td>23.45</td>\n",
       "      <td>108.28</td>\n",
       "      <td>NaN</td>\n",
       "      <td>7.95</td>\n",
       "      <td>16.19</td>\n",
       "      <td>22.94</td>\n",
       "      <td>17.56</td>\n",
       "      <td>100.72</td>\n",
       "      <td>NaN</td>\n",
       "    </tr>\n",
       "    <tr>\n",
       "      <th>2013</th>\n",
       "      <td>56.57</td>\n",
       "      <td>1.54</td>\n",
       "      <td>12.66</td>\n",
       "      <td>113.25</td>\n",
       "      <td>25.99</td>\n",
       "      <td>3.38</td>\n",
       "      <td>10.59</td>\n",
       "      <td>8.59</td>\n",
       "      <td>21.65</td>\n",
       "      <td>88.58</td>\n",
       "      <td>18.96</td>\n",
       "    </tr>\n",
       "    <tr>\n",
       "      <th>2014</th>\n",
       "      <td>43.76</td>\n",
       "      <td>NaN</td>\n",
       "      <td>13.28</td>\n",
       "      <td>47.76</td>\n",
       "      <td>100.00</td>\n",
       "      <td>0.24</td>\n",
       "      <td>11.90</td>\n",
       "      <td>3.75</td>\n",
       "      <td>22.03</td>\n",
       "      <td>34.74</td>\n",
       "      <td>54.07</td>\n",
       "    </tr>\n",
       "    <tr>\n",
       "      <th>2015</th>\n",
       "      <td>27.78</td>\n",
       "      <td>NaN</td>\n",
       "      <td>8.52</td>\n",
       "      <td>16.82</td>\n",
       "      <td>118.90</td>\n",
       "      <td>0.12</td>\n",
       "      <td>6.25</td>\n",
       "      <td>1.14</td>\n",
       "      <td>16.35</td>\n",
       "      <td>11.96</td>\n",
       "      <td>60.14</td>\n",
       "    </tr>\n",
       "    <tr>\n",
       "      <th>2016</th>\n",
       "      <td>15.14</td>\n",
       "      <td>NaN</td>\n",
       "      <td>5.25</td>\n",
       "      <td>3.60</td>\n",
       "      <td>69.25</td>\n",
       "      <td>NaN</td>\n",
       "      <td>4.25</td>\n",
       "      <td>0.18</td>\n",
       "      <td>4.60</td>\n",
       "      <td>1.52</td>\n",
       "      <td>26.15</td>\n",
       "    </tr>\n",
       "  </tbody>\n",
       "</table>\n",
       "</div>"
      ],
      "text/plain": [
       "platform           3DS     DS     PC     PS3     PS4   PSP    PSV    Wii  \\\n",
       "year_of_release                                                            \n",
       "2012             51.76  11.67  23.45  108.28     NaN  7.95  16.19  22.94   \n",
       "2013             56.57   1.54  12.66  113.25   25.99  3.38  10.59   8.59   \n",
       "2014             43.76    NaN  13.28   47.76  100.00  0.24  11.90   3.75   \n",
       "2015             27.78    NaN   8.52   16.82  118.90  0.12   6.25   1.14   \n",
       "2016             15.14    NaN   5.25    3.60   69.25   NaN   4.25   0.18   \n",
       "\n",
       "platform          WiiU    X360   XOne  \n",
       "year_of_release                        \n",
       "2012             17.56  100.72    NaN  \n",
       "2013             21.65   88.58  18.96  \n",
       "2014             22.03   34.74  54.07  \n",
       "2015             16.35   11.96  60.14  \n",
       "2016              4.60    1.52  26.15  "
      ]
     },
     "execution_count": 24,
     "metadata": {},
     "output_type": "execute_result"
    }
   ],
   "source": [
    "# Reviewer's code\n",
    "\n",
    "relevant_years.query('year_of_release>2011').pivot_table(index='year_of_release', columns='platform', values='total_sales', aggfunc='sum')"
   ]
  },
  {
   "cell_type": "code",
   "execution_count": 25,
   "metadata": {
    "scrolled": true
   },
   "outputs": [
    {
     "data": {
      "text/plain": [
       "<Figure size 1200x800 with 0 Axes>"
      ]
     },
     "metadata": {},
     "output_type": "display_data"
    },
    {
     "data": {
      "image/png": "[encoded data removed]",
      "text/plain": [
       "<Figure size 640x480 with 1 Axes>"
      ]
     },
     "metadata": {},
     "output_type": "display_data"
    }
   ],
   "source": [
    "# Create a box plot for global sales broken down by platform\n",
    "plt.figure(figsize=(12, 8))\n",
    "relevant_top_platforms_df.boxplot(column='total_sales', by='platform', grid=False)\n",
    "plt.title('Box Plot of Global Sales by Platform (2012-2016)')\n",
    "plt.suptitle('')  # Suppress the default title to make it cleaner\n",
    "plt.xlabel('Platform')\n",
    "plt.ylabel('Total Sales')\n",
    "plt.show()"
   ]
  },
  {
   "cell_type": "markdown",
   "metadata": {},
   "source": [
    "Due to the outliers in the data our box plot is not readable. \n",
    "- We will adjust the max value of the y axis to make the box plot readable and preserve the outliers "
   ]
  },
  {
   "cell_type": "code",
   "execution_count": 26,
   "metadata": {},
   "outputs": [
    {
     "data": {
      "text/plain": [
       "<Figure size 1400x1000 with 0 Axes>"
      ]
     },
     "metadata": {},
     "output_type": "display_data"
    },
    {
     "data": {
      "image/png": "[encoded data removed]",
      "text/plain": [
       "<Figure size 640x480 with 1 Axes>"
      ]
     },
     "metadata": {},
     "output_type": "display_data"
    }
   ],
   "source": [
    "# Create a box plot for global sales broken down by platform adjusting y axis\n",
    "plt.figure(figsize=(14, 10))\n",
    "relevant_top_platforms_df.boxplot(column='total_sales', by='platform', grid=False)\n",
    "plt.title('Box Plot of Global Sales by Platform (2012-2016)')\n",
    "plt.suptitle('')  # Suppress the default title to make it cleaner\n",
    "plt.xlabel('Platform')\n",
    "plt.ylabel('Total Sales')\n",
    "plt.ylim(0,2)\n",
    "plt.show()"
   ]
  },
  {
   "cell_type": "markdown",
   "metadata": {},
   "source": [
    "<b>Range of Sales: \n",
    "- Platforms like PS3, PS4, Wii, X360, and XOne show a wide range of total sales, indicating significant variability in game performance on these platforms. This suggests that while some games on these platforms achieve very high sales, others do not.\n",
    "Platforms like 3DS, DS, PC, PSV, and WiiU have a narrower range of sales, implying more consistent performance but with generally lower sales figures.\n",
    "\n",
    "<b>Outliers: \n",
    "- All platforms have outliers, which are games that have exceptionally high sales compared to the majority of games on the same platform.\n",
    "The presence of many outliers in platforms like PS3, PS4, and Wii indicates that these platforms had several blockbuster titles during this period.\n",
    "\n",
    "<b>Platform comparison:\n",
    "- PS4 and X360 appear to have the highest overall sales figures, with the top whisker extending further compared to other platforms, suggesting that these platforms were particularly successful during this period.\n",
    "PS3, PS4, and X360 not only have higher median sales but also a substantial number of outliers, indicating both a higher base level of success and some very high-selling games.\n",
    "\n",
    "<b> Low Sales Platforms:\n",
    "- Platforms like DS, PSV, and WiiU have lower median sales and fewer outliers, indicating that these platforms had fewer high-selling games and generally lower overall sales performance."
   ]
  },
  {
   "cell_type": "markdown",
   "metadata": {},
   "source": [
    "#### Reviews"
   ]
  },
  {
   "cell_type": "code",
   "execution_count": 27,
   "metadata": {},
   "outputs": [
    {
     "data": {
      "image/png": "[encoded data removed]",
      "text/plain": [
       "<Figure size 1000x600 with 1 Axes>"
      ]
     },
     "metadata": {},
     "output_type": "display_data"
    }
   ],
   "source": [
    "# Choose a popular platform, e.g., PS4\n",
    "popular_platform = 'PS4'\n",
    "platform_data = relevant_years[relevant_years['platform'] == popular_platform]\n",
    "\n",
    "# Scatter plot for user reviews\n",
    "plt.figure(figsize=(10, 6))\n",
    "plt.scatter(platform_data['user_score'], platform_data['total_sales'])\n",
    "plt.title('User Score vs. Total Sales (PS4)')\n",
    "plt.xlabel('User Score')\n",
    "plt.ylabel('Total Sales')\n",
    "plt.show()"
   ]
  },
  {
   "cell_type": "code",
   "execution_count": 28,
   "metadata": {},
   "outputs": [
    {
     "data": {
      "text/plain": [
       "-0.03195711020455685"
      ]
     },
     "execution_count": 28,
     "metadata": {},
     "output_type": "execute_result"
    }
   ],
   "source": [
    "# Correlation coefficient for user reviews\n",
    "user_corr = platform_data[['user_score', 'total_sales']].corr().iloc[0, 1]\n",
    "user_corr"
   ]
  },
  {
   "cell_type": "markdown",
   "metadata": {},
   "source": [
    "- The correlation coefficient is very close to 0, indicating almost no linear relationship between user scores and total sales.\n",
    "- A slightly negative value suggests a minimal inverse relationship, but it is so close to zero that it is effectively negligible.\n",
    "- This implies that user reviews do not significantly impact total sales of games."
   ]
  },
  {
   "cell_type": "code",
   "execution_count": 29,
   "metadata": {},
   "outputs": [
    {
     "data": {
      "image/png": "[encoded data removed]",
      "text/plain": [
       "<Figure size 1000x600 with 1 Axes>"
      ]
     },
     "metadata": {},
     "output_type": "display_data"
    }
   ],
   "source": [
    "# Scatter plot for critic reviews\n",
    "plt.figure(figsize=(10, 6))\n",
    "plt.scatter(platform_data['critic_score'], platform_data['total_sales'])\n",
    "plt.title('Critic Score vs. Total Sales (PS4)')\n",
    "plt.xlabel('Critic Score')\n",
    "plt.ylabel('Total Sales')\n",
    "plt.show()"
   ]
  },
  {
   "cell_type": "code",
   "execution_count": 30,
   "metadata": {},
   "outputs": [
    {
     "data": {
      "text/plain": [
       "0.40656790206178123"
      ]
     },
     "execution_count": 30,
     "metadata": {},
     "output_type": "execute_result"
    }
   ],
   "source": [
    "# Correlation coefficient for critic reviews\n",
    "critic_corr = platform_data[['critic_score', 'total_sales']].corr().iloc[0, 1]\n",
    "critic_corr"
   ]
  },
  {
   "cell_type": "markdown",
   "metadata": {},
   "source": [
    "- The correlation coefficient is moderate and positive, indicating a noticeable linear relationship between critic scores and total sales.\n",
    "- A value of approximately 0.41 suggests that higher critic scores tend to be associated with higher total sales, but the relationship is not very strong.\n",
    "- This implies that while critic reviews have some influence on total sales, other factors also play a significant role."
   ]
  },
  {
   "cell_type": "code",
   "execution_count": 31,
   "metadata": {},
   "outputs": [
    {
     "data": {
      "image/png": "[encoded data removed]",
      "text/plain": [
       "<Figure size 1000x600 with 1 Axes>"
      ]
     },
     "metadata": {},
     "output_type": "display_data"
    }
   ],
   "source": [
    "# Compare sales for the same games on different platforms (X360)\n",
    "same_games = relevant_years[relevant_years['platform'] == 'X360']\n",
    "\n",
    "# Scatter plot for user score vs. total sales on Xbox 360\n",
    "plt.figure(figsize=(10, 6))\n",
    "plt.scatter(same_games['user_score'], same_games['total_sales'])\n",
    "plt.title('User Score vs. Total Sales (X360)')\n",
    "plt.xlabel('User Score')\n",
    "plt.ylabel('Total Sales')\n",
    "plt.show()\n"
   ]
  },
  {
   "cell_type": "code",
   "execution_count": 32,
   "metadata": {},
   "outputs": [
    {
     "data": {
      "text/plain": [
       "0.006314938203566579"
      ]
     },
     "execution_count": 32,
     "metadata": {},
     "output_type": "execute_result"
    }
   ],
   "source": [
    "# Correlation coefficient for user reviews\n",
    "user_corr = same_games[['user_score', 'total_sales']].corr().iloc[0, 1]\n",
    "user_corr"
   ]
  },
  {
   "cell_type": "markdown",
   "metadata": {},
   "source": [
    "- The correlation coefficient is very close to zero indicating no relationship between user reviews and total sales on X360\n",
    "\n",
    "- This implies that user reviews dont play a significant role in total sales"
   ]
  },
  {
   "cell_type": "code",
   "execution_count": 33,
   "metadata": {},
   "outputs": [
    {
     "data": {
      "image/png": "[encoded data removed]",
      "text/plain": [
       "<Figure size 1000x600 with 1 Axes>"
      ]
     },
     "metadata": {},
     "output_type": "display_data"
    }
   ],
   "source": [
    "# Scatter plot and correlation for critic reviews\n",
    "plt.figure(figsize=(10, 6))\n",
    "plt.scatter(same_games['critic_score'], same_games['total_sales'])\n",
    "plt.title('Critic Score vs. Total Sales (X360)')\n",
    "plt.xlabel('Critic Score')\n",
    "plt.ylabel('Total Sales')\n",
    "plt.show()"
   ]
  },
  {
   "cell_type": "code",
   "execution_count": 34,
   "metadata": {},
   "outputs": [
    {
     "data": {
      "text/plain": [
       "0.3602659026138047"
      ]
     },
     "execution_count": 34,
     "metadata": {},
     "output_type": "execute_result"
    }
   ],
   "source": [
    "# Correlation coefficient for critic reviews\n",
    "critic_corr = same_games[['critic_score', 'total_sales']].corr().iloc[0, 1]\n",
    "critic_corr"
   ]
  },
  {
   "cell_type": "markdown",
   "metadata": {},
   "source": [
    "- The correlation coefficient is moderate and positive, indicating a noticeable linear relationship between critic scores and total sales.\n",
    "- A value of approximately 0.36 suggests that higher critic scores tend to be associated with higher total sales, but the relationship is not very strong.\n",
    "- This implies that while critic reviews have some influence on total sales, while other factors also play a significant role."
   ]
  },
  {
   "cell_type": "code",
   "execution_count": 35,
   "metadata": {},
   "outputs": [
    {
     "data": {
      "image/png": "[encoded data removed]",
      "text/plain": [
       "<Figure size 1000x600 with 1 Axes>"
      ]
     },
     "metadata": {},
     "output_type": "display_data"
    }
   ],
   "source": [
    "# Compare sales for the same games on different platforms (XOne)\n",
    "same_games_xone = relevant_years[relevant_years['platform'] == 'XOne']\n",
    "\n",
    "# Scatter plot for user score vs. total sales on Xbox One\n",
    "plt.figure(figsize=(10, 6))\n",
    "plt.scatter(same_games_xone['user_score'], same_games_xone['total_sales'])\n",
    "plt.title('User Score vs. Total Sales (XOne)')\n",
    "plt.xlabel('User Score')\n",
    "plt.ylabel('Total Sales')\n",
    "plt.show()"
   ]
  },
  {
   "cell_type": "code",
   "execution_count": 36,
   "metadata": {},
   "outputs": [
    {
     "data": {
      "text/plain": [
       "-0.06892505328279543"
      ]
     },
     "execution_count": 36,
     "metadata": {},
     "output_type": "execute_result"
    }
   ],
   "source": [
    "# Correlation coefficient for user reviews\n",
    "user_corr = same_games_xone[['user_score', 'total_sales']].corr().iloc[0, 1]\n",
    "user_corr"
   ]
  },
  {
   "cell_type": "markdown",
   "metadata": {},
   "source": [
    "- The correlation coefficient is very close to 0, indicating almost no linear relationship between user scores and total sales.\n",
    "- A slightly negative value suggests a minimal inverse relationship, but it is so close to zero that it is effectively negligible.\n",
    "- This implies that user reviews do not significantly impact total sales of games."
   ]
  },
  {
   "cell_type": "code",
   "execution_count": 37,
   "metadata": {},
   "outputs": [
    {
     "data": {
      "image/png": "[encoded data removed]",
      "text/plain": [
       "<Figure size 1000x600 with 1 Axes>"
      ]
     },
     "metadata": {},
     "output_type": "display_data"
    }
   ],
   "source": [
    "# Scatter plot and correlation for critic reviews\n",
    "plt.figure(figsize=(10, 6))\n",
    "plt.scatter(same_games_xone['critic_score'], same_games_xone['total_sales'])\n",
    "plt.title('Critic Score vs. Total Sales (XOne)')\n",
    "plt.xlabel('Critic Score')\n",
    "plt.ylabel('Total Sales')\n",
    "plt.show()"
   ]
  },
  {
   "cell_type": "code",
   "execution_count": 38,
   "metadata": {},
   "outputs": [
    {
     "data": {
      "text/plain": [
       "0.4169983280084021"
      ]
     },
     "execution_count": 38,
     "metadata": {},
     "output_type": "execute_result"
    }
   ],
   "source": [
    "# Correlation coefficient for critic reviews\n",
    "user_corr = same_games_xone[['critic_score', 'total_sales']].corr().iloc[0, 1]\n",
    "user_corr"
   ]
  },
  {
   "cell_type": "markdown",
   "metadata": {},
   "source": [
    "- The correlation coefficient is moderate and positive, indicating a noticeable linear relationship between critic scores and total sales.\n",
    "- A value of approximately 0.36 suggests that higher critic scores tend to be associated with higher total sales, but the relationship is not very strong.\n",
    "- This implies that while critic reviews have some influence on total sales, while other factors also play a significant role."
   ]
  },
  {
   "cell_type": "markdown",
   "metadata": {},
   "source": [
    "<b>In Summary: \n",
    "\n",
    "<b> User Reviews: \n",
    "- The correlation coefficient suggests that user reviews have almost no impact on the total sales of games. This could be due to various reasons such as the difference in how user reviews are perceived or the variability in user opinions.\n",
    "\n",
    "<b>Critic Reviews: \n",
    "- The moderate positive correlation indicates that critic reviews have a more substantial influence on total sales compared to user reviews. Games that receive higher critic scores tend to sell better, though the relationship is not strong enough to be the sole predictor of sales.\n",
    "    \n",
    "It may be a good idea to consider placing more emphasis on achieving good critic reviews, as they have a more noticeable impact on sales. However, we should not ignore user reviews completely, as other factors (like word of mouth) could still influence sales."
   ]
  },
  {
   "cell_type": "markdown",
   "metadata": {},
   "source": [
    "#### Games by Genere"
   ]
  },
  {
   "cell_type": "code",
   "execution_count": 39,
   "metadata": {},
   "outputs": [
    {
     "data": {
      "image/png": "[encoded data removed]",
      "text/plain": [
       "<Figure size 1000x600 with 1 Axes>"
      ]
     },
     "metadata": {},
     "output_type": "display_data"
    },
    {
     "data": {
      "text/plain": [
       "genre\n",
       "Action          446.06\n",
       "Shooter         304.75\n",
       "Role-Playing    192.80\n",
       "Sports          181.07\n",
       "Misc             85.28\n",
       "Platform         61.00\n",
       "Racing           53.50\n",
       "Fighting         44.49\n",
       "Simulation       35.12\n",
       "Adventure        29.43\n",
       "Strategy         13.34\n",
       "Puzzle            4.89\n",
       "Name: total_sales, dtype: float64"
      ]
     },
     "execution_count": 39,
     "metadata": {},
     "output_type": "execute_result"
    }
   ],
   "source": [
    "# Total sales by genre\n",
    "genre_sales = relevant_years.groupby('genre')['total_sales'].sum().sort_values(ascending=False)\n",
    "\n",
    "# Plot the data\n",
    "plt.figure(figsize=(10, 6))\n",
    "genre_sales.plot(kind='bar')\n",
    "plt.title('Total Sales by Genre')\n",
    "plt.xlabel('Genre')\n",
    "plt.ylabel('Total Sales')\n",
    "plt.show()\n",
    "\n",
    "# Describe the most profitable genres\n",
    "genre_sales\n"
   ]
  },
  {
   "cell_type": "markdown",
   "metadata": {},
   "source": [
    "<b>Popular Genres: \n",
    "\n",
    "- Action, Sports, Shooter, and Role-Playing genres are the top performers in terms of sales. These genres likely have broad appeal, engaging gameplay, and strong market demand.\n",
    "    \n",
    "<b> Low Sales Genres:\n",
    "\n",
    "- Fighting, Adventure, Puzzle, Strategy: These genres have the lowest total sales. This could be due to niche markets, less frequent releases, or less widespread appeal."
   ]
  },
  {
   "cell_type": "markdown",
   "metadata": {},
   "source": [
    "##### Average Sales per Game: \n",
    "This will show the average performance of games within each genre."
   ]
  },
  {
   "cell_type": "code",
   "execution_count": 40,
   "metadata": {},
   "outputs": [
    {
     "data": {
      "image/png": "[encoded data removed]",
      "text/plain": [
       "<Figure size 1000x600 with 1 Axes>"
      ]
     },
     "metadata": {},
     "output_type": "display_data"
    },
    {
     "data": {
      "text/plain": [
       "genre\n",
       "Shooter         1.285865\n",
       "Platform        0.717647\n",
       "Sports          0.675634\n",
       "Role-Playing    0.521081\n",
       "Racing          0.465217\n",
       "Misc            0.441865\n",
       "Simulation      0.439000\n",
       "Action          0.428904\n",
       "Fighting        0.408165\n",
       "Strategy        0.187887\n",
       "Puzzle          0.174643\n",
       "Adventure       0.097450\n",
       "Name: total_sales, dtype: float64"
      ]
     },
     "execution_count": 40,
     "metadata": {},
     "output_type": "execute_result"
    }
   ],
   "source": [
    "# Calculate the average sales per game for each genre\n",
    "average_sales_per_game = relevant_years.groupby('genre')['total_sales'].mean().sort_values(ascending=False)\n",
    "\n",
    "# Plot the data\n",
    "plt.figure(figsize=(10, 6))\n",
    "average_sales_per_game.plot(kind='bar')\n",
    "plt.title('Average Sales per Game by Genre')\n",
    "plt.xlabel('Genre')\n",
    "plt.ylabel('Average Sales')\n",
    "plt.show()\n",
    "\n",
    "# Display the average sales per game\n",
    "average_sales_per_game\n"
   ]
  },
  {
   "cell_type": "markdown",
   "metadata": {},
   "source": [
    "##### Median Sales per Game\n",
    "This will help understand the typical performance of games within each genre, reducing the impact of outliers."
   ]
  },
  {
   "cell_type": "code",
   "execution_count": 41,
   "metadata": {},
   "outputs": [
    {
     "data": {
      "image/png": "[encoded data removed]",
      "text/plain": [
       "<Figure size 1000x600 with 1 Axes>"
      ]
     },
     "metadata": {},
     "output_type": "display_data"
    },
    {
     "data": {
      "text/plain": [
       "genre\n",
       "Shooter         0.430\n",
       "Sports          0.240\n",
       "Platform        0.210\n",
       "Role-Playing    0.140\n",
       "Racing          0.140\n",
       "Fighting        0.130\n",
       "Action          0.120\n",
       "Misc            0.120\n",
       "Simulation      0.120\n",
       "Strategy        0.080\n",
       "Puzzle          0.045\n",
       "Adventure       0.030\n",
       "Name: total_sales, dtype: float64"
      ]
     },
     "execution_count": 41,
     "metadata": {},
     "output_type": "execute_result"
    }
   ],
   "source": [
    "# Calculate the median sales per game for each genre\n",
    "median_sales_per_game = relevant_years.groupby('genre')['total_sales'].median().sort_values(ascending=False)\n",
    "\n",
    "# Plot the data\n",
    "plt.figure(figsize=(10, 6))\n",
    "median_sales_per_game.plot(kind='bar')\n",
    "plt.title('Median Sales per Game by Genre')\n",
    "plt.xlabel('Genre')\n",
    "plt.ylabel('Median Sales')\n",
    "plt.show()\n",
    "\n",
    "# Display the median sales per game\n",
    "median_sales_per_game\n"
   ]
  },
  {
   "cell_type": "markdown",
   "metadata": {},
   "source": [
    "<b> In Summary: \n",
    "    \n",
    "While the Action genre has high total sales, the average and median sales per game reveal that Shooter, Sports, and Platform genres are more successful on a per-game basis. This suggests that despite the number of games, these genres consistently perform better in terms of sales per game."
   ]
  },
  {
   "cell_type": "markdown",
   "metadata": {},
   "source": [
    "#### Games by Region"
   ]
  },
  {
   "cell_type": "code",
   "execution_count": 42,
   "metadata": {
    "scrolled": true
   },
   "outputs": [
    {
     "name": "stdout",
     "output_type": "stream",
     "text": [
      "Top Platforms and Genres in North America\n",
      "\n",
      "Top Platforms:\n",
      "platform\n",
      "PS4     314.14\n",
      "PS3     289.71\n",
      "X360    237.52\n",
      "3DS     195.01\n",
      "XOne    159.32\n",
      "Name: total_sales, dtype: float64\n",
      "\n",
      "Top Genres:\n",
      "genre\n",
      "Action          446.06\n",
      "Shooter         304.75\n",
      "Role-Playing    192.80\n",
      "Sports          181.07\n",
      "Misc             85.28\n",
      "Name: total_sales, dtype: float64\n",
      "\n",
      "==================================================\n",
      "\n",
      "Top Platforms and Genres in Europe\n",
      "\n",
      "Top Platforms:\n",
      "platform\n",
      "PS4     314.14\n",
      "PS3     289.71\n",
      "X360    237.52\n",
      "3DS     195.01\n",
      "XOne    159.32\n",
      "Name: total_sales, dtype: float64\n",
      "\n",
      "Top Genres:\n",
      "genre\n",
      "Action          446.06\n",
      "Shooter         304.75\n",
      "Role-Playing    192.80\n",
      "Sports          181.07\n",
      "Misc             85.28\n",
      "Name: total_sales, dtype: float64\n",
      "\n",
      "==================================================\n",
      "\n",
      "Top Platforms and Genres in Japan\n",
      "\n",
      "Top Platforms:\n",
      "platform\n",
      "PS4     314.14\n",
      "PS3     289.71\n",
      "X360    237.52\n",
      "3DS     195.01\n",
      "XOne    159.32\n",
      "Name: total_sales, dtype: float64\n",
      "\n",
      "Top Genres:\n",
      "genre\n",
      "Action          446.06\n",
      "Shooter         304.75\n",
      "Role-Playing    192.80\n",
      "Sports          181.07\n",
      "Misc             85.28\n",
      "Name: total_sales, dtype: float64\n",
      "\n",
      "==================================================\n",
      "\n"
     ]
    }
   ],
   "source": [
    "# Function to get top platforms and genres for a region\n",
    "def top_platforms_genres(region_sales, top_n=5):\n",
    "    top_platforms = relevant_years.groupby('platform')['total_sales'].sum().sort_values(ascending=False).head(top_n)\n",
    "    top_genres = relevant_years.groupby('genre')['total_sales'].sum().sort_values(ascending=False).head(top_n)\n",
    "    return top_platforms, top_genres\n",
    "\n",
    "# Top platforms and genres for NA, EU, JP\n",
    "na_sales = relevant_years[['platform', 'genre', 'na_sales']]\n",
    "eu_sales = relevant_years[['platform', 'genre', 'eu_sales']]\n",
    "jp_sales = relevant_years[['platform', 'genre', 'jp_sales']]\n",
    "\n",
    "na_top_platforms, na_top_genres = top_platforms_genres(na_sales)\n",
    "eu_top_platforms, eu_top_genres = top_platforms_genres(eu_sales)\n",
    "jp_top_platforms, jp_top_genres = top_platforms_genres(jp_sales)\n",
    "\n",
    "# Function to display results nicely\n",
    "def display_top_platforms_genres(region, top_platforms, top_genres):\n",
    "    print(f\"Top Platforms and Genres in {region}\\n\")\n",
    "    print(\"Top Platforms:\")\n",
    "    print(top_platforms)\n",
    "    print(\"\\nTop Genres:\")\n",
    "    print(top_genres)\n",
    "    print(\"\\n\" + \"=\"*50 + \"\\n\")\n",
    "\n",
    "# Display the results\n",
    "display_top_platforms_genres(\"North America\", na_top_platforms, na_top_genres)\n",
    "display_top_platforms_genres(\"Europe\", eu_top_platforms, eu_top_genres)\n",
    "display_top_platforms_genres(\"Japan\", jp_top_platforms, jp_top_genres)"
   ]
  },
  {
   "cell_type": "markdown",
   "metadata": {},
   "source": [
    "<b> Key Observations: \n",
    "    \n",
    "- The PS4 and PS3 platforms are leading in sales across North America, Europe, and Japan during 2012-2016. This indicates the strong market presence and popularity of PlayStation consoles.\n",
    "- The Xbox 360 and Xbox One platforms are consistently among the top platforms in North America and Europe, showcasing their significant impact in these regions.\n",
    "- The 3DS also ranks high in sales across all three regions, reflecting its popularity as a portable gaming console.\n",
    "- Action games are the most popular genre in all regions, indicating a universal preference for this genre. This suggests that action games have a broad appeal and can be a focus for game developers and marketers.\n",
    "- Shooter and Role-Playing games are also highly popular across all regions, demonstrating their broad appeal.\n",
    "- Sports games hold a strong position in all regions, particularly in North America and Europe.\n",
    "    \n",
    "    The findings indicate that certain platforms and genres have universal appeal across North America, Europe, and Japan. The PlayStation 4, Xbox 360, PlayStation and 3DS are top platforms in all regions, demonstrating their global market penetration.\n",
    "Action, Sports, and Shooter genres are consistently popular, suggesting that these types of games have widespread acceptance and can drive sales in multiple markets."
   ]
  },
  {
   "cell_type": "code",
   "execution_count": 43,
   "metadata": {},
   "outputs": [
    {
     "data": {
      "text/plain": [
       "(rating\n",
       " M       231.61\n",
       " E       114.37\n",
       " E10+     77.93\n",
       " T        66.02\n",
       " Name: na_sales, dtype: float64,\n",
       " rating\n",
       " M       194.19\n",
       " E       113.03\n",
       " E10+     57.25\n",
       " T        52.96\n",
       " Name: eu_sales, dtype: float64,\n",
       " rating\n",
       " E       28.33\n",
       " T       26.02\n",
       " M       21.20\n",
       " E10+     8.19\n",
       " Name: jp_sales, dtype: float64)"
      ]
     },
     "execution_count": 43,
     "metadata": {},
     "output_type": "execute_result"
    }
   ],
   "source": [
    "# Sales by ESRB rating for each region\n",
    "esrb_sales_na = relevant_years.groupby('rating')['na_sales'].sum().sort_values(ascending=False)\n",
    "esrb_sales_eu = relevant_years.groupby('rating')['eu_sales'].sum().sort_values(ascending=False)\n",
    "esrb_sales_jp = relevant_years.groupby('rating')['jp_sales'].sum().sort_values(ascending=False)\n",
    "\n",
    "esrb_sales_na, esrb_sales_eu, esrb_sales_jp\n"
   ]
  },
  {
   "cell_type": "markdown",
   "metadata": {},
   "source": [
    "<b>Key Observations:\n",
    "    \n",
    "North America and Europe:\n",
    "\n",
    "- The \"M\" (Mature) rating is the top-selling ESRB rating, followed by \"E\" (Everyone). This suggests a significant market for mature-rated games in these regions.\n",
    "- The \"E10+\" (Everyone 10+) and \"T\" (Teen) ratings also have substantial sales, indicating a diverse audience.\n",
    "    \n",
    "Japan:\n",
    "\n",
    "- The \"E\" (Everyone) rating is the top-selling ESRB rating, followed closely by \"T\" (Teen). This reflects a preference for games suitable for all ages and teens.\n",
    "- The \"M\" (Mature) rating is less popular compared to North America and Europe, coming in third after \"T\" (Teen).\n",
    "\n",
    "    Stocking a diverse range of \"M\" and \"E\" rated games to meet the majority of consumer demands, with a careful selection of \"T\" rated titles would be beneficial."
   ]
  },
  {
   "cell_type": "markdown",
   "metadata": {},
   "source": [
    "### Testing Hypothesis "
   ]
  },
  {
   "cell_type": "markdown",
   "metadata": {},
   "source": [
    "#### Hypothesis 1: Average User Ratings of Xbox One and PC are the Same\n",
    "Null Hypothesis (H0): The average user ratings of Xbox One and PC are the same.\n",
    "\n",
    "Alternative Hypothesis (H1): The average user ratings of Xbox One and PC are different.\n",
    "\n",
    "Significance level: By choosing a significance level of 0.05, we adhere to standard practices in hypothesis testing and make clear interpretations based on the statistical evidence provided by the tests.\n",
    "   \n",
    "   The hypothesis test has a statistical power of 95%, which is typically considered adequate for most research studies."
   ]
  },
  {
   "cell_type": "code",
   "execution_count": 44,
   "metadata": {},
   "outputs": [
    {
     "data": {
      "text/plain": [
       "(0.5517051465777201, 0.5814663562474292)"
      ]
     },
     "execution_count": 44,
     "metadata": {},
     "output_type": "execute_result"
    }
   ],
   "source": [
    "# Filter data for Xbox One and PC platforms\n",
    "xbox_one_ratings = relevant_years[relevant_years['platform'] == 'XOne']['user_score'].dropna()\n",
    "pc_ratings = relevant_years[relevant_years['platform'] == 'PC']['user_score'].dropna()\n",
    "\n",
    "# Perform t-test\n",
    "t_stat, p_value = stats.ttest_ind(xbox_one_ratings, pc_ratings)\n",
    "\n",
    "t_stat, p_value\n"
   ]
  },
  {
   "cell_type": "markdown",
   "metadata": {},
   "source": [
    "Since the p-value (0.5815) is greater than the significance level of 0.05, we fail to reject the null hypothesis (H0).\n",
    "There is not enough evidence to conclude that the average user ratings of Xbox One and PC are different..\n"
   ]
  },
  {
   "cell_type": "markdown",
   "metadata": {},
   "source": [
    "#### Hypothesis 2: Average User Ratings for Action and Sports Genres\n",
    "Null Hypothesis (H0): The average user ratings for Action and Sports genres are the same.\n",
    "\n",
    "Alternative Hypothesis (H1): The average user ratings for Action and Sports genres are different."
   ]
  },
  {
   "cell_type": "code",
   "execution_count": 45,
   "metadata": {},
   "outputs": [
    {
     "data": {
      "text/plain": [
       "(11.103392006445583, 1.4731545924852822e-26)"
      ]
     },
     "execution_count": 45,
     "metadata": {},
     "output_type": "execute_result"
    }
   ],
   "source": [
    "# Filter data for Action and Sports genres\n",
    "action_ratings = relevant_years[relevant_years['genre'] == 'Action']['user_score'].dropna()\n",
    "sports_ratings = relevant_years[relevant_years['genre'] == 'Sports']['user_score'].dropna()\n",
    "\n",
    "# Perform t-test\n",
    "t_stat_genre, p_value_genre = stats.ttest_ind(action_ratings, sports_ratings)\n",
    "\n",
    "t_stat_genre, p_value_genre\n"
   ]
  },
  {
   "cell_type": "markdown",
   "metadata": {},
   "source": [
    "Since the p-value (1.473e-26) is much smaller than the significance level of 0.05, we reject the null hypothesis (H0).\n",
    "There is significant evidence to suggest that the average user ratings for Action and Sports genres are different."
   ]
  },
  {
   "cell_type": "markdown",
   "metadata": {},
   "source": [
    "# Conculsion"
   ]
  },
  {
   "cell_type": "markdown",
   "metadata": {},
   "source": [
    "In conclusion, the analysis of Ice's video game sales data from 2016 has yielded several key insights that are useful in shaping strategic decisions for the future. Through data preparation, exploration, and analysis, we identified trends in game releases, platform preferences, and genre popularity across different regions. The examination of user and critic reviews has highlighted the impact of critic reviews over user reviews on game sales, emphasizing the importance of quality and perception.\n",
    "\n",
    "Key findings include the dominance of specific platforms in different regions, the varying popularity of genres, and the nuanced effects of ESRB ratings on sales across markets. Hypothesis testing further validated differences in user ratings between platforms and genres, providing statistical evidence to guide targeted marketing strategies.\n",
    "\n",
    "Moving forward, Ice can capitalize on these insights by focusing on platforms with high sales potential, tailoring game selections to regional preferences, and emphasizing quality assurance and marketing efforts aligned with user expectations. "
   ]
  }
 ],
 "metadata": {
  "ExecuteTimeLog": [
   {
    "duration": 4392,
    "start_time": "2024-07-10T14:18:04.422Z"
   },
   {
    "duration": 6,
    "start_time": "2024-07-10T14:18:08.916Z"
   },
   {
    "duration": 76,
    "start_time": "2024-07-10T14:21:22.978Z"
   },
   {
    "duration": 53,
    "start_time": "2024-07-10T14:21:47.784Z"
   },
   {
    "duration": 18,
    "start_time": "2024-07-10T14:22:19.473Z"
   },
   {
    "duration": 308,
    "start_time": "2024-07-11T01:32:09.597Z"
   },
   {
    "duration": 21,
    "start_time": "2024-07-11T01:32:28.072Z"
   },
   {
    "duration": 4431,
    "start_time": "2024-07-11T01:32:31.189Z"
   },
   {
    "duration": 71,
    "start_time": "2024-07-11T01:32:35.624Z"
   },
   {
    "duration": 22,
    "start_time": "2024-07-11T01:32:35.699Z"
   },
   {
    "duration": 69,
    "start_time": "2024-07-11T01:32:35.725Z"
   },
   {
    "duration": 22,
    "start_time": "2024-07-11T01:32:42.977Z"
   },
   {
    "duration": 13,
    "start_time": "2024-07-11T01:34:10.906Z"
   },
   {
    "duration": 29,
    "start_time": "2024-07-11T01:39:53.298Z"
   },
   {
    "duration": 22,
    "start_time": "2024-07-11T01:40:11.976Z"
   },
   {
    "duration": 19,
    "start_time": "2024-07-11T01:41:54.601Z"
   },
   {
    "duration": 13,
    "start_time": "2024-07-11T01:46:31.613Z"
   },
   {
    "duration": 9,
    "start_time": "2024-07-11T01:56:02.081Z"
   },
   {
    "duration": 192,
    "start_time": "2024-07-11T01:56:28.167Z"
   },
   {
    "duration": 22,
    "start_time": "2024-07-11T01:56:49.142Z"
   },
   {
    "duration": 8,
    "start_time": "2024-07-11T01:59:48.339Z"
   },
   {
    "duration": 18,
    "start_time": "2024-07-11T02:00:01.420Z"
   },
   {
    "duration": 22,
    "start_time": "2024-07-11T02:31:37.758Z"
   },
   {
    "duration": 4346,
    "start_time": "2024-07-12T02:26:26.156Z"
   },
   {
    "duration": 78,
    "start_time": "2024-07-12T02:26:30.510Z"
   },
   {
    "duration": 23,
    "start_time": "2024-07-12T02:26:30.592Z"
   },
   {
    "duration": 20,
    "start_time": "2024-07-12T02:26:30.620Z"
   },
   {
    "duration": 27,
    "start_time": "2024-07-12T02:26:30.645Z"
   },
   {
    "duration": 44,
    "start_time": "2024-07-12T02:26:30.676Z"
   },
   {
    "duration": 21,
    "start_time": "2024-07-12T02:26:30.722Z"
   },
   {
    "duration": 15,
    "start_time": "2024-07-12T02:26:30.746Z"
   },
   {
    "duration": 9,
    "start_time": "2024-07-12T02:26:47.704Z"
   },
   {
    "duration": 10,
    "start_time": "2024-07-12T02:27:02.157Z"
   },
   {
    "duration": 9,
    "start_time": "2024-07-12T02:29:17.710Z"
   },
   {
    "duration": 8,
    "start_time": "2024-07-12T02:40:24.736Z"
   },
   {
    "duration": 24,
    "start_time": "2024-07-12T02:40:36.888Z"
   },
   {
    "duration": 506,
    "start_time": "2024-07-12T02:44:12.678Z"
   },
   {
    "duration": 1539,
    "start_time": "2024-07-12T02:51:47.101Z"
   },
   {
    "duration": 3,
    "start_time": "2024-07-12T02:51:53.972Z"
   },
   {
    "duration": 56,
    "start_time": "2024-07-12T02:51:53.980Z"
   },
   {
    "duration": 20,
    "start_time": "2024-07-12T02:51:54.039Z"
   },
   {
    "duration": 46,
    "start_time": "2024-07-12T02:51:54.062Z"
   },
   {
    "duration": 105,
    "start_time": "2024-07-12T02:53:00.483Z"
   },
   {
    "duration": 107,
    "start_time": "2024-07-12T02:53:39.202Z"
   },
   {
    "duration": 100,
    "start_time": "2024-07-12T02:54:02.737Z"
   },
   {
    "duration": 25,
    "start_time": "2024-07-12T02:55:54.682Z"
   },
   {
    "duration": 361,
    "start_time": "2024-07-12T03:08:04.314Z"
   },
   {
    "duration": 46,
    "start_time": "2024-07-12T03:09:07.239Z"
   },
   {
    "duration": 5,
    "start_time": "2024-07-12T03:09:11.622Z"
   },
   {
    "duration": 58,
    "start_time": "2024-07-12T03:09:11.633Z"
   },
   {
    "duration": 34,
    "start_time": "2024-07-12T03:09:11.695Z"
   },
   {
    "duration": 20,
    "start_time": "2024-07-12T03:09:11.734Z"
   },
   {
    "duration": 61,
    "start_time": "2024-07-12T03:09:11.757Z"
   },
   {
    "duration": 14,
    "start_time": "2024-07-12T03:09:11.821Z"
   },
   {
    "duration": 19,
    "start_time": "2024-07-12T03:09:11.838Z"
   },
   {
    "duration": 54,
    "start_time": "2024-07-12T03:09:11.861Z"
   },
   {
    "duration": 11,
    "start_time": "2024-07-12T03:09:11.920Z"
   },
   {
    "duration": 25,
    "start_time": "2024-07-12T03:09:11.934Z"
   },
   {
    "duration": 512,
    "start_time": "2024-07-12T03:09:11.962Z"
   },
   {
    "duration": 12,
    "start_time": "2024-07-12T03:09:12.477Z"
   },
   {
    "duration": 374,
    "start_time": "2024-07-12T03:15:51.847Z"
   },
   {
    "duration": 9,
    "start_time": "2024-07-12T03:25:12.433Z"
   },
   {
    "duration": 7,
    "start_time": "2024-07-12T03:25:59.969Z"
   },
   {
    "duration": 697,
    "start_time": "2024-07-12T03:27:11.534Z"
   },
   {
    "duration": 23,
    "start_time": "2024-07-12T03:27:45.716Z"
   },
   {
    "duration": 34,
    "start_time": "2024-07-12T03:27:53.417Z"
   },
   {
    "duration": 19,
    "start_time": "2024-07-12T03:30:26.624Z"
   },
   {
    "duration": 35,
    "start_time": "2024-07-12T03:30:38.632Z"
   },
   {
    "duration": 89,
    "start_time": "2024-07-12T03:32:13.832Z"
   },
   {
    "duration": 265,
    "start_time": "2024-07-12T03:32:22.928Z"
   },
   {
    "duration": 4255,
    "start_time": "2024-07-13T21:25:21.174Z"
   },
   {
    "duration": 71,
    "start_time": "2024-07-13T21:25:25.433Z"
   },
   {
    "duration": 20,
    "start_time": "2024-07-13T21:25:25.506Z"
   },
   {
    "duration": 21,
    "start_time": "2024-07-13T21:25:25.530Z"
   },
   {
    "duration": 59,
    "start_time": "2024-07-13T21:25:25.554Z"
   },
   {
    "duration": 12,
    "start_time": "2024-07-13T21:25:25.616Z"
   },
   {
    "duration": 20,
    "start_time": "2024-07-13T21:25:25.631Z"
   },
   {
    "duration": 54,
    "start_time": "2024-07-13T21:25:25.654Z"
   },
   {
    "duration": 10,
    "start_time": "2024-07-13T21:25:25.711Z"
   },
   {
    "duration": 24,
    "start_time": "2024-07-13T21:25:25.725Z"
   },
   {
    "duration": 545,
    "start_time": "2024-07-13T21:25:25.752Z"
   },
   {
    "duration": 19,
    "start_time": "2024-07-13T21:25:26.306Z"
   },
   {
    "duration": 457,
    "start_time": "2024-07-13T21:25:26.329Z"
   },
   {
    "duration": 7,
    "start_time": "2024-07-13T21:30:47.375Z"
   },
   {
    "duration": 267,
    "start_time": "2024-07-13T21:30:56.179Z"
   },
   {
    "duration": 376,
    "start_time": "2024-07-13T21:56:41.928Z"
   },
   {
    "duration": 13,
    "start_time": "2024-07-13T22:27:28.251Z"
   },
   {
    "duration": 12,
    "start_time": "2024-07-13T22:28:36.318Z"
   },
   {
    "duration": 13,
    "start_time": "2024-07-13T22:28:53.749Z"
   },
   {
    "duration": 347,
    "start_time": "2024-07-13T22:29:19.434Z"
   },
   {
    "duration": 11,
    "start_time": "2024-07-13T22:29:29.644Z"
   },
   {
    "duration": 10,
    "start_time": "2024-07-13T22:29:43.896Z"
   },
   {
    "duration": 32,
    "start_time": "2024-07-13T22:30:01.255Z"
   },
   {
    "duration": 12,
    "start_time": "2024-07-13T22:30:33.498Z"
   },
   {
    "duration": 16,
    "start_time": "2024-07-13T22:30:43.450Z"
   },
   {
    "duration": 32,
    "start_time": "2024-07-13T22:30:50.553Z"
   },
   {
    "duration": 4092,
    "start_time": "2024-07-13T22:32:07.239Z"
   },
   {
    "duration": 44,
    "start_time": "2024-07-13T22:32:15.850Z"
   },
   {
    "duration": 1220,
    "start_time": "2024-07-13T22:32:54.899Z"
   },
   {
    "duration": 24,
    "start_time": "2024-07-13T22:33:38.333Z"
   },
   {
    "duration": 25,
    "start_time": "2024-07-13T22:34:23.707Z"
   },
   {
    "duration": 45,
    "start_time": "2024-07-13T22:34:38.958Z"
   },
   {
    "duration": 23,
    "start_time": "2024-07-13T22:35:31.203Z"
   },
   {
    "duration": 13,
    "start_time": "2024-07-13T22:35:47.788Z"
   },
   {
    "duration": 366,
    "start_time": "2024-07-13T22:36:11.054Z"
   },
   {
    "duration": 377,
    "start_time": "2024-07-13T22:36:22.399Z"
   },
   {
    "duration": 375,
    "start_time": "2024-07-13T22:36:39.641Z"
   },
   {
    "duration": 562,
    "start_time": "2024-07-13T22:37:01.563Z"
   },
   {
    "duration": 388,
    "start_time": "2024-07-13T22:37:12.488Z"
   },
   {
    "duration": 369,
    "start_time": "2024-07-13T22:37:21.749Z"
   },
   {
    "duration": 391,
    "start_time": "2024-07-13T22:38:49.277Z"
   },
   {
    "duration": 4351,
    "start_time": "2024-07-14T18:44:08.491Z"
   },
   {
    "duration": 70,
    "start_time": "2024-07-14T18:44:12.846Z"
   },
   {
    "duration": 19,
    "start_time": "2024-07-14T18:44:12.919Z"
   },
   {
    "duration": 19,
    "start_time": "2024-07-14T18:44:12.942Z"
   },
   {
    "duration": 60,
    "start_time": "2024-07-14T18:44:12.965Z"
   },
   {
    "duration": 20,
    "start_time": "2024-07-14T18:44:13.030Z"
   },
   {
    "duration": 19,
    "start_time": "2024-07-14T18:44:13.053Z"
   },
   {
    "duration": 49,
    "start_time": "2024-07-14T18:44:13.075Z"
   },
   {
    "duration": 10,
    "start_time": "2024-07-14T18:44:13.130Z"
   },
   {
    "duration": 23,
    "start_time": "2024-07-14T18:44:13.146Z"
   },
   {
    "duration": 608,
    "start_time": "2024-07-14T18:44:13.172Z"
   },
   {
    "duration": 381,
    "start_time": "2024-07-14T18:44:13.783Z"
   },
   {
    "duration": 11,
    "start_time": "2024-07-14T18:44:14.167Z"
   },
   {
    "duration": 460,
    "start_time": "2024-07-14T18:44:14.181Z"
   },
   {
    "duration": 33,
    "start_time": "2024-07-14T18:44:14.644Z"
   },
   {
    "duration": 44,
    "start_time": "2024-07-14T18:44:14.679Z"
   },
   {
    "duration": 1009,
    "start_time": "2024-07-14T18:44:14.726Z"
   },
   {
    "duration": 8,
    "start_time": "2024-07-14T18:44:15.738Z"
   },
   {
    "duration": 421,
    "start_time": "2024-07-14T18:47:36.249Z"
   },
   {
    "duration": 942,
    "start_time": "2024-07-14T18:48:11.352Z"
   },
   {
    "duration": 414,
    "start_time": "2024-07-14T18:48:48.569Z"
   },
   {
    "duration": 6,
    "start_time": "2024-07-14T19:12:34.218Z"
   },
   {
    "duration": 434,
    "start_time": "2024-07-14T19:12:49.622Z"
   },
   {
    "duration": 22,
    "start_time": "2024-07-14T19:13:09.131Z"
   },
   {
    "duration": 5,
    "start_time": "2024-07-14T19:16:10.886Z"
   },
   {
    "duration": 5,
    "start_time": "2024-07-14T19:16:38.784Z"
   },
   {
    "duration": 6,
    "start_time": "2024-07-14T19:16:54.661Z"
   },
   {
    "duration": 22,
    "start_time": "2024-07-14T19:17:28.897Z"
   },
   {
    "duration": 32,
    "start_time": "2024-07-14T19:25:29.169Z"
   },
   {
    "duration": 33,
    "start_time": "2024-07-14T19:25:46.474Z"
   },
   {
    "duration": 32,
    "start_time": "2024-07-14T19:25:52.026Z"
   },
   {
    "duration": 314,
    "start_time": "2024-07-14T19:26:07.515Z"
   },
   {
    "duration": 2363,
    "start_time": "2024-07-14T19:29:08.171Z"
   },
   {
    "duration": 7,
    "start_time": "2024-07-14T19:30:34.589Z"
   },
   {
    "duration": 11,
    "start_time": "2024-07-14T19:30:48.823Z"
   },
   {
    "duration": 7,
    "start_time": "2024-07-14T19:32:03.833Z"
   },
   {
    "duration": 9,
    "start_time": "2024-07-14T19:33:55.158Z"
   },
   {
    "duration": 15,
    "start_time": "2024-07-14T19:35:08.939Z"
   },
   {
    "duration": 162,
    "start_time": "2024-07-14T19:35:25.910Z"
   },
   {
    "duration": 733,
    "start_time": "2024-07-14T19:35:36.618Z"
   },
   {
    "duration": 29,
    "start_time": "2024-07-14T20:10:44.645Z"
   },
   {
    "duration": 317,
    "start_time": "2024-07-14T20:11:09.246Z"
   },
   {
    "duration": 321,
    "start_time": "2024-07-14T20:15:47.806Z"
   },
   {
    "duration": 394,
    "start_time": "2024-07-14T20:16:11.208Z"
   },
   {
    "duration": 438,
    "start_time": "2024-07-14T20:16:26.015Z"
   },
   {
    "duration": 315,
    "start_time": "2024-07-14T20:17:09.680Z"
   },
   {
    "duration": 329,
    "start_time": "2024-07-14T20:29:39.163Z"
   },
   {
    "duration": 336,
    "start_time": "2024-07-14T20:31:24.341Z"
   },
   {
    "duration": 319,
    "start_time": "2024-07-14T20:31:34.358Z"
   },
   {
    "duration": 428,
    "start_time": "2024-07-14T20:33:53.128Z"
   },
   {
    "duration": 320,
    "start_time": "2024-07-14T20:35:10.937Z"
   },
   {
    "duration": 250,
    "start_time": "2024-07-14T21:15:59.747Z"
   },
   {
    "duration": 244,
    "start_time": "2024-07-14T21:18:01.343Z"
   },
   {
    "duration": 6,
    "start_time": "2024-07-14T21:22:12.665Z"
   },
   {
    "duration": 9,
    "start_time": "2024-07-14T21:22:21.373Z"
   },
   {
    "duration": 237,
    "start_time": "2024-07-14T21:22:34.795Z"
   },
   {
    "duration": 9,
    "start_time": "2024-07-14T21:23:05.999Z"
   },
   {
    "duration": 492,
    "start_time": "2024-07-14T21:23:19.056Z"
   },
   {
    "duration": 236,
    "start_time": "2024-07-14T21:29:26.012Z"
   },
   {
    "duration": 12,
    "start_time": "2024-07-14T21:29:30.458Z"
   },
   {
    "duration": 245,
    "start_time": "2024-07-14T21:40:37.421Z"
   },
   {
    "duration": 269,
    "start_time": "2024-07-14T21:40:50.567Z"
   },
   {
    "duration": 24,
    "start_time": "2024-07-14T21:49:08.762Z"
   },
   {
    "duration": 20,
    "start_time": "2024-07-14T21:49:57.404Z"
   },
   {
    "duration": 23,
    "start_time": "2024-07-14T21:50:08.168Z"
   },
   {
    "duration": 23,
    "start_time": "2024-07-14T21:50:18.369Z"
   },
   {
    "duration": 23,
    "start_time": "2024-07-14T21:50:25.592Z"
   },
   {
    "duration": 22,
    "start_time": "2024-07-14T21:51:34.408Z"
   },
   {
    "duration": 47,
    "start_time": "2024-07-14T21:51:44.038Z"
   },
   {
    "duration": 549,
    "start_time": "2024-07-14T21:56:38.370Z"
   },
   {
    "duration": 621,
    "start_time": "2024-07-14T21:57:49.787Z"
   },
   {
    "duration": 697,
    "start_time": "2024-07-14T22:10:48.506Z"
   },
   {
    "duration": 108,
    "start_time": "2024-07-14T22:10:49.206Z"
   },
   {
    "duration": 19,
    "start_time": "2024-07-14T22:10:49.318Z"
   },
   {
    "duration": 21,
    "start_time": "2024-07-14T22:10:49.340Z"
   },
   {
    "duration": 67,
    "start_time": "2024-07-14T22:10:49.366Z"
   },
   {
    "duration": 16,
    "start_time": "2024-07-14T22:10:49.436Z"
   },
   {
    "duration": 20,
    "start_time": "2024-07-14T22:10:49.455Z"
   },
   {
    "duration": 45,
    "start_time": "2024-07-14T22:10:49.478Z"
   },
   {
    "duration": 8,
    "start_time": "2024-07-14T22:10:49.527Z"
   },
   {
    "duration": 23,
    "start_time": "2024-07-14T22:10:49.539Z"
   },
   {
    "duration": 529,
    "start_time": "2024-07-14T22:10:49.565Z"
   },
   {
    "duration": 380,
    "start_time": "2024-07-14T22:10:50.097Z"
   },
   {
    "duration": 31,
    "start_time": "2024-07-14T22:10:50.481Z"
   },
   {
    "duration": 424,
    "start_time": "2024-07-14T22:10:50.519Z"
   },
   {
    "duration": 41,
    "start_time": "2024-07-14T22:10:50.946Z"
   },
   {
    "duration": 48,
    "start_time": "2024-07-14T22:10:50.991Z"
   },
   {
    "duration": 1050,
    "start_time": "2024-07-14T22:10:51.042Z"
   },
   {
    "duration": 32,
    "start_time": "2024-07-14T22:10:52.096Z"
   },
   {
    "duration": 856,
    "start_time": "2024-07-14T22:10:52.131Z"
   },
   {
    "duration": 352,
    "start_time": "2024-07-14T22:10:52.991Z"
   },
   {
    "duration": 345,
    "start_time": "2024-07-14T22:10:53.346Z"
   },
   {
    "duration": 263,
    "start_time": "2024-07-14T22:10:53.696Z"
   },
   {
    "duration": 8,
    "start_time": "2024-07-14T22:10:53.963Z"
   },
   {
    "duration": 270,
    "start_time": "2024-07-14T22:10:53.975Z"
   },
   {
    "duration": 9,
    "start_time": "2024-07-14T22:10:54.248Z"
   },
   {
    "duration": 77,
    "start_time": "2024-07-14T22:10:54.261Z"
   },
   {
    "duration": 318,
    "start_time": "2024-07-14T22:14:02.392Z"
   },
   {
    "duration": 764,
    "start_time": "2024-07-14T22:14:20.018Z"
   },
   {
    "duration": 67,
    "start_time": "2024-07-14T22:14:20.786Z"
   },
   {
    "duration": 19,
    "start_time": "2024-07-14T22:14:20.856Z"
   },
   {
    "duration": 35,
    "start_time": "2024-07-14T22:14:20.879Z"
   },
   {
    "duration": 29,
    "start_time": "2024-07-14T22:14:20.917Z"
   },
   {
    "duration": 19,
    "start_time": "2024-07-14T22:14:20.949Z"
   },
   {
    "duration": 54,
    "start_time": "2024-07-14T22:14:20.971Z"
   },
   {
    "duration": 17,
    "start_time": "2024-07-14T22:14:21.028Z"
   },
   {
    "duration": 10,
    "start_time": "2024-07-14T22:14:21.048Z"
   },
   {
    "duration": 67,
    "start_time": "2024-07-14T22:14:21.065Z"
   },
   {
    "duration": 516,
    "start_time": "2024-07-14T22:14:21.134Z"
   },
   {
    "duration": 377,
    "start_time": "2024-07-14T22:14:21.652Z"
   },
   {
    "duration": 11,
    "start_time": "2024-07-14T22:14:22.032Z"
   },
   {
    "duration": 427,
    "start_time": "2024-07-14T22:14:22.046Z"
   },
   {
    "duration": 34,
    "start_time": "2024-07-14T22:14:22.476Z"
   },
   {
    "duration": 45,
    "start_time": "2024-07-14T22:14:22.513Z"
   },
   {
    "duration": 1128,
    "start_time": "2024-07-14T22:14:22.561Z"
   },
   {
    "duration": 39,
    "start_time": "2024-07-14T22:14:23.693Z"
   },
   {
    "duration": 788,
    "start_time": "2024-07-14T22:14:23.735Z"
   },
   {
    "duration": 353,
    "start_time": "2024-07-14T22:14:24.526Z"
   },
   {
    "duration": 335,
    "start_time": "2024-07-14T22:14:24.882Z"
   },
   {
    "duration": 269,
    "start_time": "2024-07-14T22:14:25.220Z"
   },
   {
    "duration": 22,
    "start_time": "2024-07-14T22:14:25.492Z"
   },
   {
    "duration": 273,
    "start_time": "2024-07-14T22:14:25.517Z"
   },
   {
    "duration": 23,
    "start_time": "2024-07-14T22:14:25.793Z"
   },
   {
    "duration": 52,
    "start_time": "2024-07-14T22:14:25.819Z"
   },
   {
    "duration": 31759,
    "start_time": "2024-07-14T22:14:25.874Z"
   },
   {
    "duration": 656,
    "start_time": "2024-07-14T22:16:16.053Z"
   },
   {
    "duration": 106,
    "start_time": "2024-07-14T22:16:16.714Z"
   },
   {
    "duration": 19,
    "start_time": "2024-07-14T22:16:16.823Z"
   },
   {
    "duration": 19,
    "start_time": "2024-07-14T22:16:16.847Z"
   },
   {
    "duration": 61,
    "start_time": "2024-07-14T22:16:16.869Z"
   },
   {
    "duration": 12,
    "start_time": "2024-07-14T22:16:16.932Z"
   },
   {
    "duration": 19,
    "start_time": "2024-07-14T22:16:16.947Z"
   },
   {
    "duration": 52,
    "start_time": "2024-07-14T22:16:16.969Z"
   },
   {
    "duration": 11,
    "start_time": "2024-07-14T22:16:17.024Z"
   },
   {
    "duration": 23,
    "start_time": "2024-07-14T22:16:17.041Z"
   },
   {
    "duration": 530,
    "start_time": "2024-07-14T22:16:17.067Z"
   },
   {
    "duration": 373,
    "start_time": "2024-07-14T22:16:17.599Z"
   },
   {
    "duration": 13,
    "start_time": "2024-07-14T22:16:17.975Z"
   },
   {
    "duration": 446,
    "start_time": "2024-07-14T22:16:17.991Z"
   },
   {
    "duration": 33,
    "start_time": "2024-07-14T22:16:18.440Z"
   },
   {
    "duration": 49,
    "start_time": "2024-07-14T22:16:18.475Z"
   },
   {
    "duration": 1055,
    "start_time": "2024-07-14T22:16:18.527Z"
   },
   {
    "duration": 37,
    "start_time": "2024-07-14T22:16:19.585Z"
   },
   {
    "duration": 849,
    "start_time": "2024-07-14T22:16:19.626Z"
   },
   {
    "duration": 334,
    "start_time": "2024-07-14T22:16:20.478Z"
   },
   {
    "duration": 334,
    "start_time": "2024-07-14T22:16:20.816Z"
   },
   {
    "duration": 259,
    "start_time": "2024-07-14T22:16:21.153Z"
   },
   {
    "duration": 9,
    "start_time": "2024-07-14T22:16:21.415Z"
   },
   {
    "duration": 270,
    "start_time": "2024-07-14T22:16:21.428Z"
   },
   {
    "duration": 15,
    "start_time": "2024-07-14T22:16:21.702Z"
   },
   {
    "duration": 50,
    "start_time": "2024-07-14T22:16:21.720Z"
   },
   {
    "duration": 46,
    "start_time": "2024-07-14T22:16:21.773Z"
   },
   {
    "duration": 47,
    "start_time": "2024-07-14T22:16:37.619Z"
   },
   {
    "duration": 171,
    "start_time": "2024-07-14T22:17:12.909Z"
   },
   {
    "duration": 34,
    "start_time": "2024-07-14T22:17:23.804Z"
   },
   {
    "duration": 38,
    "start_time": "2024-07-14T22:17:28.657Z"
   },
   {
    "duration": 42,
    "start_time": "2024-07-14T22:17:37.520Z"
   },
   {
    "duration": 657,
    "start_time": "2024-07-14T22:21:12.880Z"
   },
   {
    "duration": 109,
    "start_time": "2024-07-14T22:21:13.540Z"
   },
   {
    "duration": 19,
    "start_time": "2024-07-14T22:21:13.652Z"
   },
   {
    "duration": 49,
    "start_time": "2024-07-14T22:21:13.677Z"
   },
   {
    "duration": 28,
    "start_time": "2024-07-14T22:21:13.728Z"
   },
   {
    "duration": 14,
    "start_time": "2024-07-14T22:21:13.759Z"
   },
   {
    "duration": 50,
    "start_time": "2024-07-14T22:21:13.776Z"
   },
   {
    "duration": 16,
    "start_time": "2024-07-14T22:21:13.829Z"
   },
   {
    "duration": 9,
    "start_time": "2024-07-14T22:21:13.848Z"
   },
   {
    "duration": 69,
    "start_time": "2024-07-14T22:21:13.864Z"
   },
   {
    "duration": 527,
    "start_time": "2024-07-14T22:21:13.937Z"
   },
   {
    "duration": 382,
    "start_time": "2024-07-14T22:21:14.467Z"
   },
   {
    "duration": 10,
    "start_time": "2024-07-14T22:21:14.853Z"
   },
   {
    "duration": 442,
    "start_time": "2024-07-14T22:21:14.867Z"
   },
   {
    "duration": 36,
    "start_time": "2024-07-14T22:21:15.312Z"
   },
   {
    "duration": 66,
    "start_time": "2024-07-14T22:21:15.351Z"
   },
   {
    "duration": 1004,
    "start_time": "2024-07-14T22:21:15.420Z"
   },
   {
    "duration": 24,
    "start_time": "2024-07-14T22:21:16.427Z"
   },
   {
    "duration": 862,
    "start_time": "2024-07-14T22:21:16.454Z"
   },
   {
    "duration": 334,
    "start_time": "2024-07-14T22:21:17.320Z"
   },
   {
    "duration": 332,
    "start_time": "2024-07-14T22:21:17.657Z"
   },
   {
    "duration": 257,
    "start_time": "2024-07-14T22:21:17.992Z"
   },
   {
    "duration": 10,
    "start_time": "2024-07-14T22:21:18.252Z"
   },
   {
    "duration": 265,
    "start_time": "2024-07-14T22:21:18.266Z"
   },
   {
    "duration": 11,
    "start_time": "2024-07-14T22:21:18.534Z"
   },
   {
    "duration": 68,
    "start_time": "2024-07-14T22:21:18.550Z"
   },
   {
    "duration": 14,
    "start_time": "2024-07-14T22:21:18.621Z"
   },
   {
    "duration": 322,
    "start_time": "2024-07-14T22:22:02.400Z"
   },
   {
    "duration": 735,
    "start_time": "2024-07-14T22:22:11.288Z"
   },
   {
    "duration": 55,
    "start_time": "2024-07-14T22:22:12.027Z"
   },
   {
    "duration": 35,
    "start_time": "2024-07-14T22:22:12.085Z"
   },
   {
    "duration": 19,
    "start_time": "2024-07-14T22:22:12.125Z"
   },
   {
    "duration": 27,
    "start_time": "2024-07-14T22:22:12.147Z"
   },
   {
    "duration": 43,
    "start_time": "2024-07-14T22:22:12.178Z"
   },
   {
    "duration": 20,
    "start_time": "2024-07-14T22:22:12.224Z"
   },
   {
    "duration": 15,
    "start_time": "2024-07-14T22:22:12.247Z"
   },
   {
    "duration": 49,
    "start_time": "2024-07-14T22:22:12.265Z"
   },
   {
    "duration": 25,
    "start_time": "2024-07-14T22:22:12.321Z"
   },
   {
    "duration": 519,
    "start_time": "2024-07-14T22:22:12.348Z"
   },
   {
    "duration": 390,
    "start_time": "2024-07-14T22:22:12.870Z"
   },
   {
    "duration": 12,
    "start_time": "2024-07-14T22:22:13.263Z"
   },
   {
    "duration": 428,
    "start_time": "2024-07-14T22:22:13.277Z"
   },
   {
    "duration": 36,
    "start_time": "2024-07-14T22:22:13.709Z"
   },
   {
    "duration": 67,
    "start_time": "2024-07-14T22:22:13.748Z"
   },
   {
    "duration": 1157,
    "start_time": "2024-07-14T22:22:13.818Z"
   },
   {
    "duration": 43,
    "start_time": "2024-07-14T22:22:14.978Z"
   },
   {
    "duration": 767,
    "start_time": "2024-07-14T22:22:15.024Z"
   },
   {
    "duration": 339,
    "start_time": "2024-07-14T22:22:15.794Z"
   },
   {
    "duration": 330,
    "start_time": "2024-07-14T22:22:16.136Z"
   },
   {
    "duration": 254,
    "start_time": "2024-07-14T22:22:16.469Z"
   },
   {
    "duration": 8,
    "start_time": "2024-07-14T22:22:16.726Z"
   },
   {
    "duration": 275,
    "start_time": "2024-07-14T22:22:16.738Z"
   },
   {
    "duration": 9,
    "start_time": "2024-07-14T22:22:17.016Z"
   },
   {
    "duration": 48,
    "start_time": "2024-07-14T22:22:17.029Z"
   },
   {
    "duration": 79,
    "start_time": "2024-07-14T22:22:17.080Z"
   },
   {
    "duration": 103,
    "start_time": "2024-07-14T22:24:20.094Z"
   },
   {
    "duration": 35,
    "start_time": "2024-07-14T22:25:04.180Z"
   },
   {
    "duration": 41,
    "start_time": "2024-07-14T22:25:12.887Z"
   },
   {
    "duration": 51,
    "start_time": "2024-07-14T22:25:29.513Z"
   },
   {
    "duration": 136,
    "start_time": "2024-07-14T22:25:34.879Z"
   },
   {
    "duration": 43,
    "start_time": "2024-07-14T22:25:39.262Z"
   },
   {
    "duration": 43,
    "start_time": "2024-07-14T22:25:43.723Z"
   },
   {
    "duration": 23,
    "start_time": "2024-07-14T22:26:20.537Z"
   },
   {
    "duration": 40,
    "start_time": "2024-07-14T22:26:38.242Z"
   },
   {
    "duration": 966,
    "start_time": "2024-07-14T22:27:05.053Z"
   },
   {
    "duration": 48,
    "start_time": "2024-07-14T22:27:31.442Z"
   },
   {
    "duration": 41,
    "start_time": "2024-07-14T22:27:45.840Z"
   },
   {
    "duration": 33,
    "start_time": "2024-07-14T22:28:02.398Z"
   },
   {
    "duration": 823,
    "start_time": "2024-07-14T22:28:05.572Z"
   },
   {
    "duration": 40,
    "start_time": "2024-07-14T22:28:19.105Z"
   },
   {
    "duration": 25,
    "start_time": "2024-07-14T22:33:20.240Z"
   },
   {
    "duration": 322,
    "start_time": "2024-07-17T01:43:38.987Z"
   },
   {
    "duration": 4814,
    "start_time": "2024-07-17T01:43:46.175Z"
   },
   {
    "duration": 84,
    "start_time": "2024-07-17T01:43:50.993Z"
   },
   {
    "duration": 24,
    "start_time": "2024-07-17T01:43:51.082Z"
   },
   {
    "duration": 30,
    "start_time": "2024-07-17T01:43:51.123Z"
   },
   {
    "duration": 35,
    "start_time": "2024-07-17T01:43:51.157Z"
   },
   {
    "duration": 35,
    "start_time": "2024-07-17T01:43:51.195Z"
   },
   {
    "duration": 24,
    "start_time": "2024-07-17T01:43:51.235Z"
   },
   {
    "duration": 16,
    "start_time": "2024-07-17T01:43:51.263Z"
   },
   {
    "duration": 47,
    "start_time": "2024-07-17T01:43:51.283Z"
   },
   {
    "duration": 28,
    "start_time": "2024-07-17T01:43:51.337Z"
   },
   {
    "duration": 602,
    "start_time": "2024-07-17T01:43:51.369Z"
   },
   {
    "duration": 417,
    "start_time": "2024-07-17T01:43:51.974Z"
   },
   {
    "duration": 32,
    "start_time": "2024-07-17T01:43:52.395Z"
   },
   {
    "duration": 482,
    "start_time": "2024-07-17T01:43:52.430Z"
   },
   {
    "duration": 42,
    "start_time": "2024-07-17T01:43:52.916Z"
   },
   {
    "duration": 63,
    "start_time": "2024-07-17T01:43:52.961Z"
   },
   {
    "duration": 1201,
    "start_time": "2024-07-17T01:43:53.027Z"
   },
   {
    "duration": 30,
    "start_time": "2024-07-17T01:43:54.232Z"
   },
   {
    "duration": 854,
    "start_time": "2024-07-17T01:43:54.265Z"
   },
   {
    "duration": 349,
    "start_time": "2024-07-17T01:43:55.124Z"
   },
   {
    "duration": 366,
    "start_time": "2024-07-17T01:43:55.477Z"
   },
   {
    "duration": 306,
    "start_time": "2024-07-17T01:43:55.846Z"
   },
   {
    "duration": 14,
    "start_time": "2024-07-17T01:43:56.157Z"
   },
   {
    "duration": 289,
    "start_time": "2024-07-17T01:43:56.176Z"
   },
   {
    "duration": 10,
    "start_time": "2024-07-17T01:43:56.468Z"
   },
   {
    "duration": 48,
    "start_time": "2024-07-17T01:43:56.482Z"
   },
   {
    "duration": 45,
    "start_time": "2024-07-17T01:43:56.534Z"
   },
   {
    "duration": 373,
    "start_time": "2024-07-17T01:45:33.652Z"
   },
   {
    "duration": 783,
    "start_time": "2024-07-17T01:46:01.302Z"
   },
   {
    "duration": 121,
    "start_time": "2024-07-17T01:46:02.089Z"
   },
   {
    "duration": 27,
    "start_time": "2024-07-17T01:46:02.213Z"
   },
   {
    "duration": 22,
    "start_time": "2024-07-17T01:46:02.245Z"
   },
   {
    "duration": 60,
    "start_time": "2024-07-17T01:46:02.270Z"
   },
   {
    "duration": 13,
    "start_time": "2024-07-17T01:46:02.332Z"
   },
   {
    "duration": 22,
    "start_time": "2024-07-17T01:46:02.351Z"
   },
   {
    "duration": 47,
    "start_time": "2024-07-17T01:46:02.378Z"
   },
   {
    "duration": 14,
    "start_time": "2024-07-17T01:46:02.429Z"
   },
   {
    "duration": 31,
    "start_time": "2024-07-17T01:46:02.449Z"
   },
   {
    "duration": 594,
    "start_time": "2024-07-17T01:46:02.483Z"
   },
   {
    "duration": 400,
    "start_time": "2024-07-17T01:46:03.080Z"
   },
   {
    "duration": 15,
    "start_time": "2024-07-17T01:46:03.484Z"
   },
   {
    "duration": 492,
    "start_time": "2024-07-17T01:46:03.503Z"
   },
   {
    "duration": 49,
    "start_time": "2024-07-17T01:46:03.999Z"
   },
   {
    "duration": 49,
    "start_time": "2024-07-17T01:46:04.051Z"
   },
   {
    "duration": 1129,
    "start_time": "2024-07-17T01:46:04.103Z"
   },
   {
    "duration": 28,
    "start_time": "2024-07-17T01:46:05.236Z"
   },
   {
    "duration": 918,
    "start_time": "2024-07-17T01:46:05.267Z"
   },
   {
    "duration": 386,
    "start_time": "2024-07-17T01:46:06.188Z"
   },
   {
    "duration": 349,
    "start_time": "2024-07-17T01:46:06.580Z"
   },
   {
    "duration": 312,
    "start_time": "2024-07-17T01:46:06.933Z"
   },
   {
    "duration": 15,
    "start_time": "2024-07-17T01:46:07.249Z"
   },
   {
    "duration": 307,
    "start_time": "2024-07-17T01:46:07.269Z"
   },
   {
    "duration": 11,
    "start_time": "2024-07-17T01:46:07.583Z"
   },
   {
    "duration": 263,
    "start_time": "2024-07-17T01:46:07.598Z"
   },
   {
    "duration": 32,
    "start_time": "2024-07-17T01:46:07.865Z"
   },
   {
    "duration": 47,
    "start_time": "2024-07-17T01:46:07.922Z"
   },
   {
    "duration": 186856,
    "start_time": "2024-07-17T01:46:07.972Z"
   },
   {
    "duration": 41,
    "start_time": "2024-07-17T01:49:54.853Z"
   },
   {
    "duration": 9,
    "start_time": "2024-07-17T01:52:12.182Z"
   },
   {
    "duration": 15,
    "start_time": "2024-07-17T01:52:37.292Z"
   },
   {
    "duration": 9,
    "start_time": "2024-07-17T01:52:47.415Z"
   },
   {
    "duration": 8,
    "start_time": "2024-07-17T01:52:56.760Z"
   },
   {
    "duration": 275,
    "start_time": "2024-07-17T01:53:43.360Z"
   },
   {
    "duration": 24,
    "start_time": "2024-07-17T01:54:55.050Z"
   },
   {
    "duration": 10,
    "start_time": "2024-07-17T01:55:14.949Z"
   },
   {
    "duration": 7515,
    "start_time": "2024-07-17T01:58:08.891Z"
   },
   {
    "duration": 244,
    "start_time": "2024-07-17T01:59:41.176Z"
   },
   {
    "duration": 15,
    "start_time": "2024-07-17T02:00:26.010Z"
   },
   {
    "duration": 311,
    "start_time": "2024-07-17T02:09:26.428Z"
   },
   {
    "duration": 271,
    "start_time": "2024-07-17T02:22:26.783Z"
   },
   {
    "duration": 32,
    "start_time": "2024-07-17T02:23:25.006Z"
   },
   {
    "duration": 24,
    "start_time": "2024-07-17T02:26:06.300Z"
   },
   {
    "duration": 6,
    "start_time": "2024-07-17T02:31:09.594Z"
   },
   {
    "duration": 40,
    "start_time": "2024-07-17T02:32:21.972Z"
   },
   {
    "duration": 39,
    "start_time": "2024-07-17T02:33:38.164Z"
   },
   {
    "duration": 43,
    "start_time": "2024-07-17T02:33:56.522Z"
   },
   {
    "duration": 11,
    "start_time": "2024-07-17T02:38:23.822Z"
   },
   {
    "duration": 44,
    "start_time": "2024-07-17T02:40:17.875Z"
   },
   {
    "duration": 27,
    "start_time": "2024-07-17T02:42:01.503Z"
   },
   {
    "duration": 600,
    "start_time": "2024-07-17T02:58:48.492Z"
   },
   {
    "duration": 4,
    "start_time": "2024-07-17T02:58:52.725Z"
   },
   {
    "duration": 53,
    "start_time": "2024-07-17T02:58:52.739Z"
   },
   {
    "duration": 49,
    "start_time": "2024-07-17T02:58:52.796Z"
   },
   {
    "duration": 26,
    "start_time": "2024-07-17T02:58:52.848Z"
   },
   {
    "duration": 70,
    "start_time": "2024-07-17T02:58:52.878Z"
   },
   {
    "duration": 18,
    "start_time": "2024-07-17T02:58:52.954Z"
   },
   {
    "duration": 20,
    "start_time": "2024-07-17T02:58:52.975Z"
   },
   {
    "duration": 17,
    "start_time": "2024-07-17T02:58:53.024Z"
   },
   {
    "duration": 8,
    "start_time": "2024-07-17T02:58:53.045Z"
   },
   {
    "duration": 26,
    "start_time": "2024-07-17T02:58:53.057Z"
   },
   {
    "duration": 524,
    "start_time": "2024-07-17T02:58:53.085Z"
   },
   {
    "duration": 392,
    "start_time": "2024-07-17T02:58:53.614Z"
   },
   {
    "duration": 30,
    "start_time": "2024-07-17T02:58:54.009Z"
   },
   {
    "duration": 424,
    "start_time": "2024-07-17T02:58:54.042Z"
   },
   {
    "duration": 51,
    "start_time": "2024-07-17T02:58:54.472Z"
   },
   {
    "duration": 52,
    "start_time": "2024-07-17T02:58:54.526Z"
   },
   {
    "duration": 1079,
    "start_time": "2024-07-17T02:58:54.583Z"
   },
   {
    "duration": 32,
    "start_time": "2024-07-17T02:58:55.664Z"
   },
   {
    "duration": 968,
    "start_time": "2024-07-17T02:58:55.698Z"
   },
   {
    "duration": 347,
    "start_time": "2024-07-17T02:58:56.672Z"
   },
   {
    "duration": 355,
    "start_time": "2024-07-17T02:58:57.021Z"
   },
   {
    "duration": 344,
    "start_time": "2024-07-17T02:58:57.379Z"
   },
   {
    "duration": 26,
    "start_time": "2024-07-17T02:58:57.731Z"
   },
   {
    "duration": 340,
    "start_time": "2024-07-17T02:58:57.772Z"
   },
   {
    "duration": 16,
    "start_time": "2024-07-17T02:58:58.116Z"
   },
   {
    "duration": 356,
    "start_time": "2024-07-17T02:58:58.136Z"
   },
   {
    "duration": 10,
    "start_time": "2024-07-17T02:58:58.495Z"
   },
   {
    "duration": 315,
    "start_time": "2024-07-17T02:58:58.524Z"
   },
   {
    "duration": 15,
    "start_time": "2024-07-17T02:58:58.842Z"
   },
   {
    "duration": 393,
    "start_time": "2024-07-17T02:58:58.860Z"
   },
   {
    "duration": 42,
    "start_time": "2024-07-17T02:58:59.256Z"
   },
   {
    "duration": 42,
    "start_time": "2024-07-17T02:58:59.302Z"
   },
   {
    "duration": 19,
    "start_time": "2024-07-17T03:01:53.451Z"
   },
   {
    "duration": 15,
    "start_time": "2024-07-17T03:03:11.937Z"
   },
   {
    "duration": 1193,
    "start_time": "2024-07-17T03:41:37.724Z"
   },
   {
    "duration": 61,
    "start_time": "2024-07-17T03:41:38.922Z"
   },
   {
    "duration": 45,
    "start_time": "2024-07-17T03:41:38.988Z"
   },
   {
    "duration": 20,
    "start_time": "2024-07-17T03:41:39.037Z"
   },
   {
    "duration": 27,
    "start_time": "2024-07-17T03:41:39.062Z"
   },
   {
    "duration": 12,
    "start_time": "2024-07-17T03:41:39.122Z"
   },
   {
    "duration": 19,
    "start_time": "2024-07-17T03:41:39.137Z"
   },
   {
    "duration": 15,
    "start_time": "2024-07-17T03:41:39.159Z"
   },
   {
    "duration": 50,
    "start_time": "2024-07-17T03:41:39.177Z"
   },
   {
    "duration": 24,
    "start_time": "2024-07-17T03:41:39.234Z"
   },
   {
    "duration": 552,
    "start_time": "2024-07-17T03:41:39.261Z"
   },
   {
    "duration": 442,
    "start_time": "2024-07-17T03:41:39.816Z"
   },
   {
    "duration": 14,
    "start_time": "2024-07-17T03:41:40.261Z"
   },
   {
    "duration": 444,
    "start_time": "2024-07-17T03:41:40.278Z"
   },
   {
    "duration": 38,
    "start_time": "2024-07-17T03:41:40.729Z"
   },
   {
    "duration": 75,
    "start_time": "2024-07-17T03:41:40.771Z"
   },
   {
    "duration": 1148,
    "start_time": "2024-07-17T03:41:40.850Z"
   },
   {
    "duration": 33,
    "start_time": "2024-07-17T03:41:42.001Z"
   },
   {
    "duration": 757,
    "start_time": "2024-07-17T03:41:42.036Z"
   },
   {
    "duration": 329,
    "start_time": "2024-07-17T03:41:42.796Z"
   },
   {
    "duration": 386,
    "start_time": "2024-07-17T03:41:43.129Z"
   },
   {
    "duration": 337,
    "start_time": "2024-07-17T03:41:43.523Z"
   },
   {
    "duration": 10,
    "start_time": "2024-07-17T03:41:43.867Z"
   },
   {
    "duration": 262,
    "start_time": "2024-07-17T03:41:43.880Z"
   },
   {
    "duration": 8,
    "start_time": "2024-07-17T03:41:44.145Z"
   },
   {
    "duration": 274,
    "start_time": "2024-07-17T03:41:44.156Z"
   },
   {
    "duration": 9,
    "start_time": "2024-07-17T03:41:44.433Z"
   },
   {
    "duration": 275,
    "start_time": "2024-07-17T03:41:44.450Z"
   },
   {
    "duration": 10,
    "start_time": "2024-07-17T03:41:44.728Z"
   },
   {
    "duration": 312,
    "start_time": "2024-07-17T03:41:44.740Z"
   },
   {
    "duration": 33,
    "start_time": "2024-07-17T03:41:45.055Z"
   },
   {
    "duration": 41,
    "start_time": "2024-07-17T03:41:45.091Z"
   },
   {
    "duration": 14,
    "start_time": "2024-07-17T03:41:45.136Z"
   },
   {
    "duration": 18,
    "start_time": "2024-07-17T03:41:45.152Z"
   },
   {
    "duration": 4921,
    "start_time": "2024-07-17T12:42:59.287Z"
   },
   {
    "duration": 78,
    "start_time": "2024-07-17T12:43:04.215Z"
   },
   {
    "duration": 23,
    "start_time": "2024-07-17T12:43:04.298Z"
   },
   {
    "duration": 23,
    "start_time": "2024-07-17T12:43:04.325Z"
   },
   {
    "duration": 30,
    "start_time": "2024-07-17T12:43:04.353Z"
   },
   {
    "duration": 14,
    "start_time": "2024-07-17T12:43:04.415Z"
   },
   {
    "duration": 28,
    "start_time": "2024-07-17T12:43:04.432Z"
   },
   {
    "duration": 47,
    "start_time": "2024-07-17T12:43:04.465Z"
   },
   {
    "duration": 10,
    "start_time": "2024-07-17T12:43:04.516Z"
   },
   {
    "duration": 25,
    "start_time": "2024-07-17T12:43:04.530Z"
   },
   {
    "duration": 529,
    "start_time": "2024-07-17T12:43:04.559Z"
   },
   {
    "duration": 377,
    "start_time": "2024-07-17T12:43:05.091Z"
   },
   {
    "duration": 13,
    "start_time": "2024-07-17T12:43:05.471Z"
   },
   {
    "duration": 462,
    "start_time": "2024-07-17T12:43:05.491Z"
   },
   {
    "duration": 36,
    "start_time": "2024-07-17T12:43:05.956Z"
   },
   {
    "duration": 53,
    "start_time": "2024-07-17T12:43:05.995Z"
   },
   {
    "duration": 1117,
    "start_time": "2024-07-17T12:43:06.051Z"
   },
   {
    "duration": 39,
    "start_time": "2024-07-17T12:43:07.173Z"
   },
   {
    "duration": 769,
    "start_time": "2024-07-17T12:43:07.215Z"
   },
   {
    "duration": 357,
    "start_time": "2024-07-17T12:43:07.987Z"
   },
   {
    "duration": 374,
    "start_time": "2024-07-17T12:43:08.347Z"
   },
   {
    "duration": 262,
    "start_time": "2024-07-17T12:43:08.725Z"
   },
   {
    "duration": 22,
    "start_time": "2024-07-17T12:43:08.992Z"
   },
   {
    "duration": 279,
    "start_time": "2024-07-17T12:43:09.017Z"
   },
   {
    "duration": 15,
    "start_time": "2024-07-17T12:43:09.299Z"
   },
   {
    "duration": 260,
    "start_time": "2024-07-17T12:43:09.317Z"
   },
   {
    "duration": 10,
    "start_time": "2024-07-17T12:43:09.580Z"
   },
   {
    "duration": 396,
    "start_time": "2024-07-17T12:43:09.592Z"
   },
   {
    "duration": 21,
    "start_time": "2024-07-17T12:43:09.991Z"
   },
   {
    "duration": 326,
    "start_time": "2024-07-17T12:43:10.016Z"
   },
   {
    "duration": 37,
    "start_time": "2024-07-17T12:43:10.348Z"
   },
   {
    "duration": 40,
    "start_time": "2024-07-17T12:43:10.388Z"
   },
   {
    "duration": 18,
    "start_time": "2024-07-17T12:43:10.434Z"
   },
   {
    "duration": 16,
    "start_time": "2024-07-17T12:43:10.455Z"
   },
   {
    "duration": 72,
    "start_time": "2024-07-17T12:55:05.515Z"
   },
   {
    "duration": 395,
    "start_time": "2024-07-17T12:55:15.589Z"
   },
   {
    "duration": 35,
    "start_time": "2024-07-17T12:55:19.077Z"
   },
   {
    "duration": 327,
    "start_time": "2024-07-19T03:00:48.857Z"
   },
   {
    "duration": 5141,
    "start_time": "2024-07-19T03:00:56.046Z"
   },
   {
    "duration": 107,
    "start_time": "2024-07-19T03:01:01.190Z"
   },
   {
    "duration": 20,
    "start_time": "2024-07-19T03:01:01.300Z"
   },
   {
    "duration": 21,
    "start_time": "2024-07-19T03:01:01.334Z"
   },
   {
    "duration": 1322,
    "start_time": "2024-07-19T03:01:01.358Z"
   },
   {
    "duration": 6,
    "start_time": "2024-07-19T03:01:21.641Z"
   },
   {
    "duration": 110,
    "start_time": "2024-07-19T03:01:35.557Z"
   },
   {
    "duration": 85,
    "start_time": "2024-07-19T03:02:09.949Z"
   },
   {
    "duration": 34,
    "start_time": "2024-07-19T03:02:25.746Z"
   },
   {
    "duration": 98,
    "start_time": "2024-07-19T03:02:51.246Z"
   },
   {
    "duration": 110,
    "start_time": "2024-07-19T03:03:58.861Z"
   },
   {
    "duration": 23,
    "start_time": "2024-07-19T03:05:48.627Z"
   },
   {
    "duration": 20,
    "start_time": "2024-07-19T03:06:43.344Z"
   },
   {
    "duration": 22,
    "start_time": "2024-07-19T03:07:18.906Z"
   },
   {
    "duration": 19,
    "start_time": "2024-07-19T03:07:36.278Z"
   },
   {
    "duration": 30,
    "start_time": "2024-07-19T03:07:49.393Z"
   },
   {
    "duration": 22,
    "start_time": "2024-07-19T03:08:39.974Z"
   },
   {
    "duration": 27,
    "start_time": "2024-07-19T03:09:20.707Z"
   },
   {
    "duration": 21,
    "start_time": "2024-07-19T03:09:40.125Z"
   },
   {
    "duration": 3,
    "start_time": "2024-07-19T03:09:58.907Z"
   },
   {
    "duration": 69,
    "start_time": "2024-07-19T03:09:58.917Z"
   },
   {
    "duration": 24,
    "start_time": "2024-07-19T03:09:58.990Z"
   },
   {
    "duration": 30,
    "start_time": "2024-07-19T03:09:59.017Z"
   },
   {
    "duration": 217,
    "start_time": "2024-07-19T03:09:59.051Z"
   },
   {
    "duration": 27,
    "start_time": "2024-07-19T03:15:17.685Z"
   },
   {
    "duration": 20,
    "start_time": "2024-07-19T03:22:29.467Z"
   },
   {
    "duration": 23,
    "start_time": "2024-07-19T03:22:41.655Z"
   },
   {
    "duration": 25,
    "start_time": "2024-07-19T03:22:57.725Z"
   },
   {
    "duration": 24,
    "start_time": "2024-07-19T03:23:42.053Z"
   },
   {
    "duration": 24,
    "start_time": "2024-07-19T03:30:16.052Z"
   },
   {
    "duration": 26,
    "start_time": "2024-07-19T03:33:02.936Z"
   },
   {
    "duration": 26,
    "start_time": "2024-07-19T03:34:19.212Z"
   },
   {
    "duration": 26,
    "start_time": "2024-07-19T03:34:28.677Z"
   },
   {
    "duration": 27,
    "start_time": "2024-07-19T03:34:42.481Z"
   },
   {
    "duration": 10,
    "start_time": "2024-07-19T03:37:28.411Z"
   },
   {
    "duration": 14,
    "start_time": "2024-07-19T03:38:39.128Z"
   },
   {
    "duration": 16,
    "start_time": "2024-07-19T03:38:46.054Z"
   },
   {
    "duration": 11,
    "start_time": "2024-07-19T03:38:55.487Z"
   },
   {
    "duration": 20,
    "start_time": "2024-07-19T03:40:18.083Z"
   },
   {
    "duration": 18,
    "start_time": "2024-07-19T03:41:17.207Z"
   },
   {
    "duration": 13,
    "start_time": "2024-07-19T03:43:31.827Z"
   },
   {
    "duration": 4,
    "start_time": "2024-07-19T03:45:01.457Z"
   },
   {
    "duration": 23,
    "start_time": "2024-07-19T03:45:34.652Z"
   },
   {
    "duration": 8,
    "start_time": "2024-07-19T03:45:44.394Z"
   },
   {
    "duration": 4,
    "start_time": "2024-07-19T03:46:48.421Z"
   },
   {
    "duration": 62,
    "start_time": "2024-07-19T03:46:48.442Z"
   },
   {
    "duration": 23,
    "start_time": "2024-07-19T03:46:48.512Z"
   },
   {
    "duration": 20,
    "start_time": "2024-07-19T03:46:48.541Z"
   },
   {
    "duration": 59,
    "start_time": "2024-07-19T03:46:48.566Z"
   },
   {
    "duration": 692,
    "start_time": "2024-07-19T03:46:48.630Z"
   },
   {
    "duration": 110,
    "start_time": "2024-07-19T03:46:49.324Z"
   },
   {
    "duration": 6,
    "start_time": "2024-07-19T03:49:31.664Z"
   },
   {
    "duration": 180,
    "start_time": "2024-07-19T03:49:50.866Z"
   },
   {
    "duration": 6,
    "start_time": "2024-07-19T03:50:04.284Z"
   },
   {
    "duration": 28,
    "start_time": "2024-07-19T03:50:22.871Z"
   },
   {
    "duration": 8,
    "start_time": "2024-07-19T03:50:46.988Z"
   },
   {
    "duration": 10,
    "start_time": "2024-07-19T03:50:57.215Z"
   },
   {
    "duration": 7,
    "start_time": "2024-07-19T03:51:04.523Z"
   },
   {
    "duration": 11,
    "start_time": "2024-07-19T03:51:24.009Z"
   },
   {
    "duration": 30,
    "start_time": "2024-07-19T03:51:32.348Z"
   },
   {
    "duration": 10,
    "start_time": "2024-07-19T03:57:52.033Z"
   },
   {
    "duration": 20,
    "start_time": "2024-07-19T03:58:57.269Z"
   },
   {
    "duration": 19,
    "start_time": "2024-07-19T04:00:59.393Z"
   },
   {
    "duration": 11,
    "start_time": "2024-07-19T04:01:36.165Z"
   },
   {
    "duration": 6,
    "start_time": "2024-07-19T04:04:04.318Z"
   },
   {
    "duration": 39,
    "start_time": "2024-07-19T04:04:23.366Z"
   },
   {
    "duration": 6,
    "start_time": "2024-07-19T04:04:52.061Z"
   },
   {
    "duration": 23,
    "start_time": "2024-07-19T04:04:59.564Z"
   },
   {
    "duration": 21,
    "start_time": "2024-07-19T04:05:24.755Z"
   },
   {
    "duration": 23,
    "start_time": "2024-07-19T04:05:44.905Z"
   },
   {
    "duration": 907,
    "start_time": "2024-07-19T04:09:29.789Z"
   },
   {
    "duration": 24,
    "start_time": "2024-07-19T04:09:47.739Z"
   },
   {
    "duration": 94,
    "start_time": "2024-07-19T04:10:23.549Z"
   },
   {
    "duration": 4928,
    "start_time": "2024-07-20T02:24:59.061Z"
   },
   {
    "duration": 78,
    "start_time": "2024-07-20T02:25:04.002Z"
   },
   {
    "duration": 21,
    "start_time": "2024-07-20T02:25:04.083Z"
   },
   {
    "duration": 20,
    "start_time": "2024-07-20T02:25:04.109Z"
   },
   {
    "duration": 28,
    "start_time": "2024-07-20T02:25:04.133Z"
   },
   {
    "duration": 776,
    "start_time": "2024-07-20T02:25:04.164Z"
   },
   {
    "duration": 29,
    "start_time": "2024-07-20T02:25:13.528Z"
   },
   {
    "duration": 6,
    "start_time": "2024-07-20T02:25:30.030Z"
   },
   {
    "duration": 29,
    "start_time": "2024-07-20T02:25:40.167Z"
   },
   {
    "duration": 6,
    "start_time": "2024-07-20T02:26:17.539Z"
   },
   {
    "duration": 400,
    "start_time": "2024-07-20T02:26:29.915Z"
   },
   {
    "duration": 5,
    "start_time": "2024-07-20T02:26:41.642Z"
   },
   {
    "duration": 348,
    "start_time": "2024-07-20T02:29:36.376Z"
   },
   {
    "duration": 7,
    "start_time": "2024-07-20T02:31:14.807Z"
   },
   {
    "duration": 9,
    "start_time": "2024-07-20T02:33:58.504Z"
   },
   {
    "duration": 9,
    "start_time": "2024-07-20T02:34:23.035Z"
   },
   {
    "duration": 30,
    "start_time": "2024-07-20T02:34:30.562Z"
   },
   {
    "duration": 19,
    "start_time": "2024-07-20T02:34:43.093Z"
   },
   {
    "duration": 6,
    "start_time": "2024-07-20T02:34:49.213Z"
   },
   {
    "duration": 15,
    "start_time": "2024-07-20T02:36:35.912Z"
   },
   {
    "duration": 12,
    "start_time": "2024-07-20T02:37:16.363Z"
   },
   {
    "duration": 40,
    "start_time": "2024-07-20T02:42:39.032Z"
   },
   {
    "duration": 7,
    "start_time": "2024-07-20T02:43:51.990Z"
   },
   {
    "duration": 6,
    "start_time": "2024-07-20T02:44:12.062Z"
   },
   {
    "duration": 6,
    "start_time": "2024-07-20T02:44:22.784Z"
   },
   {
    "duration": 9,
    "start_time": "2024-07-20T02:44:38.637Z"
   },
   {
    "duration": 28,
    "start_time": "2024-07-20T02:45:15.868Z"
   },
   {
    "duration": 28,
    "start_time": "2024-07-20T02:49:51.924Z"
   },
   {
    "duration": 28,
    "start_time": "2024-07-20T02:50:04.356Z"
   },
   {
    "duration": 30,
    "start_time": "2024-07-20T02:50:19.634Z"
   },
   {
    "duration": 31,
    "start_time": "2024-07-20T02:50:35.411Z"
   },
   {
    "duration": 550,
    "start_time": "2024-07-20T02:51:05.237Z"
   },
   {
    "duration": 27,
    "start_time": "2024-07-20T02:51:19.455Z"
   },
   {
    "duration": 32,
    "start_time": "2024-07-20T02:53:30.364Z"
   },
   {
    "duration": 37,
    "start_time": "2024-07-20T02:54:08.999Z"
   },
   {
    "duration": 23,
    "start_time": "2024-07-20T02:54:33.656Z"
   },
   {
    "duration": 21,
    "start_time": "2024-07-20T02:54:50.913Z"
   },
   {
    "duration": 30,
    "start_time": "2024-07-20T03:04:35.628Z"
   },
   {
    "duration": 4,
    "start_time": "2024-07-20T03:04:43.418Z"
   },
   {
    "duration": 53,
    "start_time": "2024-07-20T03:04:43.428Z"
   },
   {
    "duration": 26,
    "start_time": "2024-07-20T03:04:43.485Z"
   },
   {
    "duration": 19,
    "start_time": "2024-07-20T03:04:43.515Z"
   },
   {
    "duration": 26,
    "start_time": "2024-07-20T03:04:43.538Z"
   },
   {
    "duration": 756,
    "start_time": "2024-07-20T03:04:43.603Z"
   },
   {
    "duration": 7,
    "start_time": "2024-07-20T03:04:44.363Z"
   },
   {
    "duration": 31,
    "start_time": "2024-07-20T03:04:44.373Z"
   },
   {
    "duration": 13,
    "start_time": "2024-07-20T03:04:44.406Z"
   },
   {
    "duration": 17,
    "start_time": "2024-07-20T03:04:44.422Z"
   },
   {
    "duration": 13,
    "start_time": "2024-07-20T03:04:44.445Z"
   },
   {
    "duration": 9,
    "start_time": "2024-07-20T03:04:44.503Z"
   },
   {
    "duration": 22,
    "start_time": "2024-07-20T03:04:44.515Z"
   },
   {
    "duration": 25,
    "start_time": "2024-07-20T03:04:44.540Z"
   },
   {
    "duration": 527,
    "start_time": "2024-07-20T03:04:44.602Z"
   },
   {
    "duration": 378,
    "start_time": "2024-07-20T03:04:45.133Z"
   },
   {
    "duration": 11,
    "start_time": "2024-07-20T03:04:45.515Z"
   },
   {
    "duration": 373,
    "start_time": "2024-07-20T03:05:26.853Z"
   },
   {
    "duration": 5156,
    "start_time": "2024-07-21T03:00:57.734Z"
   },
   {
    "duration": 77,
    "start_time": "2024-07-21T03:01:02.894Z"
   },
   {
    "duration": 23,
    "start_time": "2024-07-21T03:01:02.974Z"
   },
   {
    "duration": 20,
    "start_time": "2024-07-21T03:01:03.003Z"
   },
   {
    "duration": 57,
    "start_time": "2024-07-21T03:01:03.029Z"
   },
   {
    "duration": 812,
    "start_time": "2024-07-21T03:01:03.089Z"
   },
   {
    "duration": 11,
    "start_time": "2024-07-21T03:01:03.905Z"
   },
   {
    "duration": 16,
    "start_time": "2024-07-21T03:01:03.919Z"
   },
   {
    "duration": 44,
    "start_time": "2024-07-21T03:01:03.938Z"
   },
   {
    "duration": 18,
    "start_time": "2024-07-21T03:01:03.986Z"
   },
   {
    "duration": 15,
    "start_time": "2024-07-21T03:01:04.008Z"
   },
   {
    "duration": 51,
    "start_time": "2024-07-21T03:01:04.026Z"
   },
   {
    "duration": 36,
    "start_time": "2024-07-21T03:01:04.080Z"
   },
   {
    "duration": 57,
    "start_time": "2024-07-21T03:01:04.123Z"
   },
   {
    "duration": 507,
    "start_time": "2024-07-21T03:01:04.184Z"
   },
   {
    "duration": 422,
    "start_time": "2024-07-21T03:01:04.694Z"
   },
   {
    "duration": 14,
    "start_time": "2024-07-21T03:01:05.120Z"
   },
   {
    "duration": 422,
    "start_time": "2024-07-21T03:01:05.138Z"
   },
   {
    "duration": 23,
    "start_time": "2024-07-21T03:44:52.689Z"
   },
   {
    "duration": 45,
    "start_time": "2024-07-21T03:44:57.648Z"
   },
   {
    "duration": 22,
    "start_time": "2024-07-21T03:45:05.128Z"
   },
   {
    "duration": 26,
    "start_time": "2024-07-21T03:45:09.680Z"
   },
   {
    "duration": 416,
    "start_time": "2024-07-21T03:45:51.497Z"
   },
   {
    "duration": 525,
    "start_time": "2024-07-21T03:46:26.108Z"
   },
   {
    "duration": 334,
    "start_time": "2024-07-21T04:02:40.116Z"
   },
   {
    "duration": 365,
    "start_time": "2024-07-21T04:06:14.396Z"
   },
   {
    "duration": 433,
    "start_time": "2024-07-21T04:06:32.051Z"
   },
   {
    "duration": 362,
    "start_time": "2024-07-21T04:06:55.344Z"
   },
   {
    "duration": 462,
    "start_time": "2024-07-21T04:07:06.533Z"
   },
   {
    "duration": 388,
    "start_time": "2024-07-21T04:08:45.546Z"
   },
   {
    "duration": 362,
    "start_time": "2024-07-21T04:09:56.288Z"
   },
   {
    "duration": 309,
    "start_time": "2024-07-21T04:10:06.838Z"
   },
   {
    "duration": 396,
    "start_time": "2024-07-21T04:17:43.283Z"
   },
   {
    "duration": 343,
    "start_time": "2024-07-21T04:17:52.113Z"
   },
   {
    "duration": 7,
    "start_time": "2024-07-21T04:17:55.831Z"
   },
   {
    "duration": 258,
    "start_time": "2024-07-21T04:17:57.735Z"
   },
   {
    "duration": 8,
    "start_time": "2024-07-21T04:18:01.749Z"
   },
   {
    "duration": 221,
    "start_time": "2024-07-21T04:18:08.408Z"
   },
   {
    "duration": 7,
    "start_time": "2024-07-21T04:22:27.302Z"
   },
   {
    "duration": 233,
    "start_time": "2024-07-21T04:22:35.738Z"
   },
   {
    "duration": 9,
    "start_time": "2024-07-21T04:22:47.244Z"
   },
   {
    "duration": 258,
    "start_time": "2024-07-21T04:23:08.575Z"
   },
   {
    "duration": 9,
    "start_time": "2024-07-21T04:23:15.378Z"
   },
   {
    "duration": 235,
    "start_time": "2024-07-21T04:26:54.255Z"
   },
   {
    "duration": 231,
    "start_time": "2024-07-21T04:27:44.680Z"
   },
   {
    "duration": 8,
    "start_time": "2024-07-21T04:28:28.008Z"
   },
   {
    "duration": 8,
    "start_time": "2024-07-21T04:29:26.718Z"
   },
   {
    "duration": 233,
    "start_time": "2024-07-21T04:30:13.568Z"
   },
   {
    "duration": 258,
    "start_time": "2024-07-21T04:30:38.236Z"
   },
   {
    "duration": 240,
    "start_time": "2024-07-21T04:31:04.879Z"
   },
   {
    "duration": 230,
    "start_time": "2024-07-21T04:31:44.500Z"
   },
   {
    "duration": 8,
    "start_time": "2024-07-21T04:31:49.333Z"
   },
   {
    "duration": 231,
    "start_time": "2024-07-21T04:31:52.709Z"
   },
   {
    "duration": 8,
    "start_time": "2024-07-21T04:31:57.518Z"
   },
   {
    "duration": 25,
    "start_time": "2024-07-21T04:41:20.303Z"
   },
   {
    "duration": 267,
    "start_time": "2024-07-21T04:41:30.989Z"
   },
   {
    "duration": 285,
    "start_time": "2024-07-21T04:46:07.453Z"
   },
   {
    "duration": 358,
    "start_time": "2024-07-21T04:46:58.936Z"
   },
   {
    "duration": 4,
    "start_time": "2024-07-21T04:54:34.538Z"
   },
   {
    "duration": 53,
    "start_time": "2024-07-21T04:54:34.549Z"
   },
   {
    "duration": 16,
    "start_time": "2024-07-21T04:54:34.606Z"
   },
   {
    "duration": 42,
    "start_time": "2024-07-21T04:54:34.625Z"
   },
   {
    "duration": 29,
    "start_time": "2024-07-21T04:54:34.671Z"
   },
   {
    "duration": 828,
    "start_time": "2024-07-21T04:54:34.704Z"
   },
   {
    "duration": 7,
    "start_time": "2024-07-21T04:54:35.535Z"
   },
   {
    "duration": 32,
    "start_time": "2024-07-21T04:54:35.545Z"
   },
   {
    "duration": 13,
    "start_time": "2024-07-21T04:54:35.581Z"
   },
   {
    "duration": 18,
    "start_time": "2024-07-21T04:54:35.596Z"
   },
   {
    "duration": 54,
    "start_time": "2024-07-21T04:54:35.618Z"
   },
   {
    "duration": 9,
    "start_time": "2024-07-21T04:54:35.675Z"
   },
   {
    "duration": 25,
    "start_time": "2024-07-21T04:54:35.687Z"
   },
   {
    "duration": 58,
    "start_time": "2024-07-21T04:54:35.714Z"
   },
   {
    "duration": 491,
    "start_time": "2024-07-21T04:54:35.779Z"
   },
   {
    "duration": 361,
    "start_time": "2024-07-21T04:54:36.274Z"
   },
   {
    "duration": 12,
    "start_time": "2024-07-21T04:54:36.638Z"
   },
   {
    "duration": 370,
    "start_time": "2024-07-21T04:54:36.669Z"
   },
   {
    "duration": 45,
    "start_time": "2024-07-21T04:54:37.043Z"
   },
   {
    "duration": 49,
    "start_time": "2024-07-21T04:54:37.090Z"
   },
   {
    "duration": 1090,
    "start_time": "2024-07-21T04:54:37.143Z"
   },
   {
    "duration": 38,
    "start_time": "2024-07-21T04:54:38.237Z"
   },
   {
    "duration": 530,
    "start_time": "2024-07-21T04:54:38.278Z"
   },
   {
    "duration": 36,
    "start_time": "2024-07-21T04:54:38.811Z"
   },
   {
    "duration": 341,
    "start_time": "2024-07-21T04:54:38.849Z"
   },
   {
    "duration": 351,
    "start_time": "2024-07-21T04:54:39.193Z"
   },
   {
    "duration": 252,
    "start_time": "2024-07-21T04:54:39.548Z"
   },
   {
    "duration": 9,
    "start_time": "2024-07-21T04:54:39.803Z"
   },
   {
    "duration": 272,
    "start_time": "2024-07-21T04:54:39.814Z"
   },
   {
    "duration": 11,
    "start_time": "2024-07-21T04:54:40.089Z"
   },
   {
    "duration": 251,
    "start_time": "2024-07-21T04:54:40.102Z"
   },
   {
    "duration": 18,
    "start_time": "2024-07-21T04:54:40.355Z"
   },
   {
    "duration": 272,
    "start_time": "2024-07-21T04:54:40.376Z"
   },
   {
    "duration": 18,
    "start_time": "2024-07-21T04:54:40.650Z"
   },
   {
    "duration": 245,
    "start_time": "2024-07-21T04:54:40.671Z"
   },
   {
    "duration": 8,
    "start_time": "2024-07-21T04:54:40.919Z"
   },
   {
    "duration": 261,
    "start_time": "2024-07-21T04:54:40.930Z"
   },
   {
    "duration": 9,
    "start_time": "2024-07-21T04:54:41.195Z"
   },
   {
    "duration": 295,
    "start_time": "2024-07-21T04:54:41.207Z"
   },
   {
    "duration": 303,
    "start_time": "2024-07-21T04:54:41.505Z"
   },
   {
    "duration": 381,
    "start_time": "2024-07-21T04:54:41.811Z"
   },
   {
    "duration": 27,
    "start_time": "2024-07-21T04:54:42.200Z"
   },
   {
    "duration": 44,
    "start_time": "2024-07-21T04:54:42.230Z"
   },
   {
    "duration": 13,
    "start_time": "2024-07-21T05:08:43.469Z"
   },
   {
    "duration": 12,
    "start_time": "2024-07-21T05:09:10.464Z"
   },
   {
    "duration": 3,
    "start_time": "2024-07-21T05:15:48.397Z"
   },
   {
    "duration": 52,
    "start_time": "2024-07-21T05:15:48.405Z"
   },
   {
    "duration": 22,
    "start_time": "2024-07-21T05:15:48.461Z"
   },
   {
    "duration": 18,
    "start_time": "2024-07-21T05:15:48.487Z"
   },
   {
    "duration": 59,
    "start_time": "2024-07-21T05:15:48.509Z"
   },
   {
    "duration": 847,
    "start_time": "2024-07-21T05:15:48.571Z"
   },
   {
    "duration": 7,
    "start_time": "2024-07-21T05:15:49.421Z"
   },
   {
    "duration": 37,
    "start_time": "2024-07-21T05:15:49.431Z"
   },
   {
    "duration": 14,
    "start_time": "2024-07-21T05:15:49.471Z"
   },
   {
    "duration": 19,
    "start_time": "2024-07-21T05:15:49.488Z"
   },
   {
    "duration": 13,
    "start_time": "2024-07-21T05:15:49.512Z"
   },
   {
    "duration": 9,
    "start_time": "2024-07-21T05:15:49.567Z"
   },
   {
    "duration": 22,
    "start_time": "2024-07-21T05:15:49.579Z"
   },
   {
    "duration": 27,
    "start_time": "2024-07-21T05:15:49.604Z"
   },
   {
    "duration": 499,
    "start_time": "2024-07-21T05:15:49.633Z"
   },
   {
    "duration": 360,
    "start_time": "2024-07-21T05:15:50.135Z"
   },
   {
    "duration": 12,
    "start_time": "2024-07-21T05:15:50.498Z"
   },
   {
    "duration": 363,
    "start_time": "2024-07-21T05:15:50.512Z"
   },
   {
    "duration": 36,
    "start_time": "2024-07-21T05:15:50.878Z"
   },
   {
    "duration": 67,
    "start_time": "2024-07-21T05:15:50.917Z"
   },
   {
    "duration": 1003,
    "start_time": "2024-07-21T05:15:50.987Z"
   },
   {
    "duration": 23,
    "start_time": "2024-07-21T05:15:51.993Z"
   },
   {
    "duration": 591,
    "start_time": "2024-07-21T05:15:52.019Z"
   },
   {
    "duration": 34,
    "start_time": "2024-07-21T05:15:52.613Z"
   },
   {
    "duration": 316,
    "start_time": "2024-07-21T05:15:52.669Z"
   },
   {
    "duration": 350,
    "start_time": "2024-07-21T05:15:52.988Z"
   },
   {
    "duration": 267,
    "start_time": "2024-07-21T05:15:53.341Z"
   },
   {
    "duration": 8,
    "start_time": "2024-07-21T05:15:53.611Z"
   },
   {
    "duration": 266,
    "start_time": "2024-07-21T05:15:53.628Z"
   },
   {
    "duration": 13,
    "start_time": "2024-07-21T05:15:53.898Z"
   },
   {
    "duration": 246,
    "start_time": "2024-07-21T05:15:53.914Z"
   },
   {
    "duration": 14,
    "start_time": "2024-07-21T05:15:54.162Z"
   },
   {
    "duration": 278,
    "start_time": "2024-07-21T05:15:54.179Z"
   },
   {
    "duration": 18,
    "start_time": "2024-07-21T05:15:54.461Z"
   },
   {
    "duration": 263,
    "start_time": "2024-07-21T05:15:54.484Z"
   },
   {
    "duration": 19,
    "start_time": "2024-07-21T05:15:54.750Z"
   },
   {
    "duration": 265,
    "start_time": "2024-07-21T05:15:54.773Z"
   },
   {
    "duration": 17,
    "start_time": "2024-07-21T05:15:55.041Z"
   },
   {
    "duration": 283,
    "start_time": "2024-07-21T05:15:55.067Z"
   },
   {
    "duration": 314,
    "start_time": "2024-07-21T05:15:55.353Z"
   },
   {
    "duration": 399,
    "start_time": "2024-07-21T05:15:55.670Z"
   },
   {
    "duration": 27,
    "start_time": "2024-07-21T05:15:56.073Z"
   },
   {
    "duration": 16,
    "start_time": "2024-07-21T05:15:56.102Z"
   },
   {
    "duration": 48,
    "start_time": "2024-07-21T05:15:56.122Z"
   },
   {
    "duration": 13,
    "start_time": "2024-07-21T05:15:56.174Z"
   },
   {
    "duration": 5892,
    "start_time": "2024-07-21T12:11:28.255Z"
   },
   {
    "duration": 69,
    "start_time": "2024-07-21T12:11:34.151Z"
   },
   {
    "duration": 19,
    "start_time": "2024-07-21T12:11:34.223Z"
   },
   {
    "duration": 19,
    "start_time": "2024-07-21T12:11:34.245Z"
   },
   {
    "duration": 25,
    "start_time": "2024-07-21T12:11:34.269Z"
   },
   {
    "duration": 697,
    "start_time": "2024-07-21T12:11:34.330Z"
   },
   {
    "duration": 7,
    "start_time": "2024-07-21T12:11:35.031Z"
   },
   {
    "duration": 13,
    "start_time": "2024-07-21T12:11:35.042Z"
   },
   {
    "duration": 12,
    "start_time": "2024-07-21T12:11:35.058Z"
   },
   {
    "duration": 60,
    "start_time": "2024-07-21T12:11:35.072Z"
   },
   {
    "duration": 15,
    "start_time": "2024-07-21T12:11:35.135Z"
   },
   {
    "duration": 8,
    "start_time": "2024-07-21T12:11:35.156Z"
   },
   {
    "duration": 64,
    "start_time": "2024-07-21T12:11:35.168Z"
   },
   {
    "duration": 24,
    "start_time": "2024-07-21T12:11:35.239Z"
   },
   {
    "duration": 585,
    "start_time": "2024-07-21T12:11:35.265Z"
   },
   {
    "duration": 397,
    "start_time": "2024-07-21T12:11:35.853Z"
   },
   {
    "duration": 14,
    "start_time": "2024-07-21T12:11:36.254Z"
   },
   {
    "duration": 403,
    "start_time": "2024-07-21T12:11:36.272Z"
   },
   {
    "duration": 31,
    "start_time": "2024-07-21T12:11:36.678Z"
   },
   {
    "duration": 41,
    "start_time": "2024-07-21T12:11:36.713Z"
   },
   {
    "duration": 1073,
    "start_time": "2024-07-21T12:11:36.757Z"
   },
   {
    "duration": 24,
    "start_time": "2024-07-21T12:11:37.833Z"
   },
   {
    "duration": 450,
    "start_time": "2024-07-21T12:11:37.860Z"
   },
   {
    "duration": 44,
    "start_time": "2024-07-21T12:11:38.313Z"
   },
   {
    "duration": 345,
    "start_time": "2024-07-21T12:11:38.360Z"
   },
   {
    "duration": 353,
    "start_time": "2024-07-21T12:11:38.708Z"
   },
   {
    "duration": 260,
    "start_time": "2024-07-21T12:11:39.064Z"
   },
   {
    "duration": 9,
    "start_time": "2024-07-21T12:11:39.327Z"
   },
   {
    "duration": 270,
    "start_time": "2024-07-21T12:11:39.340Z"
   },
   {
    "duration": 17,
    "start_time": "2024-07-21T12:11:39.613Z"
   },
   {
    "duration": 326,
    "start_time": "2024-07-21T12:11:39.634Z"
   },
   {
    "duration": 9,
    "start_time": "2024-07-21T12:11:39.964Z"
   },
   {
    "duration": 287,
    "start_time": "2024-07-21T12:11:39.976Z"
   },
   {
    "duration": 9,
    "start_time": "2024-07-21T12:11:40.265Z"
   },
   {
    "duration": 261,
    "start_time": "2024-07-21T12:11:40.277Z"
   },
   {
    "duration": 8,
    "start_time": "2024-07-21T12:11:40.540Z"
   },
   {
    "duration": 279,
    "start_time": "2024-07-21T12:11:40.551Z"
   },
   {
    "duration": 7,
    "start_time": "2024-07-21T12:11:40.834Z"
   },
   {
    "duration": 297,
    "start_time": "2024-07-21T12:11:40.844Z"
   },
   {
    "duration": 295,
    "start_time": "2024-07-21T12:11:41.144Z"
   },
   {
    "duration": 310,
    "start_time": "2024-07-21T12:11:41.448Z"
   },
   {
    "duration": 36,
    "start_time": "2024-07-21T12:11:41.761Z"
   },
   {
    "duration": 33,
    "start_time": "2024-07-21T12:11:41.801Z"
   },
   {
    "duration": 18,
    "start_time": "2024-07-21T12:11:41.837Z"
   },
   {
    "duration": 13,
    "start_time": "2024-07-21T12:11:41.858Z"
   }
  ],
  "kernelspec": {
   "display_name": "Python 3 (ipykernel)",
   "language": "python",
   "name": "python3"
  },
  "language_info": {
   "codemirror_mode": {
    "name": "ipython",
    "version": 3
   },
   "file_extension": ".py",
   "mimetype": "text/x-python",
   "name": "python",
   "nbconvert_exporter": "python",
   "pygments_lexer": "ipython3",
   "version": "3.9.19"
  },
  "toc": {
   "base_numbering": 1,
   "nav_menu": {},
   "number_sections": true,
   "sideBar": true,
   "skip_h1_title": true,
   "title_cell": "Table of Contents",
   "title_sidebar": "Contents",
   "toc_cell": false,
   "toc_position": {
    "height": "calc(100% - 180px)",
    "left": "10px",
    "top": "150px",
    "width": "189.6px"
   },
   "toc_section_display": true,
   "toc_window_display": true
  }
 },
 "nbformat": 4,
 "nbformat_minor": 2
}
