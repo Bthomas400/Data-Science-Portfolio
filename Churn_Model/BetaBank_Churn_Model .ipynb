{
 "cells": [
  {
   "cell_type": "markdown",
   "metadata": {},
   "source": [
    "# Beta Bank Customer Retention Model "
   ]
  },
  {
   "cell_type": "markdown",
   "metadata": {},
   "source": [
    "## Introducton \n",
    "\n",
    "Beta Bank has been experiencing customer churn, where customers are gradually leaving the bank. Retaining existing customers is more cost-effective than acquiring new ones, so the bank wants to predict which customers are at risk of leaving. In this project, we will build a machine learning model to predict customer churn based on past behavior and contract termination data. The primary metric for evaluation is the F1 score, and we aim to achieve an F1 score of at least 0.59. Additionally, we will compare the AUC-ROC metric with the F1 score to ensure the model's effectiveness."
   ]
  },
  {
   "cell_type": "markdown",
   "metadata": {},
   "source": [
    "## Import Libraries "
   ]
  },
  {
   "cell_type": "code",
   "execution_count": 1,
   "metadata": {},
   "outputs": [],
   "source": [
    "#import libraries \n",
    "import pandas as pd\n",
    "import matplotlib.pyplot as plt\n",
    "from sklearn.model_selection import train_test_split\n",
    "from sklearn.preprocessing import StandardScaler, LabelEncoder\n",
    "from sklearn.linear_model import LogisticRegression\n",
    "from sklearn.tree import DecisionTreeClassifier\n",
    "from sklearn.ensemble import RandomForestClassifier\n",
    "from sklearn.metrics import f1_score, roc_auc_score\n",
    "from sklearn.utils import resample\n",
    "from sklearn.utils import shuffle\n"
   ]
  },
  {
   "cell_type": "markdown",
   "metadata": {},
   "source": [
    "## Data Loading \n",
    "We'll begin by loading the dataset and inspecting the first 5 rows. We will also check for duplicates and missing values"
   ]
  },
  {
   "cell_type": "code",
   "execution_count": 2,
   "metadata": {},
   "outputs": [
    {
     "data": {
      "text/html": [
       "<div>\n",
       "<style scoped>\n",
       "    .dataframe tbody tr th:only-of-type {\n",
       "        vertical-align: middle;\n",
       "    }\n",
       "\n",
       "    .dataframe tbody tr th {\n",
       "        vertical-align: top;\n",
       "    }\n",
       "\n",
       "    .dataframe thead th {\n",
       "        text-align: right;\n",
       "    }\n",
       "</style>\n",
       "<table border=\"1\" class=\"dataframe\">\n",
       "  <thead>\n",
       "    <tr style=\"text-align: right;\">\n",
       "      <th></th>\n",
       "      <th>RowNumber</th>\n",
       "      <th>CustomerId</th>\n",
       "      <th>Surname</th>\n",
       "      <th>CreditScore</th>\n",
       "      <th>Geography</th>\n",
       "      <th>Gender</th>\n",
       "      <th>Age</th>\n",
       "      <th>Tenure</th>\n",
       "      <th>Balance</th>\n",
       "      <th>NumOfProducts</th>\n",
       "      <th>HasCrCard</th>\n",
       "      <th>IsActiveMember</th>\n",
       "      <th>EstimatedSalary</th>\n",
       "      <th>Exited</th>\n",
       "    </tr>\n",
       "  </thead>\n",
       "  <tbody>\n",
       "    <tr>\n",
       "      <th>0</th>\n",
       "      <td>1</td>\n",
       "      <td>15634602</td>\n",
       "      <td>Hargrave</td>\n",
       "      <td>619</td>\n",
       "      <td>France</td>\n",
       "      <td>Female</td>\n",
       "      <td>42</td>\n",
       "      <td>2.0</td>\n",
       "      <td>0.00</td>\n",
       "      <td>1</td>\n",
       "      <td>1</td>\n",
       "      <td>1</td>\n",
       "      <td>101348.88</td>\n",
       "      <td>1</td>\n",
       "    </tr>\n",
       "    <tr>\n",
       "      <th>1</th>\n",
       "      <td>2</td>\n",
       "      <td>15647311</td>\n",
       "      <td>Hill</td>\n",
       "      <td>608</td>\n",
       "      <td>Spain</td>\n",
       "      <td>Female</td>\n",
       "      <td>41</td>\n",
       "      <td>1.0</td>\n",
       "      <td>83807.86</td>\n",
       "      <td>1</td>\n",
       "      <td>0</td>\n",
       "      <td>1</td>\n",
       "      <td>112542.58</td>\n",
       "      <td>0</td>\n",
       "    </tr>\n",
       "    <tr>\n",
       "      <th>2</th>\n",
       "      <td>3</td>\n",
       "      <td>15619304</td>\n",
       "      <td>Onio</td>\n",
       "      <td>502</td>\n",
       "      <td>France</td>\n",
       "      <td>Female</td>\n",
       "      <td>42</td>\n",
       "      <td>8.0</td>\n",
       "      <td>159660.80</td>\n",
       "      <td>3</td>\n",
       "      <td>1</td>\n",
       "      <td>0</td>\n",
       "      <td>113931.57</td>\n",
       "      <td>1</td>\n",
       "    </tr>\n",
       "    <tr>\n",
       "      <th>3</th>\n",
       "      <td>4</td>\n",
       "      <td>15701354</td>\n",
       "      <td>Boni</td>\n",
       "      <td>699</td>\n",
       "      <td>France</td>\n",
       "      <td>Female</td>\n",
       "      <td>39</td>\n",
       "      <td>1.0</td>\n",
       "      <td>0.00</td>\n",
       "      <td>2</td>\n",
       "      <td>0</td>\n",
       "      <td>0</td>\n",
       "      <td>93826.63</td>\n",
       "      <td>0</td>\n",
       "    </tr>\n",
       "    <tr>\n",
       "      <th>4</th>\n",
       "      <td>5</td>\n",
       "      <td>15737888</td>\n",
       "      <td>Mitchell</td>\n",
       "      <td>850</td>\n",
       "      <td>Spain</td>\n",
       "      <td>Female</td>\n",
       "      <td>43</td>\n",
       "      <td>2.0</td>\n",
       "      <td>125510.82</td>\n",
       "      <td>1</td>\n",
       "      <td>1</td>\n",
       "      <td>1</td>\n",
       "      <td>79084.10</td>\n",
       "      <td>0</td>\n",
       "    </tr>\n",
       "  </tbody>\n",
       "</table>\n",
       "</div>"
      ],
      "text/plain": [
       "   RowNumber  CustomerId   Surname  CreditScore Geography  Gender  Age  \\\n",
       "0          1    15634602  Hargrave          619    France  Female   42   \n",
       "1          2    15647311      Hill          608     Spain  Female   41   \n",
       "2          3    15619304      Onio          502    France  Female   42   \n",
       "3          4    15701354      Boni          699    France  Female   39   \n",
       "4          5    15737888  Mitchell          850     Spain  Female   43   \n",
       "\n",
       "   Tenure    Balance  NumOfProducts  HasCrCard  IsActiveMember  \\\n",
       "0     2.0       0.00              1          1               1   \n",
       "1     1.0   83807.86              1          0               1   \n",
       "2     8.0  159660.80              3          1               0   \n",
       "3     1.0       0.00              2          0               0   \n",
       "4     2.0  125510.82              1          1               1   \n",
       "\n",
       "   EstimatedSalary  Exited  \n",
       "0        101348.88       1  \n",
       "1        112542.58       0  \n",
       "2        113931.57       1  \n",
       "3         93826.63       0  \n",
       "4         79084.10       0  "
      ]
     },
     "execution_count": 2,
     "metadata": {},
     "output_type": "execute_result"
    }
   ],
   "source": [
    "#load data \n",
    "data =pd.read_csv('/datasets/Churn.csv')\n",
    "#display the first 5 rows \n",
    "data.head()"
   ]
  },
  {
   "cell_type": "markdown",
   "metadata": {},
   "source": [
    "- We have successfully loaded the dataset. The features include demographic details, account information, and the target variable (`Exited`), which indicates whether a customer has churned.\n",
    "\n",
    "\n",
    "- Initial inspection reveals categorical variables (`Geography` and `Gender`) that need encoding, and numerical variables that need scaling for optimal model performance."
   ]
  },
  {
   "cell_type": "code",
   "execution_count": 3,
   "metadata": {},
   "outputs": [
    {
     "name": "stdout",
     "output_type": "stream",
     "text": [
      "<class 'pandas.core.frame.DataFrame'>\n",
      "RangeIndex: 10000 entries, 0 to 9999\n",
      "Data columns (total 14 columns):\n",
      " #   Column           Non-Null Count  Dtype  \n",
      "---  ------           --------------  -----  \n",
      " 0   RowNumber        10000 non-null  int64  \n",
      " 1   CustomerId       10000 non-null  int64  \n",
      " 2   Surname          10000 non-null  object \n",
      " 3   CreditScore      10000 non-null  int64  \n",
      " 4   Geography        10000 non-null  object \n",
      " 5   Gender           10000 non-null  object \n",
      " 6   Age              10000 non-null  int64  \n",
      " 7   Tenure           9091 non-null   float64\n",
      " 8   Balance          10000 non-null  float64\n",
      " 9   NumOfProducts    10000 non-null  int64  \n",
      " 10  HasCrCard        10000 non-null  int64  \n",
      " 11  IsActiveMember   10000 non-null  int64  \n",
      " 12  EstimatedSalary  10000 non-null  float64\n",
      " 13  Exited           10000 non-null  int64  \n",
      "dtypes: float64(3), int64(8), object(3)\n",
      "memory usage: 1.1+ MB\n"
     ]
    }
   ],
   "source": [
    "data.info()"
   ]
  },
  {
   "cell_type": "markdown",
   "metadata": {},
   "source": [
    "The `data` dataframe contains 10000 rows and 14 columns: \n",
    "\n",
    "- `RowNumber` — data string index\n",
    "- `CustomerId` — unique customer identifier\n",
    "- `Surname` — surname\n",
    "- `CreditScore` — credit score\n",
    "- `Geography` — country of residence\n",
    "- `Gender` — gender\n",
    "- `Age` — age\n",
    "- `Tenure` — period of maturation for a customer’s fixed deposit (years)\n",
    "- `Balance` — account balance\n",
    "- `NumOfProducts` — number of banking products used by the customer\n",
    "- `HasCrCard` — customer has a credit card\n",
    "- `IsActiveMember` — customer’s activeness\n",
    "- `EstimatedSalary` — estimated salary\n",
    "\n",
    "The `Tenure` column contains 9091 non-null values indicating missing values"
   ]
  },
  {
   "cell_type": "code",
   "execution_count": 4,
   "metadata": {},
   "outputs": [
    {
     "data": {
      "text/plain": [
       "0"
      ]
     },
     "execution_count": 4,
     "metadata": {},
     "output_type": "execute_result"
    }
   ],
   "source": [
    "#check for duplicates\n",
    "data.duplicated().sum()"
   ]
  },
  {
   "cell_type": "markdown",
   "metadata": {},
   "source": [
    "There are no duplicates in the `data` dataframe "
   ]
  },
  {
   "cell_type": "code",
   "execution_count": 5,
   "metadata": {},
   "outputs": [
    {
     "data": {
      "text/plain": [
       "RowNumber            0\n",
       "CustomerId           0\n",
       "Surname              0\n",
       "CreditScore          0\n",
       "Geography            0\n",
       "Gender               0\n",
       "Age                  0\n",
       "Tenure             909\n",
       "Balance              0\n",
       "NumOfProducts        0\n",
       "HasCrCard            0\n",
       "IsActiveMember       0\n",
       "EstimatedSalary      0\n",
       "Exited               0\n",
       "dtype: int64"
      ]
     },
     "execution_count": 5,
     "metadata": {},
     "output_type": "execute_result"
    }
   ],
   "source": [
    "#check for missing values\n",
    "data.isnull().sum()"
   ]
  },
  {
   "cell_type": "markdown",
   "metadata": {},
   "source": [
    "We have verified that there are 909 missing values in the `Tenure` column.\n",
    "- Since 9% of the `Tenure` data is missing we will fill in those values with the median of the column "
   ]
  },
  {
   "cell_type": "code",
   "execution_count": 6,
   "metadata": {
    "scrolled": true
   },
   "outputs": [
    {
     "data": {
      "text/plain": [
       "0"
      ]
     },
     "execution_count": 6,
     "metadata": {},
     "output_type": "execute_result"
    }
   ],
   "source": [
    "# Fill missing values in 'Tenure' with the median\n",
    "median_tenure = data['Tenure'].median()\n",
    "data['Tenure'].fillna(median_tenure, inplace=True)\n",
    "\n",
    "# Verify that there are no more missing values\n",
    "data['Tenure'].isnull().sum()"
   ]
  },
  {
   "cell_type": "markdown",
   "metadata": {},
   "source": [
    "Missing values have now been filled with `median_tenure`"
   ]
  },
  {
   "cell_type": "markdown",
   "metadata": {},
   "source": [
    "## Data Preprocessing\n",
    "\n",
    "This step includes encoding categorical variables, scaling numerical features, and splitting the data into training, validation, and test sets."
   ]
  },
  {
   "cell_type": "code",
   "execution_count": 7,
   "metadata": {},
   "outputs": [],
   "source": [
    "# Encoding categorical variables\n",
    "label_encoder = LabelEncoder()\n",
    "data['Gender'] = label_encoder.fit_transform(data['Gender'])\n",
    "data = pd.get_dummies(data, columns=['Geography'], drop_first=True)\n",
    "\n",
    "#split data into tranining and temporary set\n",
    "df_train, df_temp = train_test_split(data, train_size=0.60, random_state=50)\n",
    "\n",
    "#split temporary set into test set and validation set \n",
    "df_test, df_valid = train_test_split(df_temp, train_size=0.5, random_state=50)\n",
    "\n",
    "#seperate features and target of train set, validation set, and test set\n",
    "features_train= df_train.drop(['Exited', 'RowNumber', 'CustomerId', 'Surname'], axis=1)\n",
    "target_train= df_train['Exited']\n",
    "features_valid=df_valid.drop(['Exited', 'RowNumber', 'CustomerId', 'Surname'], axis=1)\n",
    "target_valid=df_valid['Exited']\n",
    "features_test= df_test.drop(['Exited', 'RowNumber', 'CustomerId', 'Surname'], axis=1)\n",
    "target_test= df_test['Exited']\n"
   ]
  },
  {
   "cell_type": "markdown",
   "metadata": {},
   "source": [
    "Here the categorical variable `Gender` is encoded into a numerical format.  \n",
    "\n",
    "The multi-class categorical variable `Geography` is converted into multiple binary columns, representing each category using One-Hot encoding.\n",
    "\n",
    "Then, we split the source data,`data`, into a training set,`df_train`, containing 60% of the source data. Taking the remaining 40% of data, `df_temp`, and spliting that into a test set, `df_test`, and a validation set `df_valid` both containing 20% of the source data.\n",
    "\n",
    "After creating these new data sets, features: (`CreditScore`, `Geography` , `Gender` , `Age` , `Tenure`, `Balance`, `NumOfProducts`, `HasCrCard` , `IsActiveMember` and `EstimatedSalary`) are separated from the target variable (`Excited`) in each of these sets."
   ]
  },
  {
   "cell_type": "code",
   "execution_count": 8,
   "metadata": {},
   "outputs": [],
   "source": [
    "# Scaling numerical features\n",
    "scaler = StandardScaler()\n",
    "features_train = scaler.fit_transform(features_train)\n",
    "features_valid = scaler.transform(features_valid)\n",
    "features_test = scaler.transform(features_test)"
   ]
  },
  {
   "cell_type": "markdown",
   "metadata": {},
   "source": [
    "The numeric features are now standardized using the `StandardScaler` from the `sklearn.preporcessing` module"
   ]
  },
  {
   "cell_type": "markdown",
   "metadata": {},
   "source": [
    "## Initial Model Training \n",
    "\n",
    "Next, we train the models (Logistic Regression, Decision Tree, and Random Forest) without addressing class imbalance and evaluate their performance on the validation set."
   ]
  },
  {
   "cell_type": "code",
   "execution_count": 9,
   "metadata": {},
   "outputs": [
    {
     "data": {
      "text/plain": [
       "((0.38144329896907214, 0.5199063231850117, 0.5887445887445887),\n",
       " (0.6160129460976784, 0.6975540389379249, 0.7212988667635811))"
      ]
     },
     "execution_count": 9,
     "metadata": {},
     "output_type": "execute_result"
    }
   ],
   "source": [
    "# Train Logistic Regression\n",
    "log_reg = LogisticRegression(random_state=50, solver=\"liblinear\")\n",
    "log_reg.fit(features_train, target_train)\n",
    "target_pred_log = log_reg.predict(features_valid)\n",
    "\n",
    "# Train Decision Tree\n",
    "tree = DecisionTreeClassifier(random_state=50)\n",
    "tree.fit(features_train, target_train)\n",
    "target_pred_tree = tree.predict(features_valid)\n",
    "\n",
    "# Train Random Forest\n",
    "forest = RandomForestClassifier(random_state=50)\n",
    "forest.fit(features_train, target_train)\n",
    "target_pred_forest = forest.predict(features_valid)\n",
    "\n",
    "# Calculate F1 scores\n",
    "f1_log = f1_score(target_valid, target_pred_log)\n",
    "f1_tree = f1_score(target_valid, target_pred_tree)\n",
    "f1_forest = f1_score(target_valid, target_pred_forest)\n",
    "\n",
    "# Calculate AUC-ROC\n",
    "roc_auc_log = roc_auc_score(target_valid, target_pred_log)\n",
    "roc_auc_tree = roc_auc_score(target_valid, target_pred_tree)\n",
    "roc_auc_forest = roc_auc_score(target_valid, target_pred_forest)\n",
    "\n",
    "# Display the F1 scores and ROC-AUC scores\n",
    "\n",
    "(f1_log, f1_tree, f1_forest), (roc_auc_log, roc_auc_tree, roc_auc_forest)\n"
   ]
  },
  {
   "cell_type": "markdown",
   "metadata": {},
   "source": [
    "The F1 scores of the Logistic Regression, Decision Tree, and Random Forest models were 38%, 51%, and 58% respectivly. These scores do not meet our minimum requirement of 59% indicating that the models need improvement, probably in handling class imbalance, as the minority class (customers who exited) is likely underrepresented.\n",
    "\n",
    "The AUC-ROC score of the Logistic Regression, Decision Tree, and Random Forest models were 61%, 69%, and 72% respectivly.\n"
   ]
  },
  {
   "cell_type": "code",
   "execution_count": 10,
   "metadata": {},
   "outputs": [
    {
     "data": {
      "image/png": "[encoded data removed]",
      "text/plain": [
       "<Figure size 640x480 with 1 Axes>"
      ]
     },
     "metadata": {},
     "output_type": "display_data"
    }
   ],
   "source": [
    "# Examine the distribution of the 'Exited' column\n",
    "class_distribution = data['Exited'].value_counts()\n",
    "\n",
    "# Plot a pie chart of the class distribution\n",
    "class_distribution.plot(kind='pie', autopct='%1.1f%%', startangle=90)\n",
    "plt.title('Class Distribution of Exited')\n",
    "plt.ylabel('')  # Hide the y-label\n",
    "plt.show()"
   ]
  },
  {
   "cell_type": "markdown",
   "metadata": {},
   "source": [
    "by observing the class distibution of our source data we can verify there in an imblance of the `Exited` class.\n",
    "\n",
    "Exited = 0 contains 80% of the instances while Exited = 1 contains 20% of the intances"
   ]
  },
  {
   "cell_type": "markdown",
   "metadata": {},
   "source": [
    "## Handling Class Imbalance \n",
    "\n",
    "To improve model performance, we will apply the techniques of class weight adjustments and upsampling. We will then retrain the models and select the best-performing one."
   ]
  },
  {
   "cell_type": "markdown",
   "metadata": {},
   "source": [
    "### Class Weight Adjustments "
   ]
  },
  {
   "cell_type": "code",
   "execution_count": 11,
   "metadata": {},
   "outputs": [
    {
     "data": {
      "text/plain": [
       "((0.49500000000000005, 0.5166666666666666, 0.570162481536189),\n",
       " (0.7013475957786302, 0.6944337516359997, 0.7097536527891625))"
      ]
     },
     "execution_count": 11,
     "metadata": {},
     "output_type": "execute_result"
    }
   ],
   "source": [
    "# Initialize models with class weight adjustment\n",
    "log_reg_weighted = LogisticRegression(random_state=50, solver=\"liblinear\", class_weight='balanced')\n",
    "tree_weighted = DecisionTreeClassifier(random_state=50, class_weight='balanced')\n",
    "forest_weighted = RandomForestClassifier(random_state=50, class_weight='balanced')\n",
    "\n",
    "# Train models with class weights\n",
    "log_reg_weighted.fit(features_train, target_train)\n",
    "tree_weighted.fit(features_train, target_train)\n",
    "forest_weighted.fit(features_train, target_train)\n",
    "\n",
    "# Predict on validation set\n",
    "target_pred_log_weighted = log_reg_weighted.predict(features_valid)\n",
    "target_pred_tree_weighted = tree_weighted.predict(features_valid)\n",
    "target_pred_forest_weighted = forest_weighted.predict(features_valid)\n",
    "\n",
    "# Calculate F1 scores\n",
    "f1_log_weighted = f1_score(target_valid, target_pred_log_weighted)\n",
    "f1_tree_weighted = f1_score(target_valid, target_pred_tree_weighted)\n",
    "f1_forest_weighted = f1_score(target_valid, target_pred_forest_weighted)\n",
    "\n",
    "# Calculate AUC-ROC\n",
    "roc_auc_log = roc_auc_score(target_valid, target_pred_log_weighted)\n",
    "roc_auc_tree = roc_auc_score(target_valid, target_pred_tree_weighted)\n",
    "roc_auc_forest = roc_auc_score(target_valid, target_pred_forest_weighted)\n",
    "\n",
    "\n",
    "# Display the F1 scores\n",
    "(f1_log_weighted, f1_tree_weighted, f1_forest_weighted),(roc_auc_log, roc_auc_tree, roc_auc_forest)"
   ]
  },
  {
   "cell_type": "markdown",
   "metadata": {},
   "source": [
    "The F1 scores of the Logistic Regression, Decision Tree, and Random Forest models after class weight adjustments were 49%, 51%, and 57% respectively. These scores do not meet our minimum requirement of 59% indicating that the models need improvement.\n",
    "\n",
    "The AUC-ROC score of the Logistic Regression, Decision Tree, and Random Forest models were 70%, 69%, and 70% respectivly.\n"
   ]
  },
  {
   "cell_type": "markdown",
   "metadata": {},
   "source": [
    "###  Upsampling "
   ]
  },
  {
   "cell_type": "code",
   "execution_count": 12,
   "metadata": {},
   "outputs": [
    {
     "data": {
      "text/plain": [
       "((0.41170097508125675, 0.5292014302741359, 0.6030927835051546),\n",
       " (0.6223410759330292, 0.7022978719550027, 0.7403368461096042))"
      ]
     },
     "execution_count": 12,
     "metadata": {},
     "output_type": "execute_result"
    }
   ],
   "source": [
    "# Convert target_train to a Series \n",
    "target_train = pd.Series(target_train).reset_index(drop=True)\n",
    "\n",
    "# Ensure features_train is a DataFrame\n",
    "features_train = pd.DataFrame(features_train).reset_index(drop=True)\n",
    "\n",
    "# Write the upsampling function\n",
    "def upsample(features, target, repeat):\n",
    "    # Isolate the minority class\n",
    "    features_zeros = features[target == 0]\n",
    "    features_ones = features[target == 1]\n",
    "    \n",
    "    target_zeros = target[target == 0]\n",
    "    target_ones = target[target == 1]\n",
    "    \n",
    "    # Upsample the minority class\n",
    "    features_upsampled = pd.concat([features_zeros] + [features_ones] * repeat, axis=0)\n",
    "    target_upsampled = pd.concat([target_zeros] + [target_ones] * repeat, axis=0)\n",
    "    \n",
    "    # Shuffle the upsampled data\n",
    "    features_upsampled, target_upsampled = shuffle(features_upsampled, target_upsampled, random_state=12345)\n",
    "    \n",
    "    return features_upsampled, target_upsampled\n",
    "\n",
    "# Apply upsampling to the training set only\n",
    "features_train_upsampled, target_train_upsampled = upsample(features_train, target_train, 10)\n",
    "\n",
    "# Initialize models without class weight adjustment\n",
    "log_reg_upsampled = LogisticRegression(random_state=50, solver=\"liblinear\")\n",
    "tree_upsampled = DecisionTreeClassifier(random_state=50)\n",
    "forest_upsampled = RandomForestClassifier(random_state=50)\n",
    "\n",
    "# Train models on the upsampled training data\n",
    "log_reg_upsampled.fit(features_train_upsampled, target_train_upsampled)\n",
    "tree_upsampled.fit(features_train_upsampled, target_train_upsampled)\n",
    "forest_upsampled.fit(features_train_upsampled, target_train_upsampled)\n",
    "\n",
    "# Predict on the validation set\n",
    "target_pred_log_upsampled = log_reg_upsampled.predict(features_valid)\n",
    "target_pred_tree_upsampled = tree_upsampled.predict(features_valid)\n",
    "target_pred_forest_upsampled = forest_upsampled.predict(features_valid)\n",
    "\n",
    "# Calculate F1 scores and ROC-AUC for the validation set\n",
    "f1_log_upsampled = f1_score(target_valid, target_pred_log_upsampled)\n",
    "f1_tree_upsampled = f1_score(target_valid, target_pred_tree_upsampled)\n",
    "f1_forest_upsampled = f1_score(target_valid, target_pred_forest_upsampled)\n",
    "\n",
    "roc_auc_log_upsampled = roc_auc_score(target_valid, target_pred_log_upsampled)\n",
    "roc_auc_tree_upsampled = roc_auc_score(target_valid, target_pred_tree_upsampled)\n",
    "roc_auc_forest_upsampled = roc_auc_score(target_valid, target_pred_forest_upsampled)\n",
    "\n",
    "# Display the F1 scores and ROC-AUC scores\n",
    "(f1_log_upsampled, f1_tree_upsampled, f1_forest_upsampled), (roc_auc_log_upsampled, roc_auc_tree_upsampled, roc_auc_forest_upsampled)\n"
   ]
  },
  {
   "cell_type": "markdown",
   "metadata": {},
   "source": [
    "The F1 scores of the Logistic Regression, Decision Tree, and Random Forest models after upsampling were 41%, 52%, and 60% respectively.  \n",
    "- However, we can see that the Random Forest model is performing the best in terms of F1 score with 60% indicating the best balance between precision and recall among the models.\n",
    "\n",
    "The AUC-ROC score of the Logistic Regression, Decision Tree, and Random Forest models were 62%, 70%, and 74% respectivly.\n",
    "- The Random Forest model's AUC-ROC score of 0.74.03 is the highest among the models, showing the best performance in class discrimination."
   ]
  },
  {
   "cell_type": "code",
   "execution_count": 13,
   "metadata": {},
   "outputs": [
    {
     "data": {
      "text/plain": [
       "((0.49500000000000005, 0.5284360189573459, 0.5943877551020408),\n",
       " (0.7013475957786302, 0.7022261672395496, 0.736297228876923))"
      ]
     },
     "execution_count": 13,
     "metadata": {},
     "output_type": "execute_result"
    }
   ],
   "source": [
    "# Initialize upsampled models with class weight adjustment\n",
    "log_reg_upsampled_balanced = LogisticRegression(random_state=50, solver=\"liblinear\", class_weight='balanced')\n",
    "tree_upsampled_balanced = DecisionTreeClassifier(random_state=50, class_weight='balanced')\n",
    "forest_upsampled_balanced = RandomForestClassifier(random_state=50, class_weight='balanced')\n",
    "\n",
    "# Train models on the upsampled training data\n",
    "log_reg_upsampled_balanced.fit(features_train_upsampled, target_train_upsampled)\n",
    "tree_upsampled_balanced.fit(features_train_upsampled, target_train_upsampled)\n",
    "forest_upsampled_balanced.fit(features_train_upsampled, target_train_upsampled)\n",
    "\n",
    "# Predict on the validation set\n",
    "target_pred_log = log_reg_upsampled_balanced.predict(features_valid)\n",
    "target_pred_tree = tree_upsampled_balanced.predict(features_valid)\n",
    "target_pred_forest = forest_upsampled_balanced.predict(features_valid)\n",
    "\n",
    "# Calculate F1 scores and ROC-AUC for the validation set\n",
    "f1_log = f1_score(target_valid, target_pred_log)\n",
    "f1_tree = f1_score(target_valid, target_pred_tree)\n",
    "f1_forest = f1_score(target_valid, target_pred_forest)\n",
    "roc_auc_log = roc_auc_score(target_valid, target_pred_log)\n",
    "roc_auc_tree = roc_auc_score(target_valid, target_pred_tree)\n",
    "roc_auc_forest = roc_auc_score(target_valid, target_pred_forest)\n",
    "\n",
    "# Display the F1 scores and ROC-AUC scores\n",
    "(f1_log, f1_tree, f1_forest), (roc_auc_log, roc_auc_tree, roc_auc_forest)"
   ]
  },
  {
   "cell_type": "markdown",
   "metadata": {},
   "source": [
    "The F1 scores of the Logistic Regression, Decision Tree, and Random Forest models after upsampling and class weight balancing were 49%, 52%, and 59% respectively.\n",
    "\n",
    "The AUC-ROC score of the Logistic Regression, Decision Tree, and Random Forest models were 70%, 70%, and 73% respectivly.\n",
    "\n",
    "Since our minimum F1 Score is 59% the Random Forest model meets our reqiurement. However, the model `f1_forest_upsampled` performed better with an F1 score of 60%"
   ]
  },
  {
   "cell_type": "markdown",
   "metadata": {},
   "source": [
    "#### Tuning Hyperparameters\n",
    "\n",
    "Fine-tune hyperparameters to find the best setting for the model."
   ]
  },
  {
   "cell_type": "code",
   "execution_count": 14,
   "metadata": {},
   "outputs": [
    {
     "name": "stdout",
     "output_type": "stream",
     "text": [
      "max_depth: 40\n",
      "n_estimators: 100\n",
      "F1 Score: 0.5943877551020408, ROC-AUC: 0.736297228876923\n",
      "max_depth: 40\n",
      "n_estimators: 200\n",
      "F1 Score: 0.6043533930857875, ROC-AUC: 0.7417747143510572\n",
      "max_depth: 40\n",
      "n_estimators: 300\n",
      "F1 Score: 0.6128205128205128, ROC-AUC: 0.7466196887562477\n",
      "Best F1 Score: 0.6128205128205128\n",
      "Best max_depth: 40\n",
      "Best_n_estimators: 300\n",
      "Final F1 Score on Test Data: 0.6074270557029178\n",
      "Final ROC-AUC Score on Test Data: 0.7489294440666011\n"
     ]
    }
   ],
   "source": [
    "# Define the range of max_depth to test\n",
    "max_depth_options = [None, 10, 20, 30, 40]\n",
    "n_estimators_options = [100, 200, 300]\n",
    "\n",
    "# Variables to store the best score and parameters\n",
    "best_f1 = 0\n",
    "best_max_depth = 40\n",
    "best_n_estimator= 300\n",
    "\n",
    "# Loop over all possible max_depth values\n",
    "for n_estimators in n_estimators_options:\n",
    "    for max_depth in max_depth_options:\n",
    "        # Initialize the model with the current max_depth\n",
    "        model = RandomForestClassifier(\n",
    "             n_estimators=n_estimators,\n",
    "            max_depth=max_depth,\n",
    "            min_samples_split=2,  # Fixed value\n",
    "            min_samples_leaf=1,   # Fixed value\n",
    "            class_weight='balanced',  # To handle class imbalance\n",
    "            random_state=50\n",
    "        )\n",
    "\n",
    "    # Fit the model on the upsampled training data\n",
    "    model.fit(features_train_upsampled, target_train_upsampled)\n",
    "\n",
    "    # Predict on the validation set\n",
    "    target_pred_valid = model.predict(features_valid)\n",
    "\n",
    "    # Calculate F1 score and ROC-AUC\n",
    "    f1 = f1_score(target_valid, target_pred_valid)\n",
    "    roc_auc = roc_auc_score(target_valid, target_pred_valid)\n",
    "\n",
    "    # Update the best max_depth if the current model is better\n",
    "    if f1 > best_f1:\n",
    "        best_f1 = f1\n",
    "        best_max_depth = max_depth\n",
    "        best_n_estimator= n_estimators\n",
    "\n",
    "    print(f\"max_depth: {max_depth}\")\n",
    "    print(f\"n_estimators: {n_estimators}\")\n",
    "    print(f\"F1 Score: {f1}, ROC-AUC: {roc_auc}\")\n",
    "    \n",
    "\n",
    "# Print the best max_depth\n",
    "print(f'Best F1 Score: {best_f1}')\n",
    "print(f'Best max_depth: {best_max_depth}')\n",
    "print(f\"Best_n_estimators: {n_estimators}\")\n",
    "\n",
    "# Train final model with the best max_depth\n",
    "best_model = RandomForestClassifier(\n",
    "    n_estimators=100,  # Fixed value\n",
    "    max_depth=best_max_depth,\n",
    "    min_samples_split=2,  # Fixed value\n",
    "    min_samples_leaf=1,   # Fixed value\n",
    "    class_weight='balanced',\n",
    "    random_state=50\n",
    ")\n",
    "\n",
    "best_model.fit(features_train_upsampled, target_train_upsampled)\n",
    "\n",
    "# Test the final model on the test set\n",
    "target_pred_test = best_model.predict(features_test)\n",
    "f1_test = f1_score(target_test, target_pred_test)\n",
    "roc_auc_test = roc_auc_score(target_test, target_pred_test)\n",
    "\n",
    "print(f'Final F1 Score on Test Data: {f1_test}')\n",
    "print(f'Final ROC-AUC Score on Test Data: {roc_auc_test}')"
   ]
  },
  {
   "cell_type": "markdown",
   "metadata": {},
   "source": [
    "After hypertuning the `max_depth` and `n_estimators` the final F1 and ROC-AUC scores are 60% and 74% respectively."
   ]
  },
  {
   "cell_type": "markdown",
   "metadata": {},
   "source": [
    "# Conclusion \n",
    "\n",
    "In this project, we successfully built a model to predict customer churn for Beta Bank using various machine learning techniques. \n",
    "\n",
    "By addressing class imbalance and optimizing model parameters, we achieved an F1 score above the required threshold of 0.59. The Random Forest model, with class weights adjusted and minority classes upsampled, was the best performer, making it the most suitable for deployment. \n",
    "\n",
    "The additional AUC-ROC score further validated the model's strength. Beta Bank can now use this model to identify at-risk customers and implement strategies to retain them, thereby reducing churn and improving profitability."
   ]
  }
 ],
 "metadata": {
  "ExecuteTimeLog": [
   {
    "duration": 303,
    "start_time": "2024-08-18T02:10:45.093Z"
   },
   {
    "duration": 1157,
    "start_time": "2024-08-18T02:10:51.165Z"
   },
   {
    "duration": 49,
    "start_time": "2024-08-18T02:10:52.331Z"
   },
   {
    "duration": 108,
    "start_time": "2024-08-18T02:28:14.684Z"
   },
   {
    "duration": 15,
    "start_time": "2024-08-18T02:28:21.470Z"
   },
   {
    "duration": 6,
    "start_time": "2024-08-18T02:29:34.953Z"
   },
   {
    "duration": 10,
    "start_time": "2024-08-18T02:29:44.610Z"
   },
   {
    "duration": 15,
    "start_time": "2024-08-18T02:31:05.403Z"
   },
   {
    "duration": 7,
    "start_time": "2024-08-18T02:57:14.181Z"
   },
   {
    "duration": 3846,
    "start_time": "2024-08-18T02:57:23.898Z"
   },
   {
    "duration": 254,
    "start_time": "2024-08-18T02:57:35.396Z"
   },
   {
    "duration": 571,
    "start_time": "2024-08-18T02:58:56.346Z"
   },
   {
    "duration": 8,
    "start_time": "2024-08-18T03:00:19.678Z"
   },
   {
    "duration": 10,
    "start_time": "2024-08-18T03:00:40.541Z"
   },
   {
    "duration": 4,
    "start_time": "2024-08-18T03:00:51.746Z"
   },
   {
    "duration": 7,
    "start_time": "2024-08-18T03:01:06.858Z"
   },
   {
    "duration": 8,
    "start_time": "2024-08-18T03:01:21.092Z"
   },
   {
    "duration": 24,
    "start_time": "2024-08-18T03:08:43.092Z"
   },
   {
    "duration": 15,
    "start_time": "2024-08-18T03:16:58.136Z"
   },
   {
    "duration": 7,
    "start_time": "2024-08-18T03:32:31.310Z"
   },
   {
    "duration": 58,
    "start_time": "2024-08-18T03:37:44.330Z"
   },
   {
    "duration": 834,
    "start_time": "2024-08-18T03:40:21.818Z"
   },
   {
    "duration": 84,
    "start_time": "2024-08-18T03:40:28.741Z"
   },
   {
    "duration": 5,
    "start_time": "2024-08-18T03:46:42.205Z"
   },
   {
    "duration": 41,
    "start_time": "2024-08-18T03:46:42.213Z"
   },
   {
    "duration": 18,
    "start_time": "2024-08-18T03:46:42.258Z"
   },
   {
    "duration": 15,
    "start_time": "2024-08-18T03:46:42.279Z"
   },
   {
    "duration": 38,
    "start_time": "2024-08-18T03:46:42.298Z"
   },
   {
    "duration": 10,
    "start_time": "2024-08-18T03:46:42.339Z"
   },
   {
    "duration": 24,
    "start_time": "2024-08-18T03:46:47.055Z"
   },
   {
    "duration": 417,
    "start_time": "2024-08-18T03:57:13.929Z"
   },
   {
    "duration": 163,
    "start_time": "2024-08-18T04:01:57.221Z"
   },
   {
    "duration": 8,
    "start_time": "2024-08-18T04:02:35.391Z"
   },
   {
    "duration": 10,
    "start_time": "2024-08-18T04:03:30.441Z"
   },
   {
    "duration": 7,
    "start_time": "2024-08-18T04:03:40.557Z"
   },
   {
    "duration": 6,
    "start_time": "2024-08-18T04:03:44.653Z"
   },
   {
    "duration": 9,
    "start_time": "2024-08-18T04:04:47.657Z"
   },
   {
    "duration": 37,
    "start_time": "2024-08-18T04:05:39.230Z"
   },
   {
    "duration": 25,
    "start_time": "2024-08-18T04:05:54.604Z"
   },
   {
    "duration": 5,
    "start_time": "2024-08-18T04:06:03.593Z"
   },
   {
    "duration": 37,
    "start_time": "2024-08-18T04:06:03.603Z"
   },
   {
    "duration": 16,
    "start_time": "2024-08-18T04:06:03.643Z"
   },
   {
    "duration": 15,
    "start_time": "2024-08-18T04:06:03.662Z"
   },
   {
    "duration": 11,
    "start_time": "2024-08-18T04:06:03.680Z"
   },
   {
    "duration": 9,
    "start_time": "2024-08-18T04:06:03.732Z"
   },
   {
    "duration": 8,
    "start_time": "2024-08-18T04:06:08.886Z"
   },
   {
    "duration": 24,
    "start_time": "2024-08-18T04:06:14.588Z"
   },
   {
    "duration": 27,
    "start_time": "2024-08-18T04:06:30.708Z"
   },
   {
    "duration": 23,
    "start_time": "2024-08-18T04:07:49.080Z"
   },
   {
    "duration": 28,
    "start_time": "2024-08-18T04:08:55.900Z"
   },
   {
    "duration": 23,
    "start_time": "2024-08-18T04:09:23.466Z"
   },
   {
    "duration": 1186,
    "start_time": "2024-08-18T04:11:13.638Z"
   },
   {
    "duration": 42,
    "start_time": "2024-08-18T04:11:14.829Z"
   },
   {
    "duration": 17,
    "start_time": "2024-08-18T04:11:14.874Z"
   },
   {
    "duration": 43,
    "start_time": "2024-08-18T04:11:14.893Z"
   },
   {
    "duration": 10,
    "start_time": "2024-08-18T04:11:14.940Z"
   },
   {
    "duration": 9,
    "start_time": "2024-08-18T04:11:14.953Z"
   },
   {
    "duration": 26,
    "start_time": "2024-08-18T04:11:14.965Z"
   },
   {
    "duration": 15,
    "start_time": "2024-08-18T04:11:15.030Z"
   },
   {
    "duration": 410,
    "start_time": "2024-08-18T04:11:15.048Z"
   },
   {
    "duration": 0,
    "start_time": "2024-08-18T04:11:15.461Z"
   },
   {
    "duration": 24,
    "start_time": "2024-08-18T04:12:14.990Z"
   },
   {
    "duration": 24,
    "start_time": "2024-08-18T04:12:24.268Z"
   },
   {
    "duration": 23,
    "start_time": "2024-08-18T04:12:36.012Z"
   },
   {
    "duration": 5,
    "start_time": "2024-08-18T04:12:48.775Z"
   },
   {
    "duration": 39,
    "start_time": "2024-08-18T04:12:48.783Z"
   },
   {
    "duration": 17,
    "start_time": "2024-08-18T04:12:48.824Z"
   },
   {
    "duration": 14,
    "start_time": "2024-08-18T04:12:48.845Z"
   },
   {
    "duration": 13,
    "start_time": "2024-08-18T04:12:48.862Z"
   },
   {
    "duration": 11,
    "start_time": "2024-08-18T04:12:48.878Z"
   },
   {
    "duration": 24,
    "start_time": "2024-08-18T04:12:48.933Z"
   },
   {
    "duration": 14,
    "start_time": "2024-08-18T04:12:48.960Z"
   },
   {
    "duration": 24,
    "start_time": "2024-08-18T04:13:04.417Z"
   },
   {
    "duration": 1102,
    "start_time": "2024-08-18T04:13:37.968Z"
   },
   {
    "duration": 858,
    "start_time": "2024-08-18T04:52:11.551Z"
   },
   {
    "duration": 7,
    "start_time": "2024-08-18T04:52:31.515Z"
   },
   {
    "duration": 6,
    "start_time": "2024-08-18T04:53:25.556Z"
   },
   {
    "duration": 7,
    "start_time": "2024-08-18T04:53:33.026Z"
   },
   {
    "duration": 332,
    "start_time": "2024-08-18T04:54:18.187Z"
   },
   {
    "duration": 214,
    "start_time": "2024-08-18T04:54:32.102Z"
   },
   {
    "duration": 121,
    "start_time": "2024-08-18T04:54:59.259Z"
   },
   {
    "duration": 1075,
    "start_time": "2024-08-18T05:16:35.076Z"
   },
   {
    "duration": 5,
    "start_time": "2024-08-18T05:26:59.339Z"
   },
   {
    "duration": 91,
    "start_time": "2024-08-18T05:32:02.526Z"
   },
   {
    "duration": 70,
    "start_time": "2024-08-18T05:33:54.194Z"
   },
   {
    "duration": 26,
    "start_time": "2024-08-18T05:34:27.385Z"
   },
   {
    "duration": 36,
    "start_time": "2024-08-18T05:35:47.449Z"
   },
   {
    "duration": 68,
    "start_time": "2024-08-18T05:36:41.490Z"
   },
   {
    "duration": 11,
    "start_time": "2024-08-18T05:44:11.715Z"
   },
   {
    "duration": 36,
    "start_time": "2024-08-18T05:44:21.676Z"
   },
   {
    "duration": 11,
    "start_time": "2024-08-18T05:46:29.837Z"
   },
   {
    "duration": 947,
    "start_time": "2024-08-18T05:46:38.479Z"
   },
   {
    "duration": 38,
    "start_time": "2024-08-18T05:47:04.435Z"
   },
   {
    "duration": 73,
    "start_time": "2024-08-18T05:47:42.210Z"
   },
   {
    "duration": 11,
    "start_time": "2024-08-18T05:51:39.164Z"
   },
   {
    "duration": 39,
    "start_time": "2024-08-18T05:51:47.018Z"
   },
   {
    "duration": 1432,
    "start_time": "2024-08-18T05:52:00.919Z"
   },
   {
    "duration": 42,
    "start_time": "2024-08-18T05:52:02.355Z"
   },
   {
    "duration": 35,
    "start_time": "2024-08-18T05:52:02.400Z"
   },
   {
    "duration": 17,
    "start_time": "2024-08-18T05:52:02.437Z"
   },
   {
    "duration": 92,
    "start_time": "2024-08-18T05:52:02.459Z"
   },
   {
    "duration": 10,
    "start_time": "2024-08-18T05:52:02.555Z"
   },
   {
    "duration": 26,
    "start_time": "2024-08-18T05:52:02.568Z"
   },
   {
    "duration": 50,
    "start_time": "2024-08-18T05:52:02.597Z"
   },
   {
    "duration": 1132,
    "start_time": "2024-08-18T05:52:02.650Z"
   },
   {
    "duration": 148,
    "start_time": "2024-08-18T05:52:03.785Z"
   },
   {
    "duration": 1108,
    "start_time": "2024-08-18T05:52:03.936Z"
   },
   {
    "duration": 431,
    "start_time": "2024-08-18T05:52:05.047Z"
   },
   {
    "duration": 39,
    "start_time": "2024-08-18T05:53:13.660Z"
   },
   {
    "duration": 128,
    "start_time": "2024-08-18T05:53:42.250Z"
   },
   {
    "duration": 26,
    "start_time": "2024-08-18T05:54:17.595Z"
   },
   {
    "duration": 14,
    "start_time": "2024-08-18T05:55:18.584Z"
   },
   {
    "duration": 78,
    "start_time": "2024-08-18T05:56:52.803Z"
   },
   {
    "duration": 1924,
    "start_time": "2024-08-18T05:59:10.411Z"
   },
   {
    "duration": 1784,
    "start_time": "2024-08-18T06:00:31.128Z"
   },
   {
    "duration": 1753,
    "start_time": "2024-08-18T06:04:08.158Z"
   },
   {
    "duration": 1735,
    "start_time": "2024-08-18T06:04:18.319Z"
   },
   {
    "duration": 13,
    "start_time": "2024-08-18T06:06:06.107Z"
   },
   {
    "duration": 1716,
    "start_time": "2024-08-18T06:06:32.058Z"
   },
   {
    "duration": 1758,
    "start_time": "2024-08-18T06:08:22.692Z"
   },
   {
    "duration": 1394,
    "start_time": "2024-08-18T06:29:00.956Z"
   },
   {
    "duration": 42,
    "start_time": "2024-08-18T06:29:02.353Z"
   },
   {
    "duration": 39,
    "start_time": "2024-08-18T06:29:02.398Z"
   },
   {
    "duration": 15,
    "start_time": "2024-08-18T06:29:02.442Z"
   },
   {
    "duration": 90,
    "start_time": "2024-08-18T06:29:02.460Z"
   },
   {
    "duration": 9,
    "start_time": "2024-08-18T06:29:02.554Z"
   },
   {
    "duration": 27,
    "start_time": "2024-08-18T06:29:02.566Z"
   },
   {
    "duration": 46,
    "start_time": "2024-08-18T06:29:02.595Z"
   },
   {
    "duration": 1140,
    "start_time": "2024-08-18T06:29:02.644Z"
   },
   {
    "duration": 150,
    "start_time": "2024-08-18T06:29:03.789Z"
   },
   {
    "duration": 1101,
    "start_time": "2024-08-18T06:29:03.943Z"
   },
   {
    "duration": 462,
    "start_time": "2024-08-18T06:29:05.053Z"
   },
   {
    "duration": 0,
    "start_time": "2024-08-18T06:29:05.518Z"
   },
   {
    "duration": 25,
    "start_time": "2024-08-18T06:29:45.807Z"
   },
   {
    "duration": 52,
    "start_time": "2024-08-18T06:30:02.740Z"
   },
   {
    "duration": 1717,
    "start_time": "2024-08-18T06:30:59.639Z"
   },
   {
    "duration": 13,
    "start_time": "2024-08-18T06:31:26.046Z"
   },
   {
    "duration": 1357,
    "start_time": "2024-08-18T06:31:53.866Z"
   },
   {
    "duration": 41,
    "start_time": "2024-08-18T06:31:55.227Z"
   },
   {
    "duration": 19,
    "start_time": "2024-08-18T06:31:55.271Z"
   },
   {
    "duration": 41,
    "start_time": "2024-08-18T06:31:55.293Z"
   },
   {
    "duration": 70,
    "start_time": "2024-08-18T06:31:55.338Z"
   },
   {
    "duration": 11,
    "start_time": "2024-08-18T06:31:55.431Z"
   },
   {
    "duration": 25,
    "start_time": "2024-08-18T06:31:55.447Z"
   },
   {
    "duration": 14,
    "start_time": "2024-08-18T06:31:55.475Z"
   },
   {
    "duration": 1178,
    "start_time": "2024-08-18T06:31:55.493Z"
   },
   {
    "duration": 148,
    "start_time": "2024-08-18T06:31:56.674Z"
   },
   {
    "duration": 1114,
    "start_time": "2024-08-18T06:31:56.825Z"
   },
   {
    "duration": 1720,
    "start_time": "2024-08-18T06:31:57.943Z"
   },
   {
    "duration": 12,
    "start_time": "2024-08-18T06:31:59.666Z"
   },
   {
    "duration": 14,
    "start_time": "2024-08-18T08:46:32.050Z"
   },
   {
    "duration": 5253,
    "start_time": "2024-08-20T02:23:43.898Z"
   },
   {
    "duration": 57,
    "start_time": "2024-08-20T02:23:49.154Z"
   },
   {
    "duration": 20,
    "start_time": "2024-08-20T02:23:49.214Z"
   },
   {
    "duration": 33,
    "start_time": "2024-08-20T02:23:49.239Z"
   },
   {
    "duration": 12,
    "start_time": "2024-08-20T02:23:49.275Z"
   },
   {
    "duration": 11,
    "start_time": "2024-08-20T02:23:49.290Z"
   },
   {
    "duration": 73,
    "start_time": "2024-08-20T02:23:49.304Z"
   },
   {
    "duration": 16,
    "start_time": "2024-08-20T02:23:49.380Z"
   },
   {
    "duration": 1195,
    "start_time": "2024-08-20T02:26:07.356Z"
   },
   {
    "duration": 1112,
    "start_time": "2024-08-20T02:26:19.907Z"
   },
   {
    "duration": 1144,
    "start_time": "2024-08-20T02:26:26.507Z"
   },
   {
    "duration": 1621,
    "start_time": "2024-08-20T02:27:07.712Z"
   },
   {
    "duration": 1110,
    "start_time": "2024-08-20T02:27:13.218Z"
   },
   {
    "duration": 1101,
    "start_time": "2024-08-20T02:30:40.721Z"
   },
   {
    "duration": 1137,
    "start_time": "2024-08-20T02:30:57.177Z"
   },
   {
    "duration": 1109,
    "start_time": "2024-08-20T02:31:04.385Z"
   },
   {
    "duration": 1150,
    "start_time": "2024-08-20T03:40:21.161Z"
   },
   {
    "duration": 14,
    "start_time": "2024-08-20T03:46:21.769Z"
   },
   {
    "duration": 1079,
    "start_time": "2024-08-20T03:46:41.801Z"
   },
   {
    "duration": 628,
    "start_time": "2024-08-20T04:00:08.639Z"
   },
   {
    "duration": 5,
    "start_time": "2024-08-20T04:00:37.768Z"
   },
   {
    "duration": 42,
    "start_time": "2024-08-20T04:00:37.776Z"
   },
   {
    "duration": 16,
    "start_time": "2024-08-20T04:00:37.822Z"
   },
   {
    "duration": 19,
    "start_time": "2024-08-20T04:00:37.869Z"
   },
   {
    "duration": 10,
    "start_time": "2024-08-20T04:00:37.894Z"
   },
   {
    "duration": 11,
    "start_time": "2024-08-20T04:00:37.907Z"
   },
   {
    "duration": 75,
    "start_time": "2024-08-20T04:00:37.921Z"
   },
   {
    "duration": 16,
    "start_time": "2024-08-20T04:00:38.000Z"
   },
   {
    "duration": 1125,
    "start_time": "2024-08-20T04:00:38.018Z"
   },
   {
    "duration": 153,
    "start_time": "2024-08-20T04:00:39.147Z"
   },
   {
    "duration": 1085,
    "start_time": "2024-08-20T04:00:39.305Z"
   },
   {
    "duration": 188,
    "start_time": "2024-08-20T04:00:41.823Z"
   },
   {
    "duration": 45,
    "start_time": "2024-08-20T04:01:12.735Z"
   },
   {
    "duration": 106,
    "start_time": "2024-08-20T04:01:19.110Z"
   },
   {
    "duration": 115,
    "start_time": "2024-08-20T04:02:29.760Z"
   },
   {
    "duration": 107,
    "start_time": "2024-08-20T04:02:48.237Z"
   },
   {
    "duration": 50,
    "start_time": "2024-08-20T04:03:07.882Z"
   },
   {
    "duration": 47,
    "start_time": "2024-08-20T04:03:26.951Z"
   },
   {
    "duration": 45,
    "start_time": "2024-08-20T04:04:03.049Z"
   },
   {
    "duration": 507,
    "start_time": "2024-08-20T04:05:28.268Z"
   },
   {
    "duration": 8,
    "start_time": "2024-08-20T04:12:48.163Z"
   },
   {
    "duration": 10,
    "start_time": "2024-08-20T04:20:45.968Z"
   },
   {
    "duration": 138,
    "start_time": "2024-08-20T04:21:20.994Z"
   },
   {
    "duration": 87,
    "start_time": "2024-08-20T04:22:17.185Z"
   },
   {
    "duration": 9,
    "start_time": "2024-08-20T04:25:00.183Z"
   },
   {
    "duration": 624,
    "start_time": "2024-08-20T04:25:50.314Z"
   },
   {
    "duration": 88,
    "start_time": "2024-08-20T04:26:26.521Z"
   },
   {
    "duration": 71,
    "start_time": "2024-08-20T04:27:31.540Z"
   },
   {
    "duration": 80,
    "start_time": "2024-08-20T04:27:55.585Z"
   },
   {
    "duration": 94,
    "start_time": "2024-08-20T04:28:18.465Z"
   },
   {
    "duration": 621,
    "start_time": "2024-08-20T04:30:19.048Z"
   },
   {
    "duration": 72,
    "start_time": "2024-08-20T04:30:33.965Z"
   },
   {
    "duration": 69,
    "start_time": "2024-08-20T04:30:43.744Z"
   },
   {
    "duration": 10,
    "start_time": "2024-08-20T04:35:07.248Z"
   },
   {
    "duration": 40,
    "start_time": "2024-08-20T04:35:15.039Z"
   },
   {
    "duration": 14,
    "start_time": "2024-08-20T04:35:26.813Z"
   },
   {
    "duration": 6,
    "start_time": "2024-08-20T04:35:57.379Z"
   },
   {
    "duration": 2201,
    "start_time": "2024-08-20T04:37:16.876Z"
   },
   {
    "duration": 37,
    "start_time": "2024-08-20T04:44:21.795Z"
   },
   {
    "duration": 9,
    "start_time": "2024-08-20T04:45:03.665Z"
   },
   {
    "duration": 34,
    "start_time": "2024-08-20T04:45:15.282Z"
   },
   {
    "duration": 151,
    "start_time": "2024-08-20T04:45:22.473Z"
   },
   {
    "duration": 31,
    "start_time": "2024-08-20T04:45:39.525Z"
   },
   {
    "duration": 54,
    "start_time": "2024-08-20T04:46:09.660Z"
   },
   {
    "duration": 6,
    "start_time": "2024-08-20T04:48:16.857Z"
   },
   {
    "duration": 2155,
    "start_time": "2024-08-20T04:49:39.823Z"
   },
   {
    "duration": 55,
    "start_time": "2024-08-20T04:49:50.208Z"
   },
   {
    "duration": 355,
    "start_time": "2024-08-20T04:51:04.249Z"
   },
   {
    "duration": 2158,
    "start_time": "2024-08-20T04:55:33.531Z"
   },
   {
    "duration": 58,
    "start_time": "2024-08-20T05:00:41.194Z"
   },
   {
    "duration": 1453,
    "start_time": "2024-08-20T05:03:27.837Z"
   },
   {
    "duration": 43,
    "start_time": "2024-08-20T05:03:29.293Z"
   },
   {
    "duration": 38,
    "start_time": "2024-08-20T05:03:29.339Z"
   },
   {
    "duration": 14,
    "start_time": "2024-08-20T05:03:29.381Z"
   },
   {
    "duration": 88,
    "start_time": "2024-08-20T05:03:29.398Z"
   },
   {
    "duration": 11,
    "start_time": "2024-08-20T05:03:29.488Z"
   },
   {
    "duration": 26,
    "start_time": "2024-08-20T05:03:29.502Z"
   },
   {
    "duration": 49,
    "start_time": "2024-08-20T05:03:29.530Z"
   },
   {
    "duration": 1144,
    "start_time": "2024-08-20T05:03:29.582Z"
   },
   {
    "duration": 151,
    "start_time": "2024-08-20T05:03:30.731Z"
   },
   {
    "duration": 1104,
    "start_time": "2024-08-20T05:03:30.885Z"
   },
   {
    "duration": 545,
    "start_time": "2024-08-20T05:03:31.992Z"
   },
   {
    "duration": 0,
    "start_time": "2024-08-20T05:03:32.540Z"
   },
   {
    "duration": 0,
    "start_time": "2024-08-20T05:03:32.542Z"
   },
   {
    "duration": 88,
    "start_time": "2024-08-20T05:03:50.567Z"
   },
   {
    "duration": 99,
    "start_time": "2024-08-20T05:03:58.148Z"
   },
   {
    "duration": 2118,
    "start_time": "2024-08-20T05:04:58.375Z"
   },
   {
    "duration": 1382,
    "start_time": "2024-08-20T05:05:23.204Z"
   },
   {
    "duration": 41,
    "start_time": "2024-08-20T05:05:24.589Z"
   },
   {
    "duration": 39,
    "start_time": "2024-08-20T05:05:24.633Z"
   },
   {
    "duration": 17,
    "start_time": "2024-08-20T05:05:24.676Z"
   },
   {
    "duration": 90,
    "start_time": "2024-08-20T05:05:24.697Z"
   },
   {
    "duration": 10,
    "start_time": "2024-08-20T05:05:24.790Z"
   },
   {
    "duration": 27,
    "start_time": "2024-08-20T05:05:24.803Z"
   },
   {
    "duration": 47,
    "start_time": "2024-08-20T05:05:24.832Z"
   },
   {
    "duration": 1148,
    "start_time": "2024-08-20T05:05:24.883Z"
   },
   {
    "duration": 152,
    "start_time": "2024-08-20T05:05:26.036Z"
   },
   {
    "duration": 1191,
    "start_time": "2024-08-20T05:05:26.192Z"
   },
   {
    "duration": 2213,
    "start_time": "2024-08-20T05:05:27.386Z"
   },
   {
    "duration": 2098,
    "start_time": "2024-08-20T05:05:29.601Z"
   },
   {
    "duration": 94,
    "start_time": "2024-08-20T05:05:31.705Z"
   },
   {
    "duration": 316,
    "start_time": "2024-08-25T02:47:54.004Z"
   },
   {
    "duration": 5070,
    "start_time": "2024-08-26T05:31:26.226Z"
   },
   {
    "duration": 55,
    "start_time": "2024-08-26T05:31:31.301Z"
   },
   {
    "duration": 17,
    "start_time": "2024-08-26T05:31:31.359Z"
   },
   {
    "duration": 15,
    "start_time": "2024-08-26T05:31:31.380Z"
   },
   {
    "duration": 39,
    "start_time": "2024-08-26T05:31:31.397Z"
   },
   {
    "duration": 11,
    "start_time": "2024-08-26T05:31:31.439Z"
   },
   {
    "duration": 25,
    "start_time": "2024-08-26T05:31:31.454Z"
   },
   {
    "duration": 16,
    "start_time": "2024-08-26T05:31:31.481Z"
   },
   {
    "duration": 1137,
    "start_time": "2024-08-26T05:31:31.534Z"
   },
   {
    "duration": 153,
    "start_time": "2024-08-26T05:31:32.675Z"
   },
   {
    "duration": 1114,
    "start_time": "2024-08-26T05:31:32.834Z"
   },
   {
    "duration": 514,
    "start_time": "2024-08-26T05:31:33.951Z"
   },
   {
    "duration": 0,
    "start_time": "2024-08-26T05:31:34.468Z"
   },
   {
    "duration": 0,
    "start_time": "2024-08-26T05:31:34.471Z"
   },
   {
    "duration": 0,
    "start_time": "2024-08-26T05:31:34.473Z"
   },
   {
    "duration": 40,
    "start_time": "2024-08-26T05:43:45.491Z"
   },
   {
    "duration": 35,
    "start_time": "2024-08-26T05:44:20.047Z"
   },
   {
    "duration": 2116,
    "start_time": "2024-08-26T05:45:25.742Z"
   },
   {
    "duration": 10571,
    "start_time": "2024-08-26T05:45:31.954Z"
   },
   {
    "duration": 10598,
    "start_time": "2024-08-26T05:58:17.876Z"
   },
   {
    "duration": 10538,
    "start_time": "2024-08-26T06:02:52.282Z"
   },
   {
    "duration": 12930,
    "start_time": "2024-08-26T06:07:23.304Z"
   },
   {
    "duration": 12919,
    "start_time": "2024-08-26T06:14:09.304Z"
   },
   {
    "duration": 2575,
    "start_time": "2024-12-30T00:19:40.582Z"
   },
   {
    "duration": 33,
    "start_time": "2024-12-30T00:19:43.160Z"
   },
   {
    "duration": 13,
    "start_time": "2024-12-30T00:19:43.196Z"
   },
   {
    "duration": 8,
    "start_time": "2024-12-30T00:19:43.211Z"
   },
   {
    "duration": 7,
    "start_time": "2024-12-30T00:19:43.220Z"
   },
   {
    "duration": 5,
    "start_time": "2024-12-30T00:19:43.228Z"
   },
   {
    "duration": 14,
    "start_time": "2024-12-30T00:19:43.234Z"
   },
   {
    "duration": 39,
    "start_time": "2024-12-30T00:19:43.250Z"
   },
   {
    "duration": 743,
    "start_time": "2024-12-30T00:19:43.290Z"
   },
   {
    "duration": 87,
    "start_time": "2024-12-30T00:19:44.035Z"
   },
   {
    "duration": 764,
    "start_time": "2024-12-30T00:19:44.123Z"
   },
   {
    "duration": 1303,
    "start_time": "2024-12-30T00:19:44.889Z"
   },
   {
    "duration": 1300,
    "start_time": "2024-12-30T00:19:46.194Z"
   },
   {
    "duration": 7868,
    "start_time": "2024-12-30T00:19:47.495Z"
   }
  ],
  "kernelspec": {
   "display_name": "Python 3 (ipykernel)",
   "language": "python",
   "name": "python3"
  },
  "language_info": {
   "codemirror_mode": {
    "name": "ipython",
    "version": 3
   },
   "file_extension": ".py",
   "mimetype": "text/x-python",
   "name": "python",
   "nbconvert_exporter": "python",
   "pygments_lexer": "ipython3",
   "version": "3.9.19"
  },
  "toc": {
   "base_numbering": 1,
   "nav_menu": {},
   "number_sections": true,
   "sideBar": true,
   "skip_h1_title": true,
   "title_cell": "Table of Contents",
   "title_sidebar": "Contents",
   "toc_cell": false,
   "toc_position": {},
   "toc_section_display": true,
   "toc_window_display": false
  }
 },
 "nbformat": 4,
 "nbformat_minor": 2
}
