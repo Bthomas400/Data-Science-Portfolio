{
 "cells": [
  {
   "cell_type": "markdown",
   "id": "d2288715-61e5-42d8-be4f-e92212e38e4b",
   "metadata": {},
   "source": [
    "# Interconnect Churn Model Project "
   ]
  },
  {
   "cell_type": "markdown",
   "id": "b423e8fd-d98b-409b-8cf5-84f298e97843",
   "metadata": {},
   "source": [
    "## Introduction\n",
    "\n",
    "In this project, we aim to develop a machine learning model to forecast client churn for the telecom operator Interconnect. Churn prediction is critical for retaining customers, as it allows the company to proactively offer promotions or custom plans to at-risk clients. The target variable in this dataset is the EndDate column, where \"No\" indicates a non-churning client.\n",
    "\n",
    "Our goal is to:\n",
    "\n",
    "- Explore and clean the datasets.\n",
    "- Engineer and preprocess features.\n",
    "- Build and evaluate a machine learning model optimized for the AUC-ROC metric.\n",
    "- Achieve a minimum AUC-ROC score of 0.75, aiming for the highest possible score.\n",
    "\n",
    "The project involves exploratory data analysis (EDA) and model development. The final model will help Interconnect reduce churn and retain valuable customers."
   ]
  },
  {
   "cell_type": "markdown",
   "id": "7656bbad-7001-4246-b45f-8bd989037331",
   "metadata": {},
   "source": [
    "## Import Libraries and Load Data"
   ]
  },
  {
   "cell_type": "code",
   "execution_count": 4,
   "id": "4702dc68-d67a-47e0-833a-398e5056f907",
   "metadata": {},
   "outputs": [],
   "source": [
    "# Importing necessary libraries\n",
    "import pandas as pd\n",
    "import numpy as np\n",
    "import matplotlib.pyplot as plt\n",
    "import seaborn as sns\n",
    "from sklearn.model_selection import train_test_split, GridSearchCV\n",
    "from sklearn.preprocessing import StandardScaler, OneHotEncoder\n",
    "from sklearn.compose import ColumnTransformer\n",
    "from sklearn.pipeline import Pipeline\n",
    "from sklearn.ensemble import RandomForestClassifier, GradientBoostingClassifier\n",
    "from sklearn.metrics import roc_auc_score, accuracy_score\n",
    "from sklearn.linear_model import LogisticRegression\n"
   ]
  },
  {
   "cell_type": "code",
   "execution_count": 5,
   "id": "060d3da5-5390-4e20-aa3a-86569a6df61c",
   "metadata": {},
   "outputs": [],
   "source": [
    "# Loading datasets\n",
    "contract = pd.read_csv('\\\\Users\\\\Brian4\\\\Downloads\\\\contract.csv')\n",
    "personal = pd.read_csv('\\\\Users\\\\Brian4\\\\Downloads\\\\personal.csv')\n",
    "internet = pd.read_csv('\\\\Users\\\\Brian4\\\\Downloads\\\\\\internet.csv')\n",
    "phone = pd.read_csv('\\\\Users\\\\Brian4\\\\Downloads\\\\phone.csv')"
   ]
  },
  {
   "cell_type": "code",
   "execution_count": 6,
   "id": "1a95a8e7-bb34-4653-9cdb-b9e78b10cbb6",
   "metadata": {},
   "outputs": [
    {
     "name": "stdout",
     "output_type": "stream",
     "text": [
      "Contract Data:\n"
     ]
    },
    {
     "data": {
      "text/html": [
       "<div>\n",
       "<style scoped>\n",
       "    .dataframe tbody tr th:only-of-type {\n",
       "        vertical-align: middle;\n",
       "    }\n",
       "\n",
       "    .dataframe tbody tr th {\n",
       "        vertical-align: top;\n",
       "    }\n",
       "\n",
       "    .dataframe thead th {\n",
       "        text-align: right;\n",
       "    }\n",
       "</style>\n",
       "<table border=\"1\" class=\"dataframe\">\n",
       "  <thead>\n",
       "    <tr style=\"text-align: right;\">\n",
       "      <th></th>\n",
       "      <th>customerID</th>\n",
       "      <th>BeginDate</th>\n",
       "      <th>EndDate</th>\n",
       "      <th>Type</th>\n",
       "      <th>PaperlessBilling</th>\n",
       "      <th>PaymentMethod</th>\n",
       "      <th>MonthlyCharges</th>\n",
       "      <th>TotalCharges</th>\n",
       "    </tr>\n",
       "  </thead>\n",
       "  <tbody>\n",
       "    <tr>\n",
       "      <th>0</th>\n",
       "      <td>7590-VHVEG</td>\n",
       "      <td>2020-01-01</td>\n",
       "      <td>No</td>\n",
       "      <td>Month-to-month</td>\n",
       "      <td>Yes</td>\n",
       "      <td>Electronic check</td>\n",
       "      <td>29.85</td>\n",
       "      <td>29.85</td>\n",
       "    </tr>\n",
       "    <tr>\n",
       "      <th>1</th>\n",
       "      <td>5575-GNVDE</td>\n",
       "      <td>2017-04-01</td>\n",
       "      <td>No</td>\n",
       "      <td>One year</td>\n",
       "      <td>No</td>\n",
       "      <td>Mailed check</td>\n",
       "      <td>56.95</td>\n",
       "      <td>1889.5</td>\n",
       "    </tr>\n",
       "    <tr>\n",
       "      <th>2</th>\n",
       "      <td>3668-QPYBK</td>\n",
       "      <td>2019-10-01</td>\n",
       "      <td>2019-12-01 00:00:00</td>\n",
       "      <td>Month-to-month</td>\n",
       "      <td>Yes</td>\n",
       "      <td>Mailed check</td>\n",
       "      <td>53.85</td>\n",
       "      <td>108.15</td>\n",
       "    </tr>\n",
       "    <tr>\n",
       "      <th>3</th>\n",
       "      <td>7795-CFOCW</td>\n",
       "      <td>2016-05-01</td>\n",
       "      <td>No</td>\n",
       "      <td>One year</td>\n",
       "      <td>No</td>\n",
       "      <td>Bank transfer (automatic)</td>\n",
       "      <td>42.30</td>\n",
       "      <td>1840.75</td>\n",
       "    </tr>\n",
       "    <tr>\n",
       "      <th>4</th>\n",
       "      <td>9237-HQITU</td>\n",
       "      <td>2019-09-01</td>\n",
       "      <td>2019-11-01 00:00:00</td>\n",
       "      <td>Month-to-month</td>\n",
       "      <td>Yes</td>\n",
       "      <td>Electronic check</td>\n",
       "      <td>70.70</td>\n",
       "      <td>151.65</td>\n",
       "    </tr>\n",
       "  </tbody>\n",
       "</table>\n",
       "</div>"
      ],
      "text/plain": [
       "   customerID   BeginDate              EndDate            Type  \\\n",
       "0  7590-VHVEG  2020-01-01                   No  Month-to-month   \n",
       "1  5575-GNVDE  2017-04-01                   No        One year   \n",
       "2  3668-QPYBK  2019-10-01  2019-12-01 00:00:00  Month-to-month   \n",
       "3  7795-CFOCW  2016-05-01                   No        One year   \n",
       "4  9237-HQITU  2019-09-01  2019-11-01 00:00:00  Month-to-month   \n",
       "\n",
       "  PaperlessBilling              PaymentMethod  MonthlyCharges TotalCharges  \n",
       "0              Yes           Electronic check           29.85        29.85  \n",
       "1               No               Mailed check           56.95       1889.5  \n",
       "2              Yes               Mailed check           53.85       108.15  \n",
       "3               No  Bank transfer (automatic)           42.30      1840.75  \n",
       "4              Yes           Electronic check           70.70       151.65  "
      ]
     },
     "metadata": {},
     "output_type": "display_data"
    },
    {
     "name": "stdout",
     "output_type": "stream",
     "text": [
      "Personal Data:\n"
     ]
    },
    {
     "data": {
      "text/html": [
       "<div>\n",
       "<style scoped>\n",
       "    .dataframe tbody tr th:only-of-type {\n",
       "        vertical-align: middle;\n",
       "    }\n",
       "\n",
       "    .dataframe tbody tr th {\n",
       "        vertical-align: top;\n",
       "    }\n",
       "\n",
       "    .dataframe thead th {\n",
       "        text-align: right;\n",
       "    }\n",
       "</style>\n",
       "<table border=\"1\" class=\"dataframe\">\n",
       "  <thead>\n",
       "    <tr style=\"text-align: right;\">\n",
       "      <th></th>\n",
       "      <th>customerID</th>\n",
       "      <th>gender</th>\n",
       "      <th>SeniorCitizen</th>\n",
       "      <th>Partner</th>\n",
       "      <th>Dependents</th>\n",
       "    </tr>\n",
       "  </thead>\n",
       "  <tbody>\n",
       "    <tr>\n",
       "      <th>0</th>\n",
       "      <td>7590-VHVEG</td>\n",
       "      <td>Female</td>\n",
       "      <td>0</td>\n",
       "      <td>Yes</td>\n",
       "      <td>No</td>\n",
       "    </tr>\n",
       "    <tr>\n",
       "      <th>1</th>\n",
       "      <td>5575-GNVDE</td>\n",
       "      <td>Male</td>\n",
       "      <td>0</td>\n",
       "      <td>No</td>\n",
       "      <td>No</td>\n",
       "    </tr>\n",
       "    <tr>\n",
       "      <th>2</th>\n",
       "      <td>3668-QPYBK</td>\n",
       "      <td>Male</td>\n",
       "      <td>0</td>\n",
       "      <td>No</td>\n",
       "      <td>No</td>\n",
       "    </tr>\n",
       "    <tr>\n",
       "      <th>3</th>\n",
       "      <td>7795-CFOCW</td>\n",
       "      <td>Male</td>\n",
       "      <td>0</td>\n",
       "      <td>No</td>\n",
       "      <td>No</td>\n",
       "    </tr>\n",
       "    <tr>\n",
       "      <th>4</th>\n",
       "      <td>9237-HQITU</td>\n",
       "      <td>Female</td>\n",
       "      <td>0</td>\n",
       "      <td>No</td>\n",
       "      <td>No</td>\n",
       "    </tr>\n",
       "  </tbody>\n",
       "</table>\n",
       "</div>"
      ],
      "text/plain": [
       "   customerID  gender  SeniorCitizen Partner Dependents\n",
       "0  7590-VHVEG  Female              0     Yes         No\n",
       "1  5575-GNVDE    Male              0      No         No\n",
       "2  3668-QPYBK    Male              0      No         No\n",
       "3  7795-CFOCW    Male              0      No         No\n",
       "4  9237-HQITU  Female              0      No         No"
      ]
     },
     "metadata": {},
     "output_type": "display_data"
    },
    {
     "name": "stdout",
     "output_type": "stream",
     "text": [
      "Internet Data:\n"
     ]
    },
    {
     "data": {
      "text/html": [
       "<div>\n",
       "<style scoped>\n",
       "    .dataframe tbody tr th:only-of-type {\n",
       "        vertical-align: middle;\n",
       "    }\n",
       "\n",
       "    .dataframe tbody tr th {\n",
       "        vertical-align: top;\n",
       "    }\n",
       "\n",
       "    .dataframe thead th {\n",
       "        text-align: right;\n",
       "    }\n",
       "</style>\n",
       "<table border=\"1\" class=\"dataframe\">\n",
       "  <thead>\n",
       "    <tr style=\"text-align: right;\">\n",
       "      <th></th>\n",
       "      <th>customerID</th>\n",
       "      <th>InternetService</th>\n",
       "      <th>OnlineSecurity</th>\n",
       "      <th>OnlineBackup</th>\n",
       "      <th>DeviceProtection</th>\n",
       "      <th>TechSupport</th>\n",
       "      <th>StreamingTV</th>\n",
       "      <th>StreamingMovies</th>\n",
       "    </tr>\n",
       "  </thead>\n",
       "  <tbody>\n",
       "    <tr>\n",
       "      <th>0</th>\n",
       "      <td>7590-VHVEG</td>\n",
       "      <td>DSL</td>\n",
       "      <td>No</td>\n",
       "      <td>Yes</td>\n",
       "      <td>No</td>\n",
       "      <td>No</td>\n",
       "      <td>No</td>\n",
       "      <td>No</td>\n",
       "    </tr>\n",
       "    <tr>\n",
       "      <th>1</th>\n",
       "      <td>5575-GNVDE</td>\n",
       "      <td>DSL</td>\n",
       "      <td>Yes</td>\n",
       "      <td>No</td>\n",
       "      <td>Yes</td>\n",
       "      <td>No</td>\n",
       "      <td>No</td>\n",
       "      <td>No</td>\n",
       "    </tr>\n",
       "    <tr>\n",
       "      <th>2</th>\n",
       "      <td>3668-QPYBK</td>\n",
       "      <td>DSL</td>\n",
       "      <td>Yes</td>\n",
       "      <td>Yes</td>\n",
       "      <td>No</td>\n",
       "      <td>No</td>\n",
       "      <td>No</td>\n",
       "      <td>No</td>\n",
       "    </tr>\n",
       "    <tr>\n",
       "      <th>3</th>\n",
       "      <td>7795-CFOCW</td>\n",
       "      <td>DSL</td>\n",
       "      <td>Yes</td>\n",
       "      <td>No</td>\n",
       "      <td>Yes</td>\n",
       "      <td>Yes</td>\n",
       "      <td>No</td>\n",
       "      <td>No</td>\n",
       "    </tr>\n",
       "    <tr>\n",
       "      <th>4</th>\n",
       "      <td>9237-HQITU</td>\n",
       "      <td>Fiber optic</td>\n",
       "      <td>No</td>\n",
       "      <td>No</td>\n",
       "      <td>No</td>\n",
       "      <td>No</td>\n",
       "      <td>No</td>\n",
       "      <td>No</td>\n",
       "    </tr>\n",
       "  </tbody>\n",
       "</table>\n",
       "</div>"
      ],
      "text/plain": [
       "   customerID InternetService OnlineSecurity OnlineBackup DeviceProtection  \\\n",
       "0  7590-VHVEG             DSL             No          Yes               No   \n",
       "1  5575-GNVDE             DSL            Yes           No              Yes   \n",
       "2  3668-QPYBK             DSL            Yes          Yes               No   \n",
       "3  7795-CFOCW             DSL            Yes           No              Yes   \n",
       "4  9237-HQITU     Fiber optic             No           No               No   \n",
       "\n",
       "  TechSupport StreamingTV StreamingMovies  \n",
       "0          No          No              No  \n",
       "1          No          No              No  \n",
       "2          No          No              No  \n",
       "3         Yes          No              No  \n",
       "4          No          No              No  "
      ]
     },
     "metadata": {},
     "output_type": "display_data"
    },
    {
     "name": "stdout",
     "output_type": "stream",
     "text": [
      "Phone Data:\n"
     ]
    },
    {
     "data": {
      "text/html": [
       "<div>\n",
       "<style scoped>\n",
       "    .dataframe tbody tr th:only-of-type {\n",
       "        vertical-align: middle;\n",
       "    }\n",
       "\n",
       "    .dataframe tbody tr th {\n",
       "        vertical-align: top;\n",
       "    }\n",
       "\n",
       "    .dataframe thead th {\n",
       "        text-align: right;\n",
       "    }\n",
       "</style>\n",
       "<table border=\"1\" class=\"dataframe\">\n",
       "  <thead>\n",
       "    <tr style=\"text-align: right;\">\n",
       "      <th></th>\n",
       "      <th>customerID</th>\n",
       "      <th>MultipleLines</th>\n",
       "    </tr>\n",
       "  </thead>\n",
       "  <tbody>\n",
       "    <tr>\n",
       "      <th>0</th>\n",
       "      <td>5575-GNVDE</td>\n",
       "      <td>No</td>\n",
       "    </tr>\n",
       "    <tr>\n",
       "      <th>1</th>\n",
       "      <td>3668-QPYBK</td>\n",
       "      <td>No</td>\n",
       "    </tr>\n",
       "    <tr>\n",
       "      <th>2</th>\n",
       "      <td>9237-HQITU</td>\n",
       "      <td>No</td>\n",
       "    </tr>\n",
       "    <tr>\n",
       "      <th>3</th>\n",
       "      <td>9305-CDSKC</td>\n",
       "      <td>Yes</td>\n",
       "    </tr>\n",
       "    <tr>\n",
       "      <th>4</th>\n",
       "      <td>1452-KIOVK</td>\n",
       "      <td>Yes</td>\n",
       "    </tr>\n",
       "  </tbody>\n",
       "</table>\n",
       "</div>"
      ],
      "text/plain": [
       "   customerID MultipleLines\n",
       "0  5575-GNVDE            No\n",
       "1  3668-QPYBK            No\n",
       "2  9237-HQITU            No\n",
       "3  9305-CDSKC           Yes\n",
       "4  1452-KIOVK           Yes"
      ]
     },
     "metadata": {},
     "output_type": "display_data"
    }
   ],
   "source": [
    "# Display the first few rows of each dataset to inspect their structure\n",
    "print(\"Contract Data:\")\n",
    "display(contract.head())\n",
    "print(\"Personal Data:\")\n",
    "display(personal.head())\n",
    "print(\"Internet Data:\")\n",
    "display(internet.head())\n",
    "print(\"Phone Data:\")\n",
    "display(phone.head())\n"
   ]
  },
  {
   "cell_type": "code",
   "execution_count": 7,
   "id": "d10c15aa-76d2-42b2-b5cc-a5d7f4e1bb79",
   "metadata": {},
   "outputs": [
    {
     "name": "stdout",
     "output_type": "stream",
     "text": [
      "Contract Data:\n",
      "<class 'pandas.core.frame.DataFrame'>\n",
      "RangeIndex: 7043 entries, 0 to 7042\n",
      "Data columns (total 8 columns):\n",
      " #   Column            Non-Null Count  Dtype  \n",
      "---  ------            --------------  -----  \n",
      " 0   customerID        7043 non-null   object \n",
      " 1   BeginDate         7043 non-null   object \n",
      " 2   EndDate           7043 non-null   object \n",
      " 3   Type              7043 non-null   object \n",
      " 4   PaperlessBilling  7043 non-null   object \n",
      " 5   PaymentMethod     7043 non-null   object \n",
      " 6   MonthlyCharges    7043 non-null   float64\n",
      " 7   TotalCharges      7043 non-null   object \n",
      "dtypes: float64(1), object(7)\n",
      "memory usage: 440.3+ KB\n"
     ]
    },
    {
     "data": {
      "text/plain": [
       "None"
      ]
     },
     "metadata": {},
     "output_type": "display_data"
    },
    {
     "name": "stdout",
     "output_type": "stream",
     "text": [
      "Personal Data:\n",
      "<class 'pandas.core.frame.DataFrame'>\n",
      "RangeIndex: 7043 entries, 0 to 7042\n",
      "Data columns (total 5 columns):\n",
      " #   Column         Non-Null Count  Dtype \n",
      "---  ------         --------------  ----- \n",
      " 0   customerID     7043 non-null   object\n",
      " 1   gender         7043 non-null   object\n",
      " 2   SeniorCitizen  7043 non-null   int64 \n",
      " 3   Partner        7043 non-null   object\n",
      " 4   Dependents     7043 non-null   object\n",
      "dtypes: int64(1), object(4)\n",
      "memory usage: 275.2+ KB\n"
     ]
    },
    {
     "data": {
      "text/plain": [
       "None"
      ]
     },
     "metadata": {},
     "output_type": "display_data"
    },
    {
     "name": "stdout",
     "output_type": "stream",
     "text": [
      "Internet Data:\n",
      "<class 'pandas.core.frame.DataFrame'>\n",
      "RangeIndex: 5517 entries, 0 to 5516\n",
      "Data columns (total 8 columns):\n",
      " #   Column            Non-Null Count  Dtype \n",
      "---  ------            --------------  ----- \n",
      " 0   customerID        5517 non-null   object\n",
      " 1   InternetService   5517 non-null   object\n",
      " 2   OnlineSecurity    5517 non-null   object\n",
      " 3   OnlineBackup      5517 non-null   object\n",
      " 4   DeviceProtection  5517 non-null   object\n",
      " 5   TechSupport       5517 non-null   object\n",
      " 6   StreamingTV       5517 non-null   object\n",
      " 7   StreamingMovies   5517 non-null   object\n",
      "dtypes: object(8)\n",
      "memory usage: 344.9+ KB\n"
     ]
    },
    {
     "data": {
      "text/plain": [
       "None"
      ]
     },
     "metadata": {},
     "output_type": "display_data"
    },
    {
     "name": "stdout",
     "output_type": "stream",
     "text": [
      "Phone Data:\n",
      "<class 'pandas.core.frame.DataFrame'>\n",
      "RangeIndex: 6361 entries, 0 to 6360\n",
      "Data columns (total 2 columns):\n",
      " #   Column         Non-Null Count  Dtype \n",
      "---  ------         --------------  ----- \n",
      " 0   customerID     6361 non-null   object\n",
      " 1   MultipleLines  6361 non-null   object\n",
      "dtypes: object(2)\n",
      "memory usage: 99.5+ KB\n"
     ]
    },
    {
     "data": {
      "text/plain": [
       "None"
      ]
     },
     "metadata": {},
     "output_type": "display_data"
    }
   ],
   "source": [
    "print(\"Contract Data:\")\n",
    "display(contract.info())\n",
    "print(\"Personal Data:\")\n",
    "display(personal.info())\n",
    "print(\"Internet Data:\")\n",
    "display(internet.info())\n",
    "print(\"Phone Data:\")\n",
    "display(phone.info())"
   ]
  },
  {
   "cell_type": "markdown",
   "id": "17bd94a2-0db3-4642-8c7a-5a66f0b6bdca",
   "metadata": {},
   "source": [
    "## Merge Data on 'customerID'"
   ]
  },
  {
   "cell_type": "code",
   "execution_count": 9,
   "id": "9d95a101-72b8-443d-9732-e83b3867b0db",
   "metadata": {
    "scrolled": true
   },
   "outputs": [
    {
     "data": {
      "text/html": [
       "<div>\n",
       "<style scoped>\n",
       "    .dataframe tbody tr th:only-of-type {\n",
       "        vertical-align: middle;\n",
       "    }\n",
       "\n",
       "    .dataframe tbody tr th {\n",
       "        vertical-align: top;\n",
       "    }\n",
       "\n",
       "    .dataframe thead th {\n",
       "        text-align: right;\n",
       "    }\n",
       "</style>\n",
       "<table border=\"1\" class=\"dataframe\">\n",
       "  <thead>\n",
       "    <tr style=\"text-align: right;\">\n",
       "      <th></th>\n",
       "      <th>customerID</th>\n",
       "      <th>BeginDate</th>\n",
       "      <th>EndDate</th>\n",
       "      <th>Type</th>\n",
       "      <th>PaperlessBilling</th>\n",
       "      <th>PaymentMethod</th>\n",
       "      <th>MonthlyCharges</th>\n",
       "      <th>TotalCharges</th>\n",
       "      <th>gender</th>\n",
       "      <th>SeniorCitizen</th>\n",
       "      <th>Partner</th>\n",
       "      <th>Dependents</th>\n",
       "      <th>InternetService</th>\n",
       "      <th>OnlineSecurity</th>\n",
       "      <th>OnlineBackup</th>\n",
       "      <th>DeviceProtection</th>\n",
       "      <th>TechSupport</th>\n",
       "      <th>StreamingTV</th>\n",
       "      <th>StreamingMovies</th>\n",
       "      <th>MultipleLines</th>\n",
       "    </tr>\n",
       "  </thead>\n",
       "  <tbody>\n",
       "    <tr>\n",
       "      <th>0</th>\n",
       "      <td>7590-VHVEG</td>\n",
       "      <td>2020-01-01</td>\n",
       "      <td>No</td>\n",
       "      <td>Month-to-month</td>\n",
       "      <td>Yes</td>\n",
       "      <td>Electronic check</td>\n",
       "      <td>29.85</td>\n",
       "      <td>29.85</td>\n",
       "      <td>Female</td>\n",
       "      <td>0</td>\n",
       "      <td>Yes</td>\n",
       "      <td>No</td>\n",
       "      <td>DSL</td>\n",
       "      <td>No</td>\n",
       "      <td>Yes</td>\n",
       "      <td>No</td>\n",
       "      <td>No</td>\n",
       "      <td>No</td>\n",
       "      <td>No</td>\n",
       "      <td>NaN</td>\n",
       "    </tr>\n",
       "    <tr>\n",
       "      <th>1</th>\n",
       "      <td>5575-GNVDE</td>\n",
       "      <td>2017-04-01</td>\n",
       "      <td>No</td>\n",
       "      <td>One year</td>\n",
       "      <td>No</td>\n",
       "      <td>Mailed check</td>\n",
       "      <td>56.95</td>\n",
       "      <td>1889.5</td>\n",
       "      <td>Male</td>\n",
       "      <td>0</td>\n",
       "      <td>No</td>\n",
       "      <td>No</td>\n",
       "      <td>DSL</td>\n",
       "      <td>Yes</td>\n",
       "      <td>No</td>\n",
       "      <td>Yes</td>\n",
       "      <td>No</td>\n",
       "      <td>No</td>\n",
       "      <td>No</td>\n",
       "      <td>No</td>\n",
       "    </tr>\n",
       "    <tr>\n",
       "      <th>2</th>\n",
       "      <td>3668-QPYBK</td>\n",
       "      <td>2019-10-01</td>\n",
       "      <td>2019-12-01 00:00:00</td>\n",
       "      <td>Month-to-month</td>\n",
       "      <td>Yes</td>\n",
       "      <td>Mailed check</td>\n",
       "      <td>53.85</td>\n",
       "      <td>108.15</td>\n",
       "      <td>Male</td>\n",
       "      <td>0</td>\n",
       "      <td>No</td>\n",
       "      <td>No</td>\n",
       "      <td>DSL</td>\n",
       "      <td>Yes</td>\n",
       "      <td>Yes</td>\n",
       "      <td>No</td>\n",
       "      <td>No</td>\n",
       "      <td>No</td>\n",
       "      <td>No</td>\n",
       "      <td>No</td>\n",
       "    </tr>\n",
       "    <tr>\n",
       "      <th>3</th>\n",
       "      <td>7795-CFOCW</td>\n",
       "      <td>2016-05-01</td>\n",
       "      <td>No</td>\n",
       "      <td>One year</td>\n",
       "      <td>No</td>\n",
       "      <td>Bank transfer (automatic)</td>\n",
       "      <td>42.30</td>\n",
       "      <td>1840.75</td>\n",
       "      <td>Male</td>\n",
       "      <td>0</td>\n",
       "      <td>No</td>\n",
       "      <td>No</td>\n",
       "      <td>DSL</td>\n",
       "      <td>Yes</td>\n",
       "      <td>No</td>\n",
       "      <td>Yes</td>\n",
       "      <td>Yes</td>\n",
       "      <td>No</td>\n",
       "      <td>No</td>\n",
       "      <td>NaN</td>\n",
       "    </tr>\n",
       "    <tr>\n",
       "      <th>4</th>\n",
       "      <td>9237-HQITU</td>\n",
       "      <td>2019-09-01</td>\n",
       "      <td>2019-11-01 00:00:00</td>\n",
       "      <td>Month-to-month</td>\n",
       "      <td>Yes</td>\n",
       "      <td>Electronic check</td>\n",
       "      <td>70.70</td>\n",
       "      <td>151.65</td>\n",
       "      <td>Female</td>\n",
       "      <td>0</td>\n",
       "      <td>No</td>\n",
       "      <td>No</td>\n",
       "      <td>Fiber optic</td>\n",
       "      <td>No</td>\n",
       "      <td>No</td>\n",
       "      <td>No</td>\n",
       "      <td>No</td>\n",
       "      <td>No</td>\n",
       "      <td>No</td>\n",
       "      <td>No</td>\n",
       "    </tr>\n",
       "  </tbody>\n",
       "</table>\n",
       "</div>"
      ],
      "text/plain": [
       "   customerID   BeginDate              EndDate            Type  \\\n",
       "0  7590-VHVEG  2020-01-01                   No  Month-to-month   \n",
       "1  5575-GNVDE  2017-04-01                   No        One year   \n",
       "2  3668-QPYBK  2019-10-01  2019-12-01 00:00:00  Month-to-month   \n",
       "3  7795-CFOCW  2016-05-01                   No        One year   \n",
       "4  9237-HQITU  2019-09-01  2019-11-01 00:00:00  Month-to-month   \n",
       "\n",
       "  PaperlessBilling              PaymentMethod  MonthlyCharges TotalCharges  \\\n",
       "0              Yes           Electronic check           29.85        29.85   \n",
       "1               No               Mailed check           56.95       1889.5   \n",
       "2              Yes               Mailed check           53.85       108.15   \n",
       "3               No  Bank transfer (automatic)           42.30      1840.75   \n",
       "4              Yes           Electronic check           70.70       151.65   \n",
       "\n",
       "   gender  SeniorCitizen Partner Dependents InternetService OnlineSecurity  \\\n",
       "0  Female              0     Yes         No             DSL             No   \n",
       "1    Male              0      No         No             DSL            Yes   \n",
       "2    Male              0      No         No             DSL            Yes   \n",
       "3    Male              0      No         No             DSL            Yes   \n",
       "4  Female              0      No         No     Fiber optic             No   \n",
       "\n",
       "  OnlineBackup DeviceProtection TechSupport StreamingTV StreamingMovies  \\\n",
       "0          Yes               No          No          No              No   \n",
       "1           No              Yes          No          No              No   \n",
       "2          Yes               No          No          No              No   \n",
       "3           No              Yes         Yes          No              No   \n",
       "4           No               No          No          No              No   \n",
       "\n",
       "  MultipleLines  \n",
       "0           NaN  \n",
       "1            No  \n",
       "2            No  \n",
       "3           NaN  \n",
       "4            No  "
      ]
     },
     "metadata": {},
     "output_type": "display_data"
    }
   ],
   "source": [
    "# Merge the datasets on 'customerID'\n",
    "data = pd.merge(contract, personal, on='customerID', how='left')\n",
    "data = pd.merge(data, internet, on='customerID', how='left')\n",
    "data = pd.merge(data, phone, on='customerID', how='left')\n",
    "\n",
    "# Display the first few rows of the merged dataset to inspect the result\n",
    "display(data.head())\n"
   ]
  },
  {
   "cell_type": "markdown",
   "id": "465d5713-d920-438d-a8bb-7ab3db55c009",
   "metadata": {},
   "source": [
    "## Data Preprocessing"
   ]
  },
  {
   "cell_type": "code",
   "execution_count": 11,
   "id": "88ab1220-4c76-4215-a3f6-c7a3264f382c",
   "metadata": {},
   "outputs": [],
   "source": [
    "# Convert 'BeginDate' and 'EndDate' to datetime\n",
    "data['BeginDate'] = pd.to_datetime(data['BeginDate'], format='%Y-%m-%d')\n",
    "data['EndDate'] = pd.to_datetime(data['EndDate'], format='%Y-%m-%d %H:%M:%S', errors='coerce')  \n",
    "\n",
    "# Replace NaN values with 'No Service'\n",
    "columns_with_nan = ['OnlineSecurity', 'OnlineBackup', 'DeviceProtection', \n",
    "                    'TechSupport', 'StreamingTV', 'StreamingMovies']\n",
    "\n",
    "for column in columns_with_nan:\n",
    "    data[column] = data[column].fillna('No Service')\n",
    "\n",
    "# Create a churn column where churn = 1 if EndDate is not null, churn = 0 if EndDate is null\n",
    "data['churn'] = np.where(data['EndDate'].isnull(), 0, 1)\n",
    "\n",
    "# Replace \"No\" in the EndDate column with NaT for active customers\n",
    "data['EndDate'] = data['EndDate'].replace(\"No\", np.nan)\n"
   ]
  },
  {
   "cell_type": "code",
   "execution_count": 12,
   "id": "665b6132-f741-4203-8e69-f7b6cabccf65",
   "metadata": {},
   "outputs": [],
   "source": [
    "# Engineer tenure: Calculate the difference between EndDate and BeginDate in months\n",
    "data['tenure'] = ((data['EndDate'].fillna(pd.Timestamp.now()) - data['BeginDate']).dt.days // 30)"
   ]
  },
  {
   "cell_type": "code",
   "execution_count": 13,
   "id": "5649adde-6adf-4cbb-8aeb-d0566b19c9c5",
   "metadata": {},
   "outputs": [],
   "source": [
    "# Identify categorical variables that need one-hot encoding\n",
    "categorical_features = ['OnlineSecurity', 'OnlineBackup', 'DeviceProtection', \n",
    "                      'TechSupport', 'StreamingTV', 'StreamingMovies']\n",
    "\n",
    "# One-Hot Encoding\n",
    "data = pd.get_dummies(data, columns=categorical_features, drop_first=True)\n",
    "\n"
   ]
  },
  {
   "cell_type": "code",
   "execution_count": 14,
   "id": "ab4f6f08-0dab-432b-b46c-7e97d465a86e",
   "metadata": {},
   "outputs": [],
   "source": [
    "# Convert 'gender' from 'Male'/'Female' to 1/0\n",
    "data['gender'] = (data['gender'] == 'Male').astype(int)\n",
    "\n",
    "# List of binary categorical columns with 'Yes'/'No' values\n",
    "binary_columns_yes_no = ['Partner', 'Dependents', 'PaperlessBilling']\n",
    "\n",
    "# Convert 'Yes'/'No' binary categorical columns to 1/0\n",
    "for column in binary_columns_yes_no:\n",
    "    data[column] = (data[column] == 'Yes').astype(int)"
   ]
  },
  {
   "cell_type": "code",
   "execution_count": 15,
   "id": "596ad233-e473-488d-8fec-8be7d7afa378",
   "metadata": {},
   "outputs": [],
   "source": [
    "# List of numerical features\n",
    "numerical_features = ['MonthlyCharges', 'tenure', 'TotalCharges']\n",
    "\n",
    "# Convert to numeric and handle NaNs\n",
    "for feature in numerical_features:\n",
    "    data[feature] = pd.to_numeric(data[feature], errors='coerce')  # Ensures conversion to numeric, NaN if fails\n",
    "    data[feature].fillna(data[feature].median(), inplace=True)  # Impute NaNs with median\n",
    "\n",
    "# Scaling numerical features\n",
    "scaler = StandardScaler()\n",
    "data[numerical_features] = scaler.fit_transform(data[numerical_features])"
   ]
  },
  {
   "cell_type": "code",
   "execution_count": 16,
   "id": "ce53612e-638f-47ca-a7f2-559039c14273",
   "metadata": {},
   "outputs": [
    {
     "data": {
      "text/html": [
       "<div>\n",
       "<style scoped>\n",
       "    .dataframe tbody tr th:only-of-type {\n",
       "        vertical-align: middle;\n",
       "    }\n",
       "\n",
       "    .dataframe tbody tr th {\n",
       "        vertical-align: top;\n",
       "    }\n",
       "\n",
       "    .dataframe thead th {\n",
       "        text-align: right;\n",
       "    }\n",
       "</style>\n",
       "<table border=\"1\" class=\"dataframe\">\n",
       "  <thead>\n",
       "    <tr style=\"text-align: right;\">\n",
       "      <th></th>\n",
       "      <th>customerID</th>\n",
       "      <th>BeginDate</th>\n",
       "      <th>EndDate</th>\n",
       "      <th>Type</th>\n",
       "      <th>PaperlessBilling</th>\n",
       "      <th>PaymentMethod</th>\n",
       "      <th>MonthlyCharges</th>\n",
       "      <th>TotalCharges</th>\n",
       "      <th>gender</th>\n",
       "      <th>SeniorCitizen</th>\n",
       "      <th>...</th>\n",
       "      <th>OnlineBackup_No Service</th>\n",
       "      <th>OnlineBackup_Yes</th>\n",
       "      <th>DeviceProtection_No Service</th>\n",
       "      <th>DeviceProtection_Yes</th>\n",
       "      <th>TechSupport_No Service</th>\n",
       "      <th>TechSupport_Yes</th>\n",
       "      <th>StreamingTV_No Service</th>\n",
       "      <th>StreamingTV_Yes</th>\n",
       "      <th>StreamingMovies_No Service</th>\n",
       "      <th>StreamingMovies_Yes</th>\n",
       "    </tr>\n",
       "  </thead>\n",
       "  <tbody>\n",
       "    <tr>\n",
       "      <th>0</th>\n",
       "      <td>7590-VHVEG</td>\n",
       "      <td>2020-01-01</td>\n",
       "      <td>NaT</td>\n",
       "      <td>Month-to-month</td>\n",
       "      <td>1</td>\n",
       "      <td>Electronic check</td>\n",
       "      <td>-1.160323</td>\n",
       "      <td>-0.994242</td>\n",
       "      <td>0</td>\n",
       "      <td>0</td>\n",
       "      <td>...</td>\n",
       "      <td>False</td>\n",
       "      <td>True</td>\n",
       "      <td>False</td>\n",
       "      <td>False</td>\n",
       "      <td>False</td>\n",
       "      <td>False</td>\n",
       "      <td>False</td>\n",
       "      <td>False</td>\n",
       "      <td>False</td>\n",
       "      <td>False</td>\n",
       "    </tr>\n",
       "    <tr>\n",
       "      <th>1</th>\n",
       "      <td>5575-GNVDE</td>\n",
       "      <td>2017-04-01</td>\n",
       "      <td>NaT</td>\n",
       "      <td>One year</td>\n",
       "      <td>0</td>\n",
       "      <td>Mailed check</td>\n",
       "      <td>-0.259629</td>\n",
       "      <td>-0.173244</td>\n",
       "      <td>1</td>\n",
       "      <td>0</td>\n",
       "      <td>...</td>\n",
       "      <td>False</td>\n",
       "      <td>False</td>\n",
       "      <td>False</td>\n",
       "      <td>True</td>\n",
       "      <td>False</td>\n",
       "      <td>False</td>\n",
       "      <td>False</td>\n",
       "      <td>False</td>\n",
       "      <td>False</td>\n",
       "      <td>False</td>\n",
       "    </tr>\n",
       "    <tr>\n",
       "      <th>2</th>\n",
       "      <td>3668-QPYBK</td>\n",
       "      <td>2019-10-01</td>\n",
       "      <td>2019-12-01</td>\n",
       "      <td>Month-to-month</td>\n",
       "      <td>1</td>\n",
       "      <td>Mailed check</td>\n",
       "      <td>-0.362660</td>\n",
       "      <td>-0.959674</td>\n",
       "      <td>1</td>\n",
       "      <td>0</td>\n",
       "      <td>...</td>\n",
       "      <td>False</td>\n",
       "      <td>True</td>\n",
       "      <td>False</td>\n",
       "      <td>False</td>\n",
       "      <td>False</td>\n",
       "      <td>False</td>\n",
       "      <td>False</td>\n",
       "      <td>False</td>\n",
       "      <td>False</td>\n",
       "      <td>False</td>\n",
       "    </tr>\n",
       "    <tr>\n",
       "      <th>3</th>\n",
       "      <td>7795-CFOCW</td>\n",
       "      <td>2016-05-01</td>\n",
       "      <td>NaT</td>\n",
       "      <td>One year</td>\n",
       "      <td>0</td>\n",
       "      <td>Bank transfer (automatic)</td>\n",
       "      <td>-0.746535</td>\n",
       "      <td>-0.194766</td>\n",
       "      <td>1</td>\n",
       "      <td>0</td>\n",
       "      <td>...</td>\n",
       "      <td>False</td>\n",
       "      <td>False</td>\n",
       "      <td>False</td>\n",
       "      <td>True</td>\n",
       "      <td>False</td>\n",
       "      <td>True</td>\n",
       "      <td>False</td>\n",
       "      <td>False</td>\n",
       "      <td>False</td>\n",
       "      <td>False</td>\n",
       "    </tr>\n",
       "    <tr>\n",
       "      <th>4</th>\n",
       "      <td>9237-HQITU</td>\n",
       "      <td>2019-09-01</td>\n",
       "      <td>2019-11-01</td>\n",
       "      <td>Month-to-month</td>\n",
       "      <td>1</td>\n",
       "      <td>Electronic check</td>\n",
       "      <td>0.197365</td>\n",
       "      <td>-0.940470</td>\n",
       "      <td>0</td>\n",
       "      <td>0</td>\n",
       "      <td>...</td>\n",
       "      <td>False</td>\n",
       "      <td>False</td>\n",
       "      <td>False</td>\n",
       "      <td>False</td>\n",
       "      <td>False</td>\n",
       "      <td>False</td>\n",
       "      <td>False</td>\n",
       "      <td>False</td>\n",
       "      <td>False</td>\n",
       "      <td>False</td>\n",
       "    </tr>\n",
       "  </tbody>\n",
       "</table>\n",
       "<p>5 rows × 28 columns</p>\n",
       "</div>"
      ],
      "text/plain": [
       "   customerID  BeginDate    EndDate            Type  PaperlessBilling  \\\n",
       "0  7590-VHVEG 2020-01-01        NaT  Month-to-month                 1   \n",
       "1  5575-GNVDE 2017-04-01        NaT        One year                 0   \n",
       "2  3668-QPYBK 2019-10-01 2019-12-01  Month-to-month                 1   \n",
       "3  7795-CFOCW 2016-05-01        NaT        One year                 0   \n",
       "4  9237-HQITU 2019-09-01 2019-11-01  Month-to-month                 1   \n",
       "\n",
       "               PaymentMethod  MonthlyCharges  TotalCharges  gender  \\\n",
       "0           Electronic check       -1.160323     -0.994242       0   \n",
       "1               Mailed check       -0.259629     -0.173244       1   \n",
       "2               Mailed check       -0.362660     -0.959674       1   \n",
       "3  Bank transfer (automatic)       -0.746535     -0.194766       1   \n",
       "4           Electronic check        0.197365     -0.940470       0   \n",
       "\n",
       "   SeniorCitizen  ...  OnlineBackup_No Service  OnlineBackup_Yes  \\\n",
       "0              0  ...                    False              True   \n",
       "1              0  ...                    False             False   \n",
       "2              0  ...                    False              True   \n",
       "3              0  ...                    False             False   \n",
       "4              0  ...                    False             False   \n",
       "\n",
       "  DeviceProtection_No Service DeviceProtection_Yes  TechSupport_No Service  \\\n",
       "0                       False                False                   False   \n",
       "1                       False                 True                   False   \n",
       "2                       False                False                   False   \n",
       "3                       False                 True                   False   \n",
       "4                       False                False                   False   \n",
       "\n",
       "   TechSupport_Yes  StreamingTV_No Service  StreamingTV_Yes  \\\n",
       "0            False                   False            False   \n",
       "1            False                   False            False   \n",
       "2            False                   False            False   \n",
       "3             True                   False            False   \n",
       "4            False                   False            False   \n",
       "\n",
       "   StreamingMovies_No Service  StreamingMovies_Yes  \n",
       "0                       False                False  \n",
       "1                       False                False  \n",
       "2                       False                False  \n",
       "3                       False                False  \n",
       "4                       False                False  \n",
       "\n",
       "[5 rows x 28 columns]"
      ]
     },
     "metadata": {},
     "output_type": "display_data"
    },
    {
     "name": "stdout",
     "output_type": "stream",
     "text": [
      "Missing Values:\n"
     ]
    },
    {
     "data": {
      "text/plain": [
       "customerID                        0\n",
       "BeginDate                         0\n",
       "EndDate                        5174\n",
       "Type                              0\n",
       "PaperlessBilling                  0\n",
       "PaymentMethod                     0\n",
       "MonthlyCharges                    0\n",
       "TotalCharges                      0\n",
       "gender                            0\n",
       "SeniorCitizen                     0\n",
       "Partner                           0\n",
       "Dependents                        0\n",
       "InternetService                1526\n",
       "MultipleLines                   682\n",
       "churn                             0\n",
       "tenure                            0\n",
       "OnlineSecurity_No Service         0\n",
       "OnlineSecurity_Yes                0\n",
       "OnlineBackup_No Service           0\n",
       "OnlineBackup_Yes                  0\n",
       "DeviceProtection_No Service       0\n",
       "DeviceProtection_Yes              0\n",
       "TechSupport_No Service            0\n",
       "TechSupport_Yes                   0\n",
       "StreamingTV_No Service            0\n",
       "StreamingTV_Yes                   0\n",
       "StreamingMovies_No Service        0\n",
       "StreamingMovies_Yes               0\n",
       "dtype: int64"
      ]
     },
     "metadata": {},
     "output_type": "display_data"
    },
    {
     "name": "stdout",
     "output_type": "stream",
     "text": [
      "Number of duplicate entries: 0\n",
      "Data Types:\n"
     ]
    },
    {
     "data": {
      "text/plain": [
       "customerID                             object\n",
       "BeginDate                      datetime64[ns]\n",
       "EndDate                        datetime64[ns]\n",
       "Type                                   object\n",
       "PaperlessBilling                        int32\n",
       "PaymentMethod                          object\n",
       "MonthlyCharges                        float64\n",
       "TotalCharges                          float64\n",
       "gender                                  int32\n",
       "SeniorCitizen                           int64\n",
       "Partner                                 int32\n",
       "Dependents                              int32\n",
       "InternetService                        object\n",
       "MultipleLines                          object\n",
       "churn                                   int32\n",
       "tenure                                float64\n",
       "OnlineSecurity_No Service                bool\n",
       "OnlineSecurity_Yes                       bool\n",
       "OnlineBackup_No Service                  bool\n",
       "OnlineBackup_Yes                         bool\n",
       "DeviceProtection_No Service              bool\n",
       "DeviceProtection_Yes                     bool\n",
       "TechSupport_No Service                   bool\n",
       "TechSupport_Yes                          bool\n",
       "StreamingTV_No Service                   bool\n",
       "StreamingTV_Yes                          bool\n",
       "StreamingMovies_No Service               bool\n",
       "StreamingMovies_Yes                      bool\n",
       "dtype: object"
      ]
     },
     "metadata": {},
     "output_type": "display_data"
    }
   ],
   "source": [
    "display(data.head())\n",
    "\n",
    "# Check for missing values\n",
    "print(\"Missing Values:\")\n",
    "display(data.isnull().sum())\n",
    "\n",
    "# Check for duplicate entries\n",
    "duplicates = data.duplicated().sum()\n",
    "print(f\"Number of duplicate entries: {duplicates}\")\n",
    "\n",
    "# Check data types\n",
    "print(\"Data Types:\")\n",
    "display(data.dtypes)\n"
   ]
  },
  {
   "cell_type": "markdown",
   "id": "ab5f2895-437f-455c-b7db-7b76fdf6a825",
   "metadata": {},
   "source": [
    "## Exploratory Data Analysis (EDA)"
   ]
  },
  {
   "cell_type": "markdown",
   "id": "5de5d8e8-e439-4f57-9810-3c22f63435b5",
   "metadata": {},
   "source": [
    "### Analyze the Target Variable Distribution"
   ]
  },
  {
   "cell_type": "code",
   "execution_count": 19,
   "id": "68f704b7-9ab7-4111-ac3f-1c861518699b",
   "metadata": {},
   "outputs": [
    {
     "data": {
      "image/png": "[encoded data removed]",
      "text/plain": [
       "<Figure size 600x400 with 1 Axes>"
      ]
     },
     "metadata": {},
     "output_type": "display_data"
    }
   ],
   "source": [
    "# Analyze the distribution of the churn variable\n",
    "plt.figure(figsize=(6, 4))\n",
    "sns.countplot(x='churn', data=data)\n",
    "plt.title('Distribution of Churn')\n",
    "plt.xlabel('Churn (0 = No, 1 = Yes)')\n",
    "plt.ylabel('Number of Customers')\n",
    "plt.show()"
   ]
  },
  {
   "cell_type": "markdown",
   "id": "ec7d760a-7eb3-4ac9-af21-3c39534765c9",
   "metadata": {},
   "source": [
    "<b>Churn Distribution:</b> There's a clear imbalance in the dataset with a significantly higher number of customers not churning (Churn = 0) compared to those who do churn (Churn = 1). This imbalance is common in churn datasets but requires specific handling techniques during model training to ensure that the minority class is appropriately represented."
   ]
  },
  {
   "cell_type": "markdown",
   "id": "60385a44-b14d-43e7-b8a7-610e8eba828c",
   "metadata": {},
   "source": [
    "### Analyze Numerical Features"
   ]
  },
  {
   "cell_type": "code",
   "execution_count": 22,
   "id": "50ee00f4-81eb-40bb-8424-9fe5c5aa4650",
   "metadata": {
    "scrolled": true
   },
   "outputs": [
    {
     "name": "stderr",
     "output_type": "stream",
     "text": [
      "C:\\Users\\Brian4\\anaconda3\\Lib\\site-packages\\seaborn\\_oldcore.py:1119: FutureWarning: use_inf_as_na option is deprecated and will be removed in a future version. Convert inf values to NaN before operating instead.\n",
      "  with pd.option_context('mode.use_inf_as_na', True):\n",
      "C:\\Users\\Brian4\\anaconda3\\Lib\\site-packages\\seaborn\\_oldcore.py:1119: FutureWarning: use_inf_as_na option is deprecated and will be removed in a future version. Convert inf values to NaN before operating instead.\n",
      "  with pd.option_context('mode.use_inf_as_na', True):\n",
      "C:\\Users\\Brian4\\anaconda3\\Lib\\site-packages\\seaborn\\_oldcore.py:1119: FutureWarning: use_inf_as_na option is deprecated and will be removed in a future version. Convert inf values to NaN before operating instead.\n",
      "  with pd.option_context('mode.use_inf_as_na', True):\n"
     ]
    },
    {
     "data": {
      "image/png": "[encoded data removed]",
      "text/plain": [
       "<Figure size 1500x500 with 3 Axes>"
      ]
     },
     "metadata": {},
     "output_type": "display_data"
    },
    {
     "data": {
      "image/png": "[encoded data removed]",
      "text/plain": [
       "<Figure size 1500x500 with 3 Axes>"
      ]
     },
     "metadata": {},
     "output_type": "display_data"
    }
   ],
   "source": [
    "# Histograms for numerical features\n",
    "numerical_features = ['MonthlyCharges', 'tenure', 'TotalCharges']\n",
    "\n",
    "plt.figure(figsize=(15, 5))\n",
    "for i, col in enumerate(numerical_features):\n",
    "    plt.subplot(1, 3, i+1)\n",
    "    sns.histplot(data[col], kde=True, bins=30)\n",
    "    plt.title(f'Distribution of {col}')\n",
    "plt.tight_layout()\n",
    "plt.show()\n",
    "\n",
    "# Box plots for numerical features to check for outliers\n",
    "plt.figure(figsize=(15, 5))\n",
    "for i, col in enumerate(numerical_features):\n",
    "    plt.subplot(1, 3, i+1)\n",
    "    sns.boxplot(y=data[col])\n",
    "    plt.title(f'Outliers in {col}')\n",
    "plt.tight_layout()\n",
    "plt.show()"
   ]
  },
  {
   "cell_type": "markdown",
   "id": "a61a929a-581f-4f8e-a15b-9e95e8b6d819",
   "metadata": {},
   "source": [
    "<b>Distribution of Numerical Features</b>\n",
    "\n",
    "- <b>Monthly Charges:</b> The distribution shows a bimodal behavior with two peaks, which suggests different groups of customers based on the monthly charges they incur. This could be reflecting different service packages or customer preferences.\n",
    "\n",
    "- <b>Tenure:</b> The distribution is somewhat uniform but with spikes at the beginning and end. A high number of new customers and those with long tenure might indicate loyal customers along with a constant inflow of new customers. The spike at the lower end could represent customers who leave the service early, indicating potential issues in customer retention.\n",
    "\n",
    "- <b>Total Charges:</b> Skewed to the right, indicating that most customers have lower cumulative charges, consistent with a high turnover among newer subscribers or those with lower service plans.\n",
    "\n",
    "<b>Boxplots of Numerical Features</b>\n",
    "\n",
    "- <b>Monthly Charges:</b> Few outliers, suggesting that most customers fall within a predictable range of monthly spending.\n",
    "\n",
    "- <b>Tenure and Total Charges:</b> Outliers in both these features suggest variations in customer lifecycle and spending that could be significant for understanding different customer behaviors."
   ]
  },
  {
   "cell_type": "markdown",
   "id": "7bcfe470-7987-4ab4-a6ce-209963a20e8f",
   "metadata": {},
   "source": [
    "### Analyze Categorical Features"
   ]
  },
  {
   "cell_type": "code",
   "execution_count": 25,
   "id": "c9dbfe98-ce0a-4486-989b-483ac51cee20",
   "metadata": {},
   "outputs": [
    {
     "data": {
      "image/png": "[encoded data removed]",
      "text/plain": [
       "<Figure size 1500x1000 with 4 Axes>"
      ]
     },
     "metadata": {},
     "output_type": "display_data"
    }
   ],
   "source": [
    "# Categorical features analysis\n",
    "categorical_features = data.select_dtypes(include=['object', 'category']).columns.tolist()\n",
    "categorical_features.remove('customerID')  # Exclude the customerID\n",
    "\n",
    "plt.figure(figsize=(15, 10))\n",
    "for i, feature in enumerate(categorical_features):\n",
    "    plt.subplot(3, 4, i + 1)\n",
    "    sns.countplot(y=feature, data=data)\n",
    "    plt.title(f'Distribution of {feature}')\n",
    "    plt.tight_layout()\n",
    "plt.show()\n"
   ]
  },
  {
   "cell_type": "markdown",
   "id": "20f6f96a-b5c0-4dd4-b28b-66bf221d9e93",
   "metadata": {},
   "source": [
    "<b>Distribution of Categorical Features</b>\n",
    "\n",
    "- <b>Contract Type:</b> Most customers are on month-to-month plans, indicating potentially higher churn rates as these plans typically offer less stability in customer retention compared to one-year or two-year contracts.\n",
    "- <b>Payment Method:</b> The dominant method is electronic check, which might indicate a younger or more tech-savvy demographic. Different payment methods might impact churn due to convenience or financial management preferences.\n",
    "- <b>Internet Service:</b> A significant number of customers use DSL or Fiber optic services. The choice of internet service can significantly affect customer satisfaction and churn, depending on the quality and reliability of the service.\n",
    "- <b>Multiple Lines:</b> Almost a 50/50 split between customers with and without multiple lines, indicating diverse needs and possibly different family or business uses within the customer base."
   ]
  },
  {
   "cell_type": "markdown",
   "id": "5190e91c-be83-4c82-b7d5-fd2314f81213",
   "metadata": {},
   "source": [
    "## Model Training "
   ]
  },
  {
   "cell_type": "markdown",
   "id": "2a340309-9a96-4c1c-9833-8c6aabc1a4f0",
   "metadata": {},
   "source": [
    "### Model Data Preprocessing "
   ]
  },
  {
   "cell_type": "code",
   "execution_count": 29,
   "id": "c800c558-9b61-43a3-a51d-c8f6bd2c60ee",
   "metadata": {},
   "outputs": [
    {
     "name": "stdout",
     "output_type": "stream",
     "text": [
      "Data types after adjustments:\n",
      "customerID                                object\n",
      "PaperlessBilling                           int32\n",
      "MonthlyCharges                           float64\n",
      "TotalCharges                             float64\n",
      "gender                                     int32\n",
      "SeniorCitizen                              int64\n",
      "Partner                                    int32\n",
      "Dependents                                 int32\n",
      "churn                                      int32\n",
      "tenure                                   float64\n",
      "OnlineSecurity_No Service                  int32\n",
      "OnlineSecurity_Yes                         int32\n",
      "OnlineBackup_No Service                    int32\n",
      "OnlineBackup_Yes                           int32\n",
      "DeviceProtection_No Service                int32\n",
      "DeviceProtection_Yes                       int32\n",
      "TechSupport_No Service                     int32\n",
      "TechSupport_Yes                            int32\n",
      "StreamingTV_No Service                     int32\n",
      "StreamingTV_Yes                            int32\n",
      "StreamingMovies_No Service                 int32\n",
      "StreamingMovies_Yes                        int32\n",
      "Type_One year                              int32\n",
      "Type_Two year                              int32\n",
      "PaymentMethod_Credit card (automatic)      int32\n",
      "PaymentMethod_Electronic check             int32\n",
      "PaymentMethod_Mailed check                 int32\n",
      "InternetService_Fiber optic                int32\n",
      "InternetService_No Service                 int32\n",
      "MultipleLines_No Service                   int32\n",
      "MultipleLines_Yes                          int32\n",
      "dtype: object\n"
     ]
    }
   ],
   "source": [
    "# Drop 'EndDate' \n",
    "data.drop(columns=['EndDate', 'BeginDate'], inplace=True)\n",
    "\n",
    "# Handle missing values\n",
    "data['InternetService'] = data['InternetService'].fillna('No Service')\n",
    "data['MultipleLines'] = data['MultipleLines'].fillna('No Service')\n",
    "\n",
    "# One-hot encode categorical columns\n",
    "additional_categoricals = ['Type', 'PaymentMethod', 'InternetService', 'MultipleLines']\n",
    "data = pd.get_dummies(data, columns=additional_categoricals, drop_first=True)\n",
    "\n",
    "# Convert boolean to int\n",
    "boolean_columns = [col for col in data.columns if data[col].dtype == bool]\n",
    "data[boolean_columns] = data[boolean_columns].astype(int)\n",
    "\n",
    "# Confirm changes\n",
    "print(\"Data types after adjustments:\")\n",
    "print(data.dtypes)\n"
   ]
  },
  {
   "cell_type": "markdown",
   "id": "91bd6303-c2b0-4397-a20a-188ca5409ab9",
   "metadata": {},
   "source": [
    "### Spliting Data"
   ]
  },
  {
   "cell_type": "code",
   "execution_count": 31,
   "id": "81fa8a87-468b-4803-a6bd-2dd415543d7a",
   "metadata": {},
   "outputs": [
    {
     "name": "stdout",
     "output_type": "stream",
     "text": [
      "Training set size: (5634, 28)\n",
      "Testing set size: (1409, 28)\n"
     ]
    }
   ],
   "source": [
    "\n",
    "# Define features and target\n",
    "X = data.drop(['customerID', 'churn', 'tenure'], axis=1)  \n",
    "y = data['churn']\n",
    "\n",
    "# Split the data into training and test sets\n",
    "X_train, X_test, y_train, y_test = train_test_split(X, y, test_size=0.2, random_state=42)\n",
    "\n",
    "print(f\"Training set size: {X_train.shape}\")\n",
    "print(f\"Testing set size: {X_test.shape}\")\n"
   ]
  },
  {
   "cell_type": "markdown",
   "id": "f256dda6-78fe-4ffb-bfc7-bf988aa7c95f",
   "metadata": {},
   "source": [
    "### Base Model (Logistic Regression) "
   ]
  },
  {
   "cell_type": "code",
   "execution_count": 33,
   "id": "8913da02-2fa3-4a0a-887c-a3f69fdf3b34",
   "metadata": {},
   "outputs": [
    {
     "name": "stdout",
     "output_type": "stream",
     "text": [
      "Logistic Regression AUC-ROC: 0.8546702102332129\n",
      "Logistic Regression Accuracy: 0.8183108587650816\n"
     ]
    }
   ],
   "source": [
    "# Initialize and train logistic regression model\n",
    "log_reg = LogisticRegression(max_iter=1000, random_state=42)\n",
    "log_reg.fit(X_train, y_train)\n",
    "\n",
    "# Predict on the test set\n",
    "y_pred = log_reg.predict(X_test)\n",
    "y_pred_proba = log_reg.predict_proba(X_test)[:, 1]\n",
    "\n",
    "# Evaluate the model\n",
    "log_reg_auc = roc_auc_score(y_test, y_pred_proba)\n",
    "log_reg_accuracy = accuracy_score(y_test, y_pred)\n",
    "\n",
    "print(f\"Logistic Regression AUC-ROC: {log_reg_auc}\")\n",
    "print(f\"Logistic Regression Accuracy: {log_reg_accuracy}\")"
   ]
  },
  {
   "cell_type": "markdown",
   "id": "1944b053-bcc6-4aa5-94cc-671afd522279",
   "metadata": {},
   "source": [
    "### Random Forest Model"
   ]
  },
  {
   "cell_type": "code",
   "execution_count": 35,
   "id": "9b141748-337a-4cb9-81b5-a123a4167132",
   "metadata": {},
   "outputs": [
    {
     "name": "stdout",
     "output_type": "stream",
     "text": [
      "Random Forest Best Params: {'max_depth': 10, 'min_samples_leaf': 2, 'min_samples_split': 5, 'n_estimators': 200}\n",
      "Random Forest AUC-ROC: 0.8625707764447711\n",
      "Random Forest Accuracy: 0.8026969481902059\n"
     ]
    }
   ],
   "source": [
    "# Set up GridSearchCV for Random Forest\n",
    "param_grid_rf = {\n",
    "    'n_estimators': [100, 200],\n",
    "    'max_depth': [10, 20, None],\n",
    "    'min_samples_split': [2, 5],\n",
    "    'min_samples_leaf': [1, 2]\n",
    "}\n",
    "rf = RandomForestClassifier(random_state=42)\n",
    "grid_search_rf = GridSearchCV(rf, param_grid_rf, cv=5, scoring='roc_auc', n_jobs=-1)\n",
    "grid_search_rf.fit(X_train, y_train)\n",
    "\n",
    "# Evaluate Random Forest\n",
    "best_rf = grid_search_rf.best_estimator_\n",
    "y_pred_rf = best_rf.predict(X_test)\n",
    "y_pred_proba_rf = best_rf.predict_proba(X_test)[:, 1]\n",
    "\n",
    "rf_auc = roc_auc_score(y_test, y_pred_proba_rf)\n",
    "rf_accuracy = accuracy_score(y_test, y_pred_rf)\n",
    "\n",
    "print(f\"Random Forest Best Params: {grid_search_rf.best_params_}\")\n",
    "print(f\"Random Forest AUC-ROC: {rf_auc}\")\n",
    "print(f\"Random Forest Accuracy: {rf_accuracy}\")"
   ]
  },
  {
   "cell_type": "markdown",
   "id": "c9a1772d-2313-4693-bbcc-d4ae30234b9e",
   "metadata": {},
   "source": [
    "### Gradient Boosting Model"
   ]
  },
  {
   "cell_type": "code",
   "execution_count": 37,
   "id": "c3ee6676-9caf-4a46-b842-5bfec9c9cef2",
   "metadata": {
    "scrolled": true
   },
   "outputs": [
    {
     "name": "stdout",
     "output_type": "stream",
     "text": [
      "Gradient Boosting Best Params: {'learning_rate': 0.1, 'max_depth': 3, 'n_estimators': 100}\n",
      "Gradient Boosting AUC-ROC: 0.8624569130601301\n",
      "Gradient Boosting Accuracy: 0.8140525195173882\n"
     ]
    }
   ],
   "source": [
    "# Set up GridSearchCV for Gradient Boosting\n",
    "param_grid_gb = {\n",
    "    'n_estimators': [100, 200],\n",
    "    'learning_rate': [0.01, 0.1],\n",
    "    'max_depth': [3, 5]\n",
    "}\n",
    "gb = GradientBoostingClassifier(random_state=42)\n",
    "grid_search_gb = GridSearchCV(gb, param_grid_gb, cv=5, scoring='roc_auc', n_jobs=-1)\n",
    "grid_search_gb.fit(X_train, y_train)\n",
    "\n",
    "# Evaluate Gradient Boosting\n",
    "best_gb = grid_search_gb.best_estimator_\n",
    "y_pred_gb = best_gb.predict(X_test)\n",
    "y_pred_proba_gb = best_gb.predict_proba(X_test)[:, 1]\n",
    "\n",
    "gb_auc = roc_auc_score(y_test, y_pred_proba_gb)\n",
    "gb_accuracy = accuracy_score(y_test, y_pred_gb)\n",
    "\n",
    "print(f\"Gradient Boosting Best Params: {grid_search_gb.best_params_}\")\n",
    "print(f\"Gradient Boosting AUC-ROC: {gb_auc}\")\n",
    "print(f\"Gradient Boosting Accuracy: {gb_accuracy}\")"
   ]
  },
  {
   "cell_type": "markdown",
   "id": "5ad6b6cb-f5e5-4497-ba7c-8af1d15604ab",
   "metadata": {},
   "source": [
    "Both Random Forest and Gradient Boosting demonstrated robust performance, significantly exceeding our initial AUC-ROC target of 0.75. They performed similarly in terms of AUC-ROC, but the Gradient Boosting model provided a slightly higher accuracy."
   ]
  },
  {
   "cell_type": "markdown",
   "id": "fa6bebe4-4e04-4ad9-aa3c-28ee08979698",
   "metadata": {},
   "source": [
    "# Solution Report "
   ]
  },
  {
   "cell_type": "markdown",
   "id": "6aeba996-221f-488b-a1da-7ee0eb6603f4",
   "metadata": {},
   "source": [
    "<b>Steps of the Work Plan Performed:</b>\n",
    "\n",
    "Step 1: Understanding the data was completed while taking into account the proposed changes of the work plan. All proposed changes were necessary and implemented for the model. \n",
    "\n",
    "Step 2: Through exploratory data analysis (EDA), significant insights were gathered regarding the distribution of churn, the impact of various service features, and customer demographics.\n",
    "\n",
    "Step 3: Cleaned and prepared the data for model training by handling missing values and duplicates, encoding categorical features, and scaling numerical features\n",
    "\n",
    "Step 4: Developed and evaluted three models. Linear Regression, Random Forest and Gradient Boodsting\n",
    "\n",
    "Step 5: Highlight actionable insights for the business: Key features influencing churn, such as contract type, payment method, and service options, were identified. These insights are valuable for tailoring customer retention strategies.\n",
    "\n",
    "Step 6: Detail the model's performance metrics (AUC-ROC and accuracy): Both the Random Forest and Gradient Boosting models were evaluated, and their performance metrics were thoroughly reported. The models were optimized using GridSearchCV, and the results showed strong performance, particularly with the Gradient Boosting model, which exceeded the initial AUC-ROC target.\n",
    "\n",
    "\n",
    "<b>Steps Skipped</b>\n",
    "\n",
    "All the primary steps outlined in the work plan were addressed.\n",
    "\n",
    "<b>Difficulties Encountered and Solutions</b>\n",
    "\n",
    "Data Leakage: While traning the models initially, the tenure column was included in the dataset resulting in a perfect AUC-ROC and accuracy score. To address this data leakage I removed the tenure feature from the data so that the model could not access any information about the target feature.\n",
    "\n",
    "<b>Key Steps to Solving the Task</b>\n",
    "\n",
    "Preprocessing and Feature Engineering: Ensuring data quality, handling missing data effectively, and engineering relevant features were crucial steps that set the foundation for successful model training.\n",
    "\n",
    "Comprehensive Model Evaluation: Employing both AUC-ROC and accuracy metrics provided a balanced view of the models’ performance, ensuring the selected model performed well across different aspects of the prediction task.\n",
    "\n",
    "Effective Use of Machine Learning Techniques: The use of advanced algorithms like Gradient Boosting and Random Forest, along with methodical hyperparameter tuning, was key to developing a highly effective predictive model.\n",
    "\n",
    "<b>Final Model and Quality Score</b>\n",
    "\n",
    "Final Model: The Gradient Boosting model was selected as the final model due to its slightly better performance metrics compared to Random Forest.\n",
    "\n",
    "Quality Score: The Gradient Boosting model achieved an AUC-ROC of 0.8625 and an accuracy of 81.41%. These scores are excellent for churn prediction tasks, indicating a high degree of predictive accuracy and the model’s strong capability to differentiate between the churn and non-churn classes.\n",
    "In conclusion, the project effectively met the objectives set out in the work plan by utilizing data-driven insights and  analytical techniques to develop a predictive model that can significantly aid in reducing customer churn. "
   ]
  },
  {
   "cell_type": "code",
   "execution_count": null,
   "id": "21e17260-bb1e-48a8-8c28-64d38247d318",
   "metadata": {},
   "outputs": [],
   "source": []
  }
 ],
 "metadata": {
  "kernelspec": {
   "display_name": "Python 3 (ipykernel)",
   "language": "python",
   "name": "python3"
  },
  "language_info": {
   "codemirror_mode": {
    "name": "ipython",
    "version": 3
   },
   "file_extension": ".py",
   "mimetype": "text/x-python",
   "name": "python",
   "nbconvert_exporter": "python",
   "pygments_lexer": "ipython3",
   "version": "3.11.7"
  }
 },
 "nbformat": 4,
 "nbformat_minor": 5
}
