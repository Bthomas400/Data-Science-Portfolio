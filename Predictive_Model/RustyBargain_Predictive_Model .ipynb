{
 "cells": [
  {
   "cell_type": "markdown",
   "metadata": {},
   "source": [
    "# Rusty Bargain Predictive Model"
   ]
  },
  {
   "cell_type": "markdown",
   "metadata": {},
   "source": [
    "Rusty Bargain used car sales service is developing an app to attract new customers. In that app, you can quickly find out the market value of your car. With access to historical data: technical specifications, trim versions, and prices. We build the model to determine the value. \n",
    "\n",
    "Rusty Bargain is interested in:\n",
    "\n",
    "- the quality of the prediction;\n",
    "- the speed of the prediction;\n",
    "- the time required for training"
   ]
  },
  {
   "cell_type": "markdown",
   "metadata": {},
   "source": [
    "## Import Libraries "
   ]
  },
  {
   "cell_type": "code",
   "execution_count": 1,
   "metadata": {},
   "outputs": [],
   "source": [
    "import pandas as pd\n",
    "import numpy as np\n",
    "import matplotlib.pyplot as plt\n",
    "import seaborn as sns\n",
    "from sklearn.model_selection import GridSearchCV\n",
    "from sklearn.model_selection import train_test_split\n",
    "from sklearn.preprocessing import StandardScaler, OneHotEncoder\n",
    "from sklearn.metrics import mean_squared_error\n",
    "from sklearn.tree import DecisionTreeRegressor\n",
    "from sklearn.linear_model import LinearRegression\n",
    "from sklearn.ensemble import RandomForestRegressor\n",
    "from lightgbm import LGBMRegressor\n",
    "\n",
    "import time"
   ]
  },
  {
   "cell_type": "markdown",
   "metadata": {},
   "source": [
    "## Data preparation"
   ]
  },
  {
   "cell_type": "code",
   "execution_count": 2,
   "metadata": {},
   "outputs": [],
   "source": [
    "# Load the dataset\n",
    "df = pd.read_csv('/datasets/car_data.csv')"
   ]
  },
  {
   "cell_type": "code",
   "execution_count": 3,
   "metadata": {
    "scrolled": true
   },
   "outputs": [
    {
     "data": {
      "text/html": [
       "<div>\n",
       "<style scoped>\n",
       "    .dataframe tbody tr th:only-of-type {\n",
       "        vertical-align: middle;\n",
       "    }\n",
       "\n",
       "    .dataframe tbody tr th {\n",
       "        vertical-align: top;\n",
       "    }\n",
       "\n",
       "    .dataframe thead th {\n",
       "        text-align: right;\n",
       "    }\n",
       "</style>\n",
       "<table border=\"1\" class=\"dataframe\">\n",
       "  <thead>\n",
       "    <tr style=\"text-align: right;\">\n",
       "      <th></th>\n",
       "      <th>DateCrawled</th>\n",
       "      <th>Price</th>\n",
       "      <th>VehicleType</th>\n",
       "      <th>RegistrationYear</th>\n",
       "      <th>Gearbox</th>\n",
       "      <th>Power</th>\n",
       "      <th>Model</th>\n",
       "      <th>Mileage</th>\n",
       "      <th>RegistrationMonth</th>\n",
       "      <th>FuelType</th>\n",
       "      <th>Brand</th>\n",
       "      <th>NotRepaired</th>\n",
       "      <th>DateCreated</th>\n",
       "      <th>NumberOfPictures</th>\n",
       "      <th>PostalCode</th>\n",
       "      <th>LastSeen</th>\n",
       "    </tr>\n",
       "  </thead>\n",
       "  <tbody>\n",
       "    <tr>\n",
       "      <th>0</th>\n",
       "      <td>24/03/2016 11:52</td>\n",
       "      <td>480</td>\n",
       "      <td>NaN</td>\n",
       "      <td>1993</td>\n",
       "      <td>manual</td>\n",
       "      <td>0</td>\n",
       "      <td>golf</td>\n",
       "      <td>150000</td>\n",
       "      <td>0</td>\n",
       "      <td>petrol</td>\n",
       "      <td>volkswagen</td>\n",
       "      <td>NaN</td>\n",
       "      <td>24/03/2016 00:00</td>\n",
       "      <td>0</td>\n",
       "      <td>70435</td>\n",
       "      <td>07/04/2016 03:16</td>\n",
       "    </tr>\n",
       "    <tr>\n",
       "      <th>1</th>\n",
       "      <td>24/03/2016 10:58</td>\n",
       "      <td>18300</td>\n",
       "      <td>coupe</td>\n",
       "      <td>2011</td>\n",
       "      <td>manual</td>\n",
       "      <td>190</td>\n",
       "      <td>NaN</td>\n",
       "      <td>125000</td>\n",
       "      <td>5</td>\n",
       "      <td>gasoline</td>\n",
       "      <td>audi</td>\n",
       "      <td>yes</td>\n",
       "      <td>24/03/2016 00:00</td>\n",
       "      <td>0</td>\n",
       "      <td>66954</td>\n",
       "      <td>07/04/2016 01:46</td>\n",
       "    </tr>\n",
       "    <tr>\n",
       "      <th>2</th>\n",
       "      <td>14/03/2016 12:52</td>\n",
       "      <td>9800</td>\n",
       "      <td>suv</td>\n",
       "      <td>2004</td>\n",
       "      <td>auto</td>\n",
       "      <td>163</td>\n",
       "      <td>grand</td>\n",
       "      <td>125000</td>\n",
       "      <td>8</td>\n",
       "      <td>gasoline</td>\n",
       "      <td>jeep</td>\n",
       "      <td>NaN</td>\n",
       "      <td>14/03/2016 00:00</td>\n",
       "      <td>0</td>\n",
       "      <td>90480</td>\n",
       "      <td>05/04/2016 12:47</td>\n",
       "    </tr>\n",
       "    <tr>\n",
       "      <th>3</th>\n",
       "      <td>17/03/2016 16:54</td>\n",
       "      <td>1500</td>\n",
       "      <td>small</td>\n",
       "      <td>2001</td>\n",
       "      <td>manual</td>\n",
       "      <td>75</td>\n",
       "      <td>golf</td>\n",
       "      <td>150000</td>\n",
       "      <td>6</td>\n",
       "      <td>petrol</td>\n",
       "      <td>volkswagen</td>\n",
       "      <td>no</td>\n",
       "      <td>17/03/2016 00:00</td>\n",
       "      <td>0</td>\n",
       "      <td>91074</td>\n",
       "      <td>17/03/2016 17:40</td>\n",
       "    </tr>\n",
       "    <tr>\n",
       "      <th>4</th>\n",
       "      <td>31/03/2016 17:25</td>\n",
       "      <td>3600</td>\n",
       "      <td>small</td>\n",
       "      <td>2008</td>\n",
       "      <td>manual</td>\n",
       "      <td>69</td>\n",
       "      <td>fabia</td>\n",
       "      <td>90000</td>\n",
       "      <td>7</td>\n",
       "      <td>gasoline</td>\n",
       "      <td>skoda</td>\n",
       "      <td>no</td>\n",
       "      <td>31/03/2016 00:00</td>\n",
       "      <td>0</td>\n",
       "      <td>60437</td>\n",
       "      <td>06/04/2016 10:17</td>\n",
       "    </tr>\n",
       "  </tbody>\n",
       "</table>\n",
       "</div>"
      ],
      "text/plain": [
       "        DateCrawled  Price VehicleType  RegistrationYear Gearbox  Power  \\\n",
       "0  24/03/2016 11:52    480         NaN              1993  manual      0   \n",
       "1  24/03/2016 10:58  18300       coupe              2011  manual    190   \n",
       "2  14/03/2016 12:52   9800         suv              2004    auto    163   \n",
       "3  17/03/2016 16:54   1500       small              2001  manual     75   \n",
       "4  31/03/2016 17:25   3600       small              2008  manual     69   \n",
       "\n",
       "   Model  Mileage  RegistrationMonth  FuelType       Brand NotRepaired  \\\n",
       "0   golf   150000                  0    petrol  volkswagen         NaN   \n",
       "1    NaN   125000                  5  gasoline        audi         yes   \n",
       "2  grand   125000                  8  gasoline        jeep         NaN   \n",
       "3   golf   150000                  6    petrol  volkswagen          no   \n",
       "4  fabia    90000                  7  gasoline       skoda          no   \n",
       "\n",
       "        DateCreated  NumberOfPictures  PostalCode          LastSeen  \n",
       "0  24/03/2016 00:00                 0       70435  07/04/2016 03:16  \n",
       "1  24/03/2016 00:00                 0       66954  07/04/2016 01:46  \n",
       "2  14/03/2016 00:00                 0       90480  05/04/2016 12:47  \n",
       "3  17/03/2016 00:00                 0       91074  17/03/2016 17:40  \n",
       "4  31/03/2016 00:00                 0       60437  06/04/2016 10:17  "
      ]
     },
     "execution_count": 3,
     "metadata": {},
     "output_type": "execute_result"
    }
   ],
   "source": [
    "# Display the first few rows\n",
    "df.head()\n"
   ]
  },
  {
   "cell_type": "markdown",
   "metadata": {},
   "source": [
    " We rename the colums to make the code look more consistent with its style."
   ]
  },
  {
   "cell_type": "code",
   "execution_count": 4,
   "metadata": {},
   "outputs": [],
   "source": [
    "df = df.rename(columns={'DateCrawled':'date_crawled', 'Price':'price', 'VehicleType':'vehicle_type', 'RegistrationYear':'registration_year', 'Gearbox':'gearbox', 'Power':'power', 'Model':'model', 'Mileage':'mileage', 'RegistrationMonth':'registration_month', 'FuelType':'fuel_type','Brand':'brand', 'NotRepaired':'not_repaired','DateCreated':'date_created','NumberOfPictures':'number_of_pictures', 'PostalCode':'postal_code', 'LastSeen':'last_seen'})"
   ]
  },
  {
   "cell_type": "code",
   "execution_count": 5,
   "metadata": {
    "scrolled": true
   },
   "outputs": [
    {
     "name": "stdout",
     "output_type": "stream",
     "text": [
      "<class 'pandas.core.frame.DataFrame'>\n",
      "RangeIndex: 354369 entries, 0 to 354368\n",
      "Data columns (total 16 columns):\n",
      " #   Column              Non-Null Count   Dtype \n",
      "---  ------              --------------   ----- \n",
      " 0   date_crawled        354369 non-null  object\n",
      " 1   price               354369 non-null  int64 \n",
      " 2   vehicle_type        316879 non-null  object\n",
      " 3   registration_year   354369 non-null  int64 \n",
      " 4   gearbox             334536 non-null  object\n",
      " 5   power               354369 non-null  int64 \n",
      " 6   model               334664 non-null  object\n",
      " 7   mileage             354369 non-null  int64 \n",
      " 8   registration_month  354369 non-null  int64 \n",
      " 9   fuel_type           321474 non-null  object\n",
      " 10  brand               354369 non-null  object\n",
      " 11  not_repaired        283215 non-null  object\n",
      " 12  date_created        354369 non-null  object\n",
      " 13  number_of_pictures  354369 non-null  int64 \n",
      " 14  postal_code         354369 non-null  int64 \n",
      " 15  last_seen           354369 non-null  object\n",
      "dtypes: int64(7), object(9)\n",
      "memory usage: 43.3+ MB\n"
     ]
    }
   ],
   "source": [
    "# Summary of the dataset\n",
    "df.info()\n"
   ]
  },
  {
   "cell_type": "code",
   "execution_count": 6,
   "metadata": {},
   "outputs": [
    {
     "data": {
      "text/plain": [
       "(date_crawled              0\n",
       " price                     0\n",
       " vehicle_type          37490\n",
       " registration_year         0\n",
       " gearbox               19833\n",
       " power                     0\n",
       " model                 19705\n",
       " mileage                   0\n",
       " registration_month        0\n",
       " fuel_type             32895\n",
       " brand                     0\n",
       " not_repaired          71154\n",
       " date_created              0\n",
       " number_of_pictures        0\n",
       " postal_code               0\n",
       " last_seen                 0\n",
       " dtype: int64,\n",
       " 262,\n",
       "                price  registration_year          power        mileage  \\\n",
       " count  354369.000000      354369.000000  354369.000000  354369.000000   \n",
       " mean     4416.656776        2004.234448     110.094337  128211.172535   \n",
       " std      4514.158514          90.227958     189.850405   37905.341530   \n",
       " min         0.000000        1000.000000       0.000000    5000.000000   \n",
       " 25%      1050.000000        1999.000000      69.000000  125000.000000   \n",
       " 50%      2700.000000        2003.000000     105.000000  150000.000000   \n",
       " 75%      6400.000000        2008.000000     143.000000  150000.000000   \n",
       " max     20000.000000        9999.000000   20000.000000  150000.000000   \n",
       " \n",
       "        registration_month  number_of_pictures    postal_code  \n",
       " count       354369.000000            354369.0  354369.000000  \n",
       " mean             5.714645                 0.0   50508.689087  \n",
       " std              3.726421                 0.0   25783.096248  \n",
       " min              0.000000                 0.0    1067.000000  \n",
       " 25%              3.000000                 0.0   30165.000000  \n",
       " 50%              6.000000                 0.0   49413.000000  \n",
       " 75%              9.000000                 0.0   71083.000000  \n",
       " max             12.000000                 0.0   99998.000000  )"
      ]
     },
     "execution_count": 6,
     "metadata": {},
     "output_type": "execute_result"
    }
   ],
   "source": [
    "# Check for missing values\n",
    "missing_values = df.isnull().sum()\n",
    "\n",
    "# Check for duplicate rows\n",
    "duplicate_rows = df.duplicated().sum()\n",
    "\n",
    "# Check for extreme values using summary statistics\n",
    "summary_stats = df.describe()\n",
    "\n",
    "missing_values, duplicate_rows, summary_stats"
   ]
  },
  {
   "cell_type": "markdown",
   "metadata": {},
   "source": [
    "<b>Missing Values:</b>\n",
    "The missing value analysis shows that some features have a significant number of missing values:\n",
    "\n",
    "- Vehicle Type: 37,490 missing entries.\n",
    "- Gearbox: 19,833 missing entries.\n",
    "- Model: 19,705 missing entries.\n",
    "- Fuel Type: 32,895 missing entries.\n",
    "- Not Repaired: 71,154 missing entries.\n",
    "\n",
    "<b>Duplicates:</b>\n",
    "There are 262 duplicate rows in the dataset. Duplicate rows could skew the model by over-representing certain vehicles. Removing them will ensure that the model's predictions are based on diverse data points without redundancy.\n",
    "\n",
    "<b>Descriptive Statistics:</b>\n",
    "The summary statistics for key features reveal the following:\n",
    "\n",
    "Price:\n",
    "\n",
    "- The minimum value is 0, which is not realistic for a car. These entries likely represent errors or outliers that need to be removed.\n",
    "- The maximum price is 20,000 Euros, which seems plausible for high-end or relatively new used cars.\n",
    "- Median price is 2,700 Euros, and the mean is 4,416 Euros, showing that prices are skewed towards the lower end.\n",
    "\n",
    "Power:\n",
    "\n",
    "- Power values range from 0 to 20,000 horsepower (hp), with an average of 110 hp.\n",
    "- Extremely high power values (e.g., 20,000 hp) are likely erroneous and need to be handled by capping or removing outliers.\n",
    "- The median power is 105 hp, aligning with realistic car power for common models.\n",
    "\n",
    "Registration Year:\n",
    "\n",
    "- The minimum registration year is 1000, which is clearly incorrect and unrealistic.\n",
    "- The maximum registration year is 9999, another unrealistic value.\n",
    "- A realistic range would likely be between 1950 and the current year, so filtering the data based on this range would help clean up extreme values.\n",
    "\n",
    "Mileage:\n",
    "\n",
    "- The mileage ranges from 5,000 km to 150,000 km, which seems reasonable for used cars.\n",
    "- The mean mileage is around 128,000 km, with a median value of 150,000 km, suggesting most cars have substantial usage.\n",
    "\n",
    "Registration Month:\n",
    "\n",
    "- The RegistrationMonth has a normal distribution from 1 to 12, representing valid months.\n",
    "\n",
    "Number of Pictures:\n",
    "\n",
    "- The NumberOfPictures column contains only zeros. Since it has no variance, it does not provide useful information for the model and should be dropped from the dataset."
   ]
  },
  {
   "cell_type": "markdown",
   "metadata": {},
   "source": [
    "### Data Cleaning and Feature Engineering"
   ]
  },
  {
   "cell_type": "code",
   "execution_count": 7,
   "metadata": {},
   "outputs": [],
   "source": [
    "# Drop irrelevant columns\n",
    "df = df.drop(columns=['date_crawled', 'date_created', 'number_of_pictures', 'postal_code', 'last_seen'])\n",
    "\n",
    "#Drop duplicate rows\n",
    "df= df.drop_duplicates()\n",
    "\n",
    "# Handle missing values\n",
    "df['vehicle_type'] = df['vehicle_type'].fillna('unknown')\n",
    "df['gearbox'] = df['gearbox'].fillna('unknown')\n",
    "df['fuel_type'] = df['fuel_type'].fillna('unknown')\n",
    "df['not_repaired'] = df['not_repaired'].fillna('unknown')\n",
    "df['model']=df['model'].fillna('unknown')\n"
   ]
  },
  {
   "cell_type": "code",
   "execution_count": 8,
   "metadata": {},
   "outputs": [
    {
     "name": "stdout",
     "output_type": "stream",
     "text": [
      "<class 'pandas.core.frame.DataFrame'>\n",
      "Int64Index: 281491 entries, 1 to 354368\n",
      "Data columns (total 11 columns):\n",
      " #   Column              Non-Null Count   Dtype \n",
      "---  ------              --------------   ----- \n",
      " 0   price               281491 non-null  int64 \n",
      " 1   vehicle_type        281491 non-null  object\n",
      " 2   registration_year   281491 non-null  int64 \n",
      " 3   gearbox             281491 non-null  object\n",
      " 4   power               281491 non-null  int64 \n",
      " 5   model               281491 non-null  object\n",
      " 6   mileage             281491 non-null  int64 \n",
      " 7   registration_month  281491 non-null  int64 \n",
      " 8   fuel_type           281491 non-null  object\n",
      " 9   brand               281491 non-null  object\n",
      " 10  not_repaired        281491 non-null  object\n",
      "dtypes: int64(5), object(6)\n",
      "memory usage: 25.8+ MB\n"
     ]
    }
   ],
   "source": [
    "# Drop rows with missing target values\n",
    "df = df.dropna(subset=['price'])\n",
    "\n",
    "# Remove unrealistic data (e.g., negative or very high values)\n",
    "df = df[(df['price'] > 100) & (df['price'] < 100000)]\n",
    "df = df[(df['power'] > 0) & (df['power'] < 1000)]\n",
    "\n",
    "df.info()"
   ]
  },
  {
   "cell_type": "markdown",
   "metadata": {},
   "source": [
    "- We removed irrelevant columns, droped duplicate rows and filled missing values for categorical features with 'unknown'.\n",
    "\n",
    "\n",
    "- Additionally, we dropped rows with missing target (Price) values and removed any unrealistic entries (e.g., cars with 0 or excessive power or price)."
   ]
  },
  {
   "cell_type": "markdown",
   "metadata": {},
   "source": [
    "## Model training"
   ]
  },
  {
   "cell_type": "markdown",
   "metadata": {},
   "source": [
    "###  Feature Encoding and Splitting Data \n",
    "Now we will One-hot encode categorical features and split it into training and testing sets."
   ]
  },
  {
   "cell_type": "code",
   "execution_count": 9,
   "metadata": {},
   "outputs": [
    {
     "name": "stdout",
     "output_type": "stream",
     "text": [
      "(225192, 311) (56299, 311)\n"
     ]
    }
   ],
   "source": [
    "# Identify categorical and numerical features\n",
    "categorical_features = ['vehicle_type', 'gearbox', 'model', 'fuel_type', 'brand', 'not_repaired']\n",
    "numerical_features = ['registration_year', 'power', 'mileage', 'registration_month']\n",
    "\n",
    "# One-hot encode categorical features\n",
    "df_encoded = pd.get_dummies(df, columns=categorical_features, drop_first=True)\n",
    "\n",
    "# Split the data into features (X) and target (y)\n",
    "X = df_encoded.drop(columns=['price'])\n",
    "y = df_encoded['price']\n",
    "\n",
    "# Split the data into training (80%) and testing (20%) sets\n",
    "X_train, X_test, y_train, y_test = train_test_split(X, y, test_size=0.2, random_state=42)\n",
    "\n",
    "# Show the shapes of the split data\n",
    "print(X_train.shape, X_test.shape)"
   ]
  },
  {
   "cell_type": "markdown",
   "metadata": {},
   "source": [
    "We split the dataset into training (80%) and testing (20%) sets to allow us to train the models"
   ]
  },
  {
   "cell_type": "markdown",
   "metadata": {},
   "source": [
    "### Scaling Data\n",
    "We'll also scale numerical features for models that are sensitive to feature scaling."
   ]
  },
  {
   "cell_type": "code",
   "execution_count": 10,
   "metadata": {
    "scrolled": false
   },
   "outputs": [
    {
     "name": "stdout",
     "output_type": "stream",
     "text": [
      "        registration_year  power  mileage  registration_month\n",
      "110973               2003    163   150000                   4\n",
      "145369               2002     58   150000                   2\n",
      "34131                2005    140   150000                  10\n",
      "171827               2005    101   150000                  10\n",
      "46345                2003    150   150000                  12\n",
      "        registration_year  power  mileage  registration_month\n",
      "289599               2008    170   150000                   5\n",
      "310347               1993    150   150000                   7\n",
      "205383               2006    200   150000                   3\n",
      "28743                1998    101   150000                   7\n",
      "256769               2012     60    50000                   2\n"
     ]
    }
   ],
   "source": [
    "\n",
    "# Initialize the scaler\n",
    "scaler = StandardScaler()\n",
    "\n",
    "# Scale the numerical features for the training set\n",
    "X_train_scaled = X_train.copy()\n",
    "X_train_scaled.loc[:, numerical_features] = scaler.fit_transform(X_train[numerical_features])\n",
    "\n",
    "# Scale the numerical features for the testing set\n",
    "X_test_scaled = X_test.copy()\n",
    "X_test_scaled.loc[:, numerical_features] = scaler.transform(X_test[numerical_features])\n",
    "\n",
    "# Check if the scaling was applied correctly\n",
    "print(X_train[numerical_features].head())\n",
    "print(X_test[numerical_features].head())"
   ]
  },
  {
   "cell_type": "markdown",
   "metadata": {},
   "source": [
    "### Model Training and Evaluation\n",
    "We'll now train and evaluate different models. The models we'll use are:\n",
    "\n",
    "- Linear Regression (as a baseline)\n",
    "- Decision Tree\n",
    "- Random Forest\n",
    "- LightGBM"
   ]
  },
  {
   "cell_type": "markdown",
   "metadata": {},
   "source": [
    "#### Linear Regression "
   ]
  },
  {
   "cell_type": "code",
   "execution_count": 11,
   "metadata": {},
   "outputs": [
    {
     "name": "stdout",
     "output_type": "stream",
     "text": [
      "Linear Regression RMSE: 2843.142802791763\n",
      "CPU times: user 7.26 s, sys: 1.21 s, total: 8.47 s\n",
      "Wall time: 8.47 s\n"
     ]
    }
   ],
   "source": [
    "%%time\n",
    "# Initialize and train the Linear Regression model\n",
    "lr_model = LinearRegression()\n",
    "lr_model.fit(X_train, y_train)\n",
    "\n",
    "# Make predictions\n",
    "y_pred_lr = lr_model.predict(X_test)\n",
    "\n",
    "# Calculate RMSE for Linear Regression\n",
    "rmse_lr = np.sqrt(mean_squared_error(y_test, y_pred_lr))\n",
    "\n",
    "print(f\"Linear Regression RMSE: {rmse_lr}\")"
   ]
  },
  {
   "cell_type": "markdown",
   "metadata": {},
   "source": [
    "The high RMSE (2843.14) indicates that Linear Regression struggles to accurately capture the complexity of the data. \n",
    "\n",
    "This model underperforms compared to the others, reinforcing the need for more sophisticated algorithms for this prediction task."
   ]
  },
  {
   "cell_type": "markdown",
   "metadata": {},
   "source": [
    "#### Decision Tree"
   ]
  },
  {
   "cell_type": "code",
   "execution_count": 12,
   "metadata": {},
   "outputs": [
    {
     "name": "stdout",
     "output_type": "stream",
     "text": [
      "Decision Tree RMSE: 1980.0134983936096\n",
      "CPU times: user 2.55 s, sys: 149 ms, total: 2.7 s\n",
      "Wall time: 2.75 s\n"
     ]
    }
   ],
   "source": [
    "%%time\n",
    "# Initialize and train the Decision Tree model\n",
    "dt_model = DecisionTreeRegressor(max_depth=10, random_state=42)\n",
    "dt_model.fit(X_train, y_train)\n",
    "\n",
    "# Make predictions\n",
    "y_pred_dt = dt_model.predict(X_test)\n",
    "\n",
    "# Calculate RMSE for Decision Tree\n",
    "rmse_dt = np.sqrt(mean_squared_error(y_test, y_pred_dt))\n",
    "\n",
    "print(f\"Decision Tree RMSE: {rmse_dt}\")"
   ]
  },
  {
   "cell_type": "markdown",
   "metadata": {},
   "source": [
    "The RMSE reduction from 2843 (Linear Regression) to 1980 indicates that the Decision Tree can better account for interactions between features.\n",
    "\n",
    "However, this model is prone to overfitting, and limiting the tree depth (set to 10 in this case) helps control the model’s complexity and avoid overfitting."
   ]
  },
  {
   "cell_type": "markdown",
   "metadata": {},
   "source": [
    "#### Random Forest Regressor"
   ]
  },
  {
   "cell_type": "code",
   "execution_count": 13,
   "metadata": {},
   "outputs": [
    {
     "name": "stdout",
     "output_type": "stream",
     "text": [
      "Random Forest RMSE: 1893.882510031551\n",
      "CPU times: user 2min 42s, sys: 82.1 ms, total: 2min 42s\n",
      "Wall time: 2min 42s\n"
     ]
    }
   ],
   "source": [
    "%%time\n",
    "# Initialize and train the Random Forest model\n",
    "rf_model = RandomForestRegressor(n_estimators=100, max_depth=10, random_state=42)\n",
    "rf_model.fit(X_train, y_train)\n",
    "\n",
    "# Make predictions\n",
    "y_pred_rf = rf_model.predict(X_test)\n",
    "\n",
    "# Calculate RMSE for Random Forest\n",
    "rmse_rf = np.sqrt(mean_squared_error(y_test, y_pred_rf))\n",
    "\n",
    "print(f\"Random Forest RMSE: {rmse_rf}\")"
   ]
  },
  {
   "cell_type": "markdown",
   "metadata": {},
   "source": [
    "The RMSE further decreases to 1893.99, showing that Random Forest captures more patterns in the data than the Decision Tree.\n",
    "\n",
    "This model is more robust and generalizes better due to its ensemble nature, which makes it less prone to overfitting compared to a single Decision Tree."
   ]
  },
  {
   "cell_type": "markdown",
   "metadata": {},
   "source": [
    "#### LightGBM Regressor"
   ]
  },
  {
   "cell_type": "code",
   "execution_count": 14,
   "metadata": {},
   "outputs": [
    {
     "name": "stdout",
     "output_type": "stream",
     "text": [
      "LightGBM RMSE: 1699.7330752286382\n",
      "CPU times: user 4.05 s, sys: 150 ms, total: 4.2 s\n",
      "Wall time: 4.17 s\n"
     ]
    }
   ],
   "source": [
    "%%time\n",
    "# Initialize and train the LightGBM model\n",
    "lgb_model = LGBMRegressor(n_estimators=100, max_depth=10, random_state=42)\n",
    "lgb_model.fit(X_train, y_train)\n",
    "\n",
    "# Make predictions\n",
    "y_pred_lgb = lgb_model.predict(X_test)\n",
    "\n",
    "# Calculate RMSE for LightGBM\n",
    "rmse_lgb = np.sqrt(mean_squared_error(y_test, y_pred_lgb))\n",
    "\n",
    "print(f\"LightGBM RMSE: {rmse_lgb}\")\n"
   ]
  },
  {
   "cell_type": "markdown",
   "metadata": {},
   "source": [
    "LightGBM significantly outperforms all other models, achieving the lowest RMSE of 1695.99.\n",
    "It is optimized for speed and efficiency while also being able to handle large datasets and complex relationships between features."
   ]
  },
  {
   "cell_type": "markdown",
   "metadata": {},
   "source": [
    "## Hypertuning Models"
   ]
  },
  {
   "cell_type": "code",
   "execution_count": 15,
   "metadata": {},
   "outputs": [
    {
     "name": "stdout",
     "output_type": "stream",
     "text": [
      "Best parameters for Decision Tree: {'max_depth': 15, 'min_samples_leaf': 5, 'min_samples_split': 20}\n",
      "Best RMSE for Decision Tree: 1860.679519261277\n",
      "CPU times: user 2min 25s, sys: 8.07 s, total: 2min 33s\n",
      "Wall time: 2min 33s\n"
     ]
    }
   ],
   "source": [
    "%%time\n",
    "# Define hyperparameters to tune\n",
    "dt_params = {\n",
    "    'max_depth': [5, 10, 15],\n",
    "    'min_samples_split': [2, 10, 20],\n",
    "    'min_samples_leaf': [1, 5, 10]\n",
    "}\n",
    "\n",
    "# Initialize Decision Tree Regressor\n",
    "dt_model = DecisionTreeRegressor(random_state=42)\n",
    "\n",
    "# Initialize GridSearchCV for Decision Tree\n",
    "dt_grid = GridSearchCV(estimator=dt_model, param_grid=dt_params, cv=3, scoring='neg_mean_squared_error')\n",
    "\n",
    "# Fit the grid search model\n",
    "dt_grid.fit(X_train, y_train)\n",
    "\n",
    "# Best parameters and score\n",
    "print(f\"Best parameters for Decision Tree: {dt_grid.best_params_}\")\n",
    "print(f\"Best RMSE for Decision Tree: {np.sqrt(-dt_grid.best_score_)}\")"
   ]
  },
  {
   "cell_type": "markdown",
   "metadata": {},
   "source": [
    "By optimizing the hyperparameters, the Decision Tree Regressor improved from the initial RMSE of 1979.93 to 1860.82.\n",
    "\n",
    "The model is now performing better, but it is still outperformed by Random Forest and LightGBM."
   ]
  },
  {
   "cell_type": "code",
   "execution_count": 16,
   "metadata": {},
   "outputs": [
    {
     "name": "stdout",
     "output_type": "stream",
     "text": [
      "Best parameters for Random Forest: {'max_depth': 20, 'min_samples_split': 10, 'n_estimators': 50}\n",
      "Best RMSE for Random Forest: 1660.04112870205\n",
      "CPU times: user 45min 39s, sys: 7.5 s, total: 45min 46s\n",
      "Wall time: 45min 49s\n"
     ]
    }
   ],
   "source": [
    "%%time\n",
    "# Define hyperparameters to tune\n",
    "rf_params = {\n",
    "    'n_estimators': [10, 20, 50],\n",
    "    'max_depth': [10, 15, 20],\n",
    "    'min_samples_split': [2, 10, 20]\n",
    "}\n",
    "\n",
    "# Initialize Random Forest Regressor\n",
    "rf_model = RandomForestRegressor(random_state=42)\n",
    "\n",
    "# Initialize GridSearchCV for Random Forest\n",
    "rf_grid = GridSearchCV(estimator=rf_model, param_grid=rf_params, cv=3, scoring='neg_mean_squared_error')\n",
    "\n",
    "# Fit the grid search model\n",
    "rf_grid.fit(X_train, y_train)\n",
    "\n",
    "# Best parameters and score\n",
    "print(f\"Best parameters for Random Forest: {rf_grid.best_params_}\")\n",
    "print(f\"Best RMSE for Random Forest: {np.sqrt(-rf_grid.best_score_)}\")"
   ]
  },
  {
   "cell_type": "markdown",
   "metadata": {},
   "source": [
    "After hyperparameter tuning, the Random Forest Regressor improved from the initial RMSE of 1893.88 to 1659.82.\n",
    "\n",
    "Increasing the depth of the individual trees (max_depth = 20) allows the model to learn more complex patterns, while 50 trees (n_estimators) provide a good balance between performance and computational cost."
   ]
  },
  {
   "cell_type": "code",
   "execution_count": 17,
   "metadata": {
    "scrolled": true
   },
   "outputs": [
    {
     "name": "stdout",
     "output_type": "stream",
     "text": [
      "Best parameters for LightGBM: {'learning_rate': 0.1, 'max_depth': 15, 'n_estimators': 300}\n",
      "Best RMSE for LightGBM: 1623.3174694969798\n",
      "CPU times: user 7min 28s, sys: 11.6 s, total: 7min 39s\n",
      "Wall time: 7min 40s\n"
     ]
    }
   ],
   "source": [
    "%%time\n",
    "# Define hyperparameters to tune\n",
    "lgb_params = {\n",
    "    'n_estimators': [100, 200, 300],\n",
    "    'max_depth': [10, 15, 20],\n",
    "    'learning_rate': [0.01, 0.05, 0.1]\n",
    "}\n",
    "\n",
    "# Initialize LightGBM Regressor\n",
    "lgb_model = LGBMRegressor(random_state=42)\n",
    "\n",
    "# Initialize GridSearchCV for LightGBM\n",
    "lgb_grid = GridSearchCV(estimator=lgb_model, param_grid=lgb_params, cv=3, scoring='neg_mean_squared_error')\n",
    "\n",
    "# Fit the grid search model\n",
    "lgb_grid.fit(X_train, y_train)\n",
    "\n",
    "# Best parameters and score\n",
    "print(f\"Best parameters for LightGBM: {lgb_grid.best_params_}\")\n",
    "print(f\"Best RMSE for LightGBM: {np.sqrt(-lgb_grid.best_score_)}\")"
   ]
  },
  {
   "cell_type": "markdown",
   "metadata": {},
   "source": [
    "LightGBM continues to be the best-performing model, improving from an initial RMSE of 1695.99 to 1622.77 after hyperparameter tuning.\n",
    "\n",
    "With the lowest RMSE among all models, LightGBM proves to be highly effective for this prediction task, even after parameter optimization."
   ]
  },
  {
   "cell_type": "markdown",
   "metadata": {},
   "source": [
    "## Testing the Best Models on Test Data "
   ]
  },
  {
   "cell_type": "code",
   "execution_count": 18,
   "metadata": {},
   "outputs": [
    {
     "name": "stdout",
     "output_type": "stream",
     "text": [
      "Decision Tree Training Time: 3.1940 seconds\n",
      "Decision Tree Prediction Time: 0.0459 seconds\n",
      "Decision Tree RMSE on Test Data: 1815.1099\n"
     ]
    }
   ],
   "source": [
    "# Best model from GridSearchCV for Decision Tree\n",
    "best_dt_model = dt_grid.best_estimator_\n",
    "\n",
    "# Measure training time\n",
    "start_time = time.time()\n",
    "best_dt_model.fit(X_train, y_train)\n",
    "training_time_dt = time.time() - start_time\n",
    "print(f\"Decision Tree Training Time: {training_time_dt:.4f} seconds\")\n",
    "\n",
    "# Measure prediction time\n",
    "start_time = time.time()\n",
    "y_pred_dt = best_dt_model.predict(X_test)\n",
    "prediction_time_dt = time.time() - start_time\n",
    "print(f\"Decision Tree Prediction Time: {prediction_time_dt:.4f} seconds\")\n",
    "\n",
    "# Evaluate performance on test data\n",
    "rmse_dt = np.sqrt(mean_squared_error(y_test, y_pred_dt))\n",
    "print(f\"Decision Tree RMSE on Test Data: {rmse_dt:.4f}\")"
   ]
  },
  {
   "cell_type": "code",
   "execution_count": 19,
   "metadata": {},
   "outputs": [
    {
     "name": "stdout",
     "output_type": "stream",
     "text": [
      "Random Forest Training Time: 107.7307 seconds\n",
      "Random Forest Prediction Time: 0.5238 seconds\n",
      "Random Forest RMSE on Test Data: 1620.5899\n"
     ]
    }
   ],
   "source": [
    "# Best model from GridSearchCV for Random Forest\n",
    "best_rf_model = rf_grid.best_estimator_\n",
    "\n",
    "# Measure training time\n",
    "start_time = time.time()\n",
    "best_rf_model.fit(X_train, y_train)\n",
    "training_time_rf = time.time() - start_time\n",
    "print(f\"Random Forest Training Time: {training_time_rf:.4f} seconds\")\n",
    "\n",
    "# Measure prediction time\n",
    "start_time = time.time()\n",
    "y_pred_rf = best_rf_model.predict(X_test)\n",
    "prediction_time_rf = time.time() - start_time\n",
    "print(f\"Random Forest Prediction Time: {prediction_time_rf:.4f} seconds\")\n",
    "\n",
    "# Evaluate performance on test data\n",
    "rmse_rf = np.sqrt(mean_squared_error(y_test, y_pred_rf))\n",
    "print(f\"Random Forest RMSE on Test Data: {rmse_rf:.4f}\")"
   ]
  },
  {
   "cell_type": "code",
   "execution_count": 20,
   "metadata": {},
   "outputs": [
    {
     "name": "stdout",
     "output_type": "stream",
     "text": [
      "LightGBM Training Time: 7.9731 seconds\n",
      "LightGBM Prediction Time: 1.1271 seconds\n",
      "LightGBM RMSE on Test Data: 1619.2757\n"
     ]
    }
   ],
   "source": [
    "# Best model from GridSearchCV for LightGBM\n",
    "best_lgb_model = lgb_grid.best_estimator_\n",
    "\n",
    "# Measure training time\n",
    "start_time = time.time()\n",
    "best_lgb_model.fit(X_train, y_train)\n",
    "training_time_lgb = time.time() - start_time\n",
    "print(f\"LightGBM Training Time: {training_time_lgb:.4f} seconds\")\n",
    "\n",
    "# Measure prediction time\n",
    "start_time = time.time()\n",
    "y_pred_lgb = best_lgb_model.predict(X_test)\n",
    "prediction_time_lgb = time.time() - start_time\n",
    "print(f\"LightGBM Prediction Time: {prediction_time_lgb:.4f} seconds\")\n",
    "\n",
    "# Evaluate performance on test data\n",
    "rmse_lgb = np.sqrt(mean_squared_error(y_test, y_pred_lgb))\n",
    "print(f\"LightGBM RMSE on Test Data: {rmse_lgb:.4f}\")"
   ]
  },
  {
   "cell_type": "markdown",
   "metadata": {},
   "source": [
    "## Model analysis"
   ]
  },
  {
   "cell_type": "markdown",
   "metadata": {},
   "source": [
    "The key criteria Rusty Bargain is interested in are:\n",
    "\n",
    "- <b>Quality of the Prediction:</b> Measured by RMSE (Root Mean Squared Error).\n",
    "- <b>Speed of Prediction:</b> How fast the model makes predictions.\n",
    "- <b>Time Required for Training:</b> How long it takes to train the model\n",
    "\n",
    "Quality of the Prediction (RMSE):\n",
    "\n",
    "LightGBM has the best RMSE (1619.2757), followed very closely by Random Forest (1620.5899).\n",
    "The Decision Tree has a significantly higher RMSE (1815.1099), making it the least accurate of the three.\n",
    "\n",
    "Speed of the Prediction:\n",
    "\n",
    "The Decision Tree is by far the fastest in prediction time (0.0459 seconds).\n",
    "Random Forest has a moderate prediction time (0.5238 seconds), while LightGBM is the slowest (1.1271 seconds).\n",
    "Time Required for Training:\n",
    "\n",
    "The Decision Tree is the quickest to train (3.1940 seconds), followed by LightGBM (7.9731 seconds).\n",
    "Random Forest takes significantly longer to train (107.7307 seconds)\n"
   ]
  },
  {
   "cell_type": "markdown",
   "metadata": {},
   "source": [
    "### Final Recommendation \n",
    "\n",
    "In this project, we built and evaluated several machine learning models to predict used car prices. The models varied in terms of accuracy, training time, and inference speed. Among the models tested, we found that LightGBM performed the best in the target criteria.\n",
    "\n",
    "LightGBM offers the best prediction quality with the lowest RMSE (1619.2757) and a reasonable training time (7.9731 seconds). Although it is slower in prediction time, its accuracy makes it the best choice for Rusty Bargain, where prediction quality is paramount.\n",
    "\n"
   ]
  }
 ],
 "metadata": {
  "ExecuteTimeLog": [
   {
    "duration": 158,
    "start_time": "2024-10-13T05:07:49.223Z"
   },
   {
    "duration": 2683,
    "start_time": "2024-10-13T05:07:54.740Z"
   },
   {
    "duration": 495,
    "start_time": "2024-10-13T05:07:57.426Z"
   },
   {
    "duration": 13,
    "start_time": "2024-10-13T05:07:59.044Z"
   },
   {
    "duration": 91,
    "start_time": "2024-10-13T05:10:15.717Z"
   },
   {
    "duration": 88,
    "start_time": "2024-10-13T05:10:34.640Z"
   },
   {
    "duration": 25,
    "start_time": "2024-10-13T05:22:41.662Z"
   },
   {
    "duration": 93,
    "start_time": "2024-10-13T05:22:44.665Z"
   },
   {
    "duration": 367,
    "start_time": "2024-10-13T05:25:56.696Z"
   },
   {
    "duration": 775,
    "start_time": "2024-10-13T07:18:54.637Z"
   },
   {
    "duration": 73,
    "start_time": "2024-10-13T07:20:57.383Z"
   },
   {
    "duration": 24,
    "start_time": "2024-10-13T07:21:38.879Z"
   },
   {
    "duration": 161,
    "start_time": "2024-10-13T07:21:55.288Z"
   },
   {
    "duration": 59,
    "start_time": "2024-10-13T07:22:28.536Z"
   },
   {
    "duration": 41,
    "start_time": "2024-10-13T07:25:02.641Z"
   },
   {
    "duration": 1001,
    "start_time": "2024-10-13T07:25:54.963Z"
   },
   {
    "duration": 409,
    "start_time": "2024-10-13T07:25:55.966Z"
   },
   {
    "duration": 12,
    "start_time": "2024-10-13T07:25:56.377Z"
   },
   {
    "duration": 37,
    "start_time": "2024-10-13T07:25:56.391Z"
   },
   {
    "duration": 104,
    "start_time": "2024-10-13T07:25:56.431Z"
   },
   {
    "duration": 385,
    "start_time": "2024-10-13T07:25:56.537Z"
   },
   {
    "duration": 95,
    "start_time": "2024-10-13T07:25:56.924Z"
   },
   {
    "duration": 119,
    "start_time": "2024-10-13T07:25:57.021Z"
   },
   {
    "duration": 53,
    "start_time": "2024-10-13T07:26:14.218Z"
   },
   {
    "duration": 851,
    "start_time": "2024-10-13T07:30:39.659Z"
   },
   {
    "duration": 977,
    "start_time": "2024-10-13T07:31:27.605Z"
   },
   {
    "duration": 408,
    "start_time": "2024-10-13T07:31:28.584Z"
   },
   {
    "duration": 17,
    "start_time": "2024-10-13T07:31:28.994Z"
   },
   {
    "duration": 26,
    "start_time": "2024-10-13T07:31:29.014Z"
   },
   {
    "duration": 104,
    "start_time": "2024-10-13T07:31:29.041Z"
   },
   {
    "duration": 373,
    "start_time": "2024-10-13T07:31:29.147Z"
   },
   {
    "duration": 167,
    "start_time": "2024-10-13T07:31:29.522Z"
   },
   {
    "duration": 0,
    "start_time": "2024-10-13T07:31:29.691Z"
   },
   {
    "duration": 728,
    "start_time": "2024-10-13T07:31:50.509Z"
   },
   {
    "duration": 1014,
    "start_time": "2024-10-13T07:32:21.008Z"
   },
   {
    "duration": 409,
    "start_time": "2024-10-13T07:32:22.024Z"
   },
   {
    "duration": 18,
    "start_time": "2024-10-13T07:32:22.435Z"
   },
   {
    "duration": 26,
    "start_time": "2024-10-13T07:32:22.455Z"
   },
   {
    "duration": 115,
    "start_time": "2024-10-13T07:32:22.483Z"
   },
   {
    "duration": 385,
    "start_time": "2024-10-13T07:32:22.606Z"
   },
   {
    "duration": 175,
    "start_time": "2024-10-13T07:32:22.993Z"
   },
   {
    "duration": 0,
    "start_time": "2024-10-13T07:32:23.170Z"
   },
   {
    "duration": 723,
    "start_time": "2024-10-13T07:33:44.836Z"
   },
   {
    "duration": 969,
    "start_time": "2024-10-13T07:34:03.994Z"
   },
   {
    "duration": 409,
    "start_time": "2024-10-13T07:34:04.965Z"
   },
   {
    "duration": 12,
    "start_time": "2024-10-13T07:34:05.376Z"
   },
   {
    "duration": 31,
    "start_time": "2024-10-13T07:34:05.390Z"
   },
   {
    "duration": 104,
    "start_time": "2024-10-13T07:34:05.423Z"
   },
   {
    "duration": 372,
    "start_time": "2024-10-13T07:34:05.528Z"
   },
   {
    "duration": 221,
    "start_time": "2024-10-13T07:34:05.905Z"
   },
   {
    "duration": 105,
    "start_time": "2024-10-13T07:34:06.128Z"
   },
   {
    "duration": 79,
    "start_time": "2024-10-13T07:36:52.685Z"
   },
   {
    "duration": 7213,
    "start_time": "2024-10-13T07:49:44.365Z"
   },
   {
    "duration": 528,
    "start_time": "2024-10-13T07:50:44.354Z"
   },
   {
    "duration": 349,
    "start_time": "2024-10-13T07:55:02.090Z"
   },
   {
    "duration": 18,
    "start_time": "2024-10-13T08:03:07.558Z"
   },
   {
    "duration": 2663,
    "start_time": "2024-10-15T01:45:31.872Z"
   },
   {
    "duration": 459,
    "start_time": "2024-10-15T01:45:34.537Z"
   },
   {
    "duration": 13,
    "start_time": "2024-10-15T01:45:34.998Z"
   },
   {
    "duration": 25,
    "start_time": "2024-10-15T01:45:35.012Z"
   },
   {
    "duration": 108,
    "start_time": "2024-10-15T01:45:35.040Z"
   },
   {
    "duration": 365,
    "start_time": "2024-10-15T01:45:35.149Z"
   },
   {
    "duration": 235,
    "start_time": "2024-10-15T01:45:35.516Z"
   },
   {
    "duration": 103,
    "start_time": "2024-10-15T01:45:35.753Z"
   },
   {
    "duration": 70,
    "start_time": "2024-10-15T01:45:35.858Z"
   },
   {
    "duration": 382,
    "start_time": "2024-10-15T01:45:35.930Z"
   },
   {
    "duration": 954,
    "start_time": "2024-10-15T03:34:39.241Z"
   },
   {
    "duration": 418,
    "start_time": "2024-10-15T03:34:40.197Z"
   },
   {
    "duration": 13,
    "start_time": "2024-10-15T03:34:40.616Z"
   },
   {
    "duration": 39,
    "start_time": "2024-10-15T03:34:40.631Z"
   },
   {
    "duration": 107,
    "start_time": "2024-10-15T03:34:40.672Z"
   },
   {
    "duration": 390,
    "start_time": "2024-10-15T03:34:40.781Z"
   },
   {
    "duration": 246,
    "start_time": "2024-10-15T03:34:41.172Z"
   },
   {
    "duration": 108,
    "start_time": "2024-10-15T03:34:41.419Z"
   },
   {
    "duration": 349,
    "start_time": "2024-10-15T03:34:41.529Z"
   },
   {
    "duration": 3,
    "start_time": "2024-10-15T03:36:38.277Z"
   },
   {
    "duration": 381,
    "start_time": "2024-10-15T03:36:38.283Z"
   },
   {
    "duration": 14,
    "start_time": "2024-10-15T03:36:38.666Z"
   },
   {
    "duration": 12,
    "start_time": "2024-10-15T03:36:38.682Z"
   },
   {
    "duration": 108,
    "start_time": "2024-10-15T03:36:38.696Z"
   },
   {
    "duration": 342,
    "start_time": "2024-10-15T03:36:38.805Z"
   },
   {
    "duration": 203,
    "start_time": "2024-10-15T03:36:39.148Z"
   },
   {
    "duration": 100,
    "start_time": "2024-10-15T03:36:39.352Z"
   },
   {
    "duration": 361,
    "start_time": "2024-10-15T03:36:39.454Z"
   },
   {
    "duration": 518,
    "start_time": "2024-10-15T03:36:39.817Z"
   },
   {
    "duration": 8403,
    "start_time": "2024-10-15T03:37:39.793Z"
   },
   {
    "duration": 225,
    "start_time": "2024-10-15T03:38:17.503Z"
   },
   {
    "duration": 15,
    "start_time": "2024-10-15T03:38:44.837Z"
   },
   {
    "duration": 2617,
    "start_time": "2024-10-15T03:38:50.132Z"
   },
   {
    "duration": 9,
    "start_time": "2024-10-15T03:39:55.782Z"
   },
   {
    "duration": 1023,
    "start_time": "2024-10-15T03:41:19.253Z"
   },
   {
    "duration": 406,
    "start_time": "2024-10-15T03:41:20.278Z"
   },
   {
    "duration": 14,
    "start_time": "2024-10-15T03:41:20.686Z"
   },
   {
    "duration": 26,
    "start_time": "2024-10-15T03:41:20.702Z"
   },
   {
    "duration": 109,
    "start_time": "2024-10-15T03:41:20.730Z"
   },
   {
    "duration": 387,
    "start_time": "2024-10-15T03:41:20.841Z"
   },
   {
    "duration": 227,
    "start_time": "2024-10-15T03:41:21.229Z"
   },
   {
    "duration": 113,
    "start_time": "2024-10-15T03:41:21.457Z"
   },
   {
    "duration": 384,
    "start_time": "2024-10-15T03:41:21.572Z"
   },
   {
    "duration": 527,
    "start_time": "2024-10-15T03:41:21.969Z"
   },
   {
    "duration": 8790,
    "start_time": "2024-10-15T03:41:22.498Z"
   },
   {
    "duration": 2800,
    "start_time": "2024-10-15T03:41:31.291Z"
   },
   {
    "duration": 3,
    "start_time": "2024-10-15T03:41:48.926Z"
   },
   {
    "duration": 401,
    "start_time": "2024-10-15T03:41:48.931Z"
   },
   {
    "duration": 14,
    "start_time": "2024-10-15T03:41:49.333Z"
   },
   {
    "duration": 21,
    "start_time": "2024-10-15T03:41:49.349Z"
   },
   {
    "duration": 100,
    "start_time": "2024-10-15T03:41:49.372Z"
   },
   {
    "duration": 343,
    "start_time": "2024-10-15T03:41:49.474Z"
   },
   {
    "duration": 206,
    "start_time": "2024-10-15T03:41:49.819Z"
   },
   {
    "duration": 105,
    "start_time": "2024-10-15T03:41:50.027Z"
   },
   {
    "duration": 358,
    "start_time": "2024-10-15T03:41:50.134Z"
   },
   {
    "duration": 550,
    "start_time": "2024-10-15T03:41:50.495Z"
   },
   {
    "duration": 8527,
    "start_time": "2024-10-15T03:41:51.047Z"
   },
   {
    "duration": 2755,
    "start_time": "2024-10-15T03:41:59.577Z"
   },
   {
    "duration": 163704,
    "start_time": "2024-10-15T03:42:02.334Z"
   },
   {
    "duration": 4787,
    "start_time": "2024-10-15T03:51:45.184Z"
   },
   {
    "duration": 2665,
    "start_time": "2024-10-15T14:45:10.020Z"
   },
   {
    "duration": 3,
    "start_time": "2024-10-15T14:46:00.784Z"
   },
   {
    "duration": 442,
    "start_time": "2024-10-15T14:46:00.790Z"
   },
   {
    "duration": 14,
    "start_time": "2024-10-15T14:46:01.235Z"
   },
   {
    "duration": 38,
    "start_time": "2024-10-15T14:46:01.251Z"
   },
   {
    "duration": 100,
    "start_time": "2024-10-15T14:46:01.292Z"
   },
   {
    "duration": 376,
    "start_time": "2024-10-15T14:46:01.395Z"
   },
   {
    "duration": 213,
    "start_time": "2024-10-15T14:46:01.772Z"
   },
   {
    "duration": 106,
    "start_time": "2024-10-15T14:46:01.987Z"
   },
   {
    "duration": 356,
    "start_time": "2024-10-15T14:46:02.095Z"
   },
   {
    "duration": 508,
    "start_time": "2024-10-15T14:46:02.453Z"
   },
   {
    "duration": 8710,
    "start_time": "2024-10-15T14:46:02.963Z"
   },
   {
    "duration": 2692,
    "start_time": "2024-10-15T14:46:11.678Z"
   },
   {
    "duration": 1016,
    "start_time": "2024-10-15T14:48:48.318Z"
   },
   {
    "duration": 400,
    "start_time": "2024-10-15T14:48:49.336Z"
   },
   {
    "duration": 13,
    "start_time": "2024-10-15T14:48:49.738Z"
   },
   {
    "duration": 31,
    "start_time": "2024-10-15T14:48:49.753Z"
   },
   {
    "duration": 100,
    "start_time": "2024-10-15T14:48:49.786Z"
   },
   {
    "duration": 378,
    "start_time": "2024-10-15T14:48:49.887Z"
   },
   {
    "duration": 213,
    "start_time": "2024-10-15T14:48:50.270Z"
   },
   {
    "duration": 102,
    "start_time": "2024-10-15T14:48:50.484Z"
   },
   {
    "duration": 348,
    "start_time": "2024-10-15T14:48:50.588Z"
   },
   {
    "duration": 532,
    "start_time": "2024-10-15T14:48:50.938Z"
   },
   {
    "duration": 8219,
    "start_time": "2024-10-15T14:48:51.472Z"
   },
   {
    "duration": 2672,
    "start_time": "2024-10-15T14:48:59.769Z"
   },
   {
    "duration": 160793,
    "start_time": "2024-10-15T14:49:02.443Z"
   },
   {
    "duration": 4143,
    "start_time": "2024-10-15T14:51:43.239Z"
   },
   {
    "duration": 155091,
    "start_time": "2024-10-15T14:51:47.384Z"
   },
   {
    "duration": 1087,
    "start_time": "2024-10-15T16:20:15.011Z"
   },
   {
    "duration": 424,
    "start_time": "2024-10-15T16:20:16.100Z"
   },
   {
    "duration": 19,
    "start_time": "2024-10-15T16:20:16.525Z"
   },
   {
    "duration": 37,
    "start_time": "2024-10-15T16:20:16.548Z"
   },
   {
    "duration": 104,
    "start_time": "2024-10-15T16:20:16.587Z"
   },
   {
    "duration": 403,
    "start_time": "2024-10-15T16:20:16.692Z"
   },
   {
    "duration": 236,
    "start_time": "2024-10-15T16:20:17.096Z"
   },
   {
    "duration": 130,
    "start_time": "2024-10-15T16:20:17.333Z"
   },
   {
    "duration": 448,
    "start_time": "2024-10-15T16:20:17.470Z"
   },
   {
    "duration": 543,
    "start_time": "2024-10-15T16:20:17.923Z"
   },
   {
    "duration": 8801,
    "start_time": "2024-10-15T16:20:18.470Z"
   },
   {
    "duration": 2715,
    "start_time": "2024-10-15T16:20:27.273Z"
   },
   {
    "duration": 162974,
    "start_time": "2024-10-15T16:20:29.990Z"
   },
   {
    "duration": 4101,
    "start_time": "2024-10-15T16:23:12.970Z"
   },
   {
    "duration": 154812,
    "start_time": "2024-10-15T16:23:17.074Z"
   },
   {
    "duration": 552409,
    "start_time": "2024-10-15T16:25:51.888Z"
   },
   {
    "duration": 0,
    "start_time": "2024-10-15T16:35:04.299Z"
   },
   {
    "duration": 1094,
    "start_time": "2024-10-15T16:35:39.583Z"
   },
   {
    "duration": 402,
    "start_time": "2024-10-15T16:35:40.679Z"
   },
   {
    "duration": 13,
    "start_time": "2024-10-15T16:35:41.083Z"
   },
   {
    "duration": 25,
    "start_time": "2024-10-15T16:35:41.099Z"
   },
   {
    "duration": 116,
    "start_time": "2024-10-15T16:35:41.125Z"
   },
   {
    "duration": 392,
    "start_time": "2024-10-15T16:35:41.242Z"
   },
   {
    "duration": 243,
    "start_time": "2024-10-15T16:35:41.636Z"
   },
   {
    "duration": 108,
    "start_time": "2024-10-15T16:35:41.881Z"
   },
   {
    "duration": 351,
    "start_time": "2024-10-15T16:35:41.991Z"
   },
   {
    "duration": 524,
    "start_time": "2024-10-15T16:35:42.345Z"
   },
   {
    "duration": 8323,
    "start_time": "2024-10-15T16:35:42.871Z"
   },
   {
    "duration": 2816,
    "start_time": "2024-10-15T16:35:51.271Z"
   },
   {
    "duration": 162795,
    "start_time": "2024-10-15T16:35:54.090Z"
   },
   {
    "duration": 7391,
    "start_time": "2024-10-15T16:38:36.887Z"
   },
   {
    "duration": 157037,
    "start_time": "2024-10-15T16:38:44.279Z"
   },
   {
    "duration": 2797994,
    "start_time": "2024-10-15T16:41:21.318Z"
   },
   {
    "duration": 483665,
    "start_time": "2024-10-15T17:27:59.314Z"
   },
   {
    "duration": 95,
    "start_time": "2024-10-19T01:26:09.252Z"
   },
   {
    "duration": 2854,
    "start_time": "2024-10-19T01:26:18.760Z"
   },
   {
    "duration": 460,
    "start_time": "2024-10-19T01:26:21.616Z"
   },
   {
    "duration": 15,
    "start_time": "2024-10-19T01:26:22.077Z"
   },
   {
    "duration": 25,
    "start_time": "2024-10-19T01:26:22.094Z"
   },
   {
    "duration": 113,
    "start_time": "2024-10-19T01:26:22.121Z"
   },
   {
    "duration": 383,
    "start_time": "2024-10-19T01:26:22.244Z"
   },
   {
    "duration": 224,
    "start_time": "2024-10-19T01:26:22.629Z"
   },
   {
    "duration": 112,
    "start_time": "2024-10-19T01:26:22.854Z"
   },
   {
    "duration": 347,
    "start_time": "2024-10-19T01:26:22.968Z"
   },
   {
    "duration": 543,
    "start_time": "2024-10-19T01:26:23.317Z"
   },
   {
    "duration": 8599,
    "start_time": "2024-10-19T01:26:23.862Z"
   },
   {
    "duration": 4,
    "start_time": "2024-10-19T01:28:16.657Z"
   },
   {
    "duration": 382,
    "start_time": "2024-10-19T01:28:16.665Z"
   },
   {
    "duration": 11,
    "start_time": "2024-10-19T01:28:17.050Z"
   },
   {
    "duration": 11,
    "start_time": "2024-10-19T01:28:17.063Z"
   },
   {
    "duration": 107,
    "start_time": "2024-10-19T01:28:17.076Z"
   },
   {
    "duration": 356,
    "start_time": "2024-10-19T01:28:17.187Z"
   },
   {
    "duration": 201,
    "start_time": "2024-10-19T01:28:17.545Z"
   },
   {
    "duration": 100,
    "start_time": "2024-10-19T01:28:17.748Z"
   },
   {
    "duration": 348,
    "start_time": "2024-10-19T01:28:17.850Z"
   },
   {
    "duration": 547,
    "start_time": "2024-10-19T01:28:18.200Z"
   },
   {
    "duration": 8514,
    "start_time": "2024-10-19T01:28:18.749Z"
   },
   {
    "duration": 2797,
    "start_time": "2024-10-19T01:28:27.265Z"
   },
   {
    "duration": 163619,
    "start_time": "2024-10-19T01:28:30.064Z"
   },
   {
    "duration": 4559,
    "start_time": "2024-10-19T01:31:13.685Z"
   },
   {
    "duration": 154231,
    "start_time": "2024-10-19T01:31:18.247Z"
   },
   {
    "duration": 190,
    "start_time": "2024-10-22T02:10:48.410Z"
   },
   {
    "duration": 2994,
    "start_time": "2024-10-22T02:10:56.237Z"
   },
   {
    "duration": 502,
    "start_time": "2024-10-22T02:10:59.233Z"
   },
   {
    "duration": 17,
    "start_time": "2024-10-22T02:10:59.736Z"
   },
   {
    "duration": 25,
    "start_time": "2024-10-22T02:10:59.754Z"
   },
   {
    "duration": 142,
    "start_time": "2024-10-22T02:10:59.782Z"
   },
   {
    "duration": 414,
    "start_time": "2024-10-22T02:10:59.926Z"
   },
   {
    "duration": 241,
    "start_time": "2024-10-22T02:11:00.342Z"
   },
   {
    "duration": 117,
    "start_time": "2024-10-22T02:11:00.585Z"
   },
   {
    "duration": 83,
    "start_time": "2024-10-22T02:12:17.370Z"
   },
   {
    "duration": 102,
    "start_time": "2024-10-22T02:16:10.865Z"
   },
   {
    "duration": 16,
    "start_time": "2024-10-22T02:16:20.389Z"
   },
   {
    "duration": 825,
    "start_time": "2024-10-22T02:16:38.276Z"
   },
   {
    "duration": 815,
    "start_time": "2024-10-22T02:17:10.542Z"
   },
   {
    "duration": 127,
    "start_time": "2024-10-22T02:17:50.692Z"
   },
   {
    "duration": 1003,
    "start_time": "2024-10-22T02:18:39.820Z"
   },
   {
    "duration": 446,
    "start_time": "2024-10-22T02:18:40.825Z"
   },
   {
    "duration": 13,
    "start_time": "2024-10-22T02:18:41.273Z"
   },
   {
    "duration": 37,
    "start_time": "2024-10-22T02:18:41.287Z"
   },
   {
    "duration": 109,
    "start_time": "2024-10-22T02:18:41.326Z"
   },
   {
    "duration": 413,
    "start_time": "2024-10-22T02:18:41.438Z"
   },
   {
    "duration": 246,
    "start_time": "2024-10-22T02:18:41.852Z"
   },
   {
    "duration": 115,
    "start_time": "2024-10-22T02:18:42.100Z"
   },
   {
    "duration": 831,
    "start_time": "2024-10-22T02:18:42.220Z"
   },
   {
    "duration": 135,
    "start_time": "2024-10-22T02:18:43.052Z"
   },
   {
    "duration": 123,
    "start_time": "2024-10-22T02:21:30.328Z"
   },
   {
    "duration": 771,
    "start_time": "2024-10-22T02:26:24.917Z"
   },
   {
    "duration": 111,
    "start_time": "2024-10-22T02:27:05.184Z"
   },
   {
    "duration": 1049,
    "start_time": "2024-10-22T02:27:17.231Z"
   },
   {
    "duration": 407,
    "start_time": "2024-10-22T02:27:18.282Z"
   },
   {
    "duration": 12,
    "start_time": "2024-10-22T02:27:18.691Z"
   },
   {
    "duration": 24,
    "start_time": "2024-10-22T02:27:18.712Z"
   },
   {
    "duration": 107,
    "start_time": "2024-10-22T02:27:18.739Z"
   },
   {
    "duration": 367,
    "start_time": "2024-10-22T02:27:18.848Z"
   },
   {
    "duration": 251,
    "start_time": "2024-10-22T02:27:19.217Z"
   },
   {
    "duration": 109,
    "start_time": "2024-10-22T02:27:19.469Z"
   },
   {
    "duration": 743,
    "start_time": "2024-10-22T02:27:19.580Z"
   },
   {
    "duration": 111,
    "start_time": "2024-10-22T02:27:25.580Z"
   },
   {
    "duration": 118,
    "start_time": "2024-10-22T02:28:54.866Z"
   },
   {
    "duration": 8584,
    "start_time": "2024-10-22T02:30:02.642Z"
   },
   {
    "duration": 2589,
    "start_time": "2024-10-22T02:30:20.359Z"
   },
   {
    "duration": 163338,
    "start_time": "2024-10-22T02:30:35.745Z"
   },
   {
    "duration": 134,
    "start_time": "2024-10-22T02:33:50.977Z"
   },
   {
    "duration": 4115,
    "start_time": "2024-10-22T02:34:56.198Z"
   },
   {
    "duration": 4,
    "start_time": "2024-10-22T02:54:18.366Z"
   },
   {
    "duration": 381,
    "start_time": "2024-10-22T02:54:18.396Z"
   },
   {
    "duration": 10,
    "start_time": "2024-10-22T02:54:18.779Z"
   },
   {
    "duration": 20,
    "start_time": "2024-10-22T02:54:18.792Z"
   },
   {
    "duration": 89,
    "start_time": "2024-10-22T02:54:18.813Z"
   },
   {
    "duration": 336,
    "start_time": "2024-10-22T02:54:18.912Z"
   },
   {
    "duration": 216,
    "start_time": "2024-10-22T02:54:19.250Z"
   },
   {
    "duration": 105,
    "start_time": "2024-10-22T02:54:19.468Z"
   },
   {
    "duration": 738,
    "start_time": "2024-10-22T02:54:19.575Z"
   },
   {
    "duration": 149,
    "start_time": "2024-10-22T02:54:20.315Z"
   },
   {
    "duration": 8280,
    "start_time": "2024-10-22T02:54:20.466Z"
   },
   {
    "duration": 2729,
    "start_time": "2024-10-22T02:54:28.748Z"
   },
   {
    "duration": 160083,
    "start_time": "2024-10-22T02:54:31.479Z"
   },
   {
    "duration": 4256,
    "start_time": "2024-10-22T02:57:11.563Z"
   },
   {
    "duration": 152625,
    "start_time": "2024-10-22T02:57:15.823Z"
   },
   {
    "duration": 1050,
    "start_time": "2024-10-22T03:19:25.554Z"
   },
   {
    "duration": 406,
    "start_time": "2024-10-22T03:19:26.606Z"
   },
   {
    "duration": 13,
    "start_time": "2024-10-22T03:19:27.014Z"
   },
   {
    "duration": 26,
    "start_time": "2024-10-22T03:19:27.029Z"
   },
   {
    "duration": 107,
    "start_time": "2024-10-22T03:19:27.056Z"
   },
   {
    "duration": 373,
    "start_time": "2024-10-22T03:19:27.165Z"
   },
   {
    "duration": 227,
    "start_time": "2024-10-22T03:19:27.540Z"
   },
   {
    "duration": 101,
    "start_time": "2024-10-22T03:19:27.769Z"
   },
   {
    "duration": 753,
    "start_time": "2024-10-22T03:19:27.872Z"
   },
   {
    "duration": 136,
    "start_time": "2024-10-22T03:19:28.629Z"
   },
   {
    "duration": 8469,
    "start_time": "2024-10-22T03:19:28.767Z"
   },
   {
    "duration": 2750,
    "start_time": "2024-10-22T03:19:37.239Z"
   },
   {
    "duration": 162762,
    "start_time": "2024-10-22T03:19:39.991Z"
   },
   {
    "duration": 4171,
    "start_time": "2024-10-22T03:22:22.755Z"
   },
   {
    "duration": 153450,
    "start_time": "2024-10-22T03:22:26.928Z"
   },
   {
    "duration": 2749123,
    "start_time": "2024-10-22T03:25:00.380Z"
   },
   {
    "duration": 460009,
    "start_time": "2024-10-22T04:10:49.504Z"
   },
   {
    "duration": 3245,
    "start_time": "2024-10-22T04:18:29.515Z"
   },
   {
    "duration": 108259,
    "start_time": "2024-10-22T04:25:04.799Z"
   },
   {
    "duration": 9107,
    "start_time": "2024-10-22T04:37:11.536Z"
   }
  ],
  "kernelspec": {
   "display_name": "Python 3 (ipykernel)",
   "language": "python",
   "name": "python3"
  },
  "language_info": {
   "codemirror_mode": {
    "name": "ipython",
    "version": 3
   },
   "file_extension": ".py",
   "mimetype": "text/x-python",
   "name": "python",
   "nbconvert_exporter": "python",
   "pygments_lexer": "ipython3",
   "version": "3.9.19"
  },
  "toc": {
   "base_numbering": 1,
   "nav_menu": {},
   "number_sections": true,
   "sideBar": true,
   "skip_h1_title": true,
   "title_cell": "Table of Contents",
   "title_sidebar": "Contents",
   "toc_cell": false,
   "toc_position": {},
   "toc_section_display": true,
   "toc_window_display": false
  }
 },
 "nbformat": 4,
 "nbformat_minor": 2
}
